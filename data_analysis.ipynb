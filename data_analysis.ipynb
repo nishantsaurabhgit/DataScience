{
 "cells": [
  {
   "cell_type": "markdown",
   "metadata": {},
   "source": [
    "Advanced Data Science Capstone - Week 1 - Data Understanding¶\n",
    "This will be the first of a series of notebooks about the Advanced Data Science Capstone project. I have chosen the dataset Twitter US Airline Sentiment, that can be found here: https://www.kaggle.com/crowdflower/twitter-airline-sentiment.\n",
    "\n",
    "As quoted from the original source: \"A sentiment analysis job about the problems of each major U.S. airline. Twitter data was scraped from February of 2015 and contributors were asked to first classify positive, negative, and neutral tweets, followed by categorizing negative reasons (such as \"late flight\" or \"rude service\").\"\n",
    "\n",
    "Therefore, as we can see, we have a sentiment analysis problem, that is, we will try to predict from a tweet its customer's sentiment, in other words, we will try to infer a customer's perspective for a specific service.\n",
    "\n",
    "We have 14.500 tweets, and 15 columns and it contains whether the sentiment of the tweets in this set was positive, neutral, or negative for six US airlines[Source: Kaggle].\n",
    "\n",
    "This notebook is classified as Data Understanding, our first step in a Data Science project (Actually, the first would be collecting data, however, as this was already done, we skip it here), that is, understanding our data and defining our goals. Thus, here we will work with visualizations about data, giving some basic statistics as well as trying to understand better our features, as they are not given directly by the data source.\n",
    "\n",
    "So, let's have fun!"
   ]
  },
  {
   "cell_type": "code",
   "execution_count": 99,
   "metadata": {},
   "outputs": [
    {
     "data": {
      "text/plain": [
       "(14640, 15)"
      ]
     },
     "execution_count": 99,
     "metadata": {},
     "output_type": "execute_result"
    }
   ],
   "source": [
    "# Reading data\n",
    "import pandas as pd\n",
    "data = pd.read_csv (r\"C:\\Users\\nisaurab\\OneDrive - Capgemini\\Downloads\\DataScience\\Capstone_Project_2\\All Data\\Tweets.csv\")\n",
    "# checking its dimensions\n",
    "data.shape"
   ]
  },
  {
   "cell_type": "code",
   "execution_count": 2,
   "metadata": {},
   "outputs": [
    {
     "data": {
      "text/html": [
       "<div>\n",
       "<style scoped>\n",
       "    .dataframe tbody tr th:only-of-type {\n",
       "        vertical-align: middle;\n",
       "    }\n",
       "\n",
       "    .dataframe tbody tr th {\n",
       "        vertical-align: top;\n",
       "    }\n",
       "\n",
       "    .dataframe thead th {\n",
       "        text-align: right;\n",
       "    }\n",
       "</style>\n",
       "<table border=\"1\" class=\"dataframe\">\n",
       "  <thead>\n",
       "    <tr style=\"text-align: right;\">\n",
       "      <th></th>\n",
       "      <th>tweet_id</th>\n",
       "      <th>airline_sentiment</th>\n",
       "      <th>airline_sentiment_confidence</th>\n",
       "      <th>negativereason</th>\n",
       "      <th>negativereason_confidence</th>\n",
       "      <th>airline</th>\n",
       "      <th>airline_sentiment_gold</th>\n",
       "      <th>name</th>\n",
       "      <th>negativereason_gold</th>\n",
       "      <th>retweet_count</th>\n",
       "      <th>text</th>\n",
       "      <th>tweet_coord</th>\n",
       "      <th>tweet_created</th>\n",
       "      <th>tweet_location</th>\n",
       "      <th>user_timezone</th>\n",
       "    </tr>\n",
       "  </thead>\n",
       "  <tbody>\n",
       "    <tr>\n",
       "      <th>0</th>\n",
       "      <td>570306133677760513</td>\n",
       "      <td>neutral</td>\n",
       "      <td>1.0000</td>\n",
       "      <td>NaN</td>\n",
       "      <td>NaN</td>\n",
       "      <td>Virgin America</td>\n",
       "      <td>NaN</td>\n",
       "      <td>cairdin</td>\n",
       "      <td>NaN</td>\n",
       "      <td>0</td>\n",
       "      <td>@VirginAmerica What @dhepburn said.</td>\n",
       "      <td>NaN</td>\n",
       "      <td>2015-02-24 11:35:52 -0800</td>\n",
       "      <td>NaN</td>\n",
       "      <td>Eastern Time (US &amp; Canada)</td>\n",
       "    </tr>\n",
       "    <tr>\n",
       "      <th>1</th>\n",
       "      <td>570301130888122368</td>\n",
       "      <td>positive</td>\n",
       "      <td>0.3486</td>\n",
       "      <td>NaN</td>\n",
       "      <td>0.0000</td>\n",
       "      <td>Virgin America</td>\n",
       "      <td>NaN</td>\n",
       "      <td>jnardino</td>\n",
       "      <td>NaN</td>\n",
       "      <td>0</td>\n",
       "      <td>@VirginAmerica plus you've added commercials t...</td>\n",
       "      <td>NaN</td>\n",
       "      <td>2015-02-24 11:15:59 -0800</td>\n",
       "      <td>NaN</td>\n",
       "      <td>Pacific Time (US &amp; Canada)</td>\n",
       "    </tr>\n",
       "    <tr>\n",
       "      <th>2</th>\n",
       "      <td>570301083672813571</td>\n",
       "      <td>neutral</td>\n",
       "      <td>0.6837</td>\n",
       "      <td>NaN</td>\n",
       "      <td>NaN</td>\n",
       "      <td>Virgin America</td>\n",
       "      <td>NaN</td>\n",
       "      <td>yvonnalynn</td>\n",
       "      <td>NaN</td>\n",
       "      <td>0</td>\n",
       "      <td>@VirginAmerica I didn't today... Must mean I n...</td>\n",
       "      <td>NaN</td>\n",
       "      <td>2015-02-24 11:15:48 -0800</td>\n",
       "      <td>Lets Play</td>\n",
       "      <td>Central Time (US &amp; Canada)</td>\n",
       "    </tr>\n",
       "    <tr>\n",
       "      <th>3</th>\n",
       "      <td>570301031407624196</td>\n",
       "      <td>negative</td>\n",
       "      <td>1.0000</td>\n",
       "      <td>Bad Flight</td>\n",
       "      <td>0.7033</td>\n",
       "      <td>Virgin America</td>\n",
       "      <td>NaN</td>\n",
       "      <td>jnardino</td>\n",
       "      <td>NaN</td>\n",
       "      <td>0</td>\n",
       "      <td>@VirginAmerica it's really aggressive to blast...</td>\n",
       "      <td>NaN</td>\n",
       "      <td>2015-02-24 11:15:36 -0800</td>\n",
       "      <td>NaN</td>\n",
       "      <td>Pacific Time (US &amp; Canada)</td>\n",
       "    </tr>\n",
       "    <tr>\n",
       "      <th>4</th>\n",
       "      <td>570300817074462722</td>\n",
       "      <td>negative</td>\n",
       "      <td>1.0000</td>\n",
       "      <td>Can't Tell</td>\n",
       "      <td>1.0000</td>\n",
       "      <td>Virgin America</td>\n",
       "      <td>NaN</td>\n",
       "      <td>jnardino</td>\n",
       "      <td>NaN</td>\n",
       "      <td>0</td>\n",
       "      <td>@VirginAmerica and it's a really big bad thing...</td>\n",
       "      <td>NaN</td>\n",
       "      <td>2015-02-24 11:14:45 -0800</td>\n",
       "      <td>NaN</td>\n",
       "      <td>Pacific Time (US &amp; Canada)</td>\n",
       "    </tr>\n",
       "  </tbody>\n",
       "</table>\n",
       "</div>"
      ],
      "text/plain": [
       "             tweet_id airline_sentiment  airline_sentiment_confidence  \\\n",
       "0  570306133677760513           neutral                        1.0000   \n",
       "1  570301130888122368          positive                        0.3486   \n",
       "2  570301083672813571           neutral                        0.6837   \n",
       "3  570301031407624196          negative                        1.0000   \n",
       "4  570300817074462722          negative                        1.0000   \n",
       "\n",
       "  negativereason  negativereason_confidence         airline  \\\n",
       "0            NaN                        NaN  Virgin America   \n",
       "1            NaN                     0.0000  Virgin America   \n",
       "2            NaN                        NaN  Virgin America   \n",
       "3     Bad Flight                     0.7033  Virgin America   \n",
       "4     Can't Tell                     1.0000  Virgin America   \n",
       "\n",
       "  airline_sentiment_gold        name negativereason_gold  retweet_count  \\\n",
       "0                    NaN     cairdin                 NaN              0   \n",
       "1                    NaN    jnardino                 NaN              0   \n",
       "2                    NaN  yvonnalynn                 NaN              0   \n",
       "3                    NaN    jnardino                 NaN              0   \n",
       "4                    NaN    jnardino                 NaN              0   \n",
       "\n",
       "                                                text tweet_coord  \\\n",
       "0                @VirginAmerica What @dhepburn said.         NaN   \n",
       "1  @VirginAmerica plus you've added commercials t...         NaN   \n",
       "2  @VirginAmerica I didn't today... Must mean I n...         NaN   \n",
       "3  @VirginAmerica it's really aggressive to blast...         NaN   \n",
       "4  @VirginAmerica and it's a really big bad thing...         NaN   \n",
       "\n",
       "               tweet_created tweet_location               user_timezone  \n",
       "0  2015-02-24 11:35:52 -0800            NaN  Eastern Time (US & Canada)  \n",
       "1  2015-02-24 11:15:59 -0800            NaN  Pacific Time (US & Canada)  \n",
       "2  2015-02-24 11:15:48 -0800      Lets Play  Central Time (US & Canada)  \n",
       "3  2015-02-24 11:15:36 -0800            NaN  Pacific Time (US & Canada)  \n",
       "4  2015-02-24 11:14:45 -0800            NaN  Pacific Time (US & Canada)  "
      ]
     },
     "execution_count": 2,
     "metadata": {},
     "output_type": "execute_result"
    }
   ],
   "source": [
    "data.head()"
   ]
  },
  {
   "cell_type": "code",
   "execution_count": 3,
   "metadata": {},
   "outputs": [
    {
     "name": "stdout",
     "output_type": "stream",
     "text": [
      "<class 'pandas.core.frame.DataFrame'>\n",
      "RangeIndex: 14640 entries, 0 to 14639\n",
      "Data columns (total 15 columns):\n",
      " #   Column                        Non-Null Count  Dtype  \n",
      "---  ------                        --------------  -----  \n",
      " 0   tweet_id                      14640 non-null  int64  \n",
      " 1   airline_sentiment             14640 non-null  object \n",
      " 2   airline_sentiment_confidence  14640 non-null  float64\n",
      " 3   negativereason                9178 non-null   object \n",
      " 4   negativereason_confidence     10522 non-null  float64\n",
      " 5   airline                       14640 non-null  object \n",
      " 6   airline_sentiment_gold        40 non-null     object \n",
      " 7   name                          14640 non-null  object \n",
      " 8   negativereason_gold           32 non-null     object \n",
      " 9   retweet_count                 14640 non-null  int64  \n",
      " 10  text                          14640 non-null  object \n",
      " 11  tweet_coord                   1019 non-null   object \n",
      " 12  tweet_created                 14640 non-null  object \n",
      " 13  tweet_location                9907 non-null   object \n",
      " 14  user_timezone                 9820 non-null   object \n",
      "dtypes: float64(2), int64(2), object(11)\n",
      "memory usage: 1.7+ MB\n"
     ]
    }
   ],
   "source": [
    "# let's have a look in the number of features missing in our data set\n",
    "data.info()"
   ]
  },
  {
   "cell_type": "markdown",
   "metadata": {},
   "source": [
    "As we can see, for features airline_sentiment_gold and negativereason_gold I have onyl a handful of values, let's what they represent\n"
   ]
  },
  {
   "cell_type": "code",
   "execution_count": 101,
   "metadata": {},
   "outputs": [
    {
     "data": {
      "text/html": [
       "<div>\n",
       "<style scoped>\n",
       "    .dataframe tbody tr th:only-of-type {\n",
       "        vertical-align: middle;\n",
       "    }\n",
       "\n",
       "    .dataframe tbody tr th {\n",
       "        vertical-align: top;\n",
       "    }\n",
       "\n",
       "    .dataframe thead th {\n",
       "        text-align: right;\n",
       "    }\n",
       "</style>\n",
       "<table border=\"1\" class=\"dataframe\">\n",
       "  <thead>\n",
       "    <tr style=\"text-align: right;\">\n",
       "      <th></th>\n",
       "      <th>tweet_id</th>\n",
       "      <th>airline_sentiment</th>\n",
       "      <th>airline_sentiment_confidence</th>\n",
       "      <th>negativereason</th>\n",
       "      <th>negativereason_confidence</th>\n",
       "      <th>airline</th>\n",
       "      <th>airline_sentiment_gold</th>\n",
       "      <th>name</th>\n",
       "      <th>negativereason_gold</th>\n",
       "      <th>retweet_count</th>\n",
       "      <th>text</th>\n",
       "      <th>tweet_coord</th>\n",
       "      <th>tweet_created</th>\n",
       "      <th>tweet_location</th>\n",
       "      <th>user_timezone</th>\n",
       "    </tr>\n",
       "  </thead>\n",
       "  <tbody>\n",
       "    <tr>\n",
       "      <th>1286</th>\n",
       "      <td>569851578276048896</td>\n",
       "      <td>negative</td>\n",
       "      <td>1.0000</td>\n",
       "      <td>Late Flight</td>\n",
       "      <td>0.7684</td>\n",
       "      <td>United</td>\n",
       "      <td>negative</td>\n",
       "      <td>MrEschatologist</td>\n",
       "      <td>Late Flight\\nFlight Attendant Complaints</td>\n",
       "      <td>0</td>\n",
       "      <td>@united I'm aware of the flight details, thank...</td>\n",
       "      <td>NaN</td>\n",
       "      <td>2015-02-23 05:29:38 -0800</td>\n",
       "      <td>Arlington, VA</td>\n",
       "      <td>NaN</td>\n",
       "    </tr>\n",
       "    <tr>\n",
       "      <th>2017</th>\n",
       "      <td>569473998519578624</td>\n",
       "      <td>negative</td>\n",
       "      <td>1.0000</td>\n",
       "      <td>Late Flight</td>\n",
       "      <td>0.6048</td>\n",
       "      <td>United</td>\n",
       "      <td>negative</td>\n",
       "      <td>traceyabbywhite</td>\n",
       "      <td>Late Flight\\nLost Luggage</td>\n",
       "      <td>0</td>\n",
       "      <td>@united flighted delayed for hours. 10pm arriv...</td>\n",
       "      <td>NaN</td>\n",
       "      <td>2015-02-22 04:29:16 -0800</td>\n",
       "      <td>Atlantic Highlands, NJ</td>\n",
       "      <td>Eastern Time (US &amp; Canada)</td>\n",
       "    </tr>\n",
       "    <tr>\n",
       "      <th>2135</th>\n",
       "      <td>569343661063823360</td>\n",
       "      <td>neutral</td>\n",
       "      <td>1.0000</td>\n",
       "      <td>NaN</td>\n",
       "      <td>NaN</td>\n",
       "      <td>United</td>\n",
       "      <td>neutral</td>\n",
       "      <td>aushianya</td>\n",
       "      <td>NaN</td>\n",
       "      <td>0</td>\n",
       "      <td>@united I have a question</td>\n",
       "      <td>NaN</td>\n",
       "      <td>2015-02-21 19:51:21 -0800</td>\n",
       "      <td>NaN</td>\n",
       "      <td>NaN</td>\n",
       "    </tr>\n",
       "    <tr>\n",
       "      <th>2201</th>\n",
       "      <td>569318505755103232</td>\n",
       "      <td>negative</td>\n",
       "      <td>1.0000</td>\n",
       "      <td>Late Flight</td>\n",
       "      <td>0.6478</td>\n",
       "      <td>United</td>\n",
       "      <td>negative</td>\n",
       "      <td>tarlonious</td>\n",
       "      <td>Late Flight</td>\n",
       "      <td>1</td>\n",
       "      <td>@united it's been over 3 hours...at what point...</td>\n",
       "      <td>NaN</td>\n",
       "      <td>2015-02-21 18:11:23 -0800</td>\n",
       "      <td>NaN</td>\n",
       "      <td>NaN</td>\n",
       "    </tr>\n",
       "    <tr>\n",
       "      <th>2383</th>\n",
       "      <td>569235954789015552</td>\n",
       "      <td>negative</td>\n",
       "      <td>0.9286</td>\n",
       "      <td>Customer Service Issue</td>\n",
       "      <td>0.9286</td>\n",
       "      <td>United</td>\n",
       "      <td>negative</td>\n",
       "      <td>screamingbrat</td>\n",
       "      <td>Customer Service Issue</td>\n",
       "      <td>0</td>\n",
       "      <td>@united You shouldn't page o'head that it's be...</td>\n",
       "      <td>NaN</td>\n",
       "      <td>2015-02-21 12:43:22 -0800</td>\n",
       "      <td>new york, baby</td>\n",
       "      <td>Eastern Time (US &amp; Canada)</td>\n",
       "    </tr>\n",
       "  </tbody>\n",
       "</table>\n",
       "</div>"
      ],
      "text/plain": [
       "                tweet_id airline_sentiment  airline_sentiment_confidence  \\\n",
       "1286  569851578276048896          negative                        1.0000   \n",
       "2017  569473998519578624          negative                        1.0000   \n",
       "2135  569343661063823360           neutral                        1.0000   \n",
       "2201  569318505755103232          negative                        1.0000   \n",
       "2383  569235954789015552          negative                        0.9286   \n",
       "\n",
       "              negativereason  negativereason_confidence airline  \\\n",
       "1286             Late Flight                     0.7684  United   \n",
       "2017             Late Flight                     0.6048  United   \n",
       "2135                     NaN                        NaN  United   \n",
       "2201             Late Flight                     0.6478  United   \n",
       "2383  Customer Service Issue                     0.9286  United   \n",
       "\n",
       "     airline_sentiment_gold             name  \\\n",
       "1286               negative  MrEschatologist   \n",
       "2017               negative  traceyabbywhite   \n",
       "2135                neutral        aushianya   \n",
       "2201               negative       tarlonious   \n",
       "2383               negative    screamingbrat   \n",
       "\n",
       "                           negativereason_gold  retweet_count  \\\n",
       "1286  Late Flight\\nFlight Attendant Complaints              0   \n",
       "2017                 Late Flight\\nLost Luggage              0   \n",
       "2135                                       NaN              0   \n",
       "2201                               Late Flight              1   \n",
       "2383                    Customer Service Issue              0   \n",
       "\n",
       "                                                   text tweet_coord  \\\n",
       "1286  @united I'm aware of the flight details, thank...         NaN   \n",
       "2017  @united flighted delayed for hours. 10pm arriv...         NaN   \n",
       "2135                          @united I have a question         NaN   \n",
       "2201  @united it's been over 3 hours...at what point...         NaN   \n",
       "2383  @united You shouldn't page o'head that it's be...         NaN   \n",
       "\n",
       "                  tweet_created          tweet_location  \\\n",
       "1286  2015-02-23 05:29:38 -0800           Arlington, VA   \n",
       "2017  2015-02-22 04:29:16 -0800  Atlantic Highlands, NJ   \n",
       "2135  2015-02-21 19:51:21 -0800                     NaN   \n",
       "2201  2015-02-21 18:11:23 -0800                     NaN   \n",
       "2383  2015-02-21 12:43:22 -0800          new york, baby   \n",
       "\n",
       "                   user_timezone  \n",
       "1286                         NaN  \n",
       "2017  Eastern Time (US & Canada)  \n",
       "2135                         NaN  \n",
       "2201                         NaN  \n",
       "2383  Eastern Time (US & Canada)  "
      ]
     },
     "execution_count": 101,
     "metadata": {},
     "output_type": "execute_result"
    }
   ],
   "source": [
    "data[data.airline_sentiment_gold.notnull()].head()\n"
   ]
  },
  {
   "cell_type": "code",
   "execution_count": 5,
   "metadata": {},
   "outputs": [
    {
     "data": {
      "text/html": [
       "<div>\n",
       "<style scoped>\n",
       "    .dataframe tbody tr th:only-of-type {\n",
       "        vertical-align: middle;\n",
       "    }\n",
       "\n",
       "    .dataframe tbody tr th {\n",
       "        vertical-align: top;\n",
       "    }\n",
       "\n",
       "    .dataframe thead th {\n",
       "        text-align: right;\n",
       "    }\n",
       "</style>\n",
       "<table border=\"1\" class=\"dataframe\">\n",
       "  <thead>\n",
       "    <tr style=\"text-align: right;\">\n",
       "      <th></th>\n",
       "      <th>tweet_id</th>\n",
       "      <th>airline_sentiment</th>\n",
       "      <th>airline_sentiment_confidence</th>\n",
       "      <th>negativereason</th>\n",
       "      <th>negativereason_confidence</th>\n",
       "      <th>airline</th>\n",
       "      <th>airline_sentiment_gold</th>\n",
       "      <th>name</th>\n",
       "      <th>negativereason_gold</th>\n",
       "      <th>retweet_count</th>\n",
       "      <th>text</th>\n",
       "      <th>tweet_coord</th>\n",
       "      <th>tweet_created</th>\n",
       "      <th>tweet_location</th>\n",
       "      <th>user_timezone</th>\n",
       "    </tr>\n",
       "  </thead>\n",
       "  <tbody>\n",
       "    <tr>\n",
       "      <th>1286</th>\n",
       "      <td>569851578276048896</td>\n",
       "      <td>negative</td>\n",
       "      <td>1.0000</td>\n",
       "      <td>Late Flight</td>\n",
       "      <td>0.7684</td>\n",
       "      <td>United</td>\n",
       "      <td>negative</td>\n",
       "      <td>MrEschatologist</td>\n",
       "      <td>Late Flight\\nFlight Attendant Complaints</td>\n",
       "      <td>0</td>\n",
       "      <td>@united I'm aware of the flight details, thank...</td>\n",
       "      <td>NaN</td>\n",
       "      <td>2015-02-23 05:29:38 -0800</td>\n",
       "      <td>Arlington, VA</td>\n",
       "      <td>NaN</td>\n",
       "    </tr>\n",
       "    <tr>\n",
       "      <th>2017</th>\n",
       "      <td>569473998519578624</td>\n",
       "      <td>negative</td>\n",
       "      <td>1.0000</td>\n",
       "      <td>Late Flight</td>\n",
       "      <td>0.6048</td>\n",
       "      <td>United</td>\n",
       "      <td>negative</td>\n",
       "      <td>traceyabbywhite</td>\n",
       "      <td>Late Flight\\nLost Luggage</td>\n",
       "      <td>0</td>\n",
       "      <td>@united flighted delayed for hours. 10pm arriv...</td>\n",
       "      <td>NaN</td>\n",
       "      <td>2015-02-22 04:29:16 -0800</td>\n",
       "      <td>Atlantic Highlands, NJ</td>\n",
       "      <td>Eastern Time (US &amp; Canada)</td>\n",
       "    </tr>\n",
       "    <tr>\n",
       "      <th>2201</th>\n",
       "      <td>569318505755103232</td>\n",
       "      <td>negative</td>\n",
       "      <td>1.0000</td>\n",
       "      <td>Late Flight</td>\n",
       "      <td>0.6478</td>\n",
       "      <td>United</td>\n",
       "      <td>negative</td>\n",
       "      <td>tarlonious</td>\n",
       "      <td>Late Flight</td>\n",
       "      <td>1</td>\n",
       "      <td>@united it's been over 3 hours...at what point...</td>\n",
       "      <td>NaN</td>\n",
       "      <td>2015-02-21 18:11:23 -0800</td>\n",
       "      <td>NaN</td>\n",
       "      <td>NaN</td>\n",
       "    </tr>\n",
       "    <tr>\n",
       "      <th>2383</th>\n",
       "      <td>569235954789015552</td>\n",
       "      <td>negative</td>\n",
       "      <td>0.9286</td>\n",
       "      <td>Customer Service Issue</td>\n",
       "      <td>0.9286</td>\n",
       "      <td>United</td>\n",
       "      <td>negative</td>\n",
       "      <td>screamingbrat</td>\n",
       "      <td>Customer Service Issue</td>\n",
       "      <td>0</td>\n",
       "      <td>@united You shouldn't page o'head that it's be...</td>\n",
       "      <td>NaN</td>\n",
       "      <td>2015-02-21 12:43:22 -0800</td>\n",
       "      <td>new york, baby</td>\n",
       "      <td>Eastern Time (US &amp; Canada)</td>\n",
       "    </tr>\n",
       "    <tr>\n",
       "      <th>3005</th>\n",
       "      <td>568802013196242944</td>\n",
       "      <td>negative</td>\n",
       "      <td>1.0000</td>\n",
       "      <td>Can't Tell</td>\n",
       "      <td>0.6870</td>\n",
       "      <td>United</td>\n",
       "      <td>negative</td>\n",
       "      <td>katieclaytonn</td>\n",
       "      <td>Can't Tell</td>\n",
       "      <td>0</td>\n",
       "      <td>@united couldn't have possibly messed up our t...</td>\n",
       "      <td>NaN</td>\n",
       "      <td>2015-02-20 07:59:02 -0800</td>\n",
       "      <td>NaN</td>\n",
       "      <td>Central Time (US &amp; Canada)</td>\n",
       "    </tr>\n",
       "  </tbody>\n",
       "</table>\n",
       "</div>"
      ],
      "text/plain": [
       "                tweet_id airline_sentiment  airline_sentiment_confidence  \\\n",
       "1286  569851578276048896          negative                        1.0000   \n",
       "2017  569473998519578624          negative                        1.0000   \n",
       "2201  569318505755103232          negative                        1.0000   \n",
       "2383  569235954789015552          negative                        0.9286   \n",
       "3005  568802013196242944          negative                        1.0000   \n",
       "\n",
       "              negativereason  negativereason_confidence airline  \\\n",
       "1286             Late Flight                     0.7684  United   \n",
       "2017             Late Flight                     0.6048  United   \n",
       "2201             Late Flight                     0.6478  United   \n",
       "2383  Customer Service Issue                     0.9286  United   \n",
       "3005              Can't Tell                     0.6870  United   \n",
       "\n",
       "     airline_sentiment_gold             name  \\\n",
       "1286               negative  MrEschatologist   \n",
       "2017               negative  traceyabbywhite   \n",
       "2201               negative       tarlonious   \n",
       "2383               negative    screamingbrat   \n",
       "3005               negative    katieclaytonn   \n",
       "\n",
       "                           negativereason_gold  retweet_count  \\\n",
       "1286  Late Flight\\nFlight Attendant Complaints              0   \n",
       "2017                 Late Flight\\nLost Luggage              0   \n",
       "2201                               Late Flight              1   \n",
       "2383                    Customer Service Issue              0   \n",
       "3005                                Can't Tell              0   \n",
       "\n",
       "                                                   text tweet_coord  \\\n",
       "1286  @united I'm aware of the flight details, thank...         NaN   \n",
       "2017  @united flighted delayed for hours. 10pm arriv...         NaN   \n",
       "2201  @united it's been over 3 hours...at what point...         NaN   \n",
       "2383  @united You shouldn't page o'head that it's be...         NaN   \n",
       "3005  @united couldn't have possibly messed up our t...         NaN   \n",
       "\n",
       "                  tweet_created          tweet_location  \\\n",
       "1286  2015-02-23 05:29:38 -0800           Arlington, VA   \n",
       "2017  2015-02-22 04:29:16 -0800  Atlantic Highlands, NJ   \n",
       "2201  2015-02-21 18:11:23 -0800                     NaN   \n",
       "2383  2015-02-21 12:43:22 -0800          new york, baby   \n",
       "3005  2015-02-20 07:59:02 -0800                     NaN   \n",
       "\n",
       "                   user_timezone  \n",
       "1286                         NaN  \n",
       "2017  Eastern Time (US & Canada)  \n",
       "2201                         NaN  \n",
       "2383  Eastern Time (US & Canada)  \n",
       "3005  Central Time (US & Canada)  "
      ]
     },
     "execution_count": 5,
     "metadata": {},
     "output_type": "execute_result"
    }
   ],
   "source": [
    "data[data.negativereason_gold.notnull()].head()"
   ]
  },
  {
   "cell_type": "markdown",
   "metadata": {},
   "source": [
    "By inspection, we see that these values are the same for other columns as airline_sentiment and negativereason, \n",
    "then we will drop them without information loss. Also, tweet_coord represents the coordinate of the tweet, \n",
    "as we have a lot of null values and with the features tweet_location, we will drop it as well.\n",
    "\n",
    "Also I find 194 enteries where I have the tweet cord but tweet location is null. If I didnt had a lot of data to work on I could have used this info to populate the location field before dropping tweet_coord column\n",
    "\n"
   ]
  },
  {
   "cell_type": "code",
   "execution_count": 6,
   "metadata": {},
   "outputs": [
    {
     "name": "stdout",
     "output_type": "stream",
     "text": [
      "<class 'pandas.core.frame.DataFrame'>\n",
      "Int64Index: 194 entries, 21 to 14624\n",
      "Data columns (total 15 columns):\n",
      " #   Column                        Non-Null Count  Dtype  \n",
      "---  ------                        --------------  -----  \n",
      " 0   tweet_id                      194 non-null    int64  \n",
      " 1   airline_sentiment             194 non-null    object \n",
      " 2   airline_sentiment_confidence  194 non-null    float64\n",
      " 3   negativereason                136 non-null    object \n",
      " 4   negativereason_confidence     148 non-null    float64\n",
      " 5   airline                       194 non-null    object \n",
      " 6   airline_sentiment_gold        1 non-null      object \n",
      " 7   name                          194 non-null    object \n",
      " 8   negativereason_gold           1 non-null      object \n",
      " 9   retweet_count                 194 non-null    int64  \n",
      " 10  text                          194 non-null    object \n",
      " 11  tweet_coord                   194 non-null    object \n",
      " 12  tweet_created                 194 non-null    object \n",
      " 13  tweet_location                0 non-null      object \n",
      " 14  user_timezone                 111 non-null    object \n",
      "dtypes: float64(2), int64(2), object(11)\n",
      "memory usage: 24.2+ KB\n"
     ]
    }
   ],
   "source": [
    "\n",
    "data[data.tweet_coord.notnull() & data.tweet_location.isnull()].info()\n"
   ]
  },
  {
   "cell_type": "code",
   "execution_count": 8,
   "metadata": {},
   "outputs": [
    {
     "data": {
      "text/plain": [
       "(14640, 12)"
      ]
     },
     "execution_count": 8,
     "metadata": {},
     "output_type": "execute_result"
    }
   ],
   "source": [
    "data = data.drop(['airline_sentiment_gold', 'negativereason_gold', 'tweet_coord'], axis = 1)\n",
    "data.shape"
   ]
  },
  {
   "cell_type": "markdown",
   "metadata": {},
   "source": [
    "Now, we also have null values for the following features: negativereason, negativereason_confidence, tweet_location, user_timezone. Let's dig deeper into it."
   ]
  },
  {
   "cell_type": "code",
   "execution_count": 9,
   "metadata": {},
   "outputs": [
    {
     "data": {
      "text/html": [
       "<div>\n",
       "<style scoped>\n",
       "    .dataframe tbody tr th:only-of-type {\n",
       "        vertical-align: middle;\n",
       "    }\n",
       "\n",
       "    .dataframe tbody tr th {\n",
       "        vertical-align: top;\n",
       "    }\n",
       "\n",
       "    .dataframe thead th {\n",
       "        text-align: right;\n",
       "    }\n",
       "</style>\n",
       "<table border=\"1\" class=\"dataframe\">\n",
       "  <thead>\n",
       "    <tr style=\"text-align: right;\">\n",
       "      <th></th>\n",
       "      <th>tweet_id</th>\n",
       "      <th>airline_sentiment</th>\n",
       "      <th>airline_sentiment_confidence</th>\n",
       "      <th>negativereason</th>\n",
       "      <th>negativereason_confidence</th>\n",
       "      <th>airline</th>\n",
       "      <th>name</th>\n",
       "      <th>retweet_count</th>\n",
       "      <th>text</th>\n",
       "      <th>tweet_created</th>\n",
       "      <th>tweet_location</th>\n",
       "      <th>user_timezone</th>\n",
       "    </tr>\n",
       "  </thead>\n",
       "  <tbody>\n",
       "    <tr>\n",
       "      <th>0</th>\n",
       "      <td>570306133677760513</td>\n",
       "      <td>neutral</td>\n",
       "      <td>1.0000</td>\n",
       "      <td>NaN</td>\n",
       "      <td>NaN</td>\n",
       "      <td>Virgin America</td>\n",
       "      <td>cairdin</td>\n",
       "      <td>0</td>\n",
       "      <td>@VirginAmerica What @dhepburn said.</td>\n",
       "      <td>2015-02-24 11:35:52 -0800</td>\n",
       "      <td>NaN</td>\n",
       "      <td>Eastern Time (US &amp; Canada)</td>\n",
       "    </tr>\n",
       "    <tr>\n",
       "      <th>1</th>\n",
       "      <td>570301130888122368</td>\n",
       "      <td>positive</td>\n",
       "      <td>0.3486</td>\n",
       "      <td>NaN</td>\n",
       "      <td>0.0</td>\n",
       "      <td>Virgin America</td>\n",
       "      <td>jnardino</td>\n",
       "      <td>0</td>\n",
       "      <td>@VirginAmerica plus you've added commercials t...</td>\n",
       "      <td>2015-02-24 11:15:59 -0800</td>\n",
       "      <td>NaN</td>\n",
       "      <td>Pacific Time (US &amp; Canada)</td>\n",
       "    </tr>\n",
       "    <tr>\n",
       "      <th>2</th>\n",
       "      <td>570301083672813571</td>\n",
       "      <td>neutral</td>\n",
       "      <td>0.6837</td>\n",
       "      <td>NaN</td>\n",
       "      <td>NaN</td>\n",
       "      <td>Virgin America</td>\n",
       "      <td>yvonnalynn</td>\n",
       "      <td>0</td>\n",
       "      <td>@VirginAmerica I didn't today... Must mean I n...</td>\n",
       "      <td>2015-02-24 11:15:48 -0800</td>\n",
       "      <td>Lets Play</td>\n",
       "      <td>Central Time (US &amp; Canada)</td>\n",
       "    </tr>\n",
       "    <tr>\n",
       "      <th>6</th>\n",
       "      <td>570300616901320704</td>\n",
       "      <td>positive</td>\n",
       "      <td>0.6745</td>\n",
       "      <td>NaN</td>\n",
       "      <td>0.0</td>\n",
       "      <td>Virgin America</td>\n",
       "      <td>cjmcginnis</td>\n",
       "      <td>0</td>\n",
       "      <td>@VirginAmerica yes, nearly every time I fly VX...</td>\n",
       "      <td>2015-02-24 11:13:57 -0800</td>\n",
       "      <td>San Francisco CA</td>\n",
       "      <td>Pacific Time (US &amp; Canada)</td>\n",
       "    </tr>\n",
       "    <tr>\n",
       "      <th>7</th>\n",
       "      <td>570300248553349120</td>\n",
       "      <td>neutral</td>\n",
       "      <td>0.6340</td>\n",
       "      <td>NaN</td>\n",
       "      <td>NaN</td>\n",
       "      <td>Virgin America</td>\n",
       "      <td>pilot</td>\n",
       "      <td>0</td>\n",
       "      <td>@VirginAmerica Really missed a prime opportuni...</td>\n",
       "      <td>2015-02-24 11:12:29 -0800</td>\n",
       "      <td>Los Angeles</td>\n",
       "      <td>Pacific Time (US &amp; Canada)</td>\n",
       "    </tr>\n",
       "  </tbody>\n",
       "</table>\n",
       "</div>"
      ],
      "text/plain": [
       "             tweet_id airline_sentiment  airline_sentiment_confidence  \\\n",
       "0  570306133677760513           neutral                        1.0000   \n",
       "1  570301130888122368          positive                        0.3486   \n",
       "2  570301083672813571           neutral                        0.6837   \n",
       "6  570300616901320704          positive                        0.6745   \n",
       "7  570300248553349120           neutral                        0.6340   \n",
       "\n",
       "  negativereason  negativereason_confidence         airline        name  \\\n",
       "0            NaN                        NaN  Virgin America     cairdin   \n",
       "1            NaN                        0.0  Virgin America    jnardino   \n",
       "2            NaN                        NaN  Virgin America  yvonnalynn   \n",
       "6            NaN                        0.0  Virgin America  cjmcginnis   \n",
       "7            NaN                        NaN  Virgin America       pilot   \n",
       "\n",
       "   retweet_count                                               text  \\\n",
       "0              0                @VirginAmerica What @dhepburn said.   \n",
       "1              0  @VirginAmerica plus you've added commercials t...   \n",
       "2              0  @VirginAmerica I didn't today... Must mean I n...   \n",
       "6              0  @VirginAmerica yes, nearly every time I fly VX...   \n",
       "7              0  @VirginAmerica Really missed a prime opportuni...   \n",
       "\n",
       "               tweet_created    tweet_location               user_timezone  \n",
       "0  2015-02-24 11:35:52 -0800               NaN  Eastern Time (US & Canada)  \n",
       "1  2015-02-24 11:15:59 -0800               NaN  Pacific Time (US & Canada)  \n",
       "2  2015-02-24 11:15:48 -0800         Lets Play  Central Time (US & Canada)  \n",
       "6  2015-02-24 11:13:57 -0800  San Francisco CA  Pacific Time (US & Canada)  \n",
       "7  2015-02-24 11:12:29 -0800       Los Angeles  Pacific Time (US & Canada)  "
      ]
     },
     "execution_count": 9,
     "metadata": {},
     "output_type": "execute_result"
    }
   ],
   "source": [
    "data[data.negativereason.isnull()].head()"
   ]
  },
  {
   "cell_type": "markdown",
   "metadata": {},
   "source": [
    "It seems negativereason is null whenever we have airline sentiment as neutral or positive. Lets confirm that with below "
   ]
  },
  {
   "cell_type": "code",
   "execution_count": 31,
   "metadata": {},
   "outputs": [
    {
     "data": {
      "text/plain": [
       "5462"
      ]
     },
     "execution_count": 31,
     "metadata": {},
     "output_type": "execute_result"
    }
   ],
   "source": [
    "data[data.negativereason.isnull()].airline_sentiment.count() "
   ]
  },
  {
   "cell_type": "code",
   "execution_count": 32,
   "metadata": {},
   "outputs": [
    {
     "data": {
      "text/plain": [
       "5462"
      ]
     },
     "execution_count": 32,
     "metadata": {},
     "output_type": "execute_result"
    }
   ],
   "source": [
    "data[data.negativereason.isnull() & data.airline_sentiment.isin(['neutral','positive'])].airline_sentiment.count()"
   ]
  },
  {
   "cell_type": "markdown",
   "metadata": {},
   "source": [
    "Similarly negativereason_confidence column, then it will be just the 0 for all these cases."
   ]
  },
  {
   "cell_type": "markdown",
   "metadata": {},
   "source": [
    "One important point that I note here is features like negativereason, I may be using it for some vizualization purposes, but this may not be a feature for my sentiment analysis model creation. The reason why think so is because my model would be made to analyze real time tweets, and the same wont have this feature in real enviroment. What we will have is the tweet text and its features like locationa and timezone."
   ]
  },
  {
   "cell_type": "code",
   "execution_count": null,
   "metadata": {},
   "outputs": [],
   "source": [
    "Now lets do some vizualizations:"
   ]
  },
  {
   "cell_type": "code",
   "execution_count": 33,
   "metadata": {},
   "outputs": [
    {
     "data": {
      "text/plain": [
       "Text(0.5, 1.0, 'Sentiment Distribution per Airline Company')"
      ]
     },
     "execution_count": 33,
     "metadata": {},
     "output_type": "execute_result"
    },
    {
     "data": {
      "image/png": "[encoded data removed]",
      "text/plain": [
       "<Figure size 1080x720 with 1 Axes>"
      ]
     },
     "metadata": {
      "needs_background": "light"
     },
     "output_type": "display_data"
    }
   ],
   "source": [
    "import matplotlib.pyplot as plt\n",
    "import seaborn as sns\n",
    "\n",
    "f, ax = plt.subplots(figsize=(15, 10))\n",
    "\n",
    "ax = sns.countplot(x=\"airline\", hue=\"airline_sentiment\", data=data)\n",
    "ax.set_xlabel('Airline')\n",
    "ax.set_ylabel('# of tweets')\n",
    "ax.set_title('Sentiment Distribution per Airline Company')"
   ]
  },
  {
   "cell_type": "markdown",
   "metadata": {},
   "source": [
    "#### Exploratory data analysis 1: \n",
    "\n",
    "Frome above We clearly can see \"United\" seems to have worst negative feedbacks and \"Virgin America\" is best at same. \n",
    "\n",
    "In other words seems proportion of Positive/Negative/Neutral feedbacks varies with Airlines company. But is that true.Lets do a statistical test to find the same."
   ]
  },
  {
   "cell_type": "markdown",
   "metadata": {},
   "source": [
    "#### Below would be my NULL Hypothesis which I would try to prove wrong:\n",
    "\n",
    "###### NULL Hypothesis: \n",
    "Proportion of Positive/Negative/Neutral feedbacks varies with Airlines company"
   ]
  },
  {
   "cell_type": "code",
   "execution_count": 105,
   "metadata": {},
   "outputs": [
    {
     "name": "stdout",
     "output_type": "stream",
     "text": [
      "Observed Values :-\n",
      " airline_sentiment  negative  neutral  positive\n",
      "airline                                       \n",
      "American               1960      463       336\n",
      "Delta                   955      723       544\n",
      "Southwest              1186      664       570\n",
      "US Airways             2263      381       269\n",
      "United                 2633      697       492\n",
      "Virgin America          181      171       152\n"
     ]
    }
   ],
   "source": [
    "from scipy import stats\n",
    "from statsmodels.stats import weightstats as stests\n",
    "table = pd.crosstab(data.airline,data['airline_sentiment'])\n",
    "#Observed Values\n",
    "Observed_Values = table.values\n",
    "print(\"Observed Values :-\\n\",table)"
   ]
  },
  {
   "cell_type": "code",
   "execution_count": 108,
   "metadata": {},
   "outputs": [
    {
     "name": "stdout",
     "output_type": "stream",
     "text": [
      "Expected Values :-\n",
      " [[1729.65177596  584.02602459  445.32219945]\n",
      " [1392.99972678  470.35368852  358.6465847 ]\n",
      " [1517.1284153   512.26639344  390.60519126]\n",
      " [1826.19631148  616.62479508  470.17889344]\n",
      " [2396.05983607  809.04221311  616.89795082]\n",
      " [ 315.96393443  106.68688525   81.34918033]]\n",
      "Degree of Freedom:- 10\n"
     ]
    }
   ],
   "source": [
    "# Since we are comparing 2 categorical values. I will go for CHI SQUARED Test\n",
    "\n",
    "chi_square_statistic, p, ddof, Expected_Values =stats.chi2_contingency(table)\n",
    "#Expected_Values = b[3]\n",
    "print(\"Expected Values :-\\n\",Expected_Values)\n",
    "print(\"Degree of Freedom:-\",ddof)"
   ]
  },
  {
   "cell_type": "code",
   "execution_count": 110,
   "metadata": {},
   "outputs": [
    {
     "name": "stdout",
     "output_type": "stream",
     "text": [
      "critical_value: 18.307038053275146\n",
      "p-value: 1.1843123973768729e-241\n",
      "Significance level:  0.05\n",
      "Degree of Freedom:  10\n",
      "critical_value: 18.307038053275146\n"
     ]
    }
   ],
   "source": [
    "alpha = 0.05\n",
    "critical_value=stats.chi2.ppf(q=1-alpha,df=ddof)\n",
    "print('critical_value:',critical_value)\n",
    "#p-value\n",
    "print('p-value:',p)\n",
    "print('Significance level: ',alpha)\n",
    "print('Degree of Freedom: ',ddof)\n",
    "print('critical_value:',critical_value)"
   ]
  },
  {
   "cell_type": "code",
   "execution_count": 112,
   "metadata": {},
   "outputs": [
    {
     "name": "stdout",
     "output_type": "stream",
     "text": [
      "Reject H0,There is a relationship between Airlines Company and prportion of feedbacks\n",
      "Reject H0,There is a relationship between Airlines Company and prportion of feedbacks\n"
     ]
    }
   ],
   "source": [
    "if chi_square_statistic>=critical_value:\n",
    "    print(\"Reject H0,There is a relationship between Airlines Company and prportion of feedbacks\")\n",
    "else:\n",
    "    print(\"Retain H0,There is no relationship between Airlines Company and prportion of feedbacks\")\n",
    "    \n",
    "if p<=alpha:\n",
    "     print(\"Reject H0,There is a relationship between Airlines Company and prportion of feedbacks\")\n",
    "else:\n",
    "    print(\"Retain H0,There is no relationship between Airlines Company and prportion of feedbacks\")"
   ]
  },
  {
   "cell_type": "code",
   "execution_count": 38,
   "metadata": {},
   "outputs": [
    {
     "data": {
      "text/plain": [
       "negative    0.626913\n",
       "neutral     0.211680\n",
       "positive    0.161407\n",
       "Name: airline_sentiment, dtype: float64"
      ]
     },
     "execution_count": 38,
     "metadata": {},
     "output_type": "execute_result"
    }
   ],
   "source": [
    "data.airline_sentiment.value_counts(normalize=True)"
   ]
  },
  {
   "cell_type": "code",
   "execution_count": 39,
   "metadata": {},
   "outputs": [
    {
     "data": {
      "text/plain": [
       "Text(0, 0.5, '# of tweets')"
      ]
     },
     "execution_count": 39,
     "metadata": {},
     "output_type": "execute_result"
    },
    {
     "data": {
      "image/png": "[encoded data removed]",
      "text/plain": [
       "<Figure size 1080x720 with 1 Axes>"
      ]
     },
     "metadata": {
      "needs_background": "light"
     },
     "output_type": "display_data"
    }
   ],
   "source": [
    "f, ax = plt.subplots(figsize=(15, 10))\n",
    "\n",
    "ax = sns.countplot(x=\"airline_sentiment\", data=data)\n",
    "ax.set_xlabel('Airline')\n",
    "ax.set_ylabel('# of tweets')"
   ]
  },
  {
   "cell_type": "markdown",
   "metadata": {},
   "source": [
    "#### Exploratory data analysis 2: \n",
    "Also overall US flights are not so good with customer service considering 60 % of tweets were negative. We can also account one important fact around human behavior of people using social media more often to vent out there anger for a bad service compared to negative or postive service. Lets see if we validate this finding with a Hypothesis testing."
   ]
  },
  {
   "cell_type": "markdown",
   "metadata": {},
   "source": [
    "Now lets analyze the data from time zone prospective"
   ]
  },
  {
   "cell_type": "code",
   "execution_count": 49,
   "metadata": {},
   "outputs": [
    {
     "data": {
      "image/png": "[encoded data removed]",
      "text/plain": [
       "<Figure size 1080x720 with 1 Axes>"
      ]
     },
     "metadata": {
      "needs_background": "light"
     },
     "output_type": "display_data"
    }
   ],
   "source": [
    "f, ax = plt.subplots(figsize=(15, 10))\n",
    "\n",
    "ax = sns.countplot(x=\"user_timezone\", data=data)\n",
    "ax.set_xlabel('Airline')\n",
    "ax.set_ylabel('# of tweets')\n",
    "label=ax.get_xticklabels()\n",
    "ax.set_xticklabels(label,rotation=90);"
   ]
  },
  {
   "cell_type": "markdown",
   "metadata": {},
   "source": [
    "Lets now visualize how tweets sentiments are devided based on top 3 time zones "
   ]
  },
  {
   "cell_type": "code",
   "execution_count": 103,
   "metadata": {},
   "outputs": [
    {
     "data": {
      "image/png": "[encoded data removed]",
      "text/plain": [
       "<Figure size 432x288 with 1 Axes>"
      ]
     },
     "metadata": {
      "needs_background": "light"
     },
     "output_type": "display_data"
    }
   ],
   "source": [
    "tz=data.user_timezone.value_counts().index[0:3]\n",
    "palette_colors = {\"neutral\": \"yellow\", \"positive\": \"green\", \"negative\": \"red\"}\n",
    "ax = sns.countplot(x=\"user_timezone\", hue='airline_sentiment',data=data[data.user_timezone.isin(tz)],palette=palette_colors)\n",
    "ax.set_xlabel('Airline')\n",
    "ax.set_ylabel('# of tweets')\n",
    "label=ax.get_xticklabels()\n",
    "ax.set_xticklabels(label,rotation=90);"
   ]
  },
  {
   "cell_type": "markdown",
   "metadata": {},
   "source": [
    "Lets now visualize how tweets sentiments are devided based on top 7 time zones "
   ]
  },
  {
   "cell_type": "code",
   "execution_count": 104,
   "metadata": {},
   "outputs": [
    {
     "data": {
      "image/png": "[encoded data removed]",
      "text/plain": [
       "<Figure size 432x288 with 1 Axes>"
      ]
     },
     "metadata": {
      "needs_background": "light"
     },
     "output_type": "display_data"
    }
   ],
   "source": [
    "tz=data.user_timezone.value_counts().index[0:7]\n",
    "palette_colors = {\"neutral\": \"yellow\", \"positive\": \"green\", \"negative\": \"red\"}\n",
    "ax = sns.countplot(x=\"user_timezone\", hue='airline_sentiment',data=data[data.user_timezone.isin(tz)],palette=palette_colors)\n",
    "ax.set_xlabel('Airline')\n",
    "ax.set_ylabel('# of tweets')\n",
    "label=ax.get_xticklabels()\n",
    "ax.set_xticklabels(label,rotation=90);"
   ]
  },
  {
   "cell_type": "markdown",
   "metadata": {},
   "source": [
    "### Exploratory data analysis 3: \n",
    "\n",
    "We can clearly notice the timezones do not impact a lot on sentiment distribution. Something which I was not expecting. This would be basis for my next Hypothesis testing.\n",
    "\n",
    "Also to get a better understanding I will stick with US time Zones first and the overall also."
   ]
  },
  {
   "cell_type": "markdown",
   "metadata": {},
   "source": [
    "#### Hypothesis 2\n",
    "\n",
    "Proportion of my different feedbacks do not change with US time Zones\n"
   ]
  },
  {
   "cell_type": "code",
   "execution_count": 187,
   "metadata": {},
   "outputs": [
    {
     "name": "stderr",
     "output_type": "stream",
     "text": [
      "C:\\Users\\nisaurab\\Anaconda3\\lib\\site-packages\\ipykernel_launcher.py:2: UserWarning: Boolean Series key will be reindexed to match DataFrame index.\n",
      "  \n"
     ]
    }
   ],
   "source": [
    "Time_zone = data.user_timezone.value_counts().index[0:6].values\n",
    "data_tz = data[data.user_timezone.isin(Time_zone)][data.user_timezone.str.contains('Quito')==0]\n"
   ]
  },
  {
   "cell_type": "code",
   "execution_count": 188,
   "metadata": {},
   "outputs": [
    {
     "name": "stdout",
     "output_type": "stream",
     "text": [
      "Observed Values :-\n",
      " airline_sentiment            negative  neutral  positive\n",
      "user_timezone                                           \n",
      "Atlantic Time (Canada)            299      120        78\n",
      "Central Time (US & Canada)       1191      383       357\n",
      "Eastern Time (US & Canada)       2313      769       662\n",
      "Mountain Time (US & Canada)       226       76        67\n",
      "Pacific Time (US & Canada)        720      264       224\n"
     ]
    }
   ],
   "source": [
    "\n",
    "table = pd.crosstab(data_tz.user_timezone,data_tz['airline_sentiment'])\n",
    "#Observed Values\n",
    "Observed_Values = table.values\n",
    "print(\"Observed Values :-\\n\",table)"
   ]
  },
  {
   "cell_type": "code",
   "execution_count": 189,
   "metadata": {},
   "outputs": [
    {
     "name": "stdout",
     "output_type": "stream",
     "text": [
      "Expected Values :-\n",
      " [[ 304.58807588  103.38934056   89.02258356]\n",
      " [1183.41966705  401.69983224  345.88050071]\n",
      " [2294.52264808  778.8524971   670.62485482]\n",
      " [ 226.14285714   76.76190476   66.0952381 ]\n",
      " [ 740.32675184  251.29642535  216.37682282]]\n",
      "Degree of Freedom:- 8\n"
     ]
    }
   ],
   "source": [
    "# Since we are comparing 2 categorical values. I will go for CHI SQUARED Test\n",
    "\n",
    "chi_square_statistic, p, ddof, Expected_Values =stats.chi2_contingency(table)\n",
    "#Expected_Values = b[3]\n",
    "print(\"Expected Values :-\\n\",Expected_Values)\n",
    "print(\"Degree of Freedom:-\",ddof)"
   ]
  },
  {
   "cell_type": "code",
   "execution_count": 190,
   "metadata": {},
   "outputs": [
    {
     "name": "stdout",
     "output_type": "stream",
     "text": [
      "critical_value: 15.50731305586545\n",
      "p-value: 0.5061345669137645\n",
      "Significance level:  0.05\n",
      "Degree of Freedom:  8\n",
      "critical_value: 15.50731305586545\n"
     ]
    }
   ],
   "source": [
    "alpha = 0.05\n",
    "critical_value=stats.chi2.ppf(q=1-alpha,df=ddof)\n",
    "print('critical_value:',critical_value)\n",
    "#p-value\n",
    "print('p-value:',p)\n",
    "print('Significance level: ',alpha)\n",
    "print('Degree of Freedom: ',ddof)\n",
    "print('critical_value:',critical_value)"
   ]
  },
  {
   "cell_type": "code",
   "execution_count": 193,
   "metadata": {},
   "outputs": [
    {
     "name": "stdout",
     "output_type": "stream",
     "text": [
      "Retain H2,There is no relationship between US TimeZone and prportion of feedbacks\n",
      "Retain H2,There is no relationship between US TimeZone and prportion of feedbacks\n"
     ]
    }
   ],
   "source": [
    "if chi_square_statistic>=critical_value:\n",
    "    print(\"Reject H2,There is a relationship between US TimeZone and prportion of feedbacks\")\n",
    "else:\n",
    "    print(\"Retain H2,There is no relationship between US TimeZone and prportion of feedbacks\")\n",
    "    \n",
    "if p<=alpha:\n",
    "     print(\"Reject H2,There is a relationship between US TimeZone and prportion of feedbacks\")\n",
    "else:\n",
    "    print(\"Retain H2,There is no relationship between US TimeZone and prportion of feedbacks\")"
   ]
  },
  {
   "cell_type": "markdown",
   "metadata": {},
   "source": [
    "#### Hypothesis 3\n",
    "\n",
    "Proportion of my different feedbacks do not change with Any time Zones"
   ]
  },
  {
   "cell_type": "code",
   "execution_count": 194,
   "metadata": {},
   "outputs": [
    {
     "name": "stdout",
     "output_type": "stream",
     "text": [
      "Observed Values :-\n",
      " airline_sentiment    negative  neutral  positive\n",
      "user_timezone                                   \n",
      "Abu Dhabi                   0       13        10\n",
      "Adelaide                    2        3         2\n",
      "Alaska                     73       18        17\n",
      "America/Atikokan            1        0         0\n",
      "America/Boise               3        0         0\n",
      "...                       ...      ...       ...\n",
      "Tokyo                       0        1         0\n",
      "Vienna                      1        1         1\n",
      "Warsaw                      0        1         0\n",
      "Wellington                  0        1         0\n",
      "West Central Africa         1        0         0\n",
      "\n",
      "[85 rows x 3 columns]\n"
     ]
    }
   ],
   "source": [
    "\n",
    "table = pd.crosstab(data.user_timezone,data['airline_sentiment'])\n",
    "#Observed Values\n",
    "Observed_Values = table.values\n",
    "print(\"Observed Values :-\\n\",table)"
   ]
  },
  {
   "cell_type": "code",
   "execution_count": 195,
   "metadata": {},
   "outputs": [
    {
     "name": "stdout",
     "output_type": "stream",
     "text": [
      "Expected Values :-\n",
      " [[1.40716904e+01 4.98411405e+00 3.94419552e+00]\n",
      " [4.28268839e+00 1.51690428e+00 1.20040733e+00]\n",
      " [6.60757637e+01 2.34036660e+01 1.85205703e+01]\n",
      " [6.11812627e-01 2.16700611e-01 1.71486762e-01]\n",
      " [1.83543788e+00 6.50101833e-01 5.14460285e-01]\n",
      " [2.26370672e+01 8.01792261e+00 6.34501018e+00]\n",
      " [6.11812627e-01 2.16700611e-01 1.71486762e-01]\n",
      " [9.17718941e+00 3.25050916e+00 2.57230143e+00]\n",
      " [1.59071283e+01 5.63421589e+00 4.45865580e+00]\n",
      " [4.52741344e+01 1.60358452e+01 1.26900204e+01]\n",
      " [1.40105092e+02 4.96244399e+01 3.92704684e+01]\n",
      " [9.78900204e+00 3.46720978e+00 2.74378819e+00]\n",
      " [3.04070876e+02 1.07700204e+02 8.52289206e+01]\n",
      " [2.44725051e+00 8.66802444e-01 6.85947047e-01]\n",
      " [6.72993890e+00 2.38370672e+00 1.88635438e+00]\n",
      " [5.50631365e+00 1.95030550e+00 1.54338086e+00]\n",
      " [6.11812627e-01 2.16700611e-01 1.71486762e-01]\n",
      " [3.05906314e+00 1.08350305e+00 8.57433809e-01]\n",
      " [1.40716904e+01 4.98411405e+00 3.94419552e+00]\n",
      " [6.11812627e+00 2.16700611e+00 1.71486762e+00]\n",
      " [5.50631365e+00 1.95030550e+00 1.54338086e+00]\n",
      " [6.11812627e-01 2.16700611e-01 1.71486762e-01]\n",
      " [8.56537678e+00 3.03380855e+00 2.40081466e+00]\n",
      " [6.11812627e-01 2.16700611e-01 1.71486762e-01]\n",
      " [5.50631365e+00 1.95030550e+00 1.54338086e+00]\n",
      " [9.17718941e+00 3.25050916e+00 2.57230143e+00]\n",
      " [7.95356415e+00 2.81710794e+00 2.22932790e+00]\n",
      " [1.18141018e+03 4.18448880e+02 3.31140937e+02]\n",
      " [1.22362525e+00 4.33401222e-01 3.42973523e-01]\n",
      " [1.04008147e+01 3.68391039e+00 2.91527495e+00]\n",
      " [6.11812627e-01 2.16700611e-01 1.71486762e-01]\n",
      " [2.29062648e+03 8.11327088e+02 6.42046436e+02]\n",
      " [2.44725051e+00 8.66802444e-01 6.85947047e-01]\n",
      " [1.04008147e+01 3.68391039e+00 2.91527495e+00]\n",
      " [1.83543788e+00 6.50101833e-01 5.14460285e-01]\n",
      " [1.22362525e+00 4.33401222e-01 3.42973523e-01]\n",
      " [6.36285132e+01 2.25368635e+01 1.78346232e+01]\n",
      " [5.50631365e+00 1.95030550e+00 1.54338086e+00]\n",
      " [1.22362525e+00 4.33401222e-01 3.42973523e-01]\n",
      " [1.59071283e+01 5.63421589e+00 4.45865580e+00]\n",
      " [6.11812627e-01 2.16700611e-01 1.71486762e-01]\n",
      " [1.22362525e+00 4.33401222e-01 3.42973523e-01]\n",
      " [6.11812627e-01 2.16700611e-01 1.71486762e-01]\n",
      " [1.83543788e+00 6.50101833e-01 5.14460285e-01]\n",
      " [6.11812627e-01 2.16700611e-01 1.71486762e-01]\n",
      " [1.22362525e+00 4.33401222e-01 3.42973523e-01]\n",
      " [1.83543788e+00 6.50101833e-01 5.14460285e-01]\n",
      " [1.22362525e+00 4.33401222e-01 3.42973523e-01]\n",
      " [6.11812627e-01 2.16700611e-01 1.71486762e-01]\n",
      " [1.19303462e+02 4.22566191e+01 3.34399185e+01]\n",
      " [4.28268839e+00 1.51690428e+00 1.20040733e+00]\n",
      " [1.83543788e+00 6.50101833e-01 5.14460285e-01]\n",
      " [4.89450102e+00 1.73360489e+00 1.37189409e+00]\n",
      " [1.83543788e+00 6.50101833e-01 5.14460285e-01]\n",
      " [9.17718941e+00 3.25050916e+00 2.57230143e+00]\n",
      " [6.11812627e-01 2.16700611e-01 1.71486762e-01]\n",
      " [6.11812627e-01 2.16700611e-01 1.71486762e-01]\n",
      " [2.25758859e+02 7.99625255e+01 6.32786151e+01]\n",
      " [1.22362525e+00 4.33401222e-01 3.42973523e-01]\n",
      " [1.83543788e+00 6.50101833e-01 5.14460285e-01]\n",
      " [9.17718941e+00 3.25050916e+00 2.57230143e+00]\n",
      " [6.11812627e-01 2.16700611e-01 1.71486762e-01]\n",
      " [7.39069654e+02 2.61774338e+02 2.07156008e+02]\n",
      " [1.52953157e+01 5.41751527e+00 4.28716904e+00]\n",
      " [1.22362525e+00 4.33401222e-01 3.42973523e-01]\n",
      " [6.11812627e-01 2.16700611e-01 1.71486762e-01]\n",
      " [6.11812627e-01 2.16700611e-01 1.71486762e-01]\n",
      " [4.51517719e+02 1.59925051e+02 1.26557230e+02]\n",
      " [3.05906314e+00 1.08350305e+00 8.57433809e-01]\n",
      " [1.04008147e+01 3.68391039e+00 2.91527495e+00]\n",
      " [6.11812627e-01 2.16700611e-01 1.71486762e-01]\n",
      " [6.11812627e-01 2.16700611e-01 1.71486762e-01]\n",
      " [3.05906314e+00 1.08350305e+00 8.57433809e-01]\n",
      " [1.22362525e+00 4.33401222e-01 3.42973523e-01]\n",
      " [6.11812627e-01 2.16700611e-01 1.71486762e-01]\n",
      " [2.44725051e+00 8.66802444e-01 6.85947047e-01]\n",
      " [6.54639511e+01 2.31869654e+01 1.83490835e+01]\n",
      " [3.67087576e+00 1.30020367e+00 1.02892057e+00]\n",
      " [1.04008147e+01 3.68391039e+00 2.91527495e+00]\n",
      " [5.50631365e+00 1.95030550e+00 1.54338086e+00]\n",
      " [6.11812627e-01 2.16700611e-01 1.71486762e-01]\n",
      " [1.83543788e+00 6.50101833e-01 5.14460285e-01]\n",
      " [6.11812627e-01 2.16700611e-01 1.71486762e-01]\n",
      " [6.11812627e-01 2.16700611e-01 1.71486762e-01]\n",
      " [6.11812627e-01 2.16700611e-01 1.71486762e-01]]\n",
      "Degree of Freedom:- 168\n"
     ]
    }
   ],
   "source": [
    "# Since we are comparing 2 categorical values. I will go for CHI SQUARED Test\n",
    "\n",
    "chi_square_statistic, p, ddof, Expected_Values =stats.chi2_contingency(table)\n",
    "#Expected_Values = b[3]\n",
    "print(\"Expected Values :-\\n\",Expected_Values)\n",
    "print(\"Degree of Freedom:-\",ddof)"
   ]
  },
  {
   "cell_type": "code",
   "execution_count": 197,
   "metadata": {},
   "outputs": [
    {
     "name": "stdout",
     "output_type": "stream",
     "text": [
      "critical_value: 199.2441769293174\n",
      "p-value: 1.1348958792602684e-33\n",
      "Significance level:  0.05\n",
      "Degree of Freedom:  168\n",
      "critical_value: 199.2441769293174\n"
     ]
    }
   ],
   "source": [
    "alpha = 0.05\n",
    "critical_value=stats.chi2.ppf(q=1-alpha,df=ddof)\n",
    "print('critical_value:',critical_value)\n",
    "#p-value\n",
    "print('p-value:',p)\n",
    "print('Significance level: ',alpha)\n",
    "print('Degree of Freedom: ',ddof)\n",
    "print('critical_value:',critical_value)\n"
   ]
  },
  {
   "cell_type": "code",
   "execution_count": 199,
   "metadata": {},
   "outputs": [
    {
     "name": "stdout",
     "output_type": "stream",
     "text": [
      "Reject H3,There is a relationship between TimeZone and prportion of feedbacks\n",
      "Reject H3,There is a relationship between TimeZone and prportion of feedbacks\n"
     ]
    }
   ],
   "source": [
    "if chi_square_statistic>=critical_value:\n",
    "    print(\"Reject H3,There is a relationship between TimeZone and prportion of feedbacks\")\n",
    "else:\n",
    "    print(\"Retain H3,There is no relationship between TimeZone and prportion of feedbacks\")\n",
    "    \n",
    "if p<=alpha:\n",
    "     print(\"Reject H3,There is a relationship between TimeZone and prportion of feedbacks\")\n",
    "else:\n",
    "    print(\"Retain H3,There is no relationship between TimeZone and prportion of feedbacks\")"
   ]
  },
  {
   "cell_type": "markdown",
   "metadata": {},
   "source": [
    "### Interesting findings \n",
    "\n",
    "Seems When we compare just the Tweets in US time zone we do not find any depedency between tweet proportions but when we consider all thet time zones there is a relationship between TimeZone and prportion of feedbacks"
   ]
  },
  {
   "cell_type": "markdown",
   "metadata": {},
   "source": [
    "###  Now lets do some Bag of words exercise to find out how the same looks for both positive and negative sentiment tweets"
   ]
  },
  {
   "cell_type": "code",
   "execution_count": 221,
   "metadata": {
    "scrolled": true
   },
   "outputs": [
    {
     "data": {
      "text/plain": [
       "<matplotlib.axes._subplots.AxesSubplot at 0x22c75ad8648>"
      ]
     },
     "execution_count": 221,
     "metadata": {},
     "output_type": "execute_result"
    },
    {
     "data": {
      "image/png": "[encoded data removed]",
      "text/plain": [
       "<Figure size 1080x720 with 1 Axes>"
      ]
     },
     "metadata": {
      "needs_background": "light"
     },
     "output_type": "display_data"
    }
   ],
   "source": [
    "import string\n",
    "from nltk.corpus import stopwords\n",
    "from nltk.tokenize import word_tokenize\n",
    "from nltk.tokenize import TweetTokenizer\n",
    "import nltk\n",
    "from collections import Counter\n",
    "\n",
    "## Positive Tweets\n",
    "pos_tweets = data[data.airline_sentiment=='positive']['text'].values\n",
    "## Negative tweets\n",
    "neg_tweets = data[data.airline_sentiment=='negative']['text'].values\n",
    "#define filter words\n",
    "punctuation = list(string.punctuation)\n",
    "stop = stopwords.words('english') + punctuation + ['jetblue', 'southwestair','united','americanair','usairways','http','virginamerica','\\'s','...']\n",
    "#seperate out the words from the tweets\n",
    "pos_tweets_tok = [w.lower() for tweet in pos_tweets for w in word_tokenize(tweet) if w.lower() not in stop ]\n",
    "neg_tweets_tok = [w for tweet in neg_tweets for w in word_tokenize(tweet) if w.lower() not in stop]\n",
    "#Lets see the Positive Tweets first\n",
    "count_terms = Counter(pos_tweets_tok)\n",
    "pos_tweets_cnt = pd.DataFrame (count_terms.most_common(20), columns = ['word','count'])\n",
    "f, ax = plt.subplots(figsize=(15, 10))\n",
    "sns.barplot(pos_tweets_cnt['word'],pos_tweets_cnt['count'] )"
   ]
  },
  {
   "cell_type": "markdown",
   "metadata": {},
   "source": [
    "##### As expected, in positive reviews we have the word thank appearing more times than the others ones. Let's do the same for negative reviews."
   ]
  },
  {
   "cell_type": "code",
   "execution_count": 222,
   "metadata": {},
   "outputs": [
    {
     "data": {
      "text/plain": [
       "<matplotlib.axes._subplots.AxesSubplot at 0x22c717b8588>"
      ]
     },
     "execution_count": 222,
     "metadata": {},
     "output_type": "execute_result"
    },
    {
     "data": {
      "image/png": "[encoded data removed]",
      "text/plain": [
       "<Figure size 1080x720 with 1 Axes>"
      ]
     },
     "metadata": {
      "needs_background": "light"
     },
     "output_type": "display_data"
    }
   ],
   "source": [
    "count_terms = Counter(neg_tweets_tok)\n",
    "ng_tweets_cnt = pd.DataFrame (count_terms.most_common(20), columns = ['word','count'])\n",
    "f, ax = plt.subplots(figsize=(15, 10))\n",
    "sns.barplot(ng_tweets_cnt['word'],ng_tweets_cnt['count'] )\n"
   ]
  },
  {
   "cell_type": "markdown",
   "metadata": {},
   "source": [
    "##### Here, we have flights as the first most common word. The reason could be that negative tweets are complainings about something that happened during a flight time, indicating that a operational problem. Also we notice words like \"Canceled\", \" Servive\", \"Hours\".\"Hold\" and \"Time\" which points to either a bad service or flights getting delayed/cancelled or combination of both.\n",
    "\n"
   ]
  },
  {
   "cell_type": "markdown",
   "metadata": {},
   "source": [
    "### With Above bag of words analysis I will be ending my exporatory data analysis and move on to feature engineering section now"
   ]
  }
 ],
 "metadata": {
  "kernelspec": {
   "display_name": "Python 3",
   "language": "python",
   "name": "python3"
  },
  "language_info": {
   "codemirror_mode": {
    "name": "ipython",
    "version": 3
   },
   "file_extension": ".py",
   "mimetype": "text/x-python",
   "name": "python",
   "nbconvert_exporter": "python",
   "pygments_lexer": "ipython3",
   "version": "3.7.6"
  }
 },
 "nbformat": 4,
 "nbformat_minor": 4
}
