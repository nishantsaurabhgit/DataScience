{
 "cells": [
  {
   "cell_type": "markdown",
   "metadata": {},
   "source": [
    "This exercise will require you to pull some data from the Qunadl API. Qaundl is currently the most widely used aggregator of financial market data."
   ]
  },
  {
   "cell_type": "markdown",
   "metadata": {},
   "source": [
    "As a first step, you will need to register a free account on the http://www.quandl.com website."
   ]
  },
  {
   "cell_type": "markdown",
   "metadata": {},
   "source": [
    "After you register, you will be provided with a unique API key, that you should store:"
   ]
  },
  {
   "cell_type": "code",
   "execution_count": null,
   "metadata": {
    "collapsed": true
   },
   "outputs": [],
   "source": [
    "# Store the API key as a string - according to PEP8, constants are always named in all upper case\n",
    "API_KEY = ''"
   ]
  },
  {
   "cell_type": "markdown",
   "metadata": {},
   "source": [
    "Qaundl has a large number of data sources, but, unfortunately, most of them require a Premium subscription. Still, there are also a good number of free datasets."
   ]
  },
  {
   "cell_type": "markdown",
   "metadata": {},
   "source": [
    "For this mini project, we will focus on equities data from the Frankfurt Stock Exhange (FSE), which is available for free. We'll try and analyze the stock prices of a company called Carl Zeiss Meditec, which manufactures tools for eye examinations, as well as medical lasers for laser eye surgery: https://www.zeiss.com/meditec/int/home.html. The company is listed under the stock ticker AFX_X."
   ]
  },
  {
   "cell_type": "markdown",
   "metadata": {},
   "source": [
    "You can find the detailed Quandl API instructions here: https://docs.quandl.com/docs/time-series"
   ]
  },
  {
   "cell_type": "markdown",
   "metadata": {},
   "source": [
    "While there is a dedicated Python package for connecting to the Quandl API, we would prefer that you use the *requests* package, which can be easily downloaded using *pip* or *conda*. You can find the documentation for the package here: http://docs.python-requests.org/en/master/ "
   ]
  },
  {
   "cell_type": "markdown",
   "metadata": {},
   "source": [
    "Finally, apart from the *requests* package, you are encouraged to not use any third party Python packages, such as *pandas*, and instead focus on what's available in the Python Standard Library (the *collections* module might come in handy: https://pymotw.com/3/collections/ ).\n",
    "Also, since you won't have access to DataFrames, you are encouraged to us Python's native data structures - preferably dictionaries, though some questions can also be answered using lists.\n",
    "You can read more on these data structures here: https://docs.python.org/3/tutorial/datastructures.html"
   ]
  },
  {
   "cell_type": "markdown",
   "metadata": {},
   "source": [
    "Keep in mind that the JSON responses you will be getting from the API map almost one-to-one to Python's dictionaries. Unfortunately, they can be very nested, so make sure you read up on indexing dictionaries in the documentation provided above."
   ]
  },
  {
   "cell_type": "code",
   "execution_count": 10,
   "metadata": {},
   "outputs": [],
   "source": [
    "# First, import the relevant modules\n",
    "import requests\n",
    "import json\n",
    "from pandas.io.json import json_normalize"
   ]
  },
  {
   "cell_type": "code",
   "execution_count": 3,
   "metadata": {},
   "outputs": [],
   "source": [
    "# Now, call the Quandl API and pull out a small sample of the data (only one day) to get a glimpse\n",
    "# into the JSON structure that will be returned\n",
    "apiK = 'GfzgHivF6WaPZv91sv-5'\n",
    "url = 'https://www.quandl.com/api/v3/datasets/FSE/AFX_X/data.json'\n",
    "key= dict(api_key=apiK, start_date= '2017-01-01', end_date = '2017-01-02')\n",
    "req= requests.get(url, params= key)  "
   ]
  },
  {
   "cell_type": "code",
   "execution_count": 46,
   "metadata": {},
   "outputs": [],
   "source": [
    "# Inspect the JSON structure of the object you created, and take note of how nested it is,\n",
    "# as well as the overall structure\n",
    "json= req.json()\n",
    "#json\n",
    "#column = (json['dataset_data']['column_names'][0:])\n",
    "data =(json['dataset_data']['data'][0][1:])\n",
    "#dict(zip(column,data))"
   ]
  },
  {
   "cell_type": "markdown",
   "metadata": {},
   "source": [
    "These are your tasks for this mini project:\n",
    "\n",
    "1. Collect data from the Franfurt Stock Exchange, for the ticker AFX_X, for the whole year 2017 (keep in mind that the date format is YYYY-MM-DD).\n",
    "2. Convert the returned JSON object into a Python dictionary.\n",
    "3. Calculate what the highest and lowest opening prices were for the stock in this period.\n",
    "4. What was the largest change in any one day (based on High and Low price)?\n",
    "5. What was the largest change between any two days (based on Closing Price)?\n",
    "6. What was the average daily trading volume during this year?\n",
    "7. (Optional) What was the median trading volume during this year. (Note: you may need to implement your own function for calculating the median.)"
   ]
  },
  {
   "cell_type": "markdown",
   "metadata": {},
   "source": [
    "# My Solution Starts here\n",
    "\n",
    "# Call the API and initialize all needed Variables to collect data from the Franfurt Stock Exchange, for the ticker AFX_X, for the whole year 2017\n",
    "\n",
    "# Convert returned JSON object into a Python dictionary"
   ]
  },
  {
   "cell_type": "code",
   "execution_count": 197,
   "metadata": {},
   "outputs": [],
   "source": [
    "#Assign the API Key\n",
    "apiK = 'GfzgHivF6WaPZv91sv-5'\n",
    "#Assign the URL\n",
    "url = 'https://www.quandl.com/api/v3/datasets/FSE/AFX_X/data.json'\n",
    "#Set the parameters for API call.\n",
    "key= dict(api_key=apiK, start_date= '2017-01-01', end_date = '2017-12-31')\n",
    "#Submit a get request to the API\n",
    "req= requests.get(url, params= key) \n",
    "#Convert the returned JSON object into a Python dictionary\n",
    "json= req.json()\n",
    "#Define Dict to store daily open price with key as Date\n",
    "daily_open= {}\n",
    "#Define Dict to store daily high with key as Date\n",
    "daily_high= {}\n",
    "#Define Dict to store daily low with key as Date\n",
    "daily_low={}\n",
    "#Define List to store daily trading volume\n",
    "trading_vol=[]\n",
    "#Define Dict to store daily difference between high and low with key as Date\n",
    "dly_delta={}\n",
    "#Get list of columns for daily data\n",
    "col_list = (json['dataset_data']['column_names'][0:])\n"
   ]
  },
  {
   "cell_type": "markdown",
   "metadata": {},
   "source": [
    "# Iterate through the converted Json dictionary to get all values"
   ]
  },
  {
   "cell_type": "code",
   "execution_count": 198,
   "metadata": {},
   "outputs": [],
   "source": [
    "#iterate through list of data for whole year to get all values\n",
    "for i in range (len(json['dataset_data']['data'])):\n",
    "    #data =(json['dataset_data']['data'][i][0:])\n",
    "    #print(data) #tocheck the position values for each value\n",
    "#Set the key to date of that day\n",
    "    key=json['dataset_data']['data'][i][0]\n",
    "    #Yearly_data[key]=dict(zip(column,data))\n",
    "    #print (Yearly_data[key]) to check column value mapping\n",
    "#Get the open price for that date and store in Dict\n",
    "    daily_open[key]= json['dataset_data']['data'][i][1]\n",
    "#Get the high for that date and store in Dict\n",
    "    daily_high[key]= json['dataset_data']['data'][i][2]\n",
    "#Get the low for that date and store in Dict\n",
    "    daily_low[key]= json['dataset_data']['data'][i][3]\n",
    "#Get difference between high and low for that date and store in Dict\n",
    "    dly_delta[key]= daily_high[key]-daily_low[key]\n",
    "#Append the Trading Volume for that date to trading volume list\n",
    "    trading_vol.append(json['dataset_data']['data'][i][7])\n",
    "#Append the diff between closing value for 2 consecutive dates and store in list\n",
    "    if i == 0:\n",
    "        two_day_delta=[]\n",
    "    else:\n",
    "        two_day_delta.append(abs(json['dataset_data']['data'][i-1][4]- json['dataset_data']['data'][i][4]))"
   ]
  },
  {
   "cell_type": "markdown",
   "metadata": {},
   "source": [
    "# Create Median function"
   ]
  },
  {
   "cell_type": "code",
   "execution_count": 200,
   "metadata": {},
   "outputs": [],
   "source": [
    "def median(lst):\n",
    "    n = len(lst)\n",
    "    s = sorted(lst)\n",
    "    return (sum(s[n//2-1:n//2+1])/2.0, s[n//2])[n % 2] if n else None"
   ]
  },
  {
   "cell_type": "markdown",
   "metadata": {},
   "source": [
    "# Print all asked data"
   ]
  },
  {
   "cell_type": "code",
   "execution_count": 199,
   "metadata": {},
   "outputs": [
    {
     "name": "stdout",
     "output_type": "stream",
     "text": [
      "Highest Opening price was on Date:Value (u'2017-12-14', 53.11)\n",
      "Lowest Opening price was on Date:Value (u'2017-01-24', 34.0)\n",
      "The largest change in any one day was on Date:Value (u'2017-05-11', 2.8100000000000023)\n",
      "Largest change between any two days was: 2.56\n",
      "Average daily trading volume during 2017 year was: 3853589.45098\n",
      "Median daily trading volume during 2017 year was: 3292223.0\n"
     ]
    }
   ],
   "source": [
    "#remove NONE values by filtering out only for float\n",
    "daily_open = {key: value for (key,value) in daily_open.items() if type(value) == float}\n",
    "#Sort the open price dictionary\n",
    "Open_price_Sorted = sorted(daily_open.items(), key=lambda x: x[1],  reverse=True)\n",
    "dly_delta = sorted(dly_delta.items(),key=lambda x:x[1], reverse= True)\n",
    "print('Highest Opening price was on Date:Value {0}').format(Open_price_Sorted[0])\n",
    "print('Lowest Opening price was on Date:Value {0}').format(Open_price_Sorted[-1])\n",
    "print ('The largest change in any one day was on Date:Value {0}'.format(dly_delta[0]))\n",
    "print ('Largest change between any two days was: {0}').format(max(two_day_delta))\n",
    "print ('Average daily trading volume during 2017 year was: {0}').format(sum(trading_vol)/len(trading_vol))\n",
    "print ('Median daily trading volume during 2017 year was: {0}').format(median(trading_vol))"
   ]
  },
  {
   "cell_type": "markdown",
   "metadata": {},
   "source": [
    "# # My Solution Ends here"
   ]
  }
 ],
 "metadata": {
  "kernelspec": {
   "display_name": "Python 2",
   "language": "python",
   "name": "python2"
  },
  "language_info": {
   "codemirror_mode": {
    "name": "ipython",
    "version": 2
   },
   "file_extension": ".py",
   "mimetype": "text/x-python",
   "name": "python",
   "nbconvert_exporter": "python",
   "pygments_lexer": "ipython2",
   "version": "2.7.16"
  }
 },
 "nbformat": 4,
 "nbformat_minor": 2
}
