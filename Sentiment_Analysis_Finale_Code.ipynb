{
 "cells": [
  {
   "cell_type": "markdown",
   "metadata": {},
   "source": [
    "Advanced Data Science Capstone - Week 1 - Data Understanding¶\n",
    "This will be the first of a series of notebooks about the Advanced Data Science Capstone project. I have chosen the dataset Twitter US Airline Sentiment, that can be found here: https://www.kaggle.com/crowdflower/twitter-airline-sentiment.\n",
    "\n",
    "As quoted from the original source: \"A sentiment analysis job about the problems of each major U.S. airline. Twitter data was scraped from February of 2015 and contributors were asked to first classify positive, negative, and neutral tweets, followed by categorizing negative reasons (such as \"late flight\" or \"rude service\").\"\n",
    "\n",
    "Therefore, as we can see, we have a sentiment analysis problem, that is, we will try to predict from a tweet its customer's sentiment, in other words, we will try to infer a customer's perspective for a specific service.\n",
    "\n",
    "We have 14.500 tweets, and 15 columns and it contains whether the sentiment of the tweets in this set was positive, neutral, or negative for six US airlines[Source: Kaggle].\n",
    "\n",
    "This notebook is classified as Data Understanding, our first step in a Data Science project (Actually, the first would be collecting data, however, as this was already done, we skip it here), that is, understanding our data and defining our goals. Thus, here we will work with visualizations about data, giving some basic statistics as well as trying to understand better our features, as they are not given directly by the data source.\n",
    "\n",
    "So, let's have fun!"
   ]
  },
  {
   "cell_type": "code",
   "execution_count": 96,
   "metadata": {},
   "outputs": [
    {
     "data": {
      "text/plain": [
       "(14640, 15)"
      ]
     },
     "execution_count": 96,
     "metadata": {},
     "output_type": "execute_result"
    }
   ],
   "source": [
    "# Reading data\n",
    "import pandas as pd\n",
    "data = pd.read_csv (r\"C:\\Users\\nisaurab\\OneDrive - Capgemini\\Downloads\\DataScience\\Capstone_Project_2\\All Data\\Tweets.csv\")\n",
    "# checking its dimensions\n",
    "data.shape"
   ]
  },
  {
   "cell_type": "code",
   "execution_count": 97,
   "metadata": {},
   "outputs": [
    {
     "data": {
      "text/html": [
       "<div>\n",
       "<style scoped>\n",
       "    .dataframe tbody tr th:only-of-type {\n",
       "        vertical-align: middle;\n",
       "    }\n",
       "\n",
       "    .dataframe tbody tr th {\n",
       "        vertical-align: top;\n",
       "    }\n",
       "\n",
       "    .dataframe thead th {\n",
       "        text-align: right;\n",
       "    }\n",
       "</style>\n",
       "<table border=\"1\" class=\"dataframe\">\n",
       "  <thead>\n",
       "    <tr style=\"text-align: right;\">\n",
       "      <th></th>\n",
       "      <th>tweet_id</th>\n",
       "      <th>airline_sentiment</th>\n",
       "      <th>airline_sentiment_confidence</th>\n",
       "      <th>negativereason</th>\n",
       "      <th>negativereason_confidence</th>\n",
       "      <th>airline</th>\n",
       "      <th>airline_sentiment_gold</th>\n",
       "      <th>name</th>\n",
       "      <th>negativereason_gold</th>\n",
       "      <th>retweet_count</th>\n",
       "      <th>text</th>\n",
       "      <th>tweet_coord</th>\n",
       "      <th>tweet_created</th>\n",
       "      <th>tweet_location</th>\n",
       "      <th>user_timezone</th>\n",
       "    </tr>\n",
       "  </thead>\n",
       "  <tbody>\n",
       "    <tr>\n",
       "      <th>0</th>\n",
       "      <td>570306133677760513</td>\n",
       "      <td>neutral</td>\n",
       "      <td>1.0000</td>\n",
       "      <td>NaN</td>\n",
       "      <td>NaN</td>\n",
       "      <td>Virgin America</td>\n",
       "      <td>NaN</td>\n",
       "      <td>cairdin</td>\n",
       "      <td>NaN</td>\n",
       "      <td>0</td>\n",
       "      <td>@VirginAmerica What @dhepburn said.</td>\n",
       "      <td>NaN</td>\n",
       "      <td>2015-02-24 11:35:52 -0800</td>\n",
       "      <td>NaN</td>\n",
       "      <td>Eastern Time (US &amp; Canada)</td>\n",
       "    </tr>\n",
       "    <tr>\n",
       "      <th>1</th>\n",
       "      <td>570301130888122368</td>\n",
       "      <td>positive</td>\n",
       "      <td>0.3486</td>\n",
       "      <td>NaN</td>\n",
       "      <td>0.0000</td>\n",
       "      <td>Virgin America</td>\n",
       "      <td>NaN</td>\n",
       "      <td>jnardino</td>\n",
       "      <td>NaN</td>\n",
       "      <td>0</td>\n",
       "      <td>@VirginAmerica plus you've added commercials t...</td>\n",
       "      <td>NaN</td>\n",
       "      <td>2015-02-24 11:15:59 -0800</td>\n",
       "      <td>NaN</td>\n",
       "      <td>Pacific Time (US &amp; Canada)</td>\n",
       "    </tr>\n",
       "    <tr>\n",
       "      <th>2</th>\n",
       "      <td>570301083672813571</td>\n",
       "      <td>neutral</td>\n",
       "      <td>0.6837</td>\n",
       "      <td>NaN</td>\n",
       "      <td>NaN</td>\n",
       "      <td>Virgin America</td>\n",
       "      <td>NaN</td>\n",
       "      <td>yvonnalynn</td>\n",
       "      <td>NaN</td>\n",
       "      <td>0</td>\n",
       "      <td>@VirginAmerica I didn't today... Must mean I n...</td>\n",
       "      <td>NaN</td>\n",
       "      <td>2015-02-24 11:15:48 -0800</td>\n",
       "      <td>Lets Play</td>\n",
       "      <td>Central Time (US &amp; Canada)</td>\n",
       "    </tr>\n",
       "    <tr>\n",
       "      <th>3</th>\n",
       "      <td>570301031407624196</td>\n",
       "      <td>negative</td>\n",
       "      <td>1.0000</td>\n",
       "      <td>Bad Flight</td>\n",
       "      <td>0.7033</td>\n",
       "      <td>Virgin America</td>\n",
       "      <td>NaN</td>\n",
       "      <td>jnardino</td>\n",
       "      <td>NaN</td>\n",
       "      <td>0</td>\n",
       "      <td>@VirginAmerica it's really aggressive to blast...</td>\n",
       "      <td>NaN</td>\n",
       "      <td>2015-02-24 11:15:36 -0800</td>\n",
       "      <td>NaN</td>\n",
       "      <td>Pacific Time (US &amp; Canada)</td>\n",
       "    </tr>\n",
       "    <tr>\n",
       "      <th>4</th>\n",
       "      <td>570300817074462722</td>\n",
       "      <td>negative</td>\n",
       "      <td>1.0000</td>\n",
       "      <td>Can't Tell</td>\n",
       "      <td>1.0000</td>\n",
       "      <td>Virgin America</td>\n",
       "      <td>NaN</td>\n",
       "      <td>jnardino</td>\n",
       "      <td>NaN</td>\n",
       "      <td>0</td>\n",
       "      <td>@VirginAmerica and it's a really big bad thing...</td>\n",
       "      <td>NaN</td>\n",
       "      <td>2015-02-24 11:14:45 -0800</td>\n",
       "      <td>NaN</td>\n",
       "      <td>Pacific Time (US &amp; Canada)</td>\n",
       "    </tr>\n",
       "  </tbody>\n",
       "</table>\n",
       "</div>"
      ],
      "text/plain": [
       "             tweet_id airline_sentiment  airline_sentiment_confidence  \\\n",
       "0  570306133677760513           neutral                        1.0000   \n",
       "1  570301130888122368          positive                        0.3486   \n",
       "2  570301083672813571           neutral                        0.6837   \n",
       "3  570301031407624196          negative                        1.0000   \n",
       "4  570300817074462722          negative                        1.0000   \n",
       "\n",
       "  negativereason  negativereason_confidence         airline  \\\n",
       "0            NaN                        NaN  Virgin America   \n",
       "1            NaN                     0.0000  Virgin America   \n",
       "2            NaN                        NaN  Virgin America   \n",
       "3     Bad Flight                     0.7033  Virgin America   \n",
       "4     Can't Tell                     1.0000  Virgin America   \n",
       "\n",
       "  airline_sentiment_gold        name negativereason_gold  retweet_count  \\\n",
       "0                    NaN     cairdin                 NaN              0   \n",
       "1                    NaN    jnardino                 NaN              0   \n",
       "2                    NaN  yvonnalynn                 NaN              0   \n",
       "3                    NaN    jnardino                 NaN              0   \n",
       "4                    NaN    jnardino                 NaN              0   \n",
       "\n",
       "                                                text tweet_coord  \\\n",
       "0                @VirginAmerica What @dhepburn said.         NaN   \n",
       "1  @VirginAmerica plus you've added commercials t...         NaN   \n",
       "2  @VirginAmerica I didn't today... Must mean I n...         NaN   \n",
       "3  @VirginAmerica it's really aggressive to blast...         NaN   \n",
       "4  @VirginAmerica and it's a really big bad thing...         NaN   \n",
       "\n",
       "               tweet_created tweet_location               user_timezone  \n",
       "0  2015-02-24 11:35:52 -0800            NaN  Eastern Time (US & Canada)  \n",
       "1  2015-02-24 11:15:59 -0800            NaN  Pacific Time (US & Canada)  \n",
       "2  2015-02-24 11:15:48 -0800      Lets Play  Central Time (US & Canada)  \n",
       "3  2015-02-24 11:15:36 -0800            NaN  Pacific Time (US & Canada)  \n",
       "4  2015-02-24 11:14:45 -0800            NaN  Pacific Time (US & Canada)  "
      ]
     },
     "execution_count": 97,
     "metadata": {},
     "output_type": "execute_result"
    }
   ],
   "source": [
    "data.head()"
   ]
  },
  {
   "cell_type": "code",
   "execution_count": 98,
   "metadata": {},
   "outputs": [
    {
     "name": "stdout",
     "output_type": "stream",
     "text": [
      "<class 'pandas.core.frame.DataFrame'>\n",
      "RangeIndex: 14640 entries, 0 to 14639\n",
      "Data columns (total 15 columns):\n",
      " #   Column                        Non-Null Count  Dtype  \n",
      "---  ------                        --------------  -----  \n",
      " 0   tweet_id                      14640 non-null  int64  \n",
      " 1   airline_sentiment             14640 non-null  object \n",
      " 2   airline_sentiment_confidence  14640 non-null  float64\n",
      " 3   negativereason                9178 non-null   object \n",
      " 4   negativereason_confidence     10522 non-null  float64\n",
      " 5   airline                       14640 non-null  object \n",
      " 6   airline_sentiment_gold        40 non-null     object \n",
      " 7   name                          14640 non-null  object \n",
      " 8   negativereason_gold           32 non-null     object \n",
      " 9   retweet_count                 14640 non-null  int64  \n",
      " 10  text                          14640 non-null  object \n",
      " 11  tweet_coord                   1019 non-null   object \n",
      " 12  tweet_created                 14640 non-null  object \n",
      " 13  tweet_location                9907 non-null   object \n",
      " 14  user_timezone                 9820 non-null   object \n",
      "dtypes: float64(2), int64(2), object(11)\n",
      "memory usage: 1.7+ MB\n"
     ]
    }
   ],
   "source": [
    "# let's have a look in the number of features missing in our data set\n",
    "data.info()"
   ]
  },
  {
   "cell_type": "markdown",
   "metadata": {},
   "source": [
    "As we can see, for features airline_sentiment_gold and negativereason_gold I have onyl a handful of values, let's what they represent\n"
   ]
  },
  {
   "cell_type": "code",
   "execution_count": 99,
   "metadata": {},
   "outputs": [
    {
     "data": {
      "text/html": [
       "<div>\n",
       "<style scoped>\n",
       "    .dataframe tbody tr th:only-of-type {\n",
       "        vertical-align: middle;\n",
       "    }\n",
       "\n",
       "    .dataframe tbody tr th {\n",
       "        vertical-align: top;\n",
       "    }\n",
       "\n",
       "    .dataframe thead th {\n",
       "        text-align: right;\n",
       "    }\n",
       "</style>\n",
       "<table border=\"1\" class=\"dataframe\">\n",
       "  <thead>\n",
       "    <tr style=\"text-align: right;\">\n",
       "      <th></th>\n",
       "      <th>tweet_id</th>\n",
       "      <th>airline_sentiment</th>\n",
       "      <th>airline_sentiment_confidence</th>\n",
       "      <th>negativereason</th>\n",
       "      <th>negativereason_confidence</th>\n",
       "      <th>airline</th>\n",
       "      <th>airline_sentiment_gold</th>\n",
       "      <th>name</th>\n",
       "      <th>negativereason_gold</th>\n",
       "      <th>retweet_count</th>\n",
       "      <th>text</th>\n",
       "      <th>tweet_coord</th>\n",
       "      <th>tweet_created</th>\n",
       "      <th>tweet_location</th>\n",
       "      <th>user_timezone</th>\n",
       "    </tr>\n",
       "  </thead>\n",
       "  <tbody>\n",
       "    <tr>\n",
       "      <th>1286</th>\n",
       "      <td>569851578276048896</td>\n",
       "      <td>negative</td>\n",
       "      <td>1.0000</td>\n",
       "      <td>Late Flight</td>\n",
       "      <td>0.7684</td>\n",
       "      <td>United</td>\n",
       "      <td>negative</td>\n",
       "      <td>MrEschatologist</td>\n",
       "      <td>Late Flight\\nFlight Attendant Complaints</td>\n",
       "      <td>0</td>\n",
       "      <td>@united I'm aware of the flight details, thank...</td>\n",
       "      <td>NaN</td>\n",
       "      <td>2015-02-23 05:29:38 -0800</td>\n",
       "      <td>Arlington, VA</td>\n",
       "      <td>NaN</td>\n",
       "    </tr>\n",
       "    <tr>\n",
       "      <th>2017</th>\n",
       "      <td>569473998519578624</td>\n",
       "      <td>negative</td>\n",
       "      <td>1.0000</td>\n",
       "      <td>Late Flight</td>\n",
       "      <td>0.6048</td>\n",
       "      <td>United</td>\n",
       "      <td>negative</td>\n",
       "      <td>traceyabbywhite</td>\n",
       "      <td>Late Flight\\nLost Luggage</td>\n",
       "      <td>0</td>\n",
       "      <td>@united flighted delayed for hours. 10pm arriv...</td>\n",
       "      <td>NaN</td>\n",
       "      <td>2015-02-22 04:29:16 -0800</td>\n",
       "      <td>Atlantic Highlands, NJ</td>\n",
       "      <td>Eastern Time (US &amp; Canada)</td>\n",
       "    </tr>\n",
       "    <tr>\n",
       "      <th>2135</th>\n",
       "      <td>569343661063823360</td>\n",
       "      <td>neutral</td>\n",
       "      <td>1.0000</td>\n",
       "      <td>NaN</td>\n",
       "      <td>NaN</td>\n",
       "      <td>United</td>\n",
       "      <td>neutral</td>\n",
       "      <td>aushianya</td>\n",
       "      <td>NaN</td>\n",
       "      <td>0</td>\n",
       "      <td>@united I have a question</td>\n",
       "      <td>NaN</td>\n",
       "      <td>2015-02-21 19:51:21 -0800</td>\n",
       "      <td>NaN</td>\n",
       "      <td>NaN</td>\n",
       "    </tr>\n",
       "    <tr>\n",
       "      <th>2201</th>\n",
       "      <td>569318505755103232</td>\n",
       "      <td>negative</td>\n",
       "      <td>1.0000</td>\n",
       "      <td>Late Flight</td>\n",
       "      <td>0.6478</td>\n",
       "      <td>United</td>\n",
       "      <td>negative</td>\n",
       "      <td>tarlonious</td>\n",
       "      <td>Late Flight</td>\n",
       "      <td>1</td>\n",
       "      <td>@united it's been over 3 hours...at what point...</td>\n",
       "      <td>NaN</td>\n",
       "      <td>2015-02-21 18:11:23 -0800</td>\n",
       "      <td>NaN</td>\n",
       "      <td>NaN</td>\n",
       "    </tr>\n",
       "    <tr>\n",
       "      <th>2383</th>\n",
       "      <td>569235954789015552</td>\n",
       "      <td>negative</td>\n",
       "      <td>0.9286</td>\n",
       "      <td>Customer Service Issue</td>\n",
       "      <td>0.9286</td>\n",
       "      <td>United</td>\n",
       "      <td>negative</td>\n",
       "      <td>screamingbrat</td>\n",
       "      <td>Customer Service Issue</td>\n",
       "      <td>0</td>\n",
       "      <td>@united You shouldn't page o'head that it's be...</td>\n",
       "      <td>NaN</td>\n",
       "      <td>2015-02-21 12:43:22 -0800</td>\n",
       "      <td>new york, baby</td>\n",
       "      <td>Eastern Time (US &amp; Canada)</td>\n",
       "    </tr>\n",
       "  </tbody>\n",
       "</table>\n",
       "</div>"
      ],
      "text/plain": [
       "                tweet_id airline_sentiment  airline_sentiment_confidence  \\\n",
       "1286  569851578276048896          negative                        1.0000   \n",
       "2017  569473998519578624          negative                        1.0000   \n",
       "2135  569343661063823360           neutral                        1.0000   \n",
       "2201  569318505755103232          negative                        1.0000   \n",
       "2383  569235954789015552          negative                        0.9286   \n",
       "\n",
       "              negativereason  negativereason_confidence airline  \\\n",
       "1286             Late Flight                     0.7684  United   \n",
       "2017             Late Flight                     0.6048  United   \n",
       "2135                     NaN                        NaN  United   \n",
       "2201             Late Flight                     0.6478  United   \n",
       "2383  Customer Service Issue                     0.9286  United   \n",
       "\n",
       "     airline_sentiment_gold             name  \\\n",
       "1286               negative  MrEschatologist   \n",
       "2017               negative  traceyabbywhite   \n",
       "2135                neutral        aushianya   \n",
       "2201               negative       tarlonious   \n",
       "2383               negative    screamingbrat   \n",
       "\n",
       "                           negativereason_gold  retweet_count  \\\n",
       "1286  Late Flight\\nFlight Attendant Complaints              0   \n",
       "2017                 Late Flight\\nLost Luggage              0   \n",
       "2135                                       NaN              0   \n",
       "2201                               Late Flight              1   \n",
       "2383                    Customer Service Issue              0   \n",
       "\n",
       "                                                   text tweet_coord  \\\n",
       "1286  @united I'm aware of the flight details, thank...         NaN   \n",
       "2017  @united flighted delayed for hours. 10pm arriv...         NaN   \n",
       "2135                          @united I have a question         NaN   \n",
       "2201  @united it's been over 3 hours...at what point...         NaN   \n",
       "2383  @united You shouldn't page o'head that it's be...         NaN   \n",
       "\n",
       "                  tweet_created          tweet_location  \\\n",
       "1286  2015-02-23 05:29:38 -0800           Arlington, VA   \n",
       "2017  2015-02-22 04:29:16 -0800  Atlantic Highlands, NJ   \n",
       "2135  2015-02-21 19:51:21 -0800                     NaN   \n",
       "2201  2015-02-21 18:11:23 -0800                     NaN   \n",
       "2383  2015-02-21 12:43:22 -0800          new york, baby   \n",
       "\n",
       "                   user_timezone  \n",
       "1286                         NaN  \n",
       "2017  Eastern Time (US & Canada)  \n",
       "2135                         NaN  \n",
       "2201                         NaN  \n",
       "2383  Eastern Time (US & Canada)  "
      ]
     },
     "execution_count": 99,
     "metadata": {},
     "output_type": "execute_result"
    }
   ],
   "source": [
    "data[data.airline_sentiment_gold.notnull()].head()\n"
   ]
  },
  {
   "cell_type": "code",
   "execution_count": 100,
   "metadata": {},
   "outputs": [
    {
     "data": {
      "text/html": [
       "<div>\n",
       "<style scoped>\n",
       "    .dataframe tbody tr th:only-of-type {\n",
       "        vertical-align: middle;\n",
       "    }\n",
       "\n",
       "    .dataframe tbody tr th {\n",
       "        vertical-align: top;\n",
       "    }\n",
       "\n",
       "    .dataframe thead th {\n",
       "        text-align: right;\n",
       "    }\n",
       "</style>\n",
       "<table border=\"1\" class=\"dataframe\">\n",
       "  <thead>\n",
       "    <tr style=\"text-align: right;\">\n",
       "      <th></th>\n",
       "      <th>tweet_id</th>\n",
       "      <th>airline_sentiment</th>\n",
       "      <th>airline_sentiment_confidence</th>\n",
       "      <th>negativereason</th>\n",
       "      <th>negativereason_confidence</th>\n",
       "      <th>airline</th>\n",
       "      <th>airline_sentiment_gold</th>\n",
       "      <th>name</th>\n",
       "      <th>negativereason_gold</th>\n",
       "      <th>retweet_count</th>\n",
       "      <th>text</th>\n",
       "      <th>tweet_coord</th>\n",
       "      <th>tweet_created</th>\n",
       "      <th>tweet_location</th>\n",
       "      <th>user_timezone</th>\n",
       "    </tr>\n",
       "  </thead>\n",
       "  <tbody>\n",
       "    <tr>\n",
       "      <th>1286</th>\n",
       "      <td>569851578276048896</td>\n",
       "      <td>negative</td>\n",
       "      <td>1.0000</td>\n",
       "      <td>Late Flight</td>\n",
       "      <td>0.7684</td>\n",
       "      <td>United</td>\n",
       "      <td>negative</td>\n",
       "      <td>MrEschatologist</td>\n",
       "      <td>Late Flight\\nFlight Attendant Complaints</td>\n",
       "      <td>0</td>\n",
       "      <td>@united I'm aware of the flight details, thank...</td>\n",
       "      <td>NaN</td>\n",
       "      <td>2015-02-23 05:29:38 -0800</td>\n",
       "      <td>Arlington, VA</td>\n",
       "      <td>NaN</td>\n",
       "    </tr>\n",
       "    <tr>\n",
       "      <th>2017</th>\n",
       "      <td>569473998519578624</td>\n",
       "      <td>negative</td>\n",
       "      <td>1.0000</td>\n",
       "      <td>Late Flight</td>\n",
       "      <td>0.6048</td>\n",
       "      <td>United</td>\n",
       "      <td>negative</td>\n",
       "      <td>traceyabbywhite</td>\n",
       "      <td>Late Flight\\nLost Luggage</td>\n",
       "      <td>0</td>\n",
       "      <td>@united flighted delayed for hours. 10pm arriv...</td>\n",
       "      <td>NaN</td>\n",
       "      <td>2015-02-22 04:29:16 -0800</td>\n",
       "      <td>Atlantic Highlands, NJ</td>\n",
       "      <td>Eastern Time (US &amp; Canada)</td>\n",
       "    </tr>\n",
       "    <tr>\n",
       "      <th>2201</th>\n",
       "      <td>569318505755103232</td>\n",
       "      <td>negative</td>\n",
       "      <td>1.0000</td>\n",
       "      <td>Late Flight</td>\n",
       "      <td>0.6478</td>\n",
       "      <td>United</td>\n",
       "      <td>negative</td>\n",
       "      <td>tarlonious</td>\n",
       "      <td>Late Flight</td>\n",
       "      <td>1</td>\n",
       "      <td>@united it's been over 3 hours...at what point...</td>\n",
       "      <td>NaN</td>\n",
       "      <td>2015-02-21 18:11:23 -0800</td>\n",
       "      <td>NaN</td>\n",
       "      <td>NaN</td>\n",
       "    </tr>\n",
       "    <tr>\n",
       "      <th>2383</th>\n",
       "      <td>569235954789015552</td>\n",
       "      <td>negative</td>\n",
       "      <td>0.9286</td>\n",
       "      <td>Customer Service Issue</td>\n",
       "      <td>0.9286</td>\n",
       "      <td>United</td>\n",
       "      <td>negative</td>\n",
       "      <td>screamingbrat</td>\n",
       "      <td>Customer Service Issue</td>\n",
       "      <td>0</td>\n",
       "      <td>@united You shouldn't page o'head that it's be...</td>\n",
       "      <td>NaN</td>\n",
       "      <td>2015-02-21 12:43:22 -0800</td>\n",
       "      <td>new york, baby</td>\n",
       "      <td>Eastern Time (US &amp; Canada)</td>\n",
       "    </tr>\n",
       "    <tr>\n",
       "      <th>3005</th>\n",
       "      <td>568802013196242944</td>\n",
       "      <td>negative</td>\n",
       "      <td>1.0000</td>\n",
       "      <td>Can't Tell</td>\n",
       "      <td>0.6870</td>\n",
       "      <td>United</td>\n",
       "      <td>negative</td>\n",
       "      <td>katieclaytonn</td>\n",
       "      <td>Can't Tell</td>\n",
       "      <td>0</td>\n",
       "      <td>@united couldn't have possibly messed up our t...</td>\n",
       "      <td>NaN</td>\n",
       "      <td>2015-02-20 07:59:02 -0800</td>\n",
       "      <td>NaN</td>\n",
       "      <td>Central Time (US &amp; Canada)</td>\n",
       "    </tr>\n",
       "  </tbody>\n",
       "</table>\n",
       "</div>"
      ],
      "text/plain": [
       "                tweet_id airline_sentiment  airline_sentiment_confidence  \\\n",
       "1286  569851578276048896          negative                        1.0000   \n",
       "2017  569473998519578624          negative                        1.0000   \n",
       "2201  569318505755103232          negative                        1.0000   \n",
       "2383  569235954789015552          negative                        0.9286   \n",
       "3005  568802013196242944          negative                        1.0000   \n",
       "\n",
       "              negativereason  negativereason_confidence airline  \\\n",
       "1286             Late Flight                     0.7684  United   \n",
       "2017             Late Flight                     0.6048  United   \n",
       "2201             Late Flight                     0.6478  United   \n",
       "2383  Customer Service Issue                     0.9286  United   \n",
       "3005              Can't Tell                     0.6870  United   \n",
       "\n",
       "     airline_sentiment_gold             name  \\\n",
       "1286               negative  MrEschatologist   \n",
       "2017               negative  traceyabbywhite   \n",
       "2201               negative       tarlonious   \n",
       "2383               negative    screamingbrat   \n",
       "3005               negative    katieclaytonn   \n",
       "\n",
       "                           negativereason_gold  retweet_count  \\\n",
       "1286  Late Flight\\nFlight Attendant Complaints              0   \n",
       "2017                 Late Flight\\nLost Luggage              0   \n",
       "2201                               Late Flight              1   \n",
       "2383                    Customer Service Issue              0   \n",
       "3005                                Can't Tell              0   \n",
       "\n",
       "                                                   text tweet_coord  \\\n",
       "1286  @united I'm aware of the flight details, thank...         NaN   \n",
       "2017  @united flighted delayed for hours. 10pm arriv...         NaN   \n",
       "2201  @united it's been over 3 hours...at what point...         NaN   \n",
       "2383  @united You shouldn't page o'head that it's be...         NaN   \n",
       "3005  @united couldn't have possibly messed up our t...         NaN   \n",
       "\n",
       "                  tweet_created          tweet_location  \\\n",
       "1286  2015-02-23 05:29:38 -0800           Arlington, VA   \n",
       "2017  2015-02-22 04:29:16 -0800  Atlantic Highlands, NJ   \n",
       "2201  2015-02-21 18:11:23 -0800                     NaN   \n",
       "2383  2015-02-21 12:43:22 -0800          new york, baby   \n",
       "3005  2015-02-20 07:59:02 -0800                     NaN   \n",
       "\n",
       "                   user_timezone  \n",
       "1286                         NaN  \n",
       "2017  Eastern Time (US & Canada)  \n",
       "2201                         NaN  \n",
       "2383  Eastern Time (US & Canada)  \n",
       "3005  Central Time (US & Canada)  "
      ]
     },
     "execution_count": 100,
     "metadata": {},
     "output_type": "execute_result"
    }
   ],
   "source": [
    "data[data.negativereason_gold.notnull()].head()"
   ]
  },
  {
   "cell_type": "markdown",
   "metadata": {},
   "source": [
    "By inspection, we see that these values are the same for other columns as airline_sentiment and negativereason, \n",
    "then we will drop them without information loss. Also, tweet_coord represents the coordinate of the tweet, \n",
    "as we have a lot of null values and with the features tweet_location, we will drop it as well.\n",
    "\n",
    "Also I find 194 enteries where I have the tweet cord but tweet location is null. If I didnt had a lot of data to work on I could have used this info to populate the location field before dropping tweet_coord column\n",
    "\n"
   ]
  },
  {
   "cell_type": "code",
   "execution_count": 101,
   "metadata": {},
   "outputs": [
    {
     "name": "stdout",
     "output_type": "stream",
     "text": [
      "<class 'pandas.core.frame.DataFrame'>\n",
      "Int64Index: 194 entries, 21 to 14624\n",
      "Data columns (total 15 columns):\n",
      " #   Column                        Non-Null Count  Dtype  \n",
      "---  ------                        --------------  -----  \n",
      " 0   tweet_id                      194 non-null    int64  \n",
      " 1   airline_sentiment             194 non-null    object \n",
      " 2   airline_sentiment_confidence  194 non-null    float64\n",
      " 3   negativereason                136 non-null    object \n",
      " 4   negativereason_confidence     148 non-null    float64\n",
      " 5   airline                       194 non-null    object \n",
      " 6   airline_sentiment_gold        1 non-null      object \n",
      " 7   name                          194 non-null    object \n",
      " 8   negativereason_gold           1 non-null      object \n",
      " 9   retweet_count                 194 non-null    int64  \n",
      " 10  text                          194 non-null    object \n",
      " 11  tweet_coord                   194 non-null    object \n",
      " 12  tweet_created                 194 non-null    object \n",
      " 13  tweet_location                0 non-null      object \n",
      " 14  user_timezone                 111 non-null    object \n",
      "dtypes: float64(2), int64(2), object(11)\n",
      "memory usage: 24.2+ KB\n"
     ]
    }
   ],
   "source": [
    "\n",
    "data[data.tweet_coord.notnull() & data.tweet_location.isnull()].info()\n"
   ]
  },
  {
   "cell_type": "code",
   "execution_count": 102,
   "metadata": {},
   "outputs": [
    {
     "data": {
      "text/plain": [
       "(14640, 12)"
      ]
     },
     "execution_count": 102,
     "metadata": {},
     "output_type": "execute_result"
    }
   ],
   "source": [
    "data = data.drop(['airline_sentiment_gold', 'negativereason_gold', 'tweet_coord'], axis = 1)\n",
    "data.shape"
   ]
  },
  {
   "cell_type": "markdown",
   "metadata": {},
   "source": [
    "Now, we also have null values for the following features: negativereason, negativereason_confidence, tweet_location, user_timezone. Let's dig deeper into it."
   ]
  },
  {
   "cell_type": "code",
   "execution_count": 103,
   "metadata": {},
   "outputs": [
    {
     "data": {
      "text/html": [
       "<div>\n",
       "<style scoped>\n",
       "    .dataframe tbody tr th:only-of-type {\n",
       "        vertical-align: middle;\n",
       "    }\n",
       "\n",
       "    .dataframe tbody tr th {\n",
       "        vertical-align: top;\n",
       "    }\n",
       "\n",
       "    .dataframe thead th {\n",
       "        text-align: right;\n",
       "    }\n",
       "</style>\n",
       "<table border=\"1\" class=\"dataframe\">\n",
       "  <thead>\n",
       "    <tr style=\"text-align: right;\">\n",
       "      <th></th>\n",
       "      <th>tweet_id</th>\n",
       "      <th>airline_sentiment</th>\n",
       "      <th>airline_sentiment_confidence</th>\n",
       "      <th>negativereason</th>\n",
       "      <th>negativereason_confidence</th>\n",
       "      <th>airline</th>\n",
       "      <th>name</th>\n",
       "      <th>retweet_count</th>\n",
       "      <th>text</th>\n",
       "      <th>tweet_created</th>\n",
       "      <th>tweet_location</th>\n",
       "      <th>user_timezone</th>\n",
       "    </tr>\n",
       "  </thead>\n",
       "  <tbody>\n",
       "    <tr>\n",
       "      <th>0</th>\n",
       "      <td>570306133677760513</td>\n",
       "      <td>neutral</td>\n",
       "      <td>1.0000</td>\n",
       "      <td>NaN</td>\n",
       "      <td>NaN</td>\n",
       "      <td>Virgin America</td>\n",
       "      <td>cairdin</td>\n",
       "      <td>0</td>\n",
       "      <td>@VirginAmerica What @dhepburn said.</td>\n",
       "      <td>2015-02-24 11:35:52 -0800</td>\n",
       "      <td>NaN</td>\n",
       "      <td>Eastern Time (US &amp; Canada)</td>\n",
       "    </tr>\n",
       "    <tr>\n",
       "      <th>1</th>\n",
       "      <td>570301130888122368</td>\n",
       "      <td>positive</td>\n",
       "      <td>0.3486</td>\n",
       "      <td>NaN</td>\n",
       "      <td>0.0</td>\n",
       "      <td>Virgin America</td>\n",
       "      <td>jnardino</td>\n",
       "      <td>0</td>\n",
       "      <td>@VirginAmerica plus you've added commercials t...</td>\n",
       "      <td>2015-02-24 11:15:59 -0800</td>\n",
       "      <td>NaN</td>\n",
       "      <td>Pacific Time (US &amp; Canada)</td>\n",
       "    </tr>\n",
       "    <tr>\n",
       "      <th>2</th>\n",
       "      <td>570301083672813571</td>\n",
       "      <td>neutral</td>\n",
       "      <td>0.6837</td>\n",
       "      <td>NaN</td>\n",
       "      <td>NaN</td>\n",
       "      <td>Virgin America</td>\n",
       "      <td>yvonnalynn</td>\n",
       "      <td>0</td>\n",
       "      <td>@VirginAmerica I didn't today... Must mean I n...</td>\n",
       "      <td>2015-02-24 11:15:48 -0800</td>\n",
       "      <td>Lets Play</td>\n",
       "      <td>Central Time (US &amp; Canada)</td>\n",
       "    </tr>\n",
       "    <tr>\n",
       "      <th>6</th>\n",
       "      <td>570300616901320704</td>\n",
       "      <td>positive</td>\n",
       "      <td>0.6745</td>\n",
       "      <td>NaN</td>\n",
       "      <td>0.0</td>\n",
       "      <td>Virgin America</td>\n",
       "      <td>cjmcginnis</td>\n",
       "      <td>0</td>\n",
       "      <td>@VirginAmerica yes, nearly every time I fly VX...</td>\n",
       "      <td>2015-02-24 11:13:57 -0800</td>\n",
       "      <td>San Francisco CA</td>\n",
       "      <td>Pacific Time (US &amp; Canada)</td>\n",
       "    </tr>\n",
       "    <tr>\n",
       "      <th>7</th>\n",
       "      <td>570300248553349120</td>\n",
       "      <td>neutral</td>\n",
       "      <td>0.6340</td>\n",
       "      <td>NaN</td>\n",
       "      <td>NaN</td>\n",
       "      <td>Virgin America</td>\n",
       "      <td>pilot</td>\n",
       "      <td>0</td>\n",
       "      <td>@VirginAmerica Really missed a prime opportuni...</td>\n",
       "      <td>2015-02-24 11:12:29 -0800</td>\n",
       "      <td>Los Angeles</td>\n",
       "      <td>Pacific Time (US &amp; Canada)</td>\n",
       "    </tr>\n",
       "  </tbody>\n",
       "</table>\n",
       "</div>"
      ],
      "text/plain": [
       "             tweet_id airline_sentiment  airline_sentiment_confidence  \\\n",
       "0  570306133677760513           neutral                        1.0000   \n",
       "1  570301130888122368          positive                        0.3486   \n",
       "2  570301083672813571           neutral                        0.6837   \n",
       "6  570300616901320704          positive                        0.6745   \n",
       "7  570300248553349120           neutral                        0.6340   \n",
       "\n",
       "  negativereason  negativereason_confidence         airline        name  \\\n",
       "0            NaN                        NaN  Virgin America     cairdin   \n",
       "1            NaN                        0.0  Virgin America    jnardino   \n",
       "2            NaN                        NaN  Virgin America  yvonnalynn   \n",
       "6            NaN                        0.0  Virgin America  cjmcginnis   \n",
       "7            NaN                        NaN  Virgin America       pilot   \n",
       "\n",
       "   retweet_count                                               text  \\\n",
       "0              0                @VirginAmerica What @dhepburn said.   \n",
       "1              0  @VirginAmerica plus you've added commercials t...   \n",
       "2              0  @VirginAmerica I didn't today... Must mean I n...   \n",
       "6              0  @VirginAmerica yes, nearly every time I fly VX...   \n",
       "7              0  @VirginAmerica Really missed a prime opportuni...   \n",
       "\n",
       "               tweet_created    tweet_location               user_timezone  \n",
       "0  2015-02-24 11:35:52 -0800               NaN  Eastern Time (US & Canada)  \n",
       "1  2015-02-24 11:15:59 -0800               NaN  Pacific Time (US & Canada)  \n",
       "2  2015-02-24 11:15:48 -0800         Lets Play  Central Time (US & Canada)  \n",
       "6  2015-02-24 11:13:57 -0800  San Francisco CA  Pacific Time (US & Canada)  \n",
       "7  2015-02-24 11:12:29 -0800       Los Angeles  Pacific Time (US & Canada)  "
      ]
     },
     "execution_count": 103,
     "metadata": {},
     "output_type": "execute_result"
    }
   ],
   "source": [
    "data[data.negativereason.isnull()].head()"
   ]
  },
  {
   "cell_type": "markdown",
   "metadata": {},
   "source": [
    "It seems negativereason is null whenever we have airline sentiment as neutral or positive. Lets confirm that with below "
   ]
  },
  {
   "cell_type": "code",
   "execution_count": 104,
   "metadata": {},
   "outputs": [
    {
     "data": {
      "text/plain": [
       "5462"
      ]
     },
     "execution_count": 104,
     "metadata": {},
     "output_type": "execute_result"
    }
   ],
   "source": [
    "data[data.negativereason.isnull()].airline_sentiment.count() "
   ]
  },
  {
   "cell_type": "code",
   "execution_count": 105,
   "metadata": {},
   "outputs": [
    {
     "data": {
      "text/plain": [
       "5462"
      ]
     },
     "execution_count": 105,
     "metadata": {},
     "output_type": "execute_result"
    }
   ],
   "source": [
    "data[data.negativereason.isnull() & data.airline_sentiment.isin(['neutral','positive'])].airline_sentiment.count()"
   ]
  },
  {
   "cell_type": "markdown",
   "metadata": {},
   "source": [
    "Similarly negativereason_confidence column, then it will be just the 0 for all these cases."
   ]
  },
  {
   "cell_type": "markdown",
   "metadata": {},
   "source": [
    "One important point that I note here is features like negativereason, I may be using it for some vizualization purposes, but this may not be a feature for my sentiment analysis model creation. The reason why think so is because my model would be made to analyze real time tweets, and the same wont have this feature in real enviroment. What we will have is the tweet text and its features like locationa and timezone."
   ]
  },
  {
   "cell_type": "markdown",
   "metadata": {},
   "source": [
    "Now lets do some vizualizations:"
   ]
  },
  {
   "cell_type": "code",
   "execution_count": 106,
   "metadata": {},
   "outputs": [
    {
     "data": {
      "text/plain": [
       "Text(0.5, 1.0, 'Sentiment Distribution per Airline Company')"
      ]
     },
     "execution_count": 106,
     "metadata": {},
     "output_type": "execute_result"
    },
    {
     "data": {
      "image/png": "[encoded data removed]",
      "text/plain": [
       "<Figure size 1080x720 with 1 Axes>"
      ]
     },
     "metadata": {
      "needs_background": "light"
     },
     "output_type": "display_data"
    }
   ],
   "source": [
    "import matplotlib.pyplot as plt\n",
    "import seaborn as sns\n",
    "\n",
    "f, ax = plt.subplots(figsize=(15, 10))\n",
    "\n",
    "ax = sns.countplot(x=\"airline\", hue=\"airline_sentiment\", data=data)\n",
    "ax.set_xlabel('Airline')\n",
    "ax.set_ylabel('# of tweets')\n",
    "ax.set_title('Sentiment Distribution per Airline Company')"
   ]
  },
  {
   "cell_type": "markdown",
   "metadata": {},
   "source": [
    "#### Exploratory data analysis 1: \n",
    "\n",
    "Frome above We clearly can see \"United\" seems to have worst negative feedbacks and \"Virgin America\" is best at same. \n",
    "\n",
    "In other words seems proportion of Positive/Negative/Neutral feedbacks varies with Airlines company. But is that true.Lets do a statistical test to find the same."
   ]
  },
  {
   "cell_type": "markdown",
   "metadata": {},
   "source": [
    "#### Below would be my NULL Hypothesis which I would try to prove wrong:\n",
    "\n",
    "###### NULL Hypothesis 1: \n",
    "Proportion of Positive/Negative/Neutral feedbacks doesn't varies with Airlines company"
   ]
  },
  {
   "cell_type": "code",
   "execution_count": 107,
   "metadata": {},
   "outputs": [
    {
     "name": "stdout",
     "output_type": "stream",
     "text": [
      "Observed Values :-\n",
      " airline_sentiment  negative  neutral  positive\n",
      "airline                                       \n",
      "American               1960      463       336\n",
      "Delta                   955      723       544\n",
      "Southwest              1186      664       570\n",
      "US Airways             2263      381       269\n",
      "United                 2633      697       492\n",
      "Virgin America          181      171       152\n"
     ]
    }
   ],
   "source": [
    "from scipy import stats\n",
    "from statsmodels.stats import weightstats as stests\n",
    "table = pd.crosstab(data.airline,data['airline_sentiment'])\n",
    "#Observed Values\n",
    "Observed_Values = table.values\n",
    "print(\"Observed Values :-\\n\",table)"
   ]
  },
  {
   "cell_type": "code",
   "execution_count": 108,
   "metadata": {},
   "outputs": [
    {
     "name": "stdout",
     "output_type": "stream",
     "text": [
      "Expected Values :-\n",
      " [[1729.65177596  584.02602459  445.32219945]\n",
      " [1392.99972678  470.35368852  358.6465847 ]\n",
      " [1517.1284153   512.26639344  390.60519126]\n",
      " [1826.19631148  616.62479508  470.17889344]\n",
      " [2396.05983607  809.04221311  616.89795082]\n",
      " [ 315.96393443  106.68688525   81.34918033]]\n",
      "Degree of Freedom:- 10\n"
     ]
    }
   ],
   "source": [
    "# Since we are comparing 2 categorical values. I will go for CHI SQUARED Test\n",
    "\n",
    "chi_square_statistic, p, ddof, Expected_Values =stats.chi2_contingency(table)\n",
    "#Expected_Values = b[3]\n",
    "print(\"Expected Values :-\\n\",Expected_Values)\n",
    "print(\"Degree of Freedom:-\",ddof)"
   ]
  },
  {
   "cell_type": "code",
   "execution_count": 109,
   "metadata": {},
   "outputs": [
    {
     "name": "stdout",
     "output_type": "stream",
     "text": [
      "critical_value: 18.307038053275146\n",
      "p-value: 1.1843123973768729e-241\n",
      "Significance level:  0.05\n",
      "Degree of Freedom:  10\n",
      "critical_value: 18.307038053275146\n"
     ]
    }
   ],
   "source": [
    "alpha = 0.05\n",
    "critical_value=stats.chi2.ppf(q=1-alpha,df=ddof)\n",
    "print('critical_value:',critical_value)\n",
    "#p-value\n",
    "print('p-value:',p)\n",
    "print('Significance level: ',alpha)\n",
    "print('Degree of Freedom: ',ddof)\n",
    "print('critical_value:',critical_value)"
   ]
  },
  {
   "cell_type": "code",
   "execution_count": 110,
   "metadata": {},
   "outputs": [
    {
     "name": "stdout",
     "output_type": "stream",
     "text": [
      "Reject H0,There is a relationship between Airlines Company and prportion of feedbacks\n",
      "Reject H0,There is a relationship between Airlines Company and prportion of feedbacks\n"
     ]
    }
   ],
   "source": [
    "if chi_square_statistic>=critical_value:\n",
    "    print(\"Reject H0,There is a relationship between Airlines Company and prportion of feedbacks\")\n",
    "else:\n",
    "    print(\"Retain H0,There is no relationship between Airlines Company and prportion of feedbacks\")\n",
    "    \n",
    "if p<=alpha:\n",
    "     print(\"Reject H0,There is a relationship between Airlines Company and prportion of feedbacks\")\n",
    "else:\n",
    "    print(\"Retain H0,There is no relationship between Airlines Company and prportion of feedbacks\")"
   ]
  },
  {
   "cell_type": "code",
   "execution_count": 111,
   "metadata": {},
   "outputs": [
    {
     "data": {
      "text/plain": [
       "negative    0.626913\n",
       "neutral     0.211680\n",
       "positive    0.161407\n",
       "Name: airline_sentiment, dtype: float64"
      ]
     },
     "execution_count": 111,
     "metadata": {},
     "output_type": "execute_result"
    }
   ],
   "source": [
    "data.airline_sentiment.value_counts(normalize=True)"
   ]
  },
  {
   "cell_type": "code",
   "execution_count": 112,
   "metadata": {},
   "outputs": [
    {
     "data": {
      "text/plain": [
       "Text(0, 0.5, '# of tweets')"
      ]
     },
     "execution_count": 112,
     "metadata": {},
     "output_type": "execute_result"
    },
    {
     "data": {
      "image/png": "[encoded data removed]",
      "text/plain": [
       "<Figure size 1080x720 with 1 Axes>"
      ]
     },
     "metadata": {
      "needs_background": "light"
     },
     "output_type": "display_data"
    }
   ],
   "source": [
    "f, ax = plt.subplots(figsize=(15, 10))\n",
    "\n",
    "ax = sns.countplot(x=\"airline_sentiment\", data=data)\n",
    "ax.set_xlabel('Airline')\n",
    "ax.set_ylabel('# of tweets')"
   ]
  },
  {
   "cell_type": "markdown",
   "metadata": {},
   "source": [
    "#### Exploratory data analysis 2: \n",
    "Also overall US flights are not so good with customer service considering 60 % of tweets were negative. We can also account one important fact around human behavior of people using social media more often to vent out there anger for a bad service compared to negative or postive service. Lets see if we validate this finding with a Hypothesis testing."
   ]
  },
  {
   "cell_type": "markdown",
   "metadata": {},
   "source": [
    "Now lets analyze the data from time zone prospective"
   ]
  },
  {
   "cell_type": "code",
   "execution_count": 113,
   "metadata": {},
   "outputs": [
    {
     "data": {
      "image/png": "[encoded data removed]",
      "text/plain": [
       "<Figure size 1080x720 with 1 Axes>"
      ]
     },
     "metadata": {
      "needs_background": "light"
     },
     "output_type": "display_data"
    }
   ],
   "source": [
    "f, ax = plt.subplots(figsize=(15, 10))\n",
    "\n",
    "ax = sns.countplot(x=\"user_timezone\", data=data)\n",
    "ax.set_xlabel('Airline')\n",
    "ax.set_ylabel('# of tweets')\n",
    "label=ax.get_xticklabels()\n",
    "ax.set_xticklabels(label,rotation=90);"
   ]
  },
  {
   "cell_type": "markdown",
   "metadata": {},
   "source": [
    "Lets now visualize how tweets sentiments are devided based on top 3 time zones "
   ]
  },
  {
   "cell_type": "code",
   "execution_count": 114,
   "metadata": {},
   "outputs": [
    {
     "data": {
      "image/png": "[encoded data removed]",
      "text/plain": [
       "<Figure size 432x288 with 1 Axes>"
      ]
     },
     "metadata": {
      "needs_background": "light"
     },
     "output_type": "display_data"
    }
   ],
   "source": [
    "tz=data.user_timezone.value_counts().index[0:3]\n",
    "palette_colors = {\"neutral\": \"yellow\", \"positive\": \"green\", \"negative\": \"red\"}\n",
    "ax = sns.countplot(x=\"user_timezone\", hue='airline_sentiment',data=data[data.user_timezone.isin(tz)],palette=palette_colors)\n",
    "ax.set_xlabel('Airline')\n",
    "ax.set_ylabel('# of tweets')\n",
    "label=ax.get_xticklabels()\n",
    "ax.set_xticklabels(label,rotation=90);"
   ]
  },
  {
   "cell_type": "markdown",
   "metadata": {},
   "source": [
    "Lets now visualize how tweets sentiments are devided based on top 7 time zones "
   ]
  },
  {
   "cell_type": "code",
   "execution_count": 115,
   "metadata": {},
   "outputs": [
    {
     "data": {
      "image/png": "[encoded data removed]",
      "text/plain": [
       "<Figure size 432x288 with 1 Axes>"
      ]
     },
     "metadata": {
      "needs_background": "light"
     },
     "output_type": "display_data"
    }
   ],
   "source": [
    "tz=data.user_timezone.value_counts().index[0:7]\n",
    "palette_colors = {\"neutral\": \"yellow\", \"positive\": \"green\", \"negative\": \"red\"}\n",
    "ax = sns.countplot(x=\"user_timezone\", hue='airline_sentiment',data=data[data.user_timezone.isin(tz)],palette=palette_colors)\n",
    "ax.set_xlabel('Airline')\n",
    "ax.set_ylabel('# of tweets')\n",
    "label=ax.get_xticklabels()\n",
    "ax.set_xticklabels(label,rotation=90);"
   ]
  },
  {
   "cell_type": "markdown",
   "metadata": {},
   "source": [
    "### Exploratory data analysis 3: \n",
    "\n",
    "We can clearly notice the timezones do not impact a lot on sentiment distribution. Something which I was not expecting. This would be basis for my next Hypothesis testing.\n",
    "\n",
    "Also to get a better understanding I will stick with US time Zones first and the overall also."
   ]
  },
  {
   "cell_type": "markdown",
   "metadata": {},
   "source": [
    "#### NULL Hypothesis 2:\n",
    "\n",
    "Proportion of my different feedbacks do not change with US time Zones\n"
   ]
  },
  {
   "cell_type": "code",
   "execution_count": 116,
   "metadata": {},
   "outputs": [
    {
     "name": "stderr",
     "output_type": "stream",
     "text": [
      "C:\\Users\\nisaurab\\Anaconda3\\lib\\site-packages\\ipykernel_launcher.py:2: UserWarning: Boolean Series key will be reindexed to match DataFrame index.\n",
      "  \n"
     ]
    },
    {
     "data": {
      "text/plain": [
       "United            2006\n",
       "US Airways        1436\n",
       "Southwest         1395\n",
       "American          1335\n",
       "Delta             1259\n",
       "Virgin America     318\n",
       "Name: airline, dtype: int64"
      ]
     },
     "execution_count": 116,
     "metadata": {},
     "output_type": "execute_result"
    }
   ],
   "source": [
    "Time_zone = data.user_timezone.value_counts().index[0:6].values\n",
    "data_tz = data[data.user_timezone.isin(Time_zone)][data.user_timezone.str.contains('Quito')==0]\n",
    "data_tz.airline.value_counts()\n"
   ]
  },
  {
   "cell_type": "code",
   "execution_count": 117,
   "metadata": {},
   "outputs": [
    {
     "name": "stdout",
     "output_type": "stream",
     "text": [
      "Observed Values :-\n",
      " airline_sentiment            negative  neutral  positive\n",
      "user_timezone                                           \n",
      "Atlantic Time (Canada)            299      120        78\n",
      "Central Time (US & Canada)       1191      383       357\n",
      "Eastern Time (US & Canada)       2313      769       662\n",
      "Mountain Time (US & Canada)       226       76        67\n",
      "Pacific Time (US & Canada)        720      264       224\n"
     ]
    }
   ],
   "source": [
    "\n",
    "table = pd.crosstab(data_tz.user_timezone,data_tz['airline_sentiment'])\n",
    "#Observed Values\n",
    "Observed_Values = table.values\n",
    "print(\"Observed Values :-\\n\",table)"
   ]
  },
  {
   "cell_type": "code",
   "execution_count": 118,
   "metadata": {},
   "outputs": [
    {
     "name": "stdout",
     "output_type": "stream",
     "text": [
      "Expected Values :-\n",
      " [[ 304.58807588  103.38934056   89.02258356]\n",
      " [1183.41966705  401.69983224  345.88050071]\n",
      " [2294.52264808  778.8524971   670.62485482]\n",
      " [ 226.14285714   76.76190476   66.0952381 ]\n",
      " [ 740.32675184  251.29642535  216.37682282]]\n",
      "Degree of Freedom:- 8\n"
     ]
    }
   ],
   "source": [
    "# Since we are comparing 2 categorical values. I will go for CHI SQUARED Test\n",
    "\n",
    "chi_square_statistic, p, ddof, Expected_Values =stats.chi2_contingency(table)\n",
    "#Expected_Values = b[3]\n",
    "print(\"Expected Values :-\\n\",Expected_Values)\n",
    "print(\"Degree of Freedom:-\",ddof)"
   ]
  },
  {
   "cell_type": "code",
   "execution_count": 119,
   "metadata": {},
   "outputs": [],
   "source": [
    "stats.chi2_contingency?"
   ]
  },
  {
   "cell_type": "code",
   "execution_count": 120,
   "metadata": {},
   "outputs": [
    {
     "name": "stdout",
     "output_type": "stream",
     "text": [
      "critical_value: 15.50731305586545\n",
      "p-value: 0.5061345669137645\n",
      "Significance level:  0.05\n",
      "Degree of Freedom:  8\n",
      "critical_value: 15.50731305586545\n"
     ]
    }
   ],
   "source": [
    "alpha = 0.05\n",
    "critical_value=stats.chi2.ppf(q=1-alpha,df=ddof)\n",
    "print('critical_value:',critical_value)\n",
    "#p-value\n",
    "print('p-value:',p)\n",
    "print('Significance level: ',alpha)\n",
    "print('Degree of Freedom: ',ddof)\n",
    "print('critical_value:',critical_value)"
   ]
  },
  {
   "cell_type": "code",
   "execution_count": 121,
   "metadata": {},
   "outputs": [
    {
     "name": "stdout",
     "output_type": "stream",
     "text": [
      "Retain H2,There is no relationship between US TimeZone and prportion of feedbacks\n",
      "Retain H2,There is no relationship between US TimeZone and prportion of feedbacks\n"
     ]
    }
   ],
   "source": [
    "if chi_square_statistic>=critical_value:\n",
    "    print(\"Reject H2,There is a relationship between US TimeZone and prportion of feedbacks\")\n",
    "else:\n",
    "    print(\"Retain H2,There is no relationship between US TimeZone and prportion of feedbacks\")\n",
    "    \n",
    "if p<=alpha:\n",
    "     print(\"Reject H2,There is a relationship between US TimeZone and prportion of feedbacks\")\n",
    "else:\n",
    "    print(\"Retain H2,There is no relationship between US TimeZone and prportion of feedbacks\")"
   ]
  },
  {
   "cell_type": "markdown",
   "metadata": {},
   "source": [
    "#### NULL Hypothesis 3 :\n",
    "\n",
    "Proportion of my different feedbacks do not change with Any time Zones"
   ]
  },
  {
   "cell_type": "code",
   "execution_count": 122,
   "metadata": {},
   "outputs": [
    {
     "name": "stdout",
     "output_type": "stream",
     "text": [
      "Observed Values :-\n",
      " airline_sentiment    negative  neutral  positive\n",
      "user_timezone                                   \n",
      "Abu Dhabi                   0       13        10\n",
      "Adelaide                    2        3         2\n",
      "Alaska                     73       18        17\n",
      "America/Atikokan            1        0         0\n",
      "America/Boise               3        0         0\n",
      "...                       ...      ...       ...\n",
      "Tokyo                       0        1         0\n",
      "Vienna                      1        1         1\n",
      "Warsaw                      0        1         0\n",
      "Wellington                  0        1         0\n",
      "West Central Africa         1        0         0\n",
      "\n",
      "[85 rows x 3 columns]\n"
     ]
    }
   ],
   "source": [
    "\n",
    "table = pd.crosstab(data.user_timezone,data['airline_sentiment'])\n",
    "#Observed Values\n",
    "Observed_Values = table.values\n",
    "print(\"Observed Values :-\\n\",table)"
   ]
  },
  {
   "cell_type": "code",
   "execution_count": 123,
   "metadata": {},
   "outputs": [
    {
     "name": "stdout",
     "output_type": "stream",
     "text": [
      "Expected Values :-\n",
      " [[1.40716904e+01 4.98411405e+00 3.94419552e+00]\n",
      " [4.28268839e+00 1.51690428e+00 1.20040733e+00]\n",
      " [6.60757637e+01 2.34036660e+01 1.85205703e+01]\n",
      " [6.11812627e-01 2.16700611e-01 1.71486762e-01]\n",
      " [1.83543788e+00 6.50101833e-01 5.14460285e-01]\n",
      " [2.26370672e+01 8.01792261e+00 6.34501018e+00]\n",
      " [6.11812627e-01 2.16700611e-01 1.71486762e-01]\n",
      " [9.17718941e+00 3.25050916e+00 2.57230143e+00]\n",
      " [1.59071283e+01 5.63421589e+00 4.45865580e+00]\n",
      " [4.52741344e+01 1.60358452e+01 1.26900204e+01]\n",
      " [1.40105092e+02 4.96244399e+01 3.92704684e+01]\n",
      " [9.78900204e+00 3.46720978e+00 2.74378819e+00]\n",
      " [3.04070876e+02 1.07700204e+02 8.52289206e+01]\n",
      " [2.44725051e+00 8.66802444e-01 6.85947047e-01]\n",
      " [6.72993890e+00 2.38370672e+00 1.88635438e+00]\n",
      " [5.50631365e+00 1.95030550e+00 1.54338086e+00]\n",
      " [6.11812627e-01 2.16700611e-01 1.71486762e-01]\n",
      " [3.05906314e+00 1.08350305e+00 8.57433809e-01]\n",
      " [1.40716904e+01 4.98411405e+00 3.94419552e+00]\n",
      " [6.11812627e+00 2.16700611e+00 1.71486762e+00]\n",
      " [5.50631365e+00 1.95030550e+00 1.54338086e+00]\n",
      " [6.11812627e-01 2.16700611e-01 1.71486762e-01]\n",
      " [8.56537678e+00 3.03380855e+00 2.40081466e+00]\n",
      " [6.11812627e-01 2.16700611e-01 1.71486762e-01]\n",
      " [5.50631365e+00 1.95030550e+00 1.54338086e+00]\n",
      " [9.17718941e+00 3.25050916e+00 2.57230143e+00]\n",
      " [7.95356415e+00 2.81710794e+00 2.22932790e+00]\n",
      " [1.18141018e+03 4.18448880e+02 3.31140937e+02]\n",
      " [1.22362525e+00 4.33401222e-01 3.42973523e-01]\n",
      " [1.04008147e+01 3.68391039e+00 2.91527495e+00]\n",
      " [6.11812627e-01 2.16700611e-01 1.71486762e-01]\n",
      " [2.29062648e+03 8.11327088e+02 6.42046436e+02]\n",
      " [2.44725051e+00 8.66802444e-01 6.85947047e-01]\n",
      " [1.04008147e+01 3.68391039e+00 2.91527495e+00]\n",
      " [1.83543788e+00 6.50101833e-01 5.14460285e-01]\n",
      " [1.22362525e+00 4.33401222e-01 3.42973523e-01]\n",
      " [6.36285132e+01 2.25368635e+01 1.78346232e+01]\n",
      " [5.50631365e+00 1.95030550e+00 1.54338086e+00]\n",
      " [1.22362525e+00 4.33401222e-01 3.42973523e-01]\n",
      " [1.59071283e+01 5.63421589e+00 4.45865580e+00]\n",
      " [6.11812627e-01 2.16700611e-01 1.71486762e-01]\n",
      " [1.22362525e+00 4.33401222e-01 3.42973523e-01]\n",
      " [6.11812627e-01 2.16700611e-01 1.71486762e-01]\n",
      " [1.83543788e+00 6.50101833e-01 5.14460285e-01]\n",
      " [6.11812627e-01 2.16700611e-01 1.71486762e-01]\n",
      " [1.22362525e+00 4.33401222e-01 3.42973523e-01]\n",
      " [1.83543788e+00 6.50101833e-01 5.14460285e-01]\n",
      " [1.22362525e+00 4.33401222e-01 3.42973523e-01]\n",
      " [6.11812627e-01 2.16700611e-01 1.71486762e-01]\n",
      " [1.19303462e+02 4.22566191e+01 3.34399185e+01]\n",
      " [4.28268839e+00 1.51690428e+00 1.20040733e+00]\n",
      " [1.83543788e+00 6.50101833e-01 5.14460285e-01]\n",
      " [4.89450102e+00 1.73360489e+00 1.37189409e+00]\n",
      " [1.83543788e+00 6.50101833e-01 5.14460285e-01]\n",
      " [9.17718941e+00 3.25050916e+00 2.57230143e+00]\n",
      " [6.11812627e-01 2.16700611e-01 1.71486762e-01]\n",
      " [6.11812627e-01 2.16700611e-01 1.71486762e-01]\n",
      " [2.25758859e+02 7.99625255e+01 6.32786151e+01]\n",
      " [1.22362525e+00 4.33401222e-01 3.42973523e-01]\n",
      " [1.83543788e+00 6.50101833e-01 5.14460285e-01]\n",
      " [9.17718941e+00 3.25050916e+00 2.57230143e+00]\n",
      " [6.11812627e-01 2.16700611e-01 1.71486762e-01]\n",
      " [7.39069654e+02 2.61774338e+02 2.07156008e+02]\n",
      " [1.52953157e+01 5.41751527e+00 4.28716904e+00]\n",
      " [1.22362525e+00 4.33401222e-01 3.42973523e-01]\n",
      " [6.11812627e-01 2.16700611e-01 1.71486762e-01]\n",
      " [6.11812627e-01 2.16700611e-01 1.71486762e-01]\n",
      " [4.51517719e+02 1.59925051e+02 1.26557230e+02]\n",
      " [3.05906314e+00 1.08350305e+00 8.57433809e-01]\n",
      " [1.04008147e+01 3.68391039e+00 2.91527495e+00]\n",
      " [6.11812627e-01 2.16700611e-01 1.71486762e-01]\n",
      " [6.11812627e-01 2.16700611e-01 1.71486762e-01]\n",
      " [3.05906314e+00 1.08350305e+00 8.57433809e-01]\n",
      " [1.22362525e+00 4.33401222e-01 3.42973523e-01]\n",
      " [6.11812627e-01 2.16700611e-01 1.71486762e-01]\n",
      " [2.44725051e+00 8.66802444e-01 6.85947047e-01]\n",
      " [6.54639511e+01 2.31869654e+01 1.83490835e+01]\n",
      " [3.67087576e+00 1.30020367e+00 1.02892057e+00]\n",
      " [1.04008147e+01 3.68391039e+00 2.91527495e+00]\n",
      " [5.50631365e+00 1.95030550e+00 1.54338086e+00]\n",
      " [6.11812627e-01 2.16700611e-01 1.71486762e-01]\n",
      " [1.83543788e+00 6.50101833e-01 5.14460285e-01]\n",
      " [6.11812627e-01 2.16700611e-01 1.71486762e-01]\n",
      " [6.11812627e-01 2.16700611e-01 1.71486762e-01]\n",
      " [6.11812627e-01 2.16700611e-01 1.71486762e-01]]\n",
      "Degree of Freedom:- 168\n"
     ]
    }
   ],
   "source": [
    "# Since we are comparing 2 categorical values. I will go for CHI SQUARED Test\n",
    "\n",
    "chi_square_statistic, p, ddof, Expected_Values =stats.chi2_contingency(table)\n",
    "#Expected_Values = b[3]\n",
    "print(\"Expected Values :-\\n\",Expected_Values)\n",
    "print(\"Degree of Freedom:-\",ddof)"
   ]
  },
  {
   "cell_type": "code",
   "execution_count": 124,
   "metadata": {},
   "outputs": [
    {
     "name": "stdout",
     "output_type": "stream",
     "text": [
      "critical_value: 199.2441769293174\n",
      "p-value: 1.1348958792602684e-33\n",
      "Significance level:  0.05\n",
      "Degree of Freedom:  168\n",
      "critical_value: 199.2441769293174\n"
     ]
    }
   ],
   "source": [
    "alpha = 0.05\n",
    "critical_value=stats.chi2.ppf(q=1-alpha,df=ddof)\n",
    "print('critical_value:',critical_value)\n",
    "#p-value\n",
    "print('p-value:',p)\n",
    "print('Significance level: ',alpha)\n",
    "print('Degree of Freedom: ',ddof)\n",
    "print('critical_value:',critical_value)\n"
   ]
  },
  {
   "cell_type": "code",
   "execution_count": 125,
   "metadata": {},
   "outputs": [
    {
     "name": "stdout",
     "output_type": "stream",
     "text": [
      "Reject H3,There is a relationship between TimeZone and prportion of feedbacks\n",
      "Reject H3,There is a relationship between TimeZone and prportion of feedbacks\n"
     ]
    }
   ],
   "source": [
    "if chi_square_statistic>=critical_value:\n",
    "    print(\"Reject H3,There is a relationship between TimeZone and prportion of feedbacks\")\n",
    "else:\n",
    "    print(\"Retain H3,There is no relationship between TimeZone and prportion of feedbacks\")\n",
    "    \n",
    "if p<=alpha:\n",
    "     print(\"Reject H3,There is a relationship between TimeZone and prportion of feedbacks\")\n",
    "else:\n",
    "    print(\"Retain H3,There is no relationship between TimeZone and prportion of feedbacks\")"
   ]
  },
  {
   "cell_type": "markdown",
   "metadata": {},
   "source": [
    "### Interesting findings \n",
    "\n",
    "Seems When we compare just the Tweets in US time zone we do not find any depedency between tweet proportions but when we consider all thet time zones there is a relationship between TimeZone and prportion of feedbacks"
   ]
  },
  {
   "cell_type": "markdown",
   "metadata": {},
   "source": [
    "###  Now lets do some Bag of words exercise to find out how the same looks for both positive and negative sentiment tweets"
   ]
  },
  {
   "cell_type": "code",
   "execution_count": 126,
   "metadata": {
    "scrolled": true
   },
   "outputs": [
    {
     "data": {
      "text/plain": [
       "<matplotlib.axes._subplots.AxesSubplot at 0x11d10d16ec8>"
      ]
     },
     "execution_count": 126,
     "metadata": {},
     "output_type": "execute_result"
    },
    {
     "data": {
      "image/png": "[encoded data removed]",
      "text/plain": [
       "<Figure size 1080x720 with 1 Axes>"
      ]
     },
     "metadata": {
      "needs_background": "light"
     },
     "output_type": "display_data"
    }
   ],
   "source": [
    "import string\n",
    "from nltk.corpus import stopwords\n",
    "from nltk.tokenize import word_tokenize\n",
    "from nltk.tokenize import TweetTokenizer\n",
    "import nltk\n",
    "from collections import Counter\n",
    "\n",
    "## Positive Tweets\n",
    "pos_tweets = data[data.airline_sentiment=='positive']['text'].values\n",
    "## Negative tweets\n",
    "neg_tweets = data[data.airline_sentiment=='negative']['text'].values\n",
    "#define filter words\n",
    "punctuation = list(string.punctuation)\n",
    "stop = stopwords.words('english') + punctuation + ['jetblue', 'southwestair','united','americanair','usairways','http','virginamerica','\\'s','...']\n",
    "#seperate out the words from the tweets\n",
    "pos_tweets_tok = [w.lower() for tweet in pos_tweets for w in word_tokenize(tweet) if w.lower() not in stop ]\n",
    "neg_tweets_tok = [w for tweet in neg_tweets for w in word_tokenize(tweet) if w.lower() not in stop]\n",
    "#Lets see the Positive Tweets first\n",
    "count_terms = Counter(pos_tweets_tok)\n",
    "pos_tweets_cnt = pd.DataFrame (count_terms.most_common(20), columns = ['word','count'])\n",
    "f, ax = plt.subplots(figsize=(15, 10))\n",
    "sns.barplot(pos_tweets_cnt['word'],pos_tweets_cnt['count'] )"
   ]
  },
  {
   "cell_type": "markdown",
   "metadata": {},
   "source": [
    "##### As expected, in positive reviews we have the word thank appearing more times than the others ones. Let's do the same for negative reviews."
   ]
  },
  {
   "cell_type": "code",
   "execution_count": 127,
   "metadata": {},
   "outputs": [],
   "source": [
    "from gensim import corpora, models\n",
    "from gensim.similarities import MatrixSimilarity\n",
    "from gensim.utils import SaveLoad\n",
    "from nltk.corpus import stopwords\n",
    "from nltk.stem import WordNetLemmatizer\n",
    "from re import sub\n",
    "import pyLDAvis.gensim\n",
    "from collections import Counter\n",
    "from gensim.matutils import corpus2csc, sparse2full, corpus2dense\n",
    "from sklearn.utils import resample"
   ]
  },
  {
   "cell_type": "code",
   "execution_count": 128,
   "metadata": {},
   "outputs": [
    {
     "name": "stderr",
     "output_type": "stream",
     "text": [
      "<>:9: DeprecationWarning: invalid escape sequence \\d\n",
      "<>:9: DeprecationWarning: invalid escape sequence \\d\n",
      "<>:9: DeprecationWarning: invalid escape sequence \\d\n",
      "<ipython-input-128-6217259fa9ee>:9: DeprecationWarning: invalid escape sequence \\d\n",
      "  return sub('[.:;()/!&-*@$,?^\\d+]','',myWord)\n"
     ]
    }
   ],
   "source": [
    "#Functions for data cleaning\n",
    "wnl = WordNetLemmatizer()\n",
    "\n",
    "def removePunc(myWord):\n",
    "    \"\"\"Function to remove punctuation from string inputs\"\"\"\n",
    "    if myWord is None:\n",
    "        return myWord\n",
    "    else:\n",
    "        return sub('[.:;()/!&-*@$,?^\\d+]','',myWord)\n",
    "        \n",
    "def removeAscii(myWord):\n",
    "    \"\"\"Function to remove ascii from string input\"\"\"\n",
    "    if myWord is None:\n",
    "        return myWord\n",
    "    else:\n",
    "        return str(sub(r'[^\\x00-\\x7F]+','', myWord.strip()))\n",
    "\n",
    "def lemmatize(myWord):\n",
    "    \"\"\"Function to lemmatize words\"\"\"\n",
    "    if myWord is None:\n",
    "        return myWord\n",
    "    else:\n",
    "        return str(wnl.lemmatize(myWord))\n",
    "\n",
    "def removeStopWords(myWord):\n",
    "    \"\"\"Function to remove stop words\"\"\"\n",
    "    if myWord is None:\n",
    "        return myWord\n",
    "    if myWord not in str(stopwords.words('english')):\n",
    "        return myWord\n",
    "\n",
    "def removeLinkUser(myWord):\n",
    "    \"\"\"Function to remove web addresses and twitter handles\"\"\"\n",
    "    if not myWord.startswith('@') and not myWord.startswith('http'):\n",
    "        return myWord\n",
    "\n",
    "def prepText(myWord):\n",
    "    \"\"\"Final text pre-processing function\"\"\"\n",
    "    return removeStopWords(\n",
    "        lemmatize(\n",
    "            removeAscii(\n",
    "                removePunc(\n",
    "                    removeLinkUser(\n",
    "                        myWord.lower()\n",
    "                    )\n",
    "                )\n",
    "            )\n",
    "        )\n",
    "    )"
   ]
  },
  {
   "cell_type": "code",
   "execution_count": 129,
   "metadata": {},
   "outputs": [],
   "source": [
    "def filterTweetList(tweetList):\n",
    "    \"\"\"Remove stop words, lemmatize, and clean all tweets\"\"\"\n",
    "    return [[prepText(word) for word\n",
    "                in tweet.split()\n",
    "                    if prepText(word) is not None]\n",
    "                for tweet in tweetList]"
   ]
  },
  {
   "cell_type": "code",
   "execution_count": 130,
   "metadata": {},
   "outputs": [],
   "source": [
    "cleanTweetList = filterTweetList(data[data.airline_sentiment=='positive']['text'])"
   ]
  },
  {
   "cell_type": "code",
   "execution_count": 131,
   "metadata": {},
   "outputs": [],
   "source": [
    "def makeDict(myTweetList):\n",
    "    \"\"\"Create dictionary from list of tokenized documents\"\"\"\n",
    "    return corpora.Dictionary(myTweetList)\n",
    "\n",
    "def makeCorpus(myTweetList,myDict):\n",
    "    \"\"\"Create corpus from list of tokenized documents\"\"\"\n",
    "    return [myDict.doc2bow(tweet) for tweet in myTweetList]\n",
    "\n",
    "def createLDA(myCorpus, myDictionary,myTopics=15,myPasses=10,myIterations=50,myAlpha=0.001):\n",
    "    \"\"\"LDA model call function\"\"\"\n",
    "    return models.LdaMulticore(myCorpus, id2word=myDictionary, num_topics=myTopics, passes=myPasses,\n",
    "    iterations=myIterations,alpha=myAlpha)"
   ]
  },
  {
   "cell_type": "code",
   "execution_count": 132,
   "metadata": {},
   "outputs": [],
   "source": [
    "#\"\"\"Create model objects\"\"\"\n",
    "posDict   = makeDict(cleanTweetList)\n",
    "posCorpus = makeCorpus(cleanTweetList, posDict)\n",
    "posLda = createLDA(posCorpus, posDict)\n",
    "createLDA?"
   ]
  },
  {
   "cell_type": "code",
   "execution_count": 133,
   "metadata": {},
   "outputs": [],
   "source": [
    "createLDA?"
   ]
  },
  {
   "cell_type": "code",
   "execution_count": 134,
   "metadata": {},
   "outputs": [],
   "source": [
    "pyLDAvis.enable_notebook()\n",
    "ldaViz = pyLDAvis.gensim.prepare(posLda, posCorpus, posDict)"
   ]
  },
  {
   "cell_type": "code",
   "execution_count": 135,
   "metadata": {},
   "outputs": [
    {
     "data": {
      "text/html": [
       "\n",
       "<link rel=\"stylesheet\" type=\"text/css\" href=\"https://cdn.rawgit.com/bmabey/pyLDAvis/files/ldavis.v1.0.0.css\">\n",
       "\n",
       "\n",
       "<div id=\"ldavis_el24136122446250516083156666\"></div>\n",
       "<script type=\"text/javascript\">\n",
       "\n",
       "var ldavis_el24136122446250516083156666_data = {\"mdsDat\": {\"x\": [-0.09464357786483105, -0.14450663768242003, -0.02718050231456208, -0.09712200219617287, 0.0970886472827634, 0.050812693223177614, -0.0040157413836513535, 0.04155651993424015, 0.006837327257696231, -0.025011319033169766, 0.03906386427356406, 0.013335724687307003, 0.0038818119718885815, 0.07760495634400752, 0.06229823550016252], \"y\": [0.06907393537640713, -0.00022221025145103976, 0.03823929277621435, 0.051361414054052756, 0.03706261959073292, 0.017869824216132396, -0.035065837696824864, -0.059124958062394595, -0.10409263516093968, -0.1253206046693345, -0.03121185849338468, 0.014564409366231188, -0.00662374927969403, 0.04276734150255832, 0.09072301673169447], \"topics\": [1, 2, 3, 4, 5, 6, 7, 8, 9, 10, 11, 12, 13, 14, 15], \"cluster\": [1, 1, 1, 1, 1, 1, 1, 1, 1, 1, 1, 1, 1, 1, 1], \"Freq\": [10.298455238342285, 9.789518356323242, 8.946330070495605, 7.890407562255859, 7.549288749694824, 6.958067417144775, 6.594180107116699, 6.319175720214844, 5.921833038330078, 5.704558849334717, 5.313374042510986, 5.280894756317139, 4.6295366287231445, 4.470560550689697, 4.33382511138916]}, \"tinfo\": {\"Term\": [\"thank\", \"customer\", \"thanks\", \"service\", \"follow\", \"love\", \"much\", \"response\", \"great\", \"good\", \"flying\", \"dm\", \"airline\", \"yes\", \"always\", \"sent\", \"best\", \"flight\", \"time\", \"got\", \"go\", \"fleet\", \"cant\", \"help\", \"forward\", \"guy\", \"looking\", \"youre\", \"fleek\", \"please\", \"either\", \"sju\", \"message\", \"tx\", \"prompt\", \"showed\", \"disney\", \"squared\", \"sat\", \"jeanine\", \"entertaining\", \"bluemanity\", \"personalized\", \"depart\", \"killeen\", \"updated\", \"response\", \"asking\", \"giving\", \"hold\", \"special\", \"francisco\", \"website\", \"quick\", \"cb\", \"stbernard\", \"bach\", \"bug\", \"understands\", \"amid\", \"#smitten\", \"whole\", \"yr\", \"thru\", \"tried\", \"correct\", \"angel\", \"got\", \"thanks\", \"phone\", \"said\", \"call\", \"booking\", \"awesome\", \"reflight\", \"den\", \"service\", \"team\", \"problem\", \"another\", \"appreciate\", \"making\", \"customer\", \"flight\", \"-\", \"reply\", \"thank\", \"amp\", \"weather\", \"sure\", \"though\", \"make\", \"get\", \"gate\", \"issue\", \"way\", \"amazing\", \"help\", \"much\", \"great\", \"best\", \"crew\", \"information\", \"dm\", \"calling\", \"sent\", \"mvp\", \"article\", \"present\", \"tool\", \"learn\", \"okay\", \"finger\", \"sincerely\", \"otherwise\", \"happen\", \"coming\", \"evening\", \"confirmation\", \"crossed\", \"assistance\", \"latte\", \"led\", \"#problemsolvers\", \"#tokyomarathon\", \"certainly\", \"fails\", \"braving\", \"screwed\", \"extraordinaire\", \"disregard\", \"handshake\", \"thank\", \"getting\", \"update\", \"texas\", \"enjoyed\", \"much\", \"real\", \"#jetbluerocks\", \"else\", \"kindness\", \"houston\", \"dfw\", \"ok\", \"help\", \"home\", \"reply\", \"hopefully\", \"earlier\", \"thanks\", \"nice\", \"omg\", \"-\", \"flight\", \"appreciate\", \"awesome\", \"amazing\", \"great\", \"get\", \"fly\", \"please\", \"time\", \"work\", \"today\", \"good\", \"trip\", \"crew\", \"thx\", \"gate\", \"sunday\", \"leaving\", \"contact\", \"exact\", \"march\", \"cun\", \"#amazing\", \"cut\", \"opened\", \"cont\", \"taking\", \"daily\", \"mint\", \"second\", \"care\", \"busiest\", \"#pa\", \"europe\", \"surprise\", \"na\", \"biscuit\", \"fifth\", \"#myvxexperience\", \"aligned\", \"advertising\", \"#earnedmybusiness\", \"irrops\", \"#ammisery\", \"#a\", \"paypal\", \"bless\", \"experience\", \"ended\", \"idea\", \"domestic\", \"platinum\", \"took\", \"aviation\", \"finding\", \"taken\", \"entire\", \"solved\", \"flightr\", \"global\", \"phl\", \"destination\", \"photo\", \"flight\", \"charge\", \"time\", \"#\", \"customer\", \"late\", \"problem\", \"-\", \"class\", \"thank\", \"first\", \"twitter\", \"thanks\", \"jfk\", \"awesome\", \"finally\", \"service\", \"forward\", \"jetblue\", \"get\", \"wait\", \"made\", \"know\", \"great\", \"fly\", \"good\", \"today\", \"looking\", \"best\", \"response\", \"crew\", \"day\", \"like\", \"provided\", \"truly\", \"yesso\", \"wc\", \"backup\", \"aw\", \"shoutout\", \"million\", \"tammy\", \"delighted\", \"relaxing\", \"amazed\", \"responding\", \"connect\", \"quickly\", \"solution\", \"comms\", \"suprise\", \"county\", \"break\", \"#friendlyfriday\", \"mths\", \"carryon\", \"vent\", \"#flysw\", \"#funflightattendants\", \"#sundayfunday\", \"fltkeeping\", \"waiver\", \"calderon\", \"airplane\\\"\", \"whats\", \"customer\", \"explain\", \"forever\", \"totally\", \"industry\", \"brilliant\", \"answered\", \"#americanairlines\", \"straight\", \"service\", \"start\", \"wow\", \"found\", \"cool\", \"guy\", \"made\", \"rock\", \"baggage\", \"excellent\", \"thanks\", \"yes\", \"left\", \"thank\", \"best\", \"bag\", \"flt\", \"every\", \"going\", \"flight\", \"day\", \"big\", \"still\", \"awesome\", \"-\", \"great\", \"today\", \"much\", \"help\", \"make\", \"gate\", \"got\", \"outsource\", \"type\", \"two\", \"gosh\", \"understood\", \"indeed\", \"#gogo\", \"swivel\", \"boat-style\", \"#happyflier\", \"#dietcoke\", \"laptop\", \"dal-aus\", \"power\", \"slowing\", \"congratulation\", \"fact\", \"god\", \"favorite\", \"planned\", \"several\", \"flightled\", \"definitely\", \"however\", \"pple\", \"#blacklivesmatter\", \"pwm\", \"liza\", \"holz\", \"coffeeat\", \"teeming\", \"iad\", \"oh\", \"history\", \"met\", \"speed\", \"talked\", \"year\", \"thx\", \"week\", \"cancelled\", \"flew\", \"airline\", \"time\", \"last\", \"one\", \"new\", \"good\", \"far\", \"day\", \"flight\", \"flying\", \"southwest\", \"cant\", \"weather\", \"love\", \"make\", \"fly\", \"plane\", \"thanks\", \"next\", \"great\", \"see\", \"thank\", \"awesome\", \"vaca\", \"ashley\", \"aircraft\", \"rollercoaster\", \"#ua\", \"oui\", \"#mardigras\", \"abq\", \"letting\", \"#winterweather\", \"beanie\", \"maria\", \"glove\", \"explanation\", \"yet\", \"right\", \"odd\", \"sing\", \"fresh\", \"awhile\", \"dorm\", \"cert\", \"sabe\", \"#fattuesday\", \"buf\", \"jamie\", \"whod\", \"dare\", \"package\", \"#lovesouthwestair\", \"bold\", \"longer\", \"sort\", \"pleasantly\", \"coat\", \"note\", \"celebrating\", \"nut\", \"reason\", \"boston\", \"thing\", \"brought\", \"quality\", \"watched\", \"haha\", \"keep\", \"job\", \"got\", \"great\", \"safe\", \"well\", \"good\", \"lol\", \"time\", \"make\", \"back\", \"morning\", \"even\", \"boarding\", \"thanks\", \"twitter\", \"enjoy\", \"amp\", \"trip\", \"kudos\", \"go\", \"flight\", \"crew\", \"plane\", \"guy\", \"know\", \"day\", \"thank\", \"-\", \"work\", \"home\", \"love\", \"service\", \"fleet\", \"fleek\", \"dmd\", \"mad\", \"jt\", \"lucky\", \"streaming\", \"amso\", \"aadfw\", \"trvlove\", \"complete\", \"md\", \"gma\", \"#cheapflights\", \"one-way\", \"#farecompare\", \"nyc-\", \"moon\", \"wanna\", \"heading\", \"help--faith\", \"gang\", \"downthanks\", \"things--the\", \"flattering\", \"irritating\", \"eastern\", \"#denver\", \"appropriate\", \"ellas\", \"#aateam\", \"oma\", \"#catsanddogslivingtogether\", \"deleted\", \"bandwidth\", \"alliance\", \"entertain\", \"bwi\", \"shot\", \"getaway\", \"web\", \"lovely\", \"wifi\", \"employee\", \"city\", \"aww\", \"see\", \"called\", \"able\", \"following\", \"lot\", \"tweet\", \"jetblue\", \"thanks\", \"help\", \"really\", \"airline\", \"love\", \"sure\", \"one\", \"back\", \"better\", \"agent\", \"great\", \"well\", \"free\", \"service\", \"amp\", \"flight\", \"staff\", \"tomorrow\", \"get\", \"crew\", \"guy\", \"make\", \"become\", \"#\\\"\", \"removal\", \"cessnas\", \"\\\"airport\", \"#brandmance\", \"wine\", \"youyou\", \"without\", \"gotcha\", \"loving\", \"method\", \"#travel\", \"#flyswa\", \"#bhm\", \"pimentel\", \"presented\", \"forgot\", \"#air\", \"aired\", \"suggestion\", \"beloved\", \"#neworleans\", \"rita\", \"luxurious\", \"enjoyable\", \"national\", \"consumer\", \"hmmmseems\", \"sylvie\", \"pure\", \"always\", \"capt\", \"cheese\", \"#legroom\", \"heart\", \"dulles\", \"breakfast\", \"companion\", \"swa\", \"course\", \"love\", \"#mint\", \"fun\", \"kind\", \"southwest\", \"folk\", \"go\", \"good\", \"theyre\", \"flight\", \"way\", \"sfo\", \"free\", \"snow\", \"wish\", \"class\", \"flying\", \"keep\", \"thanks\", \"employee\", \"today\", \"jetblue\", \"thank\", \"best\", \"get\", \"great\", \"know\", \"-\", \"work\", \"crew\", \"dont\", \"staff\", \"like\", \"service\", \"guy\", \"airline\", \"dragon\", \"imagine\", \"follow\", \"#bluemanity\", \"touch\", \"hunt\", \"scavenger\", \"#impressive\", \"#passion\", \"#corevalues\", \"#aerojobmarket\", \"xoxo\", \"general\", \"--\", \"gfc\", \"tab\", \"wouldve\", \"mht\", \"#sosmart\", \"stayed\", \"combined\", \"decent\", \"absurd\", \"overnight\", \"#allgood\", \"#frequentflyerappreciates\", \"#jetblueforever\", \"janna\", \"feeling\", \"#london\", \"reasonable\", \"ethan\", \"laptop-large\", \"joni\", \"tiny\", \"marsha\", \"laundry\", \"#jetbluefame\", \"die\", \"lifesaver\", \"grandbabies\", \"request\", \"deserved\", \"map\", \"degree\", \"weekend\", \"airway\", \"fare\", \"respect\", \"recovery\", \"#destinationdragons\", \"mco\", \"wife\", \"opportunity\", \"send\", \"please\", \"go\", \"great\", \"well\", \"back\", \"bos\", \"best\", \"get\", \"amazing\", \"amp\", \"thanks\", \"tonight\", \"flight\", \"travel\", \"let\", \"home\", \"much\", \"appreciate\", \"time\", \"like\", \"got\", \"love\", \"guy\", \"service\", \"-\", \"seat\", \"agent\", \"staff\", \"sorted\", \"absolutely\", \"gorgeous\", \"robert\", \"indy\", \"notified\", \"needed\", \"unbelievable\", \"rico\", \"private\", \"jet\", \"thanx\", \"picking\", \"blue\", \"hotel\", \"puerto\", \"anything\", \"male\", \"encouragement\", \"donut\", \"gotten\", \"idol\", \"court\", \"flailing\", \"plastic\", \"#whyabcwhy\", \"tracking\", \"spam\", \"local\", \"jetred\", \"vega\", \"accept\", \"treat\", \"refunded\", \"cross\", \"yes\", \"followed\", \"thought\", \"btw\", \"attendant\", \"fantastic\", \"business\", \"direct\", \"fly\", \"amazing\", \"airport\", \"flight\", \"ever\", \"best\", \"say\", \"much\", \"pretty\", \"excited\", \"lost\", \"landed\", \"#destinationdragons\", \"please\", \"get\", \"thank\", \"guy\", \"love\", \"go\", \"ticket\", \"tonight\", \"day\", \"thanks\", \"really\", \"help\", \"see\", \"service\", \"staff\", \"frontrunner\", \"switch\", \"stair\", \"select\", \"transfer\", \"arrive\", \"#passbook\", \"resoled\", \"consideration\", \"fav\", \"#customersfirst\", \"hail\", \"walk\", \"rising\", \"melinda\", \"streamline\", \"ability\", \"overhead\", \"faint\", \"age\", \"commute\", \"buisness\", \"attended\", \"#onechildfourbags\", \"displeasure\", \"fallflorida\", \"nancy\", \"shoe\", \"miraculously\", \"integrate\", \"tired\", \"murdock\", \"sliced\", \"offered\", \"giggled\", \"executive\", \"integration\", \"#avgeek\", \"#oscars\", \"cant\", \"wait\", \"passbook\", \"io\", \"congrats\", \"minute\", \"promo\", \"safety\", \"early\", \"think\", \"weve\", \"#jvmchat\", \"airline\", \"fee\", \"get\", \"fan\", \"since\", \"next\", \"people\", \"flight\", \"best\", \"guy\", \"great\", \"ever\", \"bag\", \"last\", \"week\", \"thanks\", \"new\", \"look\", \"thank\", \"appreciate\", \"help\", \"nice\", \"know\", \"like\", \"today\", \"please\", \"staff\", \"awesome\", \"terry\", \"nicely\", \"cellphone\", \"retrieve\", \"hero\", \"#americanview\", \"security\", \"husband\", \"login\", \"#throwback\", \"#lieflat\", \"#usairways\", \"julian\", \"me-right\", \"#lifeisgood\", \"brandi\", \"#lucycat\", \"#ever\", \"kristiesp\", \"#oscarnight\", \"delightful\", \"platter\", \"buying\", \"lostfound\", \"stream\", \"#bloodymary\", \"eight\", \"groundoutside\", \"nawww\", \"#nocharge\", \"ball\", \"#jetsetter\", \"rule\", \"#mosaic\", \"ride\", \"kp\", \"tough\", \"thankyou\", \"moment\", \"world\", \"bad\", \"photo\", \"apparently\", \"company\", \"done\", \"austin\", \"lt\", \"wouldnt\", \"beautiful\", \"tv\", \"cancun\", \"great\", \"maybe\", \"united\", \"followed\", \"chicago\", \"onboard\", \"plane\", \"new\", \"thanks\", \"flight\", \"work\", \"crew\", \"service\", \"best\", \"-\", \"trip\", \"delay\", \"#\", \"customer\", \"home\", \"back\", \"staff\", \"love\", \"please\", \"get\", \"thank\", \"time\", \"airline\", \"made\", \"amp\", \"q\", \"fastest\", \"happens\", \"faves\", \"head\", \"mr\", \"dawn\", \"broken\", \"tagged\", \"#boise\", \"injured\", \"ute\", \"evn\", \"sadly\", \"glitch\", \"customerits\", \"jose\", \"piece\", \"survey\", \"stress\", \"alcohol\", \"wproj\", \"cxl\", \"cmh\", \"preboarding\", \"bd\", \"neighboring\", \"skin\", \"relieved\", \"beginning\", \"jilted\", \"forgiven\", \"reopens\", \"interview\", \"#moneyelsewhere\", \"desk\", \"raving\", \"trust\", \"choice\", \"ty\", \"youre\", \"incredibly\", \"came\", \"helpful\", \"rebooked\", \"charlotte\", \"welcome\", \"still\", \"doesnt\", \"often\", \"despite\", \"thats\", \"flightlations\", \"everyone\", \"gate\", \"exactly\", \"agent\", \"priority\", \"airline\", \"flight\", \"flying\", \"like\", \"look\", \"ive\", \"service\", \"job\", \"thanks\", \"awesome\", \"delay\", \"best\", \"great\", \"thank\", \"get\", \"amazing\", \"amp\", \"crew\", \"nice\", \"know\", \"attendant\", \"cancelled\", \"seated\", \"terribly\", \"competitor\", \"sign\", \"emerg\", \"slide\", \"#missedupgrades\", \"correctly\", \"spare\", \"near\", \"continues\", \"#chairmans\", \"feesbut\", \"par\", \"downtown\", \"-g\", \"size\\\"\", \"list\", \"print\\\"\", \"sheesh\", \"outlet\", \"tnx\", \"myers\", \"count\", \"#dontmakemebeg\", \"\\\"fine\", \"angeles\", \"#excellentcustomerservice\", \"elevate\", \"#americanforlife\", \"#dreampath\", \"rain\", \"invitational\", \"travis\", \"expect\", \"younger\", \"mgr\", \"easily\", \"nicest\", \"yeah\", \"terrific\", \"completely\", \"never\", \"beyond\", \"ive\", \"luggage\", \"youve\", \"admiral\", \"figured\", \"luv\", \"went\", \"pick\", \"couple\", \"yall\", \"flying\", \"ever\", \"family\", \"ticket\", \"exactly\", \"club\", \"juan\", \"haha\", \"heard\", \"good\", \"first\", \"one\", \"made\", \"year\", \"flight\", \"thanks\", \"upgrade\", \"kudos\", \"oh\", \"time\", \"airline\", \"today\", \"work\", \"know\", \"-\", \"thank\", \"issue\", \"best\", \"crew\", \"amazing\", \"beauty\", \"thnx\", \"stressful\", \"impress\", \"joanna\", \"#bestairlineever\", \"multiple\", \"current\", \"accommodating\", \"figure\", \"news\", \"#swa\", \"continue\", \"sound\", \"future\\\"\", \"gracious\", \"#mdw\", \"walking\", \"professionalnice\", \"hows\", \"hmmm\", \"year-round\", \"whoooo\", \"#sunshine\", \"natt\", \"#friends\", \"#neverchange\", \"frm\", \"up-\", \"populate\", \"assisting\", \"\\\"breaking\", \"kate\", \"flightd\", \"cleared\", \"common\", \"forward\", \"looking\", \"save\", \"handled\", \"girl\", \"reach\", \"pair\", \"flying\", \"austin\", \"today\", \"job\", \"crew\", \"guy\", \"issue\", \"well\", \"-\", \"like\", \"thanks\", \"flight\", \"gate\", \"great\", \"new\", \"bag\", \"change\", \"united\", \"loved\", \"hard\", \"airport\", \"look\", \"agent\", \"airline\", \"thank\", \"day\"], \"Freq\": [387.0, 103.0, 508.0, 133.0, 28.0, 105.0, 92.0, 50.0, 189.0, 89.0, 55.0, 29.0, 83.0, 39.0, 35.0, 31.0, 85.0, 354.0, 88.0, 83.0, 39.0, 13.0, 29.0, 71.0, 20.0, 100.0, 21.0, 28.0, 12.0, 47.0, 3.439283609390259, 2.6888089179992676, 2.6798996925354004, 2.6778273582458496, 7.193864345550537, 1.8119268417358398, 1.8119268417358398, 1.8119261264801025, 1.8118380308151245, 1.8117027282714844, 1.811373233795166, 1.8096671104431152, 1.802749752998352, 1.8031100034713745, 1.798178791999817, 1.7981759309768677, 35.41074752807617, 1.776687502861023, 3.531212568283081, 4.351157188415527, 2.678860902786255, 2.6757700443267822, 2.682889461517334, 14.814475059509277, 0.9349960684776306, 0.9349960684776306, 0.9349957704544067, 0.9349960088729858, 0.9349960088729858, 0.9349960088729858, 0.9349960088729858, 2.6888134479522705, 2.688807725906372, 5.289303302764893, 3.5654351711273193, 1.811927080154419, 1.8107976913452148, 35.1909294128418, 163.66380310058594, 9.13681697845459, 4.3033857345581055, 6.130042552947998, 5.442595481872559, 16.245975494384766, 3.6071906089782715, 3.5656864643096924, 21.70966148376465, 8.373891830444336, 7.349330425262451, 6.6857404708862305, 10.692578315734863, 6.862593650817871, 15.23713207244873, 29.24748992919922, 14.647275924682617, 6.528226375579834, 26.48554801940918, 10.570619583129883, 6.750533580780029, 6.328946113586426, 5.52915096282959, 8.539483070373535, 10.944465637207031, 8.275351524353027, 6.031116008758545, 7.069953918457031, 8.089398384094238, 7.969046115875244, 8.161788940429688, 8.89278793334961, 7.092234134674072, 6.500967025756836, 3.5517990589141846, 23.922016143798828, 2.689276695251465, 23.714046478271484, 1.8181512355804443, 1.8181490898132324, 1.8180549144744873, 1.8090996742248535, 1.798063039779663, 5.286056041717529, 5.007208347320557, 2.681636095046997, 1.5661762952804565, 2.5859391689300537, 5.217348098754883, 3.5105550289154053, 5.500426292419434, 5.0072174072265625, 3.417407989501953, 0.9382215142250061, 0.9382214546203613, 0.938221275806427, 0.9382209777832031, 0.9382211565971375, 0.9382211565971375, 0.9382211565971375, 0.9382207989692688, 0.9382207989692688, 0.9382207989692688, 0.9382205009460449, 207.13162231445312, 14.798897743225098, 7.657078266143799, 2.6980342864990234, 1.818150281906128, 42.97175979614258, 1.818149447441101, 1.818151831626892, 2.6980302333831787, 1.8180885314941406, 2.5396625995635986, 5.382935523986816, 10.375968933105469, 24.613468170166016, 15.881519317626953, 8.966753005981445, 4.420378684997559, 5.094008445739746, 61.17959213256836, 8.782698631286621, 3.569204568862915, 15.060032844543457, 29.150493621826172, 9.6651611328125, 11.955436706542969, 10.160961151123047, 16.901655197143555, 11.203290939331055, 8.407674789428711, 7.655482292175293, 9.444687843322754, 7.183093070983887, 7.049363613128662, 6.785864353179932, 5.643729209899902, 5.853096961975098, 5.552165985107422, 5.507309913635254, 6.005921363830566, 3.4691925048828125, 3.326171875, 1.7672557830810547, 1.7672557830810547, 1.767253041267395, 1.7672531604766846, 1.7672282457351685, 1.7671973705291748, 1.7483495473861694, 11.329102516174316, 1.6545965671539307, 2.534485340118408, 5.103736877441406, 15.019822120666504, 0.9119622707366943, 0.9119622707366943, 0.9119620323181152, 0.9119620323181152, 0.9119620323181152, 0.9119617938995361, 0.9119617938995361, 0.9119619727134705, 0.9119619727134705, 0.9119617938995361, 0.9119621515274048, 0.9119619727134705, 0.9119621515274048, 0.9119617938995361, 0.9119616746902466, 0.9119618535041809, 16.90070915222168, 1.7671891450881958, 1.7672542333602905, 1.767167329788208, 1.7672563791275024, 5.049113750457764, 1.7672544717788696, 1.7670373916625977, 4.132903575897217, 1.7623103857040405, 1.758785605430603, 2.4763782024383545, 2.04000186920166, 5.188211441040039, 3.3538880348205566, 2.614044189453125, 69.97822570800781, 2.603137493133545, 18.389524459838867, 8.74332046508789, 17.934762954711914, 5.120510578155518, 6.876649856567383, 17.01932144165039, 5.86523962020874, 36.41895294189453, 8.453733444213867, 5.130987167358398, 35.43930435180664, 5.154306411743164, 11.634212493896484, 6.743362903594971, 14.84213638305664, 5.515505313873291, 7.753907680511475, 11.964055061340332, 6.603677749633789, 8.364195823669434, 7.852431297302246, 13.325568199157715, 7.784674644470215, 9.328253746032715, 8.3787841796875, 5.573424816131592, 6.822815895080566, 6.292553424835205, 6.4843268394470215, 5.914621353149414, 5.893048286437988, 5.01734733581543, 4.291409492492676, 1.7540167570114136, 1.7540147304534912, 1.7540125846862793, 1.7540127038955688, 1.7540136575698853, 1.7540090084075928, 1.7384991645812988, 1.73465895652771, 1.6872137784957886, 1.6270850896835327, 5.917998790740967, 1.527113914489746, 3.737874746322632, 0.9051519632339478, 0.9051518440246582, 0.9051517844200134, 0.9051515460014343, 0.9051514863967896, 0.9051515460014343, 0.9051515460014343, 0.9051515460014343, 0.9051515460014343, 0.9051514863967896, 0.9051514863967896, 0.9051514863967896, 0.9051516652107239, 0.9051514863967896, 0.9051514863967896, 0.9051515460014343, 1.7538516521453857, 50.96202087402344, 0.9051514863967896, 2.1681928634643555, 4.178533554077148, 1.754016637802124, 1.7456122636795044, 1.752756953239441, 1.715572476387024, 1.7331907749176025, 48.81251525878906, 5.066445350646973, 4.669991970062256, 5.98970365524292, 7.5878705978393555, 27.11618995666504, 15.134333610534668, 9.288788795471191, 5.139222621917725, 6.197443962097168, 57.887821197509766, 9.42660903930664, 4.257973670959473, 37.30415725708008, 14.377243995666504, 8.151397705078125, 4.300605773925781, 4.281864643096924, 4.840707778930664, 21.572473526000977, 7.708539009094238, 5.157688617706299, 6.052385330200195, 9.240132331848145, 10.279911994934082, 12.440624237060547, 7.478568077087402, 8.296697616577148, 7.032922744750977, 6.4205546379089355, 5.66279411315918, 5.157662391662598, 3.4047727584838867, 3.393273115158081, 9.708712577819824, 2.540296792984009, 1.7301900386810303, 1.730043649673462, 1.721903681755066, 1.7219032049179077, 1.721903681755066, 1.7219038009643555, 1.7219040393829346, 1.7219018936157227, 1.716932773590088, 3.3879783153533936, 1.7152785062789917, 2.28161883354187, 1.7012519836425781, 5.0651774406433105, 8.307755470275879, 2.559201955795288, 2.5255308151245117, 6.555606842041016, 6.701910495758057, 1.4438655376434326, 0.8928600549697876, 0.8928598761558533, 0.8928598761558533, 0.8928598165512085, 0.8928598165512085, 0.8928592801094055, 0.8928592801094055, 1.730185627937317, 8.933011054992676, 2.567484140396118, 2.548358678817749, 1.7301889657974243, 2.5673673152923584, 11.04630184173584, 16.296316146850586, 10.718753814697266, 10.128647804260254, 5.041172504425049, 18.501577377319336, 18.89491844177246, 8.310063362121582, 10.431958198547363, 10.6301908493042, 15.998551368713379, 4.830246448516846, 11.007766723632812, 31.281896591186523, 10.388023376464844, 6.888200283050537, 7.14221715927124, 6.7375688552856445, 12.323043823242188, 8.598051071166992, 8.363625526428223, 8.229663848876953, 16.153095245361328, 6.34766960144043, 10.957730293273926, 7.274181842803955, 12.41091537475586, 7.207485675811768, 1.682417869567871, 1.6824183464050293, 1.6824170351028442, 1.6824172735214233, 1.682415246963501, 1.6824145317077637, 1.6824145317077637, 1.6823056936264038, 2.2338836193084717, 1.6743589639663696, 1.6743589639663696, 1.6743595600128174, 1.6743589639663696, 1.674359917640686, 3.3025949001312256, 13.242941856384277, 0.8682128190994263, 0.8682124614715576, 0.8682123422622681, 0.8682127594947815, 0.8682125806808472, 0.8682125806808472, 0.8682120442390442, 0.8682119250297546, 0.8682119250297546, 0.8682120442390442, 0.868212103843689, 0.8682122826576233, 0.8682118654251099, 0.868212103843689, 0.8682119250297546, 1.6824142932891846, 0.8682118654251099, 1.674357295036316, 1.6743595600128174, 3.2872045040130615, 1.6824162006378174, 1.6824169158935547, 3.9412572383880615, 3.1966123580932617, 10.185890197753906, 2.4860687255859375, 1.6824179887771606, 1.6824129819869995, 6.727456569671631, 8.80667495727539, 8.906100273132324, 15.326801300048828, 26.455102920532227, 3.5095090866088867, 9.563422203063965, 14.351497650146484, 3.276309013366699, 13.695062637329102, 9.420463562011719, 9.6052827835083, 5.719714641571045, 5.7503581047058105, 4.5956268310546875, 24.733287811279297, 4.532935619354248, 3.5491037368774414, 8.187650680541992, 5.853033542633057, 4.1249098777771, 5.522873401641846, 12.856440544128418, 6.442220687866211, 5.892449855804443, 7.083865642547607, 5.574625492095947, 5.717154026031494, 9.87337875366211, 6.941139221191406, 5.304004669189453, 4.936352729797363, 5.370509147644043, 5.117166996002197, 12.877349853515625, 11.29415512084961, 2.481794595718384, 2.473806858062744, 2.4735982418060303, 2.4727554321289062, 1.6724634170532227, 1.6724631786346436, 1.6724631786346436, 1.672461986541748, 1.6724604368209839, 1.6724600791931152, 1.672458529472351, 1.664451241493225, 1.6644525527954102, 1.664451003074646, 1.6644513607025146, 1.6364269256591797, 2.395634412765503, 3.291126251220703, 0.8630809783935547, 0.8630807399749756, 0.8630807995796204, 0.8630802631378174, 0.8630801439285278, 0.8630802631378174, 0.8630800247192383, 0.8630804419517517, 0.8630802631378174, 0.8630800247192383, 0.8630805611610413, 0.8630801439285278, 0.8630804419517517, 0.8630802631378174, 0.8630803823471069, 1.6724622249603271, 0.8630803823471069, 2.480219602584839, 1.6680039167404175, 1.664451241493225, 1.672460675239563, 4.092485427856445, 4.8918256759643555, 6.502115249633789, 2.2183797359466553, 2.4738059043884277, 14.716165542602539, 3.8760569095611572, 7.2325663566589355, 3.03127121925354, 4.923917293548584, 4.88580322265625, 8.52159309387207, 35.388771057128906, 11.368297576904297, 8.048541069030762, 11.879067420959473, 12.525677680969238, 5.316732883453369, 6.981112480163574, 7.672163009643555, 5.430371284484863, 6.187082290649414, 11.880654335021973, 6.052219867706299, 4.809856414794922, 8.279869079589844, 6.451059818267822, 10.758078575134277, 4.909822463989258, 4.29020357131958, 5.504952907562256, 4.909829616546631, 5.103331565856934, 4.478879928588867, 3.2629668712615967, 3.2622005939483643, 3.262152671813965, 3.2621355056762695, 3.261967182159424, 2.2591843605041504, 1.6694211959838867, 1.661229133605957, 1.661150336265564, 1.563167929649353, 3.2691714763641357, 3.2621781826019287, 4.084920406341553, 1.3190722465515137, 0.8615177869796753, 0.8615177869796753, 0.8615168929100037, 0.8615171909332275, 0.8615168929100037, 0.8615169525146484, 0.8615168929100037, 0.8615173101425171, 0.861517071723938, 0.8615169525146484, 0.8615169525146484, 0.8615171909332275, 0.8615174889564514, 0.861517071723938, 0.861517071723938, 0.8615167140960693, 0.8615167737007141, 17.482250213623047, 1.669419288635254, 1.669412612915039, 1.6694190502166748, 2.4511048793792725, 1.6694183349609375, 1.6694170236587524, 3.4523637294769287, 4.174151420593262, 2.948540687561035, 33.02846145629883, 2.259180784225464, 3.8297393321990967, 3.285151958465576, 8.818791389465332, 3.2619597911834717, 11.260122299194336, 18.857818603515625, 2.838390827178955, 28.841781616210938, 7.592048168182373, 4.088712692260742, 5.959044933319092, 4.194806098937988, 4.349517822265625, 4.900880336761475, 7.582134246826172, 5.251112937927246, 17.18683433532715, 4.100947380065918, 6.719719409942627, 5.3553080558776855, 10.33357048034668, 6.176116466522217, 6.2693939208984375, 7.091964244842529, 4.987363815307617, 5.716718673706055, 4.8857622146606445, 4.887050628662109, 3.931739330291748, 4.234799861907959, 4.3753981590271, 4.342357158660889, 4.294677257537842, 4.204616069793701, 4.764245510101318, 6.108851432800293, 22.965341567993164, 2.408435583114624, 3.956465005874634, 1.6412322521209717, 1.6408754587173462, 1.6380014419555664, 1.6151202917099, 1.615118145942688, 1.615116000175476, 1.6107362508773804, 1.540468454360962, 2.434602737426758, 1.3889530897140503, 0.8494202494621277, 0.8494201898574829, 0.8494201898574829, 0.8494204878807068, 0.8494202494621277, 0.8494197130203247, 0.8494197130203247, 0.8494197726249695, 0.8494194149971008, 0.849419891834259, 0.849419891834259, 0.8494194149971008, 0.8494197726249695, 0.8494195938110352, 0.8494197726249695, 0.8494200110435486, 0.8494200110435486, 0.849419891834259, 0.8494200110435486, 0.8494194746017456, 0.8494194746017456, 0.8494197130203247, 0.8494194746017456, 0.8494195938110352, 0.8494195938110352, 0.8494194746017456, 1.645850658416748, 1.6280221939086914, 0.8494197726249695, 1.6459652185440063, 2.7959182262420654, 3.8679752349853516, 2.434605360031128, 1.638083815574646, 1.6380854845046997, 6.869265556335449, 2.4166674613952637, 3.2134346961975098, 2.4346044063568115, 3.2225937843322754, 12.695855140686035, 9.027249336242676, 28.319549560546875, 9.655451774597168, 10.467184066772461, 4.00991678237915, 11.254155158996582, 12.217391967773438, 8.794971466064453, 8.517313003540039, 22.619140625, 5.527524948120117, 15.05611515045166, 4.3247971534729, 4.141522407531738, 5.858797550201416, 6.889718055725098, 5.024267196655273, 5.8756890296936035, 4.912532806396484, 5.636394023895264, 5.9768877029418945, 5.8883957862854, 5.728621006011963, 5.085427761077881, 4.035503387451172, 4.040889263153076, 4.037990093231201, 3.82855224609375, 3.090651750564575, 2.397754430770874, 1.6210527420043945, 1.6210511922836304, 1.6210508346557617, 1.6209566593170166, 1.6132659912109375, 1.6075595617294312, 1.6026263236999512, 7.917494297027588, 1.5589319467544556, 1.5588704347610474, 8.108659744262695, 2.3844170570373535, 1.7310782670974731, 3.9446539878845215, 0.8365644216537476, 0.8365639448165894, 0.8365640044212341, 0.8365636467933655, 0.8365640044212341, 0.8365638852119446, 0.8365636467933655, 0.8365640044212341, 0.8365636467933655, 0.8365636467933655, 0.8365640044212341, 0.8365639448165894, 0.8365636467933655, 7.045069694519043, 1.6210048198699951, 2.3630857467651367, 1.6051820516586304, 1.6210516691207886, 15.125192642211914, 3.189957618713379, 2.3919341564178467, 3.9567971229553223, 9.754448890686035, 4.815816402435303, 3.1718339920043945, 3.1551358699798584, 11.291358947753906, 12.172735214233398, 7.6672234535217285, 30.9729061126709, 6.292313575744629, 10.546881675720215, 3.8372936248779297, 10.343175888061523, 3.1448607444763184, 4.214067459106445, 3.653012990951538, 3.028481960296631, 4.037869453430176, 6.4859795570373535, 8.568140029907227, 14.482073783874512, 7.095999717712402, 7.128089427947998, 5.124918460845947, 4.426417350769043, 4.60709810256958, 5.24509334564209, 7.148381233215332, 4.372655868530273, 4.744011402130127, 4.305039405822754, 3.9746782779693604, 3.9569296836853027, 2.379922866821289, 2.3775432109832764, 1.6142244338989258, 1.6142241954803467, 1.614223837852478, 1.6142231225967407, 1.606495976448059, 1.606073021888733, 1.5959669351577759, 3.126650094985962, 0.8330488801002502, 0.8330488801002502, 0.8330487012863159, 0.8330482244491577, 0.8330483436584473, 0.8330484628677368, 0.8330482244491577, 0.8330482244491577, 0.8330481052398682, 0.8330484628677368, 0.8330481052398682, 0.8330482244491577, 0.8330481052398682, 0.8330477476119995, 0.83304762840271, 0.83304762840271, 0.8330478668212891, 0.8330478668212891, 0.8330479860305786, 0.8330477476119995, 0.8330479860305786, 0.8330478668212891, 0.8330479860305786, 0.8330478668212891, 0.8330479860305786, 0.8330478668212891, 1.5965931415557861, 1.5106995105743408, 3.0064704418182373, 9.55078125, 9.42979621887207, 4.324979782104492, 1.1576496362686157, 2.395376682281494, 3.4585585594177246, 1.410799503326416, 3.168792486190796, 4.610803604125977, 3.914593458175659, 1.6141811609268188, 1.614225149154663, 13.048852920532227, 2.3246476650238037, 12.285930633544922, 2.387624979019165, 2.7219109535217285, 5.182093620300293, 3.9499402046203613, 17.781705856323242, 8.25088882446289, 8.90786075592041, 11.222797393798828, 4.4649658203125, 4.650127410888672, 4.196365833282471, 3.9527807235717773, 10.841289520263672, 4.647730350494385, 3.6898396015167236, 8.241374969482422, 4.3075714111328125, 4.636861324310303, 3.701366424560547, 3.699239492416382, 3.637293577194214, 3.637699604034424, 3.475864887237549, 3.4007530212402344, 3.463909149169922, 4.657950401306152, 3.6946587562561035, 2.3547275066375732, 2.3547275066375732, 2.3547255992889404, 1.593259334564209, 2.3547239303588867, 2.3493824005126953, 0.826185405254364, 0.8261853456497192, 0.8261849284172058, 0.826184868812561, 0.8261849284172058, 0.8261849284172058, 0.8261850476264954, 0.8261850476264954, 0.8261847496032715, 0.8261849284172058, 0.826184868812561, 0.8261846303939819, 0.8261845111846924, 0.8261845111846924, 0.8261845111846924, 0.8261846303939819, 0.8261846303939819, 0.8261846303939819, 0.8261845707893372, 0.8261845707893372, 0.8261840343475342, 0.8261843919754028, 0.8261842131614685, 0.8261842131614685, 1.5931905508041382, 0.8261842131614685, 4.648330211639404, 1.600913166999817, 1.6009242534637451, 1.5932049751281738, 1.5820386409759521, 4.667548179626465, 5.339282989501953, 2.3583881855010986, 1.4382359981536865, 3.140014886856079, 6.712478160858154, 3.9041545391082764, 3.774575710296631, 1.6009244918823242, 3.1006407737731934, 1.6009249687194824, 1.6009235382080078, 24.62480926513672, 2.375622034072876, 6.2618255615234375, 2.367952823638916, 2.898270606994629, 2.3679795265197754, 7.2628936767578125, 6.1397223472595215, 20.494659423828125, 16.4507999420166, 5.4401469230651855, 6.261178493499756, 8.482925415039062, 6.927469253540039, 7.432555675506592, 4.280580520629883, 3.6500048637390137, 4.135160446166992, 6.136742115020752, 4.658870697021484, 4.8132452964782715, 4.0373215675354, 4.908932209014893, 4.001860618591309, 4.391875743865967, 4.992150783538818, 4.138485431671143, 4.01870584487915, 3.9250574111938477, 3.9337306022644043, 2.301396608352661, 1.550894021987915, 1.5434677600860596, 1.5434725284576416, 1.5434736013412476, 1.4913996458053589, 1.219435214996338, 0.8003766536712646, 0.8003767728805542, 0.8003767728805542, 0.8003767728805542, 0.8003765940666199, 0.8003767728805542, 0.8003764748573303, 0.8003764152526855, 0.8003764152526855, 0.8003761172294617, 0.800376296043396, 0.8003764152526855, 0.8003762364387512, 0.8003761172294617, 0.8003758788108826, 0.8003760576248169, 0.8003756999969482, 0.8003756999969482, 0.8003760576248169, 0.8003756999969482, 0.8003756999969482, 0.8003758788108826, 0.800375759601593, 0.8003758788108826, 0.8003760576248169, 0.8003759384155273, 0.8003756999969482, 0.800375759601593, 5.046504020690918, 0.8003756999969482, 1.5434726476669312, 2.293973922729492, 2.2770071029663086, 10.368392944335938, 1.8020963668823242, 2.4251708984375, 9.258665084838867, 2.9851813316345215, 3.003610372543335, 3.602653741836548, 8.423325538635254, 2.2558982372283936, 1.5508944988250732, 3.554053783416748, 6.161567211151123, 2.301396608352661, 2.859706401824951, 7.1109619140625, 1.5434733629226685, 5.4097065925598145, 1.550895094871521, 7.822873592376709, 17.76900291442871, 5.800343036651611, 5.440532684326172, 4.021013259887695, 3.0345611572265625, 6.666733264923096, 3.7996573448181152, 9.578248023986816, 4.797915458679199, 3.1747169494628906, 4.576079368591309, 5.522103786468506, 6.461221694946289, 4.498968601226807, 3.877535581588745, 3.8098034858703613, 3.7013330459594727, 3.314605951309204, 3.199995279312134, 3.141580104827881, 3.115784168243408, 1.538345217704773, 1.5383442640304565, 1.5309395790100098, 2.2634835243225098, 0.7939004302024841, 0.7939000129699707, 0.7938997149467468, 0.793899655342102, 0.793899655342102, 0.793899655342102, 0.793899655342102, 0.7938998341560364, 0.793899655342102, 0.7938994765281677, 0.7938994765281677, 0.7938994765281677, 0.7938991785049438, 0.7938994765281677, 0.7938994765281677, 0.7938991785049438, 0.7938994765281677, 0.7938993573188782, 0.79389888048172, 0.79389888048172, 0.7938990592956543, 0.7938989400863647, 0.7938990592956543, 0.79389888048172, 0.79389888048172, 0.79389888048172, 0.7938990592956543, 0.79389888048172, 0.79389888048172, 0.79389888048172, 1.5383130311965942, 0.79389888048172, 0.79389888048172, 1.53097665309906, 1.521308422088623, 1.5309778451919556, 1.5383418798446655, 1.538173794746399, 6.776564121246338, 4.273083209991455, 6.122217655181885, 2.282768726348877, 2.8700246810913086, 2.275397300720215, 1.5309791564941406, 3.2460615634918213, 2.8500125408172607, 1.5214951038360596, 1.5383418798446655, 5.2448625564575195, 8.417291641235352, 5.198568344116211, 3.1535446643829346, 4.471157073974609, 1.5383418798446655, 2.2753961086273193, 1.016445517539978, 3.027184247970581, 1.5383464097976685, 7.832950592041016, 4.80434513092041, 4.886288166046143, 5.247008800506592, 3.688211679458618, 11.75684642791748, 12.689800262451172, 3.0255978107452393, 3.003916025161743, 2.9083049297332764, 5.118249416351318, 4.900001525878906, 4.289114952087402, 3.771597385406494, 3.7432193756103516, 4.515793800354004, 6.065309047698975, 3.04042387008667, 3.616393804550171, 3.1013495922088623, 3.047476053237915, 2.2807745933532715, 4.473264217376709, 2.1510496139526367, 1.5370030403137207, 1.5296318531036377, 1.5296434164047241, 1.519667387008667, 1.5039783716201782, 1.478408694267273, 1.4780288934707642, 2.925781011581421, 2.1824162006378174, 1.7064753770828247, 4.42905855178833, 0.7932103872299194, 0.7932104468345642, 0.7932103872299194, 0.7932100892066956, 0.7932100892066956, 0.7932100892066956, 0.7932102680206299, 0.7932098507881165, 0.7932097911834717, 0.7932100296020508, 0.7932096719741821, 0.7932096123695374, 0.7932098507881165, 0.7932098507881165, 0.7932097911834717, 0.7932096123695374, 0.7932097911834717, 0.7932097911834717, 0.7932096719741821, 1.537001132965088, 1.178433895111084, 1.5370018482208252, 9.005114555358887, 8.211627960205078, 1.4781019687652588, 3.0010247230529785, 1.5370018482208252, 1.5370032787322998, 1.5370047092437744, 8.477243423461914, 2.8802614212036133, 8.523574829101562, 5.337226390838623, 7.467651844024658, 9.128596305847168, 3.6963560581207275, 5.255838871002197, 7.459811687469482, 4.968444347381592, 13.862414360046387, 11.35865592956543, 5.151154518127441, 7.850643157958984, 4.218854904174805, 3.765251874923706, 3.025327205657959, 3.3703198432922363, 2.2734153270721436, 2.2807722091674805, 3.0352821350097656, 2.877074718475342, 3.0245373249053955, 3.3031389713287354, 3.7177717685699463, 2.9264652729034424], \"Total\": [387.0, 103.0, 508.0, 133.0, 28.0, 105.0, 92.0, 50.0, 189.0, 89.0, 55.0, 29.0, 83.0, 39.0, 35.0, 31.0, 85.0, 354.0, 88.0, 83.0, 39.0, 13.0, 29.0, 71.0, 20.0, 100.0, 21.0, 28.0, 12.0, 47.0, 4.307415962219238, 3.437347888946533, 3.4368927478790283, 3.4368436336517334, 10.10702133178711, 2.5604655742645264, 2.5604655742645264, 2.560464859008789, 2.5603768825531006, 2.56024169921875, 2.55991268157959, 2.560468912124634, 2.5592892169952393, 2.5600409507751465, 2.5598256587982178, 2.5598232746124268, 50.59041976928711, 2.5550761222839355, 5.188745975494385, 6.776996612548828, 4.243967533111572, 4.2740325927734375, 4.316216468811035, 26.136234283447266, 1.6835352182388306, 1.6835352182388306, 1.6835349798202515, 1.6835352182388306, 1.6835352182388306, 1.6835352182388306, 1.6835352182388306, 4.962231159210205, 4.989274978637695, 10.082669258117676, 6.732489585876465, 3.3695902824401855, 3.3963754177093506, 83.8243179321289, 508.8664245605469, 20.77066421508789, 9.17743968963623, 15.938325881958008, 13.524240493774414, 81.96439361572266, 7.60964298248291, 7.501735687255859, 133.98545837402344, 31.352182388305664, 25.85880470275879, 22.71168327331543, 52.38652038574219, 24.829313278198242, 103.69644927978516, 354.8329162597656, 105.85558319091797, 23.9140625, 387.6459045410156, 64.37826538085938, 27.837791442871094, 24.216035842895508, 18.360570907592773, 51.511962890625, 98.78013610839844, 54.7021598815918, 22.88304328918457, 38.85236358642578, 62.83643341064453, 71.43669128417969, 92.96212005615234, 189.8968505859375, 85.11298370361328, 64.7220230102539, 4.322347640991211, 29.458118438720703, 3.4453372955322266, 31.968673706054688, 2.5664899349212646, 2.5664877891540527, 2.5663936138153076, 2.5654873847961426, 2.5632870197296143, 7.726436138153076, 7.7009148597717285, 4.25536584854126, 2.5590426921844482, 4.226102352142334, 8.535868644714355, 5.881894111633301, 9.273289680480957, 8.44469928741455, 6.043523788452148, 1.6865605115890503, 1.6865605115890503, 1.6865602731704712, 1.686560034751892, 1.6865602731704712, 1.6865602731704712, 1.6865602731704712, 1.686559796333313, 1.686559796333313, 1.686559796333313, 1.6865595579147339, 387.6459045410156, 27.633359909057617, 14.238715171813965, 5.026943206787109, 3.347459554672241, 92.96212005615234, 3.3628060817718506, 3.3741495609283447, 5.159940719604492, 3.442965030670166, 5.034034729003906, 11.930062294006348, 25.369043350219727, 71.43669128417969, 48.09512710571289, 23.9140625, 10.532010078430176, 13.068668365478516, 508.8664245605469, 37.87682342529297, 8.266478538513184, 105.85558319091797, 354.8329162597656, 52.38652038574219, 81.96439361572266, 62.83643341064453, 189.8968505859375, 98.78013610839844, 51.92927551269531, 47.7238655090332, 88.47161865234375, 44.53779602050781, 67.32888793945312, 89.78041076660156, 32.63203430175781, 64.7220230102539, 39.557533264160156, 54.7021598815918, 6.79050874710083, 4.227870941162109, 4.230992794036865, 2.5172367095947266, 2.5172367095947266, 2.5172340869903564, 2.5172340869903564, 2.517209529876709, 2.517178535461426, 2.515892744064331, 16.894182205200195, 2.5092406272888184, 4.172778129577637, 8.429743766784668, 25.135475158691406, 1.6619435548782349, 1.6619435548782349, 1.6619433164596558, 1.6619433164596558, 1.6619433164596558, 1.6619430780410767, 1.6619430780410767, 1.6619433164596558, 1.6619433164596558, 1.6619430780410767, 1.6619435548782349, 1.6619433164596558, 1.6619435548782349, 1.6619430780410767, 1.6619430780410767, 1.6619433164596558, 32.00899887084961, 3.2614407539367676, 3.29177188873291, 3.2916853427886963, 3.298208475112915, 9.851766586303711, 3.3542747497558594, 3.3540573120117188, 8.44363784790039, 3.3965256214141846, 3.392303705215454, 4.99270486831665, 4.180623531341553, 12.315196990966797, 7.437180995941162, 5.698086261749268, 354.8329162597656, 5.8000593185424805, 88.47161865234375, 31.71139144897461, 103.69644927978516, 16.416522979736328, 25.85880470275879, 105.85558319091797, 20.89595603942871, 387.6459045410156, 39.72633743286133, 17.192811965942383, 508.8664245605469, 17.502119064331055, 81.96439361572266, 30.02639389038086, 133.98545837402344, 20.738388061523438, 40.285709381103516, 98.78013610839844, 30.249662399291992, 52.42230224609375, 46.77243423461914, 189.8968505859375, 51.92927551269531, 89.78041076660156, 67.32888793945312, 21.62659454345703, 85.11298370361328, 50.59041976928711, 64.7220230102539, 51.2367057800293, 49.78894805908203, 5.896713733673096, 5.858611106872559, 2.5044257640838623, 2.5044238567352295, 2.5044217109680176, 2.5044217109680176, 2.504422664642334, 2.504418134689331, 2.5048651695251465, 2.5027146339416504, 2.5001978874206543, 2.508866786956787, 9.183831214904785, 2.4949347972869873, 6.569484710693359, 1.6555613279342651, 1.6555613279342651, 1.6555613279342651, 1.655561089515686, 1.655560851097107, 1.655561089515686, 1.655561089515686, 1.655561089515686, 1.655561089515686, 1.655560851097107, 1.655560851097107, 1.655560851097107, 1.655561089515686, 1.655560851097107, 1.655560851097107, 1.655561089515686, 3.2485315799713135, 103.69644927978516, 1.655560851097107, 4.113142490386963, 8.231526374816895, 3.3183581829071045, 3.3110387325286865, 3.359468460083008, 3.289961099624634, 3.3793373107910156, 133.98545837402344, 11.404184341430664, 10.787809371948242, 15.07271957397461, 20.341726303100586, 100.64676666259766, 52.42230224609375, 28.84821891784668, 14.549169540405273, 19.827796936035156, 508.8664245605469, 39.66386795043945, 12.193804740905762, 387.6459045410156, 85.11298370361328, 35.78646469116211, 13.285426139831543, 13.198856353759766, 16.792339324951172, 354.8329162597656, 51.2367057800293, 22.60456657409668, 32.26959228515625, 81.96439361572266, 105.85558319091797, 189.8968505859375, 67.32888793945312, 92.96212005615234, 71.43669128417969, 51.511962890625, 54.7021598815918, 83.8243179321289, 4.15595006942749, 4.156088829040527, 12.466330528259277, 3.3166158199310303, 2.481367826461792, 2.4812216758728027, 2.481128215789795, 2.481127977371216, 2.481128454208374, 2.4811294078826904, 2.481130599975586, 2.481128454208374, 2.4804275035858154, 4.899867057800293, 2.481649398803711, 3.3045003414154053, 2.4794795513153076, 7.4806365966796875, 12.416298866271973, 4.061990261077881, 4.130115032196045, 10.766557693481445, 11.411791801452637, 2.49566650390625, 1.6440383195877075, 1.6440380811691284, 1.6440380811691284, 1.6440380811691284, 1.6440380811691284, 1.6440373659133911, 1.6440373659133911, 3.224987268447876, 17.848602294921875, 4.946800708770752, 4.935578346252441, 3.290489912033081, 5.02205228805542, 24.944072723388672, 39.557533264160156, 28.41013526916504, 31.27973175048828, 12.423564910888672, 83.67147064208984, 88.47161865234375, 29.29119873046875, 42.33114242553711, 45.34712219238281, 89.78041076660156, 13.242319107055664, 51.2367057800293, 354.8329162597656, 55.58759307861328, 27.18682861328125, 29.963624954223633, 27.837791442871094, 105.7377700805664, 51.511962890625, 51.92927551269531, 51.37241744995117, 508.8664245605469, 31.104963302612305, 189.8968505859375, 49.527122497558594, 387.6459045410156, 81.96439361572266, 2.4351372718811035, 2.4351377487182617, 2.435136556625366, 2.4351367950439453, 2.4351346492767334, 2.435133934020996, 2.435133934020996, 2.435025215148926, 3.2383852005004883, 2.4357709884643555, 2.4357736110687256, 2.4357759952545166, 2.4357757568359375, 2.435776948928833, 4.859988689422607, 22.698884963989258, 1.6209324598312378, 1.6209322214126587, 1.6209319829940796, 1.6209324598312378, 1.6209322214126587, 1.6209322214126587, 1.6209317445755005, 1.6209315061569214, 1.6209315061569214, 1.6209317445755005, 1.6209317445755005, 1.6209319829940796, 1.6209315061569214, 1.6209317445755005, 1.6209315061569214, 3.179405450820923, 1.6209315061569214, 3.2100653648376465, 3.216747999191284, 6.557504177093506, 3.2427945137023926, 3.2442586421966553, 7.987435340881348, 6.414695739746094, 22.62413215637207, 4.9814934730529785, 3.290081262588501, 3.2900781631469727, 15.253203392028809, 27.718795776367188, 33.36981201171875, 83.8243179321289, 189.8968505859375, 9.841498374938965, 47.30110549926758, 89.78041076660156, 9.125682830810547, 88.47161865234375, 51.511962890625, 59.72013473510742, 23.669153213500977, 24.630935668945312, 17.205379486083984, 508.8664245605469, 17.192811965942383, 10.794492721557617, 64.37826538085938, 32.63203430175781, 18.242353439331055, 39.307613372802734, 354.8329162597656, 64.7220230102539, 51.37241744995117, 100.64676666259766, 46.77243423461914, 51.2367057800293, 387.6459045410156, 105.85558319091797, 44.53779602050781, 48.09512710571289, 105.7377700805664, 133.98545837402344, 13.756548881530762, 12.136515617370605, 3.234835386276245, 3.2351222038269043, 3.235307216644287, 3.2349538803100586, 2.425504207611084, 2.425503969192505, 2.425503969192505, 2.4255027770996094, 2.4255013465881348, 2.4255008697509766, 2.425499439239502, 2.424846887588501, 2.4248504638671875, 2.424849510192871, 2.425767421722412, 2.4253008365631104, 4.016063690185547, 5.747673511505127, 1.6161218881607056, 1.6161216497421265, 1.6161218881607056, 1.6161211729049683, 1.6161211729049683, 1.6161211729049683, 1.6161209344863892, 1.6161214113235474, 1.6161211729049683, 1.6161209344863892, 1.6161216497421265, 1.6161211729049683, 1.6161214113235474, 1.6161211729049683, 1.6161214113235474, 3.175844192504883, 1.6161214113235474, 4.892446517944336, 3.2335259914398193, 3.2387821674346924, 3.3020377159118652, 9.698530197143555, 12.096362113952637, 16.84665298461914, 4.885853290557861, 5.613320827484131, 49.527122497558594, 9.964959144592285, 22.69832420349121, 7.404656410217285, 14.621049880981445, 16.320955276489258, 40.285709381103516, 508.8664245605469, 71.43669128417969, 39.27946853637695, 83.67147064208984, 105.7377700805664, 24.216035842895508, 42.33114242553711, 59.72013473510742, 30.86652374267578, 41.162384033203125, 189.8968505859375, 47.30110549926758, 26.766176223754883, 133.98545837402344, 64.37826538085938, 354.8329162597656, 35.26591491699219, 22.358078002929688, 98.78013610839844, 64.7220230102539, 100.64676666259766, 51.511962890625, 4.038338661193848, 4.038322925567627, 4.0383219718933105, 4.038321495056152, 4.038320064544678, 3.2382454872131348, 2.422560691833496, 2.4230356216430664, 2.422987461090088, 2.4141433238983154, 5.651208400726318, 5.6988725662231445, 7.239639759063721, 2.4122023582458496, 1.6146572828292847, 1.6146572828292847, 1.6146563291549683, 1.6146565675735474, 1.6146563291549683, 1.6146563291549683, 1.6146563291549683, 1.6146568059921265, 1.6146565675735474, 1.6146563291549683, 1.6146563291549683, 1.6146565675735474, 1.6146570444107056, 1.6146565675735474, 1.6146565675735474, 1.6146560907363892, 1.6146563291549683, 35.08406066894531, 3.1729798316955566, 3.1970884799957275, 3.2068252563476562, 4.945982456207275, 3.2775015830993652, 3.2990939617156982, 7.276499271392822, 9.728093147277832, 6.555243015289307, 105.7377700805664, 4.867725849151611, 9.499481201171875, 8.153336524963379, 27.18682861328125, 8.128026962280273, 39.307613372802734, 89.78041076660156, 7.279344081878662, 354.8329162597656, 38.85236358642578, 13.964752197265625, 26.766176223754883, 14.8384370803833, 16.205421447753906, 20.89595603942871, 55.58759307861328, 27.718795776367188, 508.8664245605469, 16.84665298461914, 67.32888793945312, 40.285709381103516, 387.6459045410156, 85.11298370361328, 98.78013610839844, 189.8968505859375, 46.77243423461914, 105.85558319091797, 44.53779602050781, 64.7220230102539, 18.952991485595703, 35.26591491699219, 49.78894805908203, 133.98545837402344, 100.64676666259766, 83.67147064208984, 5.5854997634887695, 7.170835494995117, 28.914318084716797, 3.1980538368225098, 5.632025718688965, 2.3997440338134766, 2.3997344970703125, 2.400350332260132, 2.4020867347717285, 2.402092456817627, 2.4020917415618896, 2.40151047706604, 2.3920583724975586, 3.9405770301818848, 2.4127426147460938, 1.6033166646957397, 1.6033164262771606, 1.6033164262771606, 1.6033169031143188, 1.6033166646957397, 1.6033159494400024, 1.6033159494400024, 1.6033161878585815, 1.6033157110214233, 1.6033161878585815, 1.6033161878585815, 1.6033157110214233, 1.6033161878585815, 1.6033159494400024, 1.6033161878585815, 1.6033164262771606, 1.6033164262771606, 1.6033161878585815, 1.6033164262771606, 1.6033157110214233, 1.6033157110214233, 1.6033159494400024, 1.6033157110214233, 1.6033159494400024, 1.6033159494400024, 1.6033157110214233, 3.150089979171753, 3.1505837440490723, 1.6033161878585815, 3.2137956619262695, 5.649153232574463, 8.044084548950195, 4.9317240715026855, 3.2479615211486816, 3.280208110809326, 16.693115234375, 5.532854080200195, 7.935801029205322, 5.697756290435791, 8.215873718261719, 47.7238655090332, 39.307613372802734, 189.8968505859375, 47.30110549926758, 59.72013473510742, 13.05774211883545, 85.11298370361328, 98.78013610839844, 62.83643341064453, 64.37826538085938, 508.8664245605469, 32.205360412597656, 354.8329162597656, 21.86670684814453, 20.75566864013672, 48.09512710571289, 92.96212005615234, 52.38652038574219, 88.47161865234375, 49.78894805908203, 83.8243179321289, 105.7377700805664, 100.64676666259766, 133.98545837402344, 105.85558319091797, 32.475433349609375, 41.162384033203125, 35.26591491699219, 4.741993427276611, 3.944920063018799, 3.160907506942749, 2.3757529258728027, 2.375751256942749, 2.37575101852417, 2.375656843185425, 2.375838041305542, 2.3761966228485107, 2.3754794597625732, 11.86448860168457, 2.3802669048309326, 2.3802108764648438, 13.477867126464844, 4.037012577056885, 3.1522088050842285, 7.208218097686768, 1.5912643671035767, 1.5912638902664185, 1.5912641286849976, 1.5912636518478394, 1.5912641286849976, 1.5912638902664185, 1.5912636518478394, 1.5912641286849976, 1.5912636518478394, 1.5912636518478394, 1.5912641286849976, 1.5912638902664185, 1.5912636518478394, 14.439772605895996, 3.150240659713745, 4.708691596984863, 3.183872938156128, 3.252288579940796, 39.66386795043945, 7.124297618865967, 5.651538848876953, 10.445876121520996, 32.562660217285156, 15.036033630371094, 8.982002258300781, 8.933121681213379, 51.92927551269531, 62.83643341064453, 32.38228225708008, 354.8329162597656, 29.326984405517578, 85.11298370361328, 12.933662414550781, 92.96212005615234, 8.928471565246582, 16.193992614746094, 12.251407623291016, 8.936436653137207, 16.693115234375, 47.7238655090332, 98.78013610839844, 387.6459045410156, 100.64676666259766, 105.7377700805664, 39.307613372802734, 26.307737350463867, 32.205360412597656, 51.2367057800293, 508.8664245605469, 39.27946853637695, 71.43669128417969, 49.527122497558594, 133.98545837402344, 35.26591491699219, 3.151785135269165, 3.150115966796875, 2.369145154953003, 2.369144916534424, 2.3691446781158447, 2.3691439628601074, 2.369692802429199, 2.369447946548462, 2.370619773864746, 4.679915904998779, 1.587969422340393, 1.587969422340393, 1.587969422340393, 1.5879689455032349, 1.5879689455032349, 1.587969183921814, 1.5879689455032349, 1.5879689455032349, 1.5879687070846558, 1.587969183921814, 1.5879687070846558, 1.5879689455032349, 1.5879687070846558, 1.5879684686660767, 1.5879682302474976, 1.5879682302474976, 1.5879684686660767, 1.5879684686660767, 1.5879687070846558, 1.5879684686660767, 1.5879687070846558, 1.5879684686660767, 1.5879687070846558, 1.5879684686660767, 1.5879687070846558, 1.5879684686660767, 3.207798480987549, 3.1870110034942627, 7.415632247924805, 29.963624954223633, 30.249662399291992, 12.027749061584473, 2.3777883052825928, 6.366296291351318, 10.424626350402832, 3.228137969970703, 9.636907577514648, 16.12662124633789, 12.946056365966797, 3.9504122734069824, 3.9890522956848145, 83.67147064208984, 7.219436168670654, 98.78013610839844, 8.108929634094238, 10.692331314086914, 31.104963302612305, 21.723854064941406, 354.8329162597656, 85.11298370361328, 100.64676666259766, 189.8968505859375, 29.326984405517578, 35.78646469116211, 29.29119873046875, 28.41013526916504, 508.8664245605469, 45.34712219238281, 28.242515563964844, 387.6459045410156, 52.38652038574219, 71.43669128417969, 37.87682342529297, 46.77243423461914, 49.78894805908203, 67.32888793945312, 47.7238655090332, 35.26591491699219, 81.96439361572266, 5.459263801574707, 4.684219837188721, 3.132983446121216, 3.1330623626708984, 3.133108377456665, 2.3559608459472656, 3.9140443801879883, 4.010348320007324, 1.5815349817276, 1.5815349817276, 1.581534504890442, 1.581534504890442, 1.581534504890442, 1.581534504890442, 1.581534743309021, 1.581534743309021, 1.5815342664718628, 1.581534504890442, 1.581534504890442, 1.5815342664718628, 1.5815340280532837, 1.5815340280532837, 1.5815340280532837, 1.5815342664718628, 1.5815342664718628, 1.5815342664718628, 1.5815342664718628, 1.5815342664718628, 1.5815335512161255, 1.5815340280532837, 1.5815337896347046, 1.5815337896347046, 3.1000380516052246, 1.5815337896347046, 9.448334693908691, 3.16392183303833, 3.2112183570861816, 3.197117805480957, 3.213747501373291, 11.845223426818848, 14.481559753417969, 5.698086261749268, 3.138988494873047, 8.650301933288574, 24.143157958984375, 11.92070484161377, 12.165619850158691, 3.8962175846099854, 9.674213409423828, 3.9144787788391113, 3.9144742488861084, 189.8968505859375, 7.111756324768066, 28.902996063232422, 7.124297618865967, 9.73253059387207, 7.2486572265625, 51.37241744995117, 45.34712219238281, 508.8664245605469, 354.8329162597656, 44.53779602050781, 64.7220230102539, 133.98545837402344, 85.11298370361328, 105.85558319091797, 32.63203430175781, 22.102142333984375, 31.71139144897461, 103.69644927978516, 48.09512710571289, 59.72013473510742, 35.26591491699219, 105.7377700805664, 47.7238655090332, 98.78013610839844, 387.6459045410156, 88.47161865234375, 83.67147064208984, 52.42230224609375, 64.37826538085938, 3.0583605766296387, 2.3078579902648926, 2.308088779449463, 2.3088886737823486, 2.308891534805298, 2.3117728233337402, 2.3049795627593994, 1.5573405027389526, 1.5573407411575317, 1.5573407411575317, 1.5573407411575317, 1.5573405027389526, 1.5573407411575317, 1.557340383529663, 1.5573402643203735, 1.5573402643203735, 1.5573400259017944, 1.5573402643203735, 1.5573402643203735, 1.557340145111084, 1.5573400259017944, 1.5573397874832153, 1.5573400259017944, 1.5573395490646362, 1.5573395490646362, 1.5573400259017944, 1.5573395490646362, 1.5573395490646362, 1.5573397874832153, 1.5573396682739258, 1.5573397874832153, 1.5573400259017944, 1.5573397874832153, 1.5573395490646362, 1.5573396682739258, 10.045835494995117, 1.5573395490646362, 3.0900745391845703, 4.713083744049072, 4.760688781738281, 28.899433135986328, 3.9760560989379883, 5.6179399490356445, 31.218921661376953, 7.8899312019348145, 7.950987339019775, 10.457364082336426, 32.26959228515625, 6.388990879058838, 3.9468345642089844, 12.838651657104492, 29.590450286865234, 7.249593734741211, 11.938066482543945, 54.7021598815918, 4.5941362380981445, 41.162384033203125, 4.788766384124756, 83.67147064208984, 354.8329162597656, 55.58759307861328, 49.78894805908203, 28.242515563964844, 17.173011779785156, 133.98545837402344, 33.36981201171875, 508.8664245605469, 81.96439361572266, 22.102142333984375, 85.11298370361328, 189.8968505859375, 387.6459045410156, 98.78013610839844, 62.83643341064453, 64.37826538085938, 64.7220230102539, 37.87682342529297, 46.77243423461914, 32.562660217285156, 31.27973175048828, 2.2957141399383545, 2.295713186264038, 2.2965846061706543, 3.8001315593719482, 1.5512694120407104, 1.5512689352035522, 1.5512686967849731, 1.5512685775756836, 1.5512685775756836, 1.5512685775756836, 1.5512685775756836, 1.5512686967849731, 1.5512685775756836, 1.551268458366394, 1.551268458366394, 1.551268458366394, 1.5512681007385254, 1.551268458366394, 1.551268458366394, 1.5512681007385254, 1.551268458366394, 1.551268219947815, 1.5512677431106567, 1.5512677431106567, 1.5512679815292358, 1.5512678623199463, 1.5512679815292358, 1.5512677431106567, 1.5512677431106567, 1.5512677431106567, 1.5512679815292358, 1.5512677431106567, 1.5512677431106567, 1.5512677431106567, 3.039306879043579, 1.5512677431106567, 1.5512677431106567, 3.077982187271118, 3.079376459121704, 3.1109745502471924, 3.171828031539917, 3.1719424724578857, 17.374858856201172, 11.060968399047852, 17.173011779785156, 5.575916290283203, 7.919641971588135, 6.376099586486816, 3.8215548992156982, 10.995332717895508, 9.439202308654785, 3.8864846229553223, 4.009286403656006, 25.25275421142578, 55.58759307861328, 29.326984405517578, 13.57784366607666, 26.307737350463867, 4.5941362380981445, 8.875984191894531, 2.344337224960327, 15.253203392028809, 4.7656354904174805, 89.78041076660156, 39.72633743286133, 42.33114242553711, 52.42230224609375, 24.944072723388672, 354.8329162597656, 508.8664245605469, 17.188199996948242, 18.242353439331055, 17.848602294921875, 88.47161865234375, 83.67147064208984, 67.32888793945312, 44.53779602050781, 46.77243423461914, 105.85558319091797, 387.6459045410156, 22.88304328918457, 85.11298370361328, 64.7220230102539, 62.83643341064453, 3.038187026977539, 6.103475570678711, 3.0481839179992676, 2.2944154739379883, 2.2950305938720703, 2.295722007751465, 2.296809196472168, 2.2972402572631836, 2.2942938804626465, 2.29624080657959, 4.568268775939941, 3.851318120956421, 3.1426243782043457, 8.569520950317383, 1.5506227016448975, 1.550622820854187, 1.5506227016448975, 1.5506224632263184, 1.5506224632263184, 1.5506224632263184, 1.5506227016448975, 1.5506222248077393, 1.5506222248077393, 1.5506224632263184, 1.5506219863891602, 1.5506219863891602, 1.5506222248077393, 1.5506222248077393, 1.5506222248077393, 1.5506219863891602, 1.5506222248077393, 1.5506222248077393, 1.5506219863891602, 3.0447561740875244, 2.3249094486236572, 3.1083462238311768, 20.738388061523438, 21.62659454345703, 3.1364755630493164, 7.824411869049072, 3.906040668487549, 3.9212288856506348, 3.963280200958252, 55.58759307861328, 11.92070484161377, 67.32888793945312, 33.36981201171875, 64.7220230102539, 100.64676666259766, 22.88304328918457, 47.30110549926758, 105.85558319091797, 49.78894805908203, 508.8664245605469, 354.8329162597656, 54.7021598815918, 189.8968505859375, 45.34712219238281, 35.78646469116211, 18.518722534179688, 28.902996063232422, 9.463753700256348, 9.669061660766602, 32.38228225708008, 28.242515563964844, 41.162384033203125, 83.67147064208984, 387.6459045410156, 51.2367057800293], \"Category\": [\"Default\", \"Default\", \"Default\", \"Default\", \"Default\", \"Default\", \"Default\", \"Default\", \"Default\", \"Default\", \"Default\", \"Default\", \"Default\", \"Default\", \"Default\", \"Default\", \"Default\", \"Default\", \"Default\", \"Default\", \"Default\", \"Default\", \"Default\", \"Default\", \"Default\", \"Default\", \"Default\", \"Default\", \"Default\", \"Default\", \"Topic1\", \"Topic1\", \"Topic1\", \"Topic1\", \"Topic1\", \"Topic1\", \"Topic1\", \"Topic1\", \"Topic1\", \"Topic1\", \"Topic1\", \"Topic1\", \"Topic1\", \"Topic1\", \"Topic1\", \"Topic1\", \"Topic1\", \"Topic1\", \"Topic1\", \"Topic1\", \"Topic1\", \"Topic1\", \"Topic1\", \"Topic1\", \"Topic1\", \"Topic1\", \"Topic1\", \"Topic1\", \"Topic1\", \"Topic1\", \"Topic1\", \"Topic1\", \"Topic1\", \"Topic1\", \"Topic1\", \"Topic1\", \"Topic1\", \"Topic1\", \"Topic1\", \"Topic1\", \"Topic1\", \"Topic1\", \"Topic1\", \"Topic1\", \"Topic1\", \"Topic1\", \"Topic1\", \"Topic1\", \"Topic1\", \"Topic1\", \"Topic1\", \"Topic1\", \"Topic1\", \"Topic1\", \"Topic1\", \"Topic1\", \"Topic1\", \"Topic1\", \"Topic1\", \"Topic1\", \"Topic1\", \"Topic1\", \"Topic1\", \"Topic1\", \"Topic1\", \"Topic1\", \"Topic1\", \"Topic1\", \"Topic1\", \"Topic1\", \"Topic1\", \"Topic1\", \"Topic2\", \"Topic2\", \"Topic2\", \"Topic2\", \"Topic2\", \"Topic2\", \"Topic2\", \"Topic2\", \"Topic2\", \"Topic2\", \"Topic2\", \"Topic2\", \"Topic2\", \"Topic2\", \"Topic2\", \"Topic2\", \"Topic2\", \"Topic2\", \"Topic2\", \"Topic2\", \"Topic2\", \"Topic2\", \"Topic2\", \"Topic2\", \"Topic2\", \"Topic2\", \"Topic2\", \"Topic2\", \"Topic2\", \"Topic2\", \"Topic2\", \"Topic2\", \"Topic2\", \"Topic2\", \"Topic2\", \"Topic2\", \"Topic2\", \"Topic2\", \"Topic2\", \"Topic2\", \"Topic2\", \"Topic2\", \"Topic2\", \"Topic2\", \"Topic2\", \"Topic2\", \"Topic2\", \"Topic2\", \"Topic2\", \"Topic2\", \"Topic2\", \"Topic2\", \"Topic2\", \"Topic2\", \"Topic2\", \"Topic2\", \"Topic2\", \"Topic2\", \"Topic2\", \"Topic2\", \"Topic2\", \"Topic2\", \"Topic2\", \"Topic2\", \"Topic2\", \"Topic2\", \"Topic2\", \"Topic2\", \"Topic3\", \"Topic3\", \"Topic3\", \"Topic3\", \"Topic3\", \"Topic3\", \"Topic3\", \"Topic3\", \"Topic3\", \"Topic3\", \"Topic3\", \"Topic3\", \"Topic3\", \"Topic3\", \"Topic3\", \"Topic3\", \"Topic3\", \"Topic3\", \"Topic3\", \"Topic3\", \"Topic3\", \"Topic3\", \"Topic3\", \"Topic3\", \"Topic3\", \"Topic3\", \"Topic3\", \"Topic3\", \"Topic3\", \"Topic3\", \"Topic3\", \"Topic3\", \"Topic3\", \"Topic3\", \"Topic3\", \"Topic3\", \"Topic3\", \"Topic3\", \"Topic3\", \"Topic3\", \"Topic3\", \"Topic3\", \"Topic3\", \"Topic3\", \"Topic3\", \"Topic3\", \"Topic3\", \"Topic3\", \"Topic3\", \"Topic3\", \"Topic3\", \"Topic3\", \"Topic3\", \"Topic3\", \"Topic3\", \"Topic3\", \"Topic3\", \"Topic3\", \"Topic3\", \"Topic3\", \"Topic3\", \"Topic3\", \"Topic3\", \"Topic3\", \"Topic3\", \"Topic3\", \"Topic3\", \"Topic3\", \"Topic3\", \"Topic3\", \"Topic3\", \"Topic3\", \"Topic3\", \"Topic3\", \"Topic3\", \"Topic3\", \"Topic3\", \"Topic3\", \"Topic3\", \"Topic3\", \"Topic4\", \"Topic4\", \"Topic4\", \"Topic4\", \"Topic4\", \"Topic4\", \"Topic4\", \"Topic4\", \"Topic4\", \"Topic4\", \"Topic4\", \"Topic4\", \"Topic4\", \"Topic4\", \"Topic4\", \"Topic4\", \"Topic4\", \"Topic4\", \"Topic4\", \"Topic4\", \"Topic4\", \"Topic4\", \"Topic4\", \"Topic4\", \"Topic4\", \"Topic4\", \"Topic4\", \"Topic4\", \"Topic4\", \"Topic4\", \"Topic4\", \"Topic4\", \"Topic4\", \"Topic4\", \"Topic4\", \"Topic4\", \"Topic4\", \"Topic4\", \"Topic4\", \"Topic4\", \"Topic4\", \"Topic4\", \"Topic4\", \"Topic4\", \"Topic4\", \"Topic4\", \"Topic4\", \"Topic4\", \"Topic4\", \"Topic4\", \"Topic4\", \"Topic4\", \"Topic4\", \"Topic4\", \"Topic4\", \"Topic4\", \"Topic4\", \"Topic4\", \"Topic4\", \"Topic4\", \"Topic4\", \"Topic4\", \"Topic4\", \"Topic4\", \"Topic4\", \"Topic4\", \"Topic4\", \"Topic4\", \"Topic4\", \"Topic4\", \"Topic4\", \"Topic4\", \"Topic4\", \"Topic5\", \"Topic5\", \"Topic5\", \"Topic5\", \"Topic5\", \"Topic5\", \"Topic5\", \"Topic5\", \"Topic5\", \"Topic5\", \"Topic5\", \"Topic5\", \"Topic5\", \"Topic5\", \"Topic5\", \"Topic5\", \"Topic5\", \"Topic5\", \"Topic5\", \"Topic5\", \"Topic5\", \"Topic5\", \"Topic5\", \"Topic5\", \"Topic5\", \"Topic5\", \"Topic5\", \"Topic5\", \"Topic5\", \"Topic5\", \"Topic5\", \"Topic5\", \"Topic5\", \"Topic5\", \"Topic5\", \"Topic5\", \"Topic5\", \"Topic5\", \"Topic5\", \"Topic5\", \"Topic5\", \"Topic5\", \"Topic5\", \"Topic5\", \"Topic5\", \"Topic5\", \"Topic5\", \"Topic5\", \"Topic5\", \"Topic5\", \"Topic5\", \"Topic5\", \"Topic5\", \"Topic5\", \"Topic5\", \"Topic5\", \"Topic5\", \"Topic5\", \"Topic5\", \"Topic5\", \"Topic5\", \"Topic5\", \"Topic5\", \"Topic5\", \"Topic5\", \"Topic6\", \"Topic6\", \"Topic6\", \"Topic6\", \"Topic6\", \"Topic6\", \"Topic6\", \"Topic6\", \"Topic6\", \"Topic6\", \"Topic6\", \"Topic6\", \"Topic6\", \"Topic6\", \"Topic6\", \"Topic6\", \"Topic6\", \"Topic6\", \"Topic6\", \"Topic6\", \"Topic6\", \"Topic6\", \"Topic6\", \"Topic6\", \"Topic6\", \"Topic6\", \"Topic6\", \"Topic6\", \"Topic6\", \"Topic6\", \"Topic6\", \"Topic6\", \"Topic6\", \"Topic6\", \"Topic6\", \"Topic6\", \"Topic6\", \"Topic6\", \"Topic6\", \"Topic6\", \"Topic6\", \"Topic6\", \"Topic6\", \"Topic6\", \"Topic6\", \"Topic6\", \"Topic6\", \"Topic6\", \"Topic6\", \"Topic6\", \"Topic6\", \"Topic6\", \"Topic6\", \"Topic6\", \"Topic6\", \"Topic6\", \"Topic6\", \"Topic6\", \"Topic6\", \"Topic6\", \"Topic6\", \"Topic6\", \"Topic6\", \"Topic6\", \"Topic6\", \"Topic6\", \"Topic6\", \"Topic6\", \"Topic6\", \"Topic6\", \"Topic6\", \"Topic6\", \"Topic6\", \"Topic6\", \"Topic6\", \"Topic6\", \"Topic6\", \"Topic6\", \"Topic7\", \"Topic7\", \"Topic7\", \"Topic7\", \"Topic7\", \"Topic7\", \"Topic7\", \"Topic7\", \"Topic7\", \"Topic7\", \"Topic7\", \"Topic7\", \"Topic7\", \"Topic7\", \"Topic7\", \"Topic7\", \"Topic7\", \"Topic7\", \"Topic7\", \"Topic7\", \"Topic7\", \"Topic7\", \"Topic7\", \"Topic7\", \"Topic7\", \"Topic7\", \"Topic7\", \"Topic7\", \"Topic7\", \"Topic7\", \"Topic7\", \"Topic7\", \"Topic7\", \"Topic7\", \"Topic7\", \"Topic7\", \"Topic7\", \"Topic7\", \"Topic7\", \"Topic7\", \"Topic7\", \"Topic7\", \"Topic7\", \"Topic7\", \"Topic7\", \"Topic7\", \"Topic7\", \"Topic7\", \"Topic7\", \"Topic7\", \"Topic7\", \"Topic7\", \"Topic7\", \"Topic7\", \"Topic7\", \"Topic7\", \"Topic7\", \"Topic7\", \"Topic7\", \"Topic7\", \"Topic7\", \"Topic7\", \"Topic7\", \"Topic7\", \"Topic7\", \"Topic7\", \"Topic7\", \"Topic7\", \"Topic7\", \"Topic7\", \"Topic7\", \"Topic7\", \"Topic7\", \"Topic7\", \"Topic7\", \"Topic8\", \"Topic8\", \"Topic8\", \"Topic8\", \"Topic8\", \"Topic8\", \"Topic8\", \"Topic8\", \"Topic8\", \"Topic8\", \"Topic8\", \"Topic8\", \"Topic8\", \"Topic8\", \"Topic8\", \"Topic8\", \"Topic8\", \"Topic8\", \"Topic8\", \"Topic8\", \"Topic8\", \"Topic8\", \"Topic8\", \"Topic8\", \"Topic8\", \"Topic8\", \"Topic8\", \"Topic8\", \"Topic8\", \"Topic8\", \"Topic8\", \"Topic8\", \"Topic8\", \"Topic8\", \"Topic8\", \"Topic8\", \"Topic8\", \"Topic8\", \"Topic8\", \"Topic8\", \"Topic8\", \"Topic8\", \"Topic8\", \"Topic8\", \"Topic8\", \"Topic8\", \"Topic8\", \"Topic8\", \"Topic8\", \"Topic8\", \"Topic8\", \"Topic8\", \"Topic8\", \"Topic8\", \"Topic8\", \"Topic8\", \"Topic8\", \"Topic8\", \"Topic8\", \"Topic8\", \"Topic8\", \"Topic8\", \"Topic8\", \"Topic8\", \"Topic8\", \"Topic8\", \"Topic8\", \"Topic8\", \"Topic8\", \"Topic8\", \"Topic8\", \"Topic8\", \"Topic8\", \"Topic8\", \"Topic8\", \"Topic8\", \"Topic8\", \"Topic9\", \"Topic9\", \"Topic9\", \"Topic9\", \"Topic9\", \"Topic9\", \"Topic9\", \"Topic9\", \"Topic9\", \"Topic9\", \"Topic9\", \"Topic9\", \"Topic9\", \"Topic9\", \"Topic9\", \"Topic9\", \"Topic9\", \"Topic9\", \"Topic9\", \"Topic9\", \"Topic9\", \"Topic9\", \"Topic9\", \"Topic9\", \"Topic9\", \"Topic9\", \"Topic9\", \"Topic9\", \"Topic9\", \"Topic9\", \"Topic9\", \"Topic9\", \"Topic9\", \"Topic9\", \"Topic9\", \"Topic9\", \"Topic9\", \"Topic9\", \"Topic9\", \"Topic9\", \"Topic9\", \"Topic9\", \"Topic9\", \"Topic9\", \"Topic9\", \"Topic9\", \"Topic9\", \"Topic9\", \"Topic9\", \"Topic9\", \"Topic9\", \"Topic9\", \"Topic9\", \"Topic9\", \"Topic9\", \"Topic9\", \"Topic9\", \"Topic9\", \"Topic9\", \"Topic9\", \"Topic9\", \"Topic9\", \"Topic9\", \"Topic9\", \"Topic9\", \"Topic9\", \"Topic9\", \"Topic9\", \"Topic9\", \"Topic9\", \"Topic9\", \"Topic9\", \"Topic9\", \"Topic9\", \"Topic9\", \"Topic9\", \"Topic9\", \"Topic9\", \"Topic9\", \"Topic9\", \"Topic9\", \"Topic9\", \"Topic9\", \"Topic10\", \"Topic10\", \"Topic10\", \"Topic10\", \"Topic10\", \"Topic10\", \"Topic10\", \"Topic10\", \"Topic10\", \"Topic10\", \"Topic10\", \"Topic10\", \"Topic10\", \"Topic10\", \"Topic10\", \"Topic10\", \"Topic10\", \"Topic10\", \"Topic10\", \"Topic10\", \"Topic10\", \"Topic10\", \"Topic10\", \"Topic10\", \"Topic10\", \"Topic10\", \"Topic10\", \"Topic10\", \"Topic10\", \"Topic10\", \"Topic10\", \"Topic10\", \"Topic10\", \"Topic10\", \"Topic10\", \"Topic10\", \"Topic10\", \"Topic10\", \"Topic10\", \"Topic10\", \"Topic10\", \"Topic10\", \"Topic10\", \"Topic10\", \"Topic10\", \"Topic10\", \"Topic10\", \"Topic10\", \"Topic10\", \"Topic10\", \"Topic10\", \"Topic10\", \"Topic10\", \"Topic10\", \"Topic10\", \"Topic10\", \"Topic10\", \"Topic10\", \"Topic10\", \"Topic10\", \"Topic10\", \"Topic10\", \"Topic10\", \"Topic10\", \"Topic10\", \"Topic10\", \"Topic10\", \"Topic10\", \"Topic10\", \"Topic10\", \"Topic10\", \"Topic11\", \"Topic11\", \"Topic11\", \"Topic11\", \"Topic11\", \"Topic11\", \"Topic11\", \"Topic11\", \"Topic11\", \"Topic11\", \"Topic11\", \"Topic11\", \"Topic11\", \"Topic11\", \"Topic11\", \"Topic11\", \"Topic11\", \"Topic11\", \"Topic11\", \"Topic11\", \"Topic11\", \"Topic11\", \"Topic11\", \"Topic11\", \"Topic11\", \"Topic11\", \"Topic11\", \"Topic11\", \"Topic11\", \"Topic11\", \"Topic11\", \"Topic11\", \"Topic11\", \"Topic11\", \"Topic11\", \"Topic11\", \"Topic11\", \"Topic11\", \"Topic11\", \"Topic11\", \"Topic11\", \"Topic11\", \"Topic11\", \"Topic11\", \"Topic11\", \"Topic11\", \"Topic11\", \"Topic11\", \"Topic11\", \"Topic11\", \"Topic11\", \"Topic11\", \"Topic11\", \"Topic11\", \"Topic11\", \"Topic11\", \"Topic11\", \"Topic11\", \"Topic11\", \"Topic11\", \"Topic11\", \"Topic11\", \"Topic11\", \"Topic11\", \"Topic11\", \"Topic11\", \"Topic11\", \"Topic11\", \"Topic11\", \"Topic11\", \"Topic11\", \"Topic11\", \"Topic11\", \"Topic11\", \"Topic11\", \"Topic11\", \"Topic11\", \"Topic11\", \"Topic11\", \"Topic12\", \"Topic12\", \"Topic12\", \"Topic12\", \"Topic12\", \"Topic12\", \"Topic12\", \"Topic12\", \"Topic12\", \"Topic12\", \"Topic12\", \"Topic12\", \"Topic12\", \"Topic12\", \"Topic12\", \"Topic12\", \"Topic12\", \"Topic12\", \"Topic12\", \"Topic12\", \"Topic12\", \"Topic12\", \"Topic12\", \"Topic12\", \"Topic12\", \"Topic12\", \"Topic12\", \"Topic12\", \"Topic12\", \"Topic12\", \"Topic12\", \"Topic12\", \"Topic12\", \"Topic12\", \"Topic12\", \"Topic12\", \"Topic12\", \"Topic12\", \"Topic12\", \"Topic12\", \"Topic12\", \"Topic12\", \"Topic12\", \"Topic12\", \"Topic12\", \"Topic12\", \"Topic12\", \"Topic12\", \"Topic12\", \"Topic12\", \"Topic12\", \"Topic12\", \"Topic12\", \"Topic12\", \"Topic12\", \"Topic12\", \"Topic12\", \"Topic12\", \"Topic12\", \"Topic12\", \"Topic12\", \"Topic12\", \"Topic12\", \"Topic12\", \"Topic12\", \"Topic12\", \"Topic12\", \"Topic12\", \"Topic12\", \"Topic12\", \"Topic12\", \"Topic12\", \"Topic12\", \"Topic12\", \"Topic12\", \"Topic12\", \"Topic12\", \"Topic12\", \"Topic12\", \"Topic12\", \"Topic12\", \"Topic13\", \"Topic13\", \"Topic13\", \"Topic13\", \"Topic13\", \"Topic13\", \"Topic13\", \"Topic13\", \"Topic13\", \"Topic13\", \"Topic13\", \"Topic13\", \"Topic13\", \"Topic13\", \"Topic13\", \"Topic13\", \"Topic13\", \"Topic13\", \"Topic13\", \"Topic13\", \"Topic13\", \"Topic13\", \"Topic13\", \"Topic13\", \"Topic13\", \"Topic13\", \"Topic13\", \"Topic13\", \"Topic13\", \"Topic13\", \"Topic13\", \"Topic13\", \"Topic13\", \"Topic13\", \"Topic13\", \"Topic13\", \"Topic13\", \"Topic13\", \"Topic13\", \"Topic13\", \"Topic13\", \"Topic13\", \"Topic13\", \"Topic13\", \"Topic13\", \"Topic13\", \"Topic13\", \"Topic13\", \"Topic13\", \"Topic13\", \"Topic13\", \"Topic13\", \"Topic13\", \"Topic13\", \"Topic13\", \"Topic13\", \"Topic13\", \"Topic13\", \"Topic13\", \"Topic13\", \"Topic13\", \"Topic13\", \"Topic13\", \"Topic13\", \"Topic13\", \"Topic13\", \"Topic13\", \"Topic13\", \"Topic13\", \"Topic13\", \"Topic13\", \"Topic13\", \"Topic13\", \"Topic13\", \"Topic13\", \"Topic13\", \"Topic13\", \"Topic13\", \"Topic13\", \"Topic13\", \"Topic14\", \"Topic14\", \"Topic14\", \"Topic14\", \"Topic14\", \"Topic14\", \"Topic14\", \"Topic14\", \"Topic14\", \"Topic14\", \"Topic14\", \"Topic14\", \"Topic14\", \"Topic14\", \"Topic14\", \"Topic14\", \"Topic14\", \"Topic14\", \"Topic14\", \"Topic14\", \"Topic14\", \"Topic14\", \"Topic14\", \"Topic14\", \"Topic14\", \"Topic14\", \"Topic14\", \"Topic14\", \"Topic14\", \"Topic14\", \"Topic14\", \"Topic14\", \"Topic14\", \"Topic14\", \"Topic14\", \"Topic14\", \"Topic14\", \"Topic14\", \"Topic14\", \"Topic14\", \"Topic14\", \"Topic14\", \"Topic14\", \"Topic14\", \"Topic14\", \"Topic14\", \"Topic14\", \"Topic14\", \"Topic14\", \"Topic14\", \"Topic14\", \"Topic14\", \"Topic14\", \"Topic14\", \"Topic14\", \"Topic14\", \"Topic14\", \"Topic14\", \"Topic14\", \"Topic14\", \"Topic14\", \"Topic14\", \"Topic14\", \"Topic14\", \"Topic14\", \"Topic14\", \"Topic14\", \"Topic14\", \"Topic14\", \"Topic14\", \"Topic14\", \"Topic14\", \"Topic14\", \"Topic14\", \"Topic14\", \"Topic14\", \"Topic14\", \"Topic14\", \"Topic14\", \"Topic14\", \"Topic14\", \"Topic14\", \"Topic14\", \"Topic14\", \"Topic15\", \"Topic15\", \"Topic15\", \"Topic15\", \"Topic15\", \"Topic15\", \"Topic15\", \"Topic15\", \"Topic15\", \"Topic15\", \"Topic15\", \"Topic15\", \"Topic15\", \"Topic15\", \"Topic15\", \"Topic15\", \"Topic15\", \"Topic15\", \"Topic15\", \"Topic15\", \"Topic15\", \"Topic15\", \"Topic15\", \"Topic15\", \"Topic15\", \"Topic15\", \"Topic15\", \"Topic15\", \"Topic15\", \"Topic15\", \"Topic15\", \"Topic15\", \"Topic15\", \"Topic15\", \"Topic15\", \"Topic15\", \"Topic15\", \"Topic15\", \"Topic15\", \"Topic15\", \"Topic15\", \"Topic15\", \"Topic15\", \"Topic15\", \"Topic15\", \"Topic15\", \"Topic15\", \"Topic15\", \"Topic15\", \"Topic15\", \"Topic15\", \"Topic15\", \"Topic15\", \"Topic15\", \"Topic15\", \"Topic15\", \"Topic15\", \"Topic15\", \"Topic15\", \"Topic15\", \"Topic15\", \"Topic15\", \"Topic15\", \"Topic15\", \"Topic15\", \"Topic15\", \"Topic15\", \"Topic15\", \"Topic15\"], \"logprob\": [30.0, 29.0, 28.0, 27.0, 26.0, 25.0, 24.0, 23.0, 22.0, 21.0, 20.0, 19.0, 18.0, 17.0, 16.0, 15.0, 14.0, 13.0, 12.0, 11.0, 10.0, 9.0, 8.0, 7.0, 6.0, 5.0, 4.0, 3.0, 2.0, 1.0, -6.218800067901611, -6.464900016784668, -6.468299865722656, -6.468999862670898, -5.480800151824951, -6.859600067138672, -6.859600067138672, -6.859600067138672, -6.8597002029418945, -6.859799861907959, -6.859899997711182, -6.860899925231934, -6.864699840545654, -6.864500045776367, -6.867300033569336, -6.867300033569336, -3.88700008392334, -6.879300117492676, -6.192399978637695, -5.98360013961792, -6.468599796295166, -6.469799995422363, -6.467100143432617, -4.758399963378906, -7.521200180053711, -7.521200180053711, -7.521200180053711, -7.521200180053711, -7.521200180053711, -7.521200180053711, -7.521200180053711, -6.464900016784668, -6.464900016784668, -5.788300037384033, -6.182700157165527, -6.859600067138672, -6.860300064086914, -3.893199920654297, -2.3561999797821045, -5.241700172424316, -5.99459981918335, -5.6407999992370605, -5.759799957275391, -4.666200160980225, -6.17110013961792, -6.182700157165527, -4.376299858093262, -5.32889986038208, -5.459400177001953, -5.554100036621094, -5.084499835968018, -5.527900218963623, -4.730299949645996, -4.078199863433838, -4.769800186157227, -5.577899932861328, -4.1774001121521, -5.0960001945495605, -5.544400215148926, -5.60890007019043, -5.74399995803833, -5.309299945831299, -5.061200141906738, -5.340799808502197, -5.657100200653076, -5.498199939727783, -5.363500118255615, -5.378499984741211, -5.354599952697754, -5.268799781799316, -5.494999885559082, -5.582099914550781, -6.135900020599365, -4.228600025177002, -6.414100170135498, -4.237299919128418, -6.805500030517578, -6.805500030517578, -6.805600166320801, -6.810500144958496, -6.8165998458862305, -5.73829984664917, -5.792500019073486, -6.416900157928467, -6.954699993133545, -6.4532999992370605, -5.751399993896484, -6.147600173950195, -5.698500156402588, -5.792500019073486, -6.174499988555908, -7.467100143432617, -7.467100143432617, -7.467100143432617, -7.467100143432617, -7.467100143432617, -7.467100143432617, -7.467100143432617, -7.467100143432617, -7.467100143432617, -7.467100143432617, -7.467100143432617, -2.069999933242798, -4.708799839019775, -5.367700099945068, -6.410799980163574, -6.805500030517578, -3.6428000926971436, -6.805500030517578, -6.805500030517578, -6.410799980163574, -6.805600166320801, -6.47130012512207, -5.720099925994873, -5.063899993896484, -4.200099945068359, -4.638199806213379, -5.209799766540527, -5.917099952697754, -5.775300025939941, -3.2894999980926514, -5.230599880218506, -6.13100004196167, -4.691299915313721, -4.030900001525879, -5.134799957275391, -4.9222002029418945, -5.084799766540527, -4.575900077819824, -4.987100124359131, -5.274199962615967, -5.3678998947143555, -5.157899856567383, -5.431600093841553, -5.450399875640869, -5.488500118255615, -5.672800064086914, -5.63640022277832, -5.689199924468994, -5.697299957275391, -5.520500183105469, -6.069399833679199, -6.111499786376953, -6.743899822235107, -6.743899822235107, -6.743899822235107, -6.743899822235107, -6.743899822235107, -6.743899822235107, -6.7546000480651855, -4.885900020599365, -6.809700012207031, -6.383299827575684, -5.683300018310547, -4.603899955749512, -7.405399799346924, -7.405399799346924, -7.405399799346924, -7.405399799346924, -7.405399799346924, -7.405399799346924, -7.405399799346924, -7.405399799346924, -7.405399799346924, -7.405399799346924, -7.405399799346924, -7.405399799346924, -7.405399799346924, -7.405399799346924, -7.405399799346924, -7.405399799346924, -4.485899925231934, -6.743899822235107, -6.743899822235107, -6.743899822235107, -6.743899822235107, -5.6940999031066895, -6.743899822235107, -6.74399995803833, -5.8942999839782715, -6.746699810028076, -6.748700141906738, -6.406499862670898, -6.600299835205078, -5.666900157928467, -6.1031999588012695, -6.352399826049805, -3.0650999546051025, -6.356599807739258, -4.401500225067139, -5.144999980926514, -4.426499843597412, -5.679999828338623, -5.385200023651123, -4.478899955749512, -5.5441999435424805, -3.7181999683380127, -5.178699970245361, -5.677999973297119, -3.745500087738037, -5.673500061035156, -4.859300136566162, -5.404699802398682, -4.615799903869629, -5.6057000160217285, -5.265100002288818, -4.831399917602539, -5.4257001876831055, -5.189300060272217, -5.252500057220459, -4.723599910736084, -5.261099815368652, -5.0802001953125, -5.187600135803223, -5.595300197601318, -5.39300012588501, -5.473899841308594, -5.443900108337402, -5.535900115966797, -5.5395002365112305, -5.57480001449585, -5.731100082397461, -6.625800132751465, -6.625800132751465, -6.625800132751465, -6.625800132751465, -6.625800132751465, -6.625800132751465, -6.634699821472168, -6.636899948120117, -6.664599895477295, -6.700900077819824, -5.4096999168396, -6.7642998695373535, -5.869200229644775, -7.287300109863281, -7.287300109863281, -7.287300109863281, -7.287300109863281, -7.287300109863281, -7.287300109863281, -7.287300109863281, -7.287300109863281, -7.287300109863281, -7.287300109863281, -7.287300109863281, -7.287300109863281, -7.287300109863281, -7.287300109863281, -7.287300109863281, -7.287300109863281, -6.625899791717529, -3.2565999031066895, -7.287300109863281, -6.41379976272583, -5.757699966430664, -6.625800132751465, -6.6305999755859375, -6.626500129699707, -6.647900104522705, -6.637700080871582, -3.2997000217437744, -5.565000057220459, -5.646500110626221, -5.397600173950195, -5.161099910736084, -3.8875999450683594, -4.470699787139893, -4.958899974822998, -5.55079984664917, -5.36359977722168, -3.129199981689453, -4.944200038909912, -5.738900184631348, -3.5685999393463135, -4.521999835968018, -5.0894999504089355, -5.728899955749512, -5.73330020904541, -5.610599994659424, -4.116300106048584, -5.145400047302246, -5.5472002029418945, -5.387199878692627, -4.964099884033203, -4.857500076293945, -4.6666998863220215, -5.175600051879883, -5.071800231933594, -5.237100124359131, -5.328199863433838, -5.453800201416016, -5.5472002029418945, -5.918300151824951, -5.9217000007629395, -4.870500087738037, -6.21120023727417, -6.595300197601318, -6.595300197601318, -6.600100040435791, -6.600100040435791, -6.600100040435791, -6.600100040435791, -6.600100040435791, -6.600100040435791, -6.603000164031982, -5.923299789428711, -6.603899955749512, -6.318600177764893, -6.612100124359131, -5.521100044250488, -5.026299953460693, -6.203800201416016, -6.2170000076293945, -5.263199806213379, -5.241099834442139, -6.776199817657471, -7.256800174713135, -7.256800174713135, -7.256800174713135, -7.256800174713135, -7.256800174713135, -7.256800174713135, -7.256800174713135, -6.595300197601318, -4.953700065612793, -6.2006001472473145, -6.208000183105469, -6.595300197601318, -6.2006001472473145, -4.741399765014648, -4.35260009765625, -4.771500110626221, -4.828100204467773, -5.525899887084961, -4.225599765777588, -4.204599857330322, -5.026000022888184, -4.798600196838379, -4.779799938201904, -4.370999813079834, -5.568600177764893, -4.744900226593018, -3.700500011444092, -4.802800178527832, -5.213699817657471, -5.177499771118164, -5.235799789428711, -4.631999969482422, -4.992000102996826, -5.019599914550781, -5.035699844360352, -4.361400127410889, -5.295400142669678, -4.7494001388549805, -5.159200191497803, -4.624899864196777, -5.168399810791016, -6.5416998863220215, -6.5416998863220215, -6.5416998863220215, -6.5416998863220215, -6.5416998863220215, -6.5416998863220215, -6.5416998863220215, -6.541800022125244, -6.258200168609619, -6.546500205993652, -6.546500205993652, -6.546500205993652, -6.546500205993652, -6.546500205993652, -5.867199897766113, -4.478499889373779, -7.2032999992370605, -7.2032999992370605, -7.2032999992370605, -7.2032999992370605, -7.2032999992370605, -7.2032999992370605, -7.2032999992370605, -7.2032999992370605, -7.2032999992370605, -7.2032999992370605, -7.2032999992370605, -7.2032999992370605, -7.2032999992370605, -7.2032999992370605, -7.2032999992370605, -6.5416998863220215, -7.2032999992370605, -6.546500205993652, -6.546500205993652, -5.8719000816345215, -6.5416998863220215, -6.5416998863220215, -5.690400123596191, -5.899899959564209, -4.740900039672852, -6.151199817657471, -6.5416998863220215, -6.5416998863220215, -5.155700206756592, -4.88640022277832, -4.875199794769287, -4.332300186157227, -3.7864999771118164, -5.80649995803833, -4.803999900817871, -4.398099899291992, -5.875199794769287, -4.444900035858154, -4.8190999031066895, -4.799600124359131, -5.317999839782715, -5.312699794769287, -5.536799907684326, -3.853800058364868, -5.550600051879883, -5.795199871063232, -4.9593000411987305, -5.295000076293945, -5.644899845123291, -5.353000164031982, -4.5081000328063965, -5.199100017547607, -5.288300037384033, -5.104100227355957, -5.343699932098389, -5.31850004196167, -4.77209997177124, -5.124499797821045, -5.393499851226807, -5.4653000831604, -5.38100004196167, -5.429299831390381, -4.4527997970581055, -4.583899974822998, -6.0991997718811035, -6.102499961853027, -6.10260009765625, -6.10290002822876, -6.493899822235107, -6.493899822235107, -6.493899822235107, -6.493899822235107, -6.493899822235107, -6.493899822235107, -6.493899822235107, -6.498700141906738, -6.498700141906738, -6.498700141906738, -6.498700141906738, -6.515699863433838, -6.1346001625061035, -5.816999912261963, -7.1554999351501465, -7.1554999351501465, -7.1554999351501465, -7.1554999351501465, -7.1554999351501465, -7.1554999351501465, -7.1554999351501465, -7.1554999351501465, -7.1554999351501465, -7.1554999351501465, -7.1554999351501465, -7.1554999351501465, -7.1554999351501465, -7.1554999351501465, -7.1554999351501465, -6.493899822235107, -7.1554999351501465, -6.099899768829346, -6.496600151062012, -6.498700141906738, -6.493899822235107, -5.599100112915039, -5.4207000732421875, -5.136099815368652, -6.21150016784668, -6.102499961853027, -4.319300174713135, -5.65339994430542, -5.029600143432617, -5.899199962615967, -5.414100170135498, -5.421899795532227, -4.865600109100342, -3.441800117492676, -4.577400207519531, -4.922699928283691, -4.533400058746338, -4.480400085449219, -5.337399959564209, -5.065000057220459, -4.970600128173828, -5.316199779510498, -5.185800075531006, -4.533299922943115, -5.207799911499023, -5.437600135803223, -4.894400119781494, -5.144000053405762, -4.632599830627441, -5.416999816894531, -5.5518999099731445, -5.302599906921387, -5.416999816894531, -5.378300189971924, -5.508900165557861, -5.7829999923706055, -5.783199787139893, -5.783199787139893, -5.783199787139893, -5.783299922943115, -6.150599956512451, -6.453199863433838, -6.458099842071533, -6.458099842071533, -6.518899917602539, -5.781099796295166, -5.783199787139893, -5.558300018310547, -6.688700199127197, -7.114699840545654, -7.114699840545654, -7.114699840545654, -7.114699840545654, -7.114699840545654, -7.114699840545654, -7.114699840545654, -7.114699840545654, -7.114699840545654, -7.114699840545654, -7.114699840545654, -7.114699840545654, -7.114699840545654, -7.114699840545654, -7.114699840545654, -7.114699840545654, -7.114699840545654, -4.104400157928467, -6.453199863433838, -6.453199863433838, -6.453199863433838, -6.0690999031066895, -6.453199863433838, -6.453199863433838, -5.726600170135498, -5.5366997718811035, -5.884300231933594, -3.4683001041412354, -6.150599956512451, -5.622799873352051, -5.776199817657471, -4.788700103759766, -5.783299922943115, -4.544400215148926, -4.02869987487793, -5.922399997711182, -3.603800058364868, -4.938499927520752, -5.557400226593018, -5.180699825286865, -5.531799793243408, -5.49560022354126, -5.376200199127197, -4.939799785614014, -5.307199954986572, -4.121500015258789, -5.5543999671936035, -5.0605998039245605, -5.287499904632568, -4.630199909210205, -5.144899845123291, -5.129899978637695, -5.006700038909912, -5.358699798583984, -5.2221999168396, -5.379300117492676, -5.379000186920166, -5.596499919891357, -5.522299766540527, -5.48960018157959, -5.497200012207031, -5.508299827575684, -5.529399871826172, -5.3394999504089355, -5.09089994430542, -3.766700029373169, -6.021699905395508, -5.525300025939941, -6.405200004577637, -6.4054999351501465, -6.407199859619141, -6.421299934387207, -6.421299934387207, -6.421299934387207, -6.423999786376953, -6.468599796295166, -6.010900020599365, -6.5721001625061035, -7.063899993896484, -7.063899993896484, -7.063899993896484, -7.063899993896484, -7.063899993896484, -7.063899993896484, -7.063899993896484, -7.063899993896484, -7.063899993896484, -7.063899993896484, -7.063899993896484, -7.063899993896484, -7.063899993896484, -7.063899993896484, -7.063899993896484, -7.063899993896484, -7.063899993896484, -7.063899993896484, -7.063899993896484, -7.063899993896484, -7.063899993896484, -7.063899993896484, -7.063899993896484, -7.063899993896484, -7.063899993896484, -7.063899993896484, -6.402400016784668, -6.413300037384033, -7.063899993896484, -6.402400016784668, -5.872499942779541, -5.547999858856201, -6.010900020599365, -6.407199859619141, -6.407199859619141, -4.973599910736084, -6.0183000564575195, -5.73330020904541, -6.010900020599365, -5.730500221252441, -4.359399795532227, -4.700399875640869, -3.5571000576019287, -4.633200168609619, -4.5524001121521, -5.511899948120117, -4.479899883270264, -4.397799968719482, -4.726500034332275, -4.758600234985352, -3.781899929046631, -5.190899848937988, -4.188899993896484, -5.436299800872803, -5.479599952697754, -5.132699966430664, -4.970699787139893, -5.286399841308594, -5.129899978637695, -5.308899879455566, -5.17140007019043, -5.112800121307373, -5.127699851989746, -5.155200004577637, -5.2743000984191895, -5.5055999755859375, -5.504199981689453, -5.504899978637695, -5.5208001136779785, -5.734899997711182, -5.988800048828125, -6.380199909210205, -6.380199909210205, -6.380199909210205, -6.380300045013428, -6.385000228881836, -6.388599872589111, -6.39169979095459, -4.7941999435424805, -6.419300079345703, -6.419300079345703, -4.770400047302246, -5.9944000244140625, -6.314599990844727, -5.490900039672852, -7.041800022125244, -7.041800022125244, -7.041800022125244, -7.041800022125244, -7.041800022125244, -7.041800022125244, -7.041800022125244, -7.041800022125244, -7.041800022125244, -7.041800022125244, -7.041800022125244, -7.041800022125244, -7.041800022125244, -4.910999774932861, -6.380300045013428, -6.003300189971924, -6.390100002288818, -6.380199909210205, -4.146900177001953, -5.7032999992370605, -5.991199970245361, -5.4878997802734375, -4.585599899291992, -5.291399955749512, -5.709000110626221, -5.714300155639648, -4.439300060272217, -4.364099979400635, -4.826399803161621, -3.4302000999450684, -5.02400016784668, -4.507500171661377, -5.518499851226807, -4.5269999504089355, -5.71750020980835, -5.424900054931641, -5.567800045013428, -5.755199909210205, -5.467599868774414, -4.99370002746582, -4.7153000831604, -4.190400123596191, -4.903800010681152, -4.8993000984191895, -5.2291998863220215, -5.375699996948242, -5.335700035095215, -5.205999851226807, -4.896399974822998, -5.387899875640869, -5.306399822235107, -5.403500080108643, -5.483399868011475, -5.487800121307373, -5.92519998550415, -5.926199913024902, -6.313399791717529, -6.313399791717529, -6.313399791717529, -6.313399791717529, -6.31820011138916, -6.31850004196167, -6.32480001449585, -5.652299880981445, -6.974899768829346, -6.974899768829346, -6.974899768829346, -6.974899768829346, -6.974899768829346, -6.974899768829346, -6.974899768829346, -6.974899768829346, -6.974899768829346, -6.974899768829346, -6.974899768829346, -6.974899768829346, -6.974899768829346, -6.974899768829346, -6.974899768829346, -6.974899768829346, -6.974899768829346, -6.974899768829346, -6.974899768829346, -6.974899768829346, -6.974899768829346, -6.974899768829346, -6.974899768829346, -6.974899768829346, -6.974899768829346, -6.974899768829346, -6.324399948120117, -6.379700183868408, -5.691500186920166, -4.535600185394287, -4.548399925231934, -5.327899932861328, -6.645899772644043, -5.918700218200684, -5.551400184631348, -6.4481000900268555, -5.638899803161621, -5.263899803161621, -5.427599906921387, -6.313399791717529, -6.313399791717529, -4.223599910736084, -5.948699951171875, -4.28380012512207, -5.921999931335449, -5.790900230407715, -5.14709997177124, -5.418600082397461, -3.914099931716919, -4.6819000244140625, -4.605299949645996, -4.374300003051758, -5.296000003814697, -5.25540018081665, -5.357999801635742, -5.417799949645996, -4.408899784088135, -5.255899906158447, -5.486700057983398, -4.68310022354126, -5.331900119781494, -5.258200168609619, -5.48360013961792, -5.484099864959717, -5.500999927520752, -5.500899791717529, -5.54640007019043, -5.568299770355225, -5.549900054931641, -5.247600078582764, -5.4791998863220215, -5.929699897766113, -5.929699897766113, -5.929699897766113, -6.320400238037109, -5.929699897766113, -5.932000160217285, -6.977099895477295, -6.977099895477295, -6.977099895477295, -6.977099895477295, -6.977099895477295, -6.977099895477295, -6.977099895477295, -6.977099895477295, -6.977099895477295, -6.977099895477295, -6.977099895477295, -6.977099895477295, -6.977099895477295, -6.977099895477295, -6.977099895477295, -6.977099895477295, -6.977099895477295, -6.977099895477295, -6.977099895477295, -6.977099895477295, -6.977099895477295, -6.977099895477295, -6.977099895477295, -6.977099895477295, -6.320400238037109, -6.977099895477295, -5.249599933624268, -6.3155999183654785, -6.3155999183654785, -6.320400238037109, -6.327400207519531, -5.245500087738037, -5.111000061035156, -5.928199768066406, -6.422699928283691, -5.641900062561035, -4.882199764251709, -5.424099922180176, -5.457799911499023, -6.3155999183654785, -5.6545000076293945, -6.3155999183654785, -6.3155999183654785, -3.58240008354187, -5.920899868011475, -4.951700210571289, -5.924099922180176, -5.7220001220703125, -5.924099922180176, -4.803400039672852, -4.971399784088135, -3.7660000324249268, -3.98580002784729, -5.092299938201904, -4.9517998695373535, -4.648099899291992, -4.850599765777588, -4.780300140380859, -5.331999778747559, -5.491399765014648, -5.366600036621094, -4.971799850463867, -5.247399806976318, -5.214799880981445, -5.390600204467773, -5.195099830627441, -5.399400234222412, -5.306399822235107, -5.178299903869629, -5.365799903869629, -5.395199775695801, -5.418799877166748, -5.416500091552734, -5.821000099182129, -6.215700149536133, -6.2204999923706055, -6.2204999923706055, -6.2204999923706055, -6.254799842834473, -6.456099987030029, -6.877200126647949, -6.877200126647949, -6.877200126647949, -6.877200126647949, -6.877200126647949, -6.877200126647949, -6.877200126647949, -6.877200126647949, -6.877200126647949, -6.877200126647949, -6.877200126647949, -6.877200126647949, -6.877200126647949, -6.877200126647949, -6.877200126647949, -6.877200126647949, -6.877200126647949, -6.877200126647949, -6.877200126647949, -6.877200126647949, -6.877200126647949, -6.877200126647949, -6.877200126647949, -6.877200126647949, -6.877200126647949, -6.877200126647949, -6.877200126647949, -6.877200126647949, -5.035799980163574, -6.877200126647949, -6.2204999923706055, -5.82420015335083, -5.831600189208984, -4.315700054168701, -6.065499782562256, -5.768599987030029, -4.428899765014648, -5.560800075531006, -5.554699897766113, -5.372799873352051, -4.523499965667725, -5.84089994430542, -6.215700149536133, -5.38640022277832, -4.83620023727417, -5.821000099182129, -5.603799819946289, -4.69290018081665, -6.2204999923706055, -4.966300010681152, -6.215700149536133, -4.597400188446045, -3.7769999504089355, -4.896599769592285, -4.960599899291992, -5.263000011444092, -5.544400215148926, -4.757400035858154, -5.3196001052856445, -4.394999980926514, -5.086299896240234, -5.499300003051758, -5.133699893951416, -4.945700168609619, -4.788700103759766, -5.150599956512451, -5.299300193786621, -5.31689977645874, -5.345799922943115, -5.456200122833252, -5.491300106048584, -5.509799957275391, -5.51800012588501, -6.188799858093262, -6.188799858093262, -6.193699836730957, -5.802599906921387, -6.850399971008301, -6.850399971008301, -6.850399971008301, -6.850399971008301, -6.850399971008301, -6.850399971008301, -6.850399971008301, -6.850399971008301, -6.850399971008301, -6.850399971008301, -6.850399971008301, -6.850399971008301, -6.850399971008301, -6.850399971008301, -6.850399971008301, -6.850399971008301, -6.850399971008301, -6.850399971008301, -6.850399971008301, -6.850399971008301, -6.850399971008301, -6.850399971008301, -6.850399971008301, -6.850399971008301, -6.850399971008301, -6.850399971008301, -6.850399971008301, -6.850399971008301, -6.850399971008301, -6.850399971008301, -6.188899993896484, -6.850399971008301, -6.850399971008301, -6.193600177764893, -6.199999809265137, -6.193600177764893, -6.188799858093262, -6.189000129699707, -4.706099987030029, -5.167200088500977, -4.807600021362305, -5.7941999435424805, -5.565199851989746, -5.797399997711182, -6.193600177764893, -5.4421000480651855, -5.572199821472168, -6.199900150299072, -6.188799858093262, -4.962299823760986, -4.489299774169922, -4.971199989318848, -5.4710001945495605, -5.1219000816345215, -6.188799858093262, -5.797399997711182, -6.6031999588012695, -5.511899948120117, -6.188799858093262, -4.561200141906738, -5.050000190734863, -5.033100128173828, -4.961900234222412, -5.3144001960754395, -4.155099868774414, -4.078800201416016, -5.512400150299072, -5.519599914550781, -5.552000045776367, -4.986700057983398, -5.030300140380859, -5.16349983215332, -5.292099952697754, -5.299600124359131, -5.111999988555908, -4.816999912261963, -5.507599830627441, -5.334099769592285, -5.48769998550415, -5.505199909210205, -5.763999938964844, -5.090400218963623, -5.822500228881836, -6.158699989318848, -6.16349983215332, -6.16349983215332, -6.170000076293945, -6.1803998947143555, -6.197500228881836, -6.197800159454346, -5.514900207519531, -5.80810022354126, -6.054100036621094, -5.100299835205078, -6.820199966430664, -6.820199966430664, -6.820199966430664, -6.820199966430664, -6.820199966430664, -6.820199966430664, -6.820199966430664, -6.820199966430664, -6.820199966430664, -6.820199966430664, -6.820199966430664, -6.820199966430664, -6.820199966430664, -6.820199966430664, -6.820199966430664, -6.820199966430664, -6.820199966430664, -6.820199966430664, -6.820199966430664, -6.158699989318848, -6.424300193786621, -6.158699989318848, -4.390699863433838, -4.482900142669678, -6.197700023651123, -5.489500045776367, -6.158699989318848, -6.158699989318848, -6.158699989318848, -4.451099872589111, -5.530600070953369, -4.445700168609619, -4.91379976272583, -4.577899932861328, -4.377099990844727, -5.281099796295166, -4.929200172424316, -4.578999996185303, -4.985400199890137, -3.9593000411987305, -4.1585001945495605, -4.9492998123168945, -4.527900218963623, -5.148900032043457, -5.262700080871582, -5.481500148773193, -5.373499870300293, -5.767199993133545, -5.763999938964844, -5.4781999588012695, -5.531700134277344, -5.4816999435424805, -5.393599987030029, -5.275400161743164, -5.514699935913086], \"loglift\": [30.0, 29.0, 28.0, 27.0, 26.0, 25.0, 24.0, 23.0, 22.0, 21.0, 20.0, 19.0, 18.0, 17.0, 16.0, 15.0, 14.0, 13.0, 12.0, 11.0, 10.0, 9.0, 8.0, 7.0, 6.0, 5.0, 4.0, 3.0, 2.0, 1.0, 2.048099994659424, 2.027600049972534, 2.024399995803833, 2.0236001014709473, 1.9332000017166138, 1.92739999294281, 1.92739999294281, 1.92739999294281, 1.92739999294281, 1.927299976348877, 1.927299976348877, 1.9261000156402588, 1.9227999448776245, 1.922700047492981, 1.9199999570846558, 1.9199999570846558, 1.9163999557495117, 1.9098000526428223, 1.8882999420166016, 1.8301000595092773, 1.813099980354309, 1.804900050163269, 1.797700047492981, 1.7055000066757202, 1.6850999593734741, 1.6850999593734741, 1.6850999593734741, 1.6850999593734741, 1.6850999593734741, 1.6850999593734741, 1.6850999593734741, 1.6604000329971313, 1.6549999713897705, 1.628000020980835, 1.6375000476837158, 1.6527999639511108, 1.6441999673843384, 1.4052000045776367, 1.138800024986267, 1.4519000053405762, 1.5157999992370605, 1.3177000284194946, 1.3629000186920166, 0.654699981212616, 1.5267000198364258, 1.5293999910354614, 0.45320001244544983, 0.953000009059906, 1.0151000022888184, 1.0503000020980835, 0.6840999722480774, 0.9872000217437744, 0.3553999960422516, -0.22269999980926514, 0.2953999936580658, 0.9747999906539917, -0.41029998660087585, 0.46650001406669617, 0.8564000129699707, 0.9312999844551086, 1.0729999542236328, 0.47609999775886536, 0.0731000006198883, 0.3846000134944916, 0.9397000074386597, 0.5692999958992004, 0.2231999933719635, 0.07989999651908875, -0.15960000455379486, -0.788100004196167, -0.2117999941110611, -0.02500000037252903, 2.127500057220459, 2.1157000064849854, 2.0761001110076904, 2.0251998901367188, 1.979099988937378, 1.979099988937378, 1.979099988937378, 1.9744999408721924, 1.9693000316619873, 1.9443000555038452, 1.893399953842163, 1.8621000051498413, 1.832900047302246, 1.8327000141143799, 1.8315999507904053, 1.807800054550171, 1.8014999628067017, 1.801200032234192, 1.7538000345230103, 1.7374000549316406, 1.7374000549316406, 1.7374000549316406, 1.7374000549316406, 1.7374000549316406, 1.7374000549316406, 1.7374000549316406, 1.7374000549316406, 1.7374000549316406, 1.7374000549316406, 1.7374000549316406, 1.697100043296814, 1.6993999481201172, 1.7035000324249268, 1.7015999555587769, 1.7135000228881836, 1.5521999597549438, 1.708899974822998, 1.7055000066757202, 1.6755000352859497, 1.6852999925613403, 1.6397000551223755, 1.527999997138977, 1.429800033569336, 1.2582999467849731, 1.2158000469207764, 1.342900037765503, 1.4557000398635864, 1.381700038909912, 0.20550000667572021, 0.8622999787330627, 1.4839999675750732, 0.37380000948905945, -0.1753000020980835, 0.6337000131607056, 0.39879998564720154, 0.5019000172615051, -0.09520000219345093, 0.14720000326633453, 0.5030999779701233, 0.49380001425743103, 0.08659999817609787, 0.4991999864578247, 0.06719999760389328, -0.25870001316070557, 0.569100022315979, -0.07930000126361847, 0.3603000044822693, 0.02800000086426735, 2.291100025177002, 2.216200113296509, 2.17330002784729, 2.0601999759674072, 2.0601999759674072, 2.0601999759674072, 2.0601999759674072, 2.0601999759674072, 2.0601999759674072, 2.049999952316284, 2.0143001079559326, 1.997499942779541, 1.9153000116348267, 1.9120999574661255, 1.8990000486373901, 1.8137999773025513, 1.8137999773025513, 1.8137999773025513, 1.8137999773025513, 1.8137999773025513, 1.8137999773025513, 1.8137999773025513, 1.8137999773025513, 1.8137999773025513, 1.8137999773025513, 1.8137999773025513, 1.8137999773025513, 1.8137999773025513, 1.8137999773025513, 1.8137999773025513, 1.8137999773025513, 1.7753000259399414, 1.8011000156402588, 1.7919000387191772, 1.7919000387191772, 1.7899999618530273, 1.7454999685287476, 1.7731000185012817, 1.7731000185012817, 1.6994999647140503, 1.7577999830245972, 1.7569999694824219, 1.7127000093460083, 1.6964000463485718, 1.5494999885559082, 1.6175999641418457, 1.6346999406814575, 0.7904999852180481, 1.6128000020980835, 0.8429999947547913, 1.125499963760376, 0.6592000126838684, 1.248900055885315, 1.089400053024292, 0.5861999988555908, 1.143399953842163, 0.048900000751018524, 0.8665000200271606, 1.204699993133545, -0.25040000677108765, 1.1914000511169434, 0.46160000562667847, 0.9204000234603882, 0.21369999647140503, 1.0894999504089355, 0.7660999894142151, 0.3028999865055084, 0.8920999765396118, 0.5785999894142151, 0.6294999718666077, -0.24289999902248383, 0.5162000060081482, 0.14959999918937683, 0.33000001311302185, 1.0579999685287476, -0.10980000346899033, 0.3294999897480011, 0.11320000141859055, 0.2549000084400177, 0.2799000144004822, 2.378000020980835, 2.2281999588012695, 2.1833999156951904, 2.1833999156951904, 2.1833999156951904, 2.1833999156951904, 2.1833999156951904, 2.1833999156951904, 2.174299955368042, 2.1730000972747803, 2.146199941635132, 2.1064999103546143, 2.100100040435791, 2.0485999584198, 1.975600004196167, 1.9357000589370728, 1.9357000589370728, 1.9357000589370728, 1.9357000589370728, 1.9357000589370728, 1.9357000589370728, 1.9357000589370728, 1.9357000589370728, 1.9357000589370728, 1.9357000589370728, 1.9357000589370728, 1.9357000589370728, 1.9357000589370728, 1.9357000589370728, 1.9357000589370728, 1.9357000589370728, 1.9230999946594238, 1.8291000127792358, 1.9357000589370728, 1.8991999626159668, 1.8615000247955322, 1.9019999504089355, 1.899399995803833, 1.8889000415802002, 1.8883999586105347, 1.8717999458312988, 1.5298000574111938, 1.7281999588012695, 1.702299952507019, 1.6167000532150269, 1.5534000396728516, 1.2280000448226929, 1.2971999645233154, 1.4062999486923218, 1.498900055885315, 1.3766000270843506, 0.36579999327659607, 1.1025999784469604, 1.4874000549316406, 0.19850000739097595, 0.7612000107765198, 1.0600999593734741, 1.4115999937057495, 1.4138000011444092, 1.295699954032898, -0.260699987411499, 0.6453999876976013, 1.061900019645691, 0.8658000230789185, 0.35679998993873596, 0.20759999752044678, -0.1860000044107437, 0.34200000762939453, 0.12319999933242798, 0.22130000591278076, 0.45719999074935913, 0.27149999141693115, -0.24869999289512634, 2.384399890899658, 2.3808999061584473, 2.333699941635132, 2.3171000480651855, 2.223099946975708, 2.223099946975708, 2.218400001525879, 2.218400001525879, 2.218400001525879, 2.218400001525879, 2.218400001525879, 2.218400001525879, 2.2158000469207764, 2.2146999835968018, 2.214400053024292, 2.2132999897003174, 2.2070000171661377, 2.1937999725341797, 2.1819000244140625, 2.1217000484466553, 2.091900110244751, 2.087599992752075, 2.051500082015991, 2.0364999771118164, 1.9731999635696411, 1.9731999635696411, 1.9731999635696411, 1.9731999635696411, 1.9731999635696411, 1.9731999635696411, 1.9731999635696411, 1.9609999656677246, 1.8914999961853027, 1.927899956703186, 1.922700047492981, 1.9408999681472778, 1.9127999544143677, 1.7691999673843384, 1.6969000101089478, 1.6089999675750732, 1.4560999870300293, 1.6818000078201294, 1.0746999979019165, 1.0398999452590942, 1.3238999843597412, 1.1830999851226807, 1.1331000328063965, 0.8587999939918518, 1.5751999616622925, 1.0458999872207642, 0.1551000028848648, 0.9064000248908997, 1.210800051689148, 1.1497999429702759, 1.1649999618530273, 0.4341999888420105, 0.79339998960495, 0.7577000260353088, 0.7523999810218811, -0.8664000034332275, 0.9944000244140625, -0.2687000036239624, 0.6654999852180481, -0.8578000068664551, 0.1526000052690506, 2.2955000400543213, 2.2955000400543213, 2.2955000400543213, 2.2955000400543213, 2.2955000400543213, 2.2955000400543213, 2.2955000400543213, 2.2955000400543213, 2.2939000129699707, 2.2904000282287598, 2.2904000282287598, 2.2904000282287598, 2.2904000282287598, 2.2904000282287598, 2.278899908065796, 2.1263999938964844, 2.0408999919891357, 2.0408999919891357, 2.0408999919891357, 2.0408999919891357, 2.0408999919891357, 2.0408999919891357, 2.0408999919891357, 2.0408999919891357, 2.0408999919891357, 2.0408999919891357, 2.0408999919891357, 2.0408999919891357, 2.0408999919891357, 2.0408999919891357, 2.0408999919891357, 2.0288000106811523, 2.0408999919891357, 2.014400005340576, 2.0123000144958496, 1.9746999740600586, 2.0090999603271484, 2.0085999965667725, 1.958899974822998, 1.9687999486923218, 1.867300033569336, 1.9701999425888062, 1.9946000576019287, 1.9946000576019287, 1.8466999530792236, 1.5187000036239624, 1.3444000482559204, 0.9660999774932861, 0.6941999793052673, 1.6340999603271484, 1.0666999816894531, 0.8317999839782715, 1.6409000158309937, 0.7996000051498413, 0.9663000106811523, 0.8378999829292297, 1.2450000047683716, 1.2105000019073486, 1.3451999425888062, -0.3587999939918518, 1.3321000337600708, 1.552899956703186, 0.6031000018119812, 0.9469000101089478, 1.1785999536514282, 0.7027000188827515, -0.6524999737739563, 0.3580000102519989, 0.4997999966144562, 0.011500000022351742, 0.5382000207901001, 0.4722999930381775, -1.0049999952316284, -0.059300001710653305, 0.5374000072479248, 0.388700008392334, -0.3147999942302704, -0.5999000072479248, 2.652899980545044, 2.6470000743865967, 2.4539999961853027, 2.450700044631958, 2.450500011444092, 2.4502999782562256, 2.3471999168395996, 2.3471999168395996, 2.3471999168395996, 2.3471999168395996, 2.3471999168395996, 2.3471999168395996, 2.3471999168395996, 2.3427000045776367, 2.3427000045776367, 2.3427000045776367, 2.3422999382019043, 2.325500011444092, 2.2023000717163086, 2.161400079727173, 2.0917000770568848, 2.0917000770568848, 2.0917000770568848, 2.0917000770568848, 2.0917000770568848, 2.0917000770568848, 2.0917000770568848, 2.0917000770568848, 2.0917000770568848, 2.0917000770568848, 2.0917000770568848, 2.0917000770568848, 2.0917000770568848, 2.0917000770568848, 2.0917000770568848, 2.077699899673462, 2.0917000770568848, 2.039599895477295, 2.056999921798706, 2.053299903869629, 2.0387001037597656, 1.8561999797821045, 1.813599944114685, 1.7669999599456787, 1.9293999671936035, 1.8996000289916992, 1.5053999423980713, 1.7747000455856323, 1.5752999782562256, 1.8258999586105347, 1.6305999755859375, 1.5128999948501587, 1.1655999422073364, 0.053199999034404755, 0.8809999823570251, 1.1338000297546387, 0.7669000029563904, 0.5857999920845032, 1.2028000354766846, 0.916700005531311, 0.6668999791145325, 0.9812999963760376, 0.8238999843597412, -0.05260000005364418, 0.6628999710083008, 1.002500057220459, -0.0649000033736229, 0.41850000619888306, -0.7770000100135803, 0.7473000288009644, 1.0680999755859375, -0.16830000281333923, 0.14010000228881836, -0.26269999146461487, 0.27649998664855957, 2.5483999252319336, 2.5481998920440674, 2.548099994659424, 2.548099994659424, 2.548099994659424, 2.401599884033203, 2.38919997215271, 2.3840999603271484, 2.3840999603271484, 2.3269999027252197, 2.214200019836426, 2.203700065612793, 2.189300060272217, 2.1579999923706055, 2.1333999633789062, 2.1333999633789062, 2.1333999633789062, 2.1333999633789062, 2.1333999633789062, 2.1333999633789062, 2.1333999633789062, 2.1333999633789062, 2.1333999633789062, 2.1333999633789062, 2.1333999633789062, 2.1333999633789062, 2.1333999633789062, 2.1333999633789062, 2.1333999633789062, 2.1333999633789062, 2.1333999633789062, 2.065000057220459, 2.1194000244140625, 2.111799955368042, 2.108799934387207, 2.059499979019165, 2.0869998931884766, 2.080399990081787, 2.0160000324249268, 1.9155000448226929, 1.9625999927520752, 1.5980000495910645, 1.99399995803833, 1.8530999422073364, 1.8525999784469604, 1.635699987411499, 1.8486000299453735, 1.5113999843597412, 1.2010999917984009, 1.8198000192642212, 0.251800000667572, 1.1289000511169434, 1.5333000421524048, 1.2594000101089478, 1.4982000589370728, 1.4463000297546387, 1.311400055885315, 0.7694000005722046, 1.0979000329971313, -0.6265000104904175, 1.3486000299453735, 0.4569999873638153, 0.7437000274658203, -0.863099992275238, 0.13830000162124634, 0.004399999976158142, -0.5259000062942505, 0.5231999754905701, -0.15710000693798065, 0.5515999794006348, 0.17810000479221344, 1.1886999607086182, 0.6420000195503235, 0.329800009727478, -0.6676999926567078, -0.3926999866962433, -0.22910000383853912, 2.6675000190734863, 2.6661999225616455, 2.5961999893188477, 2.5429999828338623, 2.473400115966797, 2.4465999603271484, 2.4463999271392822, 2.4444000720977783, 2.4296000003814697, 2.4296000003814697, 2.4296000003814697, 2.4270999431610107, 2.3864998817443848, 2.3450000286102295, 2.2743000984191895, 2.191200017929077, 2.191200017929077, 2.191200017929077, 2.191200017929077, 2.191200017929077, 2.191200017929077, 2.191200017929077, 2.191200017929077, 2.191200017929077, 2.191200017929077, 2.191200017929077, 2.191200017929077, 2.191200017929077, 2.191200017929077, 2.191200017929077, 2.191200017929077, 2.191200017929077, 2.191200017929077, 2.191200017929077, 2.191200017929077, 2.191200017929077, 2.191200017929077, 2.191200017929077, 2.191200017929077, 2.191200017929077, 2.191200017929077, 2.1774001121520996, 2.166300058364868, 2.191200017929077, 2.157399892807007, 2.123199939727783, 2.0943000316619873, 2.1205999851226807, 2.1419999599456787, 2.1321001052856445, 1.938599944114685, 1.9982000589370728, 1.9225000143051147, 1.976199984550476, 1.8905999660491943, 1.5024000406265259, 1.3553999662399292, 0.9236000180244446, 1.2374999523162842, 1.0851000547409058, 1.645900011062622, 0.8033000230789185, 0.7365000247955322, 0.8601999878883362, 0.8037999868392944, -0.28690001368522644, 1.0641000270843506, -0.33329999446868896, 1.205899953842163, 1.2148000001907349, 0.7213000059127808, 0.22439999878406525, 0.4821999967098236, 0.11469999700784683, 0.5105000138282776, 0.12700000405311584, -0.04650000110268593, -0.01209999993443489, -0.3257000148296356, -0.20919999480247498, 0.7411999702453613, 0.5055000185966492, 0.6593999862670898, 2.649899959564209, 2.6198999881744385, 2.587599992752075, 2.4816999435424805, 2.4816999435424805, 2.4816999435424805, 2.481600046157837, 2.476799964904785, 2.473099946975708, 2.4702999591827393, 2.459399938583374, 2.440700054168701, 2.440700054168701, 2.355799913406372, 2.337399959564209, 2.2644999027252197, 2.260999917984009, 2.220900058746338, 2.220900058746338, 2.220900058746338, 2.220900058746338, 2.220900058746338, 2.220900058746338, 2.220900058746338, 2.220900058746338, 2.220900058746338, 2.220900058746338, 2.220900058746338, 2.220900058746338, 2.220900058746338, 2.146199941635132, 2.19950008392334, 2.174499988555908, 2.178999900817871, 2.16759991645813, 1.8997999429702759, 2.0604000091552734, 2.0041000843048096, 1.8931000232696533, 1.6584999561309814, 1.7253999710083008, 1.8229999542236328, 1.823199987411499, 1.3380999565124512, 1.222599983215332, 1.423200011253357, 0.4253999888896942, 1.3246999979019165, 0.7757999897003174, 1.648800015449524, 0.6679999828338623, 1.8203999996185303, 1.517699956893921, 1.6538000106811523, 1.7818000316619873, 1.444599986076355, 0.8680999875068665, 0.41909998655319214, -0.42329999804496765, 0.2117999941110611, 0.16699999570846558, 0.8266000151634216, 1.0815999507904053, 0.9193999767303467, 0.5846999883651733, -1.4013999700546265, 0.6686000227928162, 0.15199999511241913, 0.4212000072002411, -0.6539000272750854, 0.6765000224113464, 2.6540000438690186, 2.653599977493286, 2.551300048828125, 2.551300048828125, 2.551300048828125, 2.551300048828125, 2.5462000370025635, 2.546099901199341, 2.539299964904785, 2.531599998474121, 2.289799928665161, 2.289799928665161, 2.289799928665161, 2.289799928665161, 2.289799928665161, 2.289799928665161, 2.289799928665161, 2.289799928665161, 2.289799928665161, 2.289799928665161, 2.289799928665161, 2.289799928665161, 2.289799928665161, 2.289799928665161, 2.289799928665161, 2.289799928665161, 2.289799928665161, 2.289799928665161, 2.289799928665161, 2.289799928665161, 2.289799928665161, 2.289799928665161, 2.289799928665161, 2.289799928665161, 2.289799928665161, 2.289799928665161, 2.2372000217437744, 2.1884000301361084, 2.032099962234497, 1.791599988937378, 1.7692999839782715, 1.9120999574661255, 2.2151999473571777, 1.9574999809265137, 1.8315999507904053, 2.1071999073028564, 1.822700023651123, 1.6828999519348145, 1.7388999462127686, 2.0399999618530273, 2.0302000045776367, 1.07669997215271, 1.8016999959945679, 0.8504999876022339, 1.7122999429702759, 1.5667999982833862, 1.142799973487854, 1.2302000522613525, -0.05849999934434891, 0.6013000011444092, 0.5102999806404114, 0.10639999806880951, 1.0527000427246094, 0.8942999839782715, 0.9919000267982483, 0.9625999927520752, -0.9139000177383423, 0.6570000052452087, 0.8996999859809875, -0.9160000085830688, 0.4366999864578247, 0.20020000636577606, 0.6093000173568726, 0.3977999985218048, 0.31839999556541443, 0.016699999570846558, 0.31540000438690186, 0.5960000157356262, -0.2289000004529953, 2.7822999954223633, 2.7037999629974365, 2.6554999351501465, 2.6554999351501465, 2.6554999351501465, 2.5499000549316406, 2.4328999519348145, 2.4063000679016113, 2.2916998863220215, 2.2916998863220215, 2.2916998863220215, 2.2916998863220215, 2.2916998863220215, 2.2916998863220215, 2.2916998863220215, 2.2916998863220215, 2.2916998863220215, 2.2916998863220215, 2.2916998863220215, 2.2916998863220215, 2.2916998863220215, 2.2916998863220215, 2.2916998863220215, 2.2916998863220215, 2.2916998863220215, 2.2916998863220215, 2.2916998863220215, 2.2916998863220215, 2.2916998863220215, 2.2916998863220215, 2.2916998863220215, 2.2916998863220215, 2.275399923324585, 2.2916998863220215, 2.2316999435424805, 2.2597999572753906, 2.244999885559082, 2.2446000576019287, 2.2323999404907227, 2.0097999572753906, 1.9433000087738037, 2.0589001178741455, 2.160599946975708, 1.9277000427246094, 1.6610000133514404, 1.8248000144958496, 1.7706999778747559, 2.0515999794006348, 1.8032000064849854, 2.046999931335449, 2.046999931335449, 0.8982999920845032, 1.844599962234497, 1.4115999937057495, 1.8395999670028687, 1.729699969291687, 1.8222999572753906, 0.9847999811172485, 0.9415000081062317, -0.27090001106262207, -0.13019999861717224, 0.8385000228881836, 0.6053000092506409, 0.18140000104904175, 0.4325999915599823, 0.2849000096321106, 0.9099000096321106, 1.1401000022888184, 0.9039000272750854, 0.11389999836683273, 0.6067000031471252, 0.4228000044822693, 0.7736999988555908, -0.12880000472068787, 0.46239998936653137, -0.1720999926328659, -1.4112000465393066, -0.12129999697208405, -0.09489999711513519, 0.3490999937057495, 0.14589999616146088, 2.7883999347686768, 2.6751999855041504, 2.670300006866455, 2.6700000762939453, 2.6700000762939453, 2.634399890899658, 2.436000108718872, 2.407099962234497, 2.407099962234497, 2.407099962234497, 2.407099962234497, 2.407099962234497, 2.407099962234497, 2.407099962234497, 2.407099962234497, 2.407099962234497, 2.407099962234497, 2.407099962234497, 2.407099962234497, 2.407099962234497, 2.407099962234497, 2.407099962234497, 2.407099962234497, 2.407099962234497, 2.407099962234497, 2.407099962234497, 2.407099962234497, 2.407099962234497, 2.407099962234497, 2.407099962234497, 2.407099962234497, 2.407099962234497, 2.407099962234497, 2.407099962234497, 2.407099962234497, 2.3842999935150146, 2.407099962234497, 2.3785998821258545, 2.3526999950408936, 2.335200071334839, 2.0476999282836914, 2.281399965286255, 2.2327001094818115, 1.857200026512146, 2.100800037384033, 2.0992000102996826, 2.0071001052856445, 1.729599952697754, 2.0316998958587646, 2.1386001110076904, 1.7883000373840332, 1.503600001335144, 1.9253000020980835, 1.6437000036239624, 1.0324000120162964, 1.9819999933242798, 1.0434000492095947, 1.9452999830245972, 0.7028999924659729, 0.07850000262260437, 0.8126999735832214, 0.8587999939918518, 1.1233999729156494, 1.339400053024292, 0.07209999859333038, 0.8999999761581421, -0.8999999761581421, 0.2345999926328659, 1.1323000192642212, 0.14959999918937683, -0.4650000035762787, -1.0216000080108643, -0.016300000250339508, 0.2874000072479248, 0.24549999833106995, 0.21130000054836273, 0.6366999745368958, 0.3905999958515167, 0.7343000173568726, 0.7662000060081482, 2.7072999477386475, 2.7072999477386475, 2.7021000385284424, 2.5894999504089355, 2.4377999305725098, 2.4377999305725098, 2.4377999305725098, 2.4377999305725098, 2.4377999305725098, 2.4377999305725098, 2.4377999305725098, 2.4377999305725098, 2.4377999305725098, 2.4377999305725098, 2.4377999305725098, 2.4377999305725098, 2.4377999305725098, 2.4377999305725098, 2.4377999305725098, 2.4377999305725098, 2.4377999305725098, 2.4377999305725098, 2.4377999305725098, 2.4377999305725098, 2.4377999305725098, 2.4377999305725098, 2.4377999305725098, 2.4377999305725098, 2.4377999305725098, 2.4377999305725098, 2.4377999305725098, 2.4377999305725098, 2.4377999305725098, 2.4377999305725098, 2.4267001152038574, 2.4377999305725098, 2.4377999305725098, 2.4093000888824463, 2.4024999141693115, 2.3986001014709473, 2.3840999603271484, 2.3838999271392822, 2.166100025177002, 2.156599998474121, 2.076200008392334, 2.214600086212158, 2.092600107192993, 2.0773000717163086, 2.1928999423980713, 1.8875999450683594, 1.910099983215332, 2.169800043106079, 2.1496999263763428, 1.5360000133514404, 1.2200000286102295, 1.377500057220459, 1.6476999521255493, 1.3353999853134155, 2.0136001110076904, 1.746500015258789, 2.2720000743865967, 1.4904999732971191, 1.9768999814987183, 0.6686000227928162, 0.995199978351593, 0.9485999941825867, 0.8059999942779541, 1.1962000131607056, -0.2996000051498413, -0.5837000012397766, 1.3704999685287476, 1.3037999868392944, 1.2933000326156616, 0.25780001282691956, 0.27000001072883606, 0.35409998893737793, 0.6388000249862671, 0.5823000073432922, -0.046799998730421066, -1.0499000549316406, 1.0893000364303589, -0.05079999938607216, 0.06939999759197235, 0.08139999955892563, 2.8519999980926514, 2.828000068664551, 2.79010009765625, 2.738100051879883, 2.7330000400543213, 2.7327001094818115, 2.7256999015808105, 2.715100049972534, 2.6993000507354736, 2.698199987411499, 2.6930999755859375, 2.57069993019104, 2.52810001373291, 2.4786999225616455, 2.468400001525879, 2.468400001525879, 2.468400001525879, 2.468400001525879, 2.468400001525879, 2.468400001525879, 2.468400001525879, 2.468400001525879, 2.468400001525879, 2.468400001525879, 2.468400001525879, 2.468400001525879, 2.468400001525879, 2.468400001525879, 2.468400001525879, 2.468400001525879, 2.468400001525879, 2.468400001525879, 2.468400001525879, 2.4551000595092773, 2.459199905395508, 2.434499979019165, 2.304500102996826, 2.170300006866455, 2.386399984359741, 2.1803998947143555, 2.2060000896453857, 2.2021000385284424, 2.191499948501587, 1.2581000328063965, 1.7182999849319458, 1.0720000267028809, 1.305799961090088, 0.979200005531311, 0.7384999990463257, 1.3157000541687012, 0.9415000081062317, 0.4862000048160553, 0.8339999914169312, -0.4643000066280365, -0.3028999865055084, 0.7760000228881836, -0.047200001776218414, 0.7638999819755554, 0.8870000243186951, 1.3270000219345093, 0.989799976348877, 1.712499976158142, 1.6943000555038452, 0.771399974822998, 0.8547000288963318, 0.527999997138977, -0.093299999833107, -1.5082000494003296, 0.2761000096797943]}, \"token.table\": {\"Topic\": [8, 15, 14, 1, 3, 5, 6, 7, 8, 9, 10, 11, 12, 13, 14, 8, 3, 7, 9, 8, 9, 3, 4, 10, 14, 12, 3, 7, 11, 15, 8, 5, 12, 9, 13, 8, 7, 14, 7, 9, 11, 7, 4, 8, 9, 10, 14, 15, 5, 14, 14, 3, 12, 14, 7, 6, 4, 8, 9, 4, 15, 4, 5, 5, 9, 9, 9, 2, 8, 12, 1, 11, 15, 8, 10, 12, 12, 9, 6, 12, 6, 15, 3, 8, 12, 14, 13, 12, 3, 15, 8, 12, 11, 12, 1, 3, 11, 3, 11, 9, 2, 1, 9, 4, 15, 9, 15, 12, 2, 7, 8, 12, 6, 12, 10, 6, 1, 2, 3, 4, 5, 6, 7, 8, 9, 10, 11, 12, 13, 14, 15, 9, 15, 14, 7, 11, 1, 3, 4, 7, 8, 11, 12, 14, 15, 6, 10, 9, 10, 12, 15, 1, 8, 12, 14, 3, 11, 1, 2, 3, 4, 6, 7, 8, 9, 11, 13, 14, 15, 6, 8, 1, 2, 3, 4, 5, 6, 7, 8, 10, 11, 12, 13, 14, 15, 4, 1, 3, 4, 5, 6, 10, 11, 13, 15, 1, 4, 9, 11, 15, 13, 3, 7, 13, 1, 2, 7, 8, 9, 10, 11, 13, 4, 1, 2, 3, 4, 5, 6, 7, 9, 10, 11, 12, 13, 14, 15, 1, 1, 2, 3, 4, 5, 6, 7, 8, 9, 10, 11, 12, 13, 14, 15, 7, 1, 5, 14, 1, 2, 3, 4, 5, 6, 7, 9, 10, 11, 3, 4, 2, 4, 10, 13, 11, 12, 1, 2, 4, 5, 6, 7, 8, 9, 11, 12, 13, 15, 7, 11, 2, 6, 1, 1, 2, 4, 15, 1, 2, 3, 4, 5, 8, 10, 13, 14, 15, 11, 1, 2, 7, 8, 12, 15, 3, 5, 4, 1, 2, 3, 4, 5, 6, 7, 8, 9, 10, 11, 13, 15, 6, 1, 7, 13, 1, 1, 2, 3, 4, 5, 6, 7, 8, 9, 10, 12, 14, 15, 4, 1, 5, 6, 8, 9, 10, 12, 1, 2, 3, 4, 7, 8, 9, 10, 11, 13, 15, 2, 4, 8, 11, 13, 14, 15, 12, 7, 13, 6, 1, 3, 4, 6, 8, 12, 13, 15, 8, 13, 8, 1, 2, 3, 4, 8, 9, 10, 11, 12, 13, 14, 1, 2, 3, 4, 5, 6, 7, 9, 10, 11, 12, 13, 14, 1, 4, 5, 10, 14, 15, 1, 2, 3, 4, 8, 11, 12, 13, 14, 15, 3, 3, 1, 6, 9, 10, 11, 13, 1, 1, 2, 3, 4, 6, 9, 11, 13, 14, 5, 6, 1, 3, 4, 7, 11, 15, 1, 3, 4, 8, 9, 11, 13, 6, 7, 9, 15, 12, 2, 4, 1, 8, 4, 8, 13, 1, 3, 6, 1, 3, 7, 10, 14, 15, 6, 1, 11, 3, 1, 2, 7, 10, 12, 12, 1, 7, 11, 4, 1, 3, 4, 5, 7, 11, 14, 1, 2, 3, 7, 13, 2, 2, 4, 13, 1, 2, 3, 4, 5, 6, 8, 10, 12, 13, 14, 6, 12, 14, 3, 5, 6, 7, 9, 11, 8, 13, 2, 3, 8, 10, 12, 13, 15, 4, 1, 6, 8, 12, 6, 2, 8, 1, 3, 5, 6, 8, 9, 11, 14, 15, 3, 4, 5, 15, 1, 7, 8, 10, 13, 8, 12, 1, 2, 4, 11, 12, 13, 2, 12, 13, 2, 7, 11, 3, 6, 8, 10, 11, 12, 14, 15, 1, 3, 5, 8, 12, 14, 13, 6, 11, 5, 9, 2, 3, 7, 9, 6, 15, 4, 11, 5, 7, 8, 9, 10, 2, 8, 10, 12, 15, 14, 7, 1, 14, 2, 5, 7, 14, 4, 9, 11, 12, 5, 4, 11, 8, 3, 3, 2, 15, 14, 4, 5, 6, 7, 8, 10, 11, 13, 1, 7, 14, 14, 4, 1, 5, 14, 2, 5, 8, 9, 10, 1, 2, 3, 4, 6, 7, 8, 9, 10, 12, 13, 14, 15, 1, 10, 1, 2, 15, 3, 15, 1, 2, 3, 4, 5, 7, 8, 9, 10, 12, 13, 13, 3, 13, 3, 5, 6, 13, 3, 4, 5, 6, 7, 8, 9, 10, 11, 12, 13, 14, 15, 9, 5, 6, 9, 10, 15, 6, 9, 3, 4, 6, 7, 8, 10, 12, 13, 14, 15, 7, 4, 12, 1, 3, 9, 11, 15, 1, 9, 13, 6, 7, 11, 12, 13, 1, 2, 6, 9, 10, 12, 13, 3, 5, 6, 13, 1, 2, 14, 15, 9, 2, 3, 6, 10, 13, 1, 11, 2, 2, 3, 8, 9, 7, 2, 5, 6, 9, 13, 3, 12, 1, 2, 6, 7, 8, 9, 10, 12, 15, 1, 2, 3, 5, 6, 8, 9, 14, 15, 10, 6, 7, 14, 9, 3, 8, 1, 2, 6, 12, 13, 15, 2, 5, 6, 7, 11, 13, 15, 11, 14, 7, 12, 1, 14, 7, 1, 2, 5, 14, 2, 5, 7, 8, 10, 13, 14, 10, 3, 14, 1, 2, 4, 6, 7, 8, 12, 8, 2, 11, 7, 1, 2, 3, 9, 3, 1, 2, 4, 5, 6, 7, 9, 10, 11, 12, 13, 14, 2, 8, 13, 1, 2, 4, 5, 8, 10, 11, 12, 13, 14, 2, 3, 4, 5, 7, 10, 12, 3, 5, 7, 8, 10, 13, 14, 15, 13, 3, 9, 13, 14, 1, 3, 4, 7, 8, 9, 13, 14, 3, 4, 6, 7, 10, 12, 13, 11, 14, 15, 3, 4, 6, 7, 10, 11, 12, 13, 14, 4, 6, 2, 5, 2, 11, 11, 1, 2, 4, 5, 7, 12, 13, 14, 15, 1, 3, 6, 8, 11, 13, 1, 4, 5, 10, 12, 13, 15, 1, 2, 3, 5, 7, 9, 12, 13, 2, 3, 9, 13, 11, 14, 13, 4, 5, 6, 10, 4, 5, 9, 11, 15, 9, 14, 3, 15, 11, 14, 15, 1, 2, 3, 4, 5, 6, 7, 10, 11, 15, 3, 5, 1, 2, 15, 1, 3, 4, 5, 6, 7, 8, 9, 10, 11, 12, 14, 10, 7, 7, 7, 1, 3, 5, 7, 12, 13, 1, 2, 3, 4, 5, 6, 7, 8, 9, 10, 11, 12, 13, 14, 15, 13, 15, 1, 2, 6, 13, 14, 1, 3, 5, 10, 14, 3, 5, 9, 1, 3, 4, 5, 6, 7, 8, 12, 13, 4, 2, 3, 4, 5, 6, 7, 8, 9, 10, 13, 14, 2, 3, 4, 5, 6, 7, 8, 11, 13, 14, 15, 2, 4, 8, 9, 10, 11, 2, 9, 12, 14, 3, 10, 12, 2, 5, 7, 15, 4, 6, 13, 8, 1, 2, 3, 10, 13, 15, 1, 2, 4, 5, 10, 11, 13, 1, 5, 1, 2, 4, 5, 6, 7, 8, 10, 11, 12, 14, 15, 6, 15, 11, 2, 8, 11, 13, 14, 15, 15, 7, 1, 2, 3, 4, 5, 6, 7, 8, 9, 10, 12, 13, 14, 15, 9, 1, 2, 3, 5, 6, 7, 8, 9, 10, 11, 12, 13, 14, 15, 6, 7, 2, 3, 4, 5, 6, 11, 12, 13, 15, 9, 11, 5, 12, 15, 1, 2, 13, 3, 4, 6, 6, 7, 4, 5, 6, 7, 8, 9, 10, 11, 14, 15, 3, 5, 9, 2, 3, 4, 5, 7, 8, 11, 2, 3, 4, 5, 6, 7, 8, 9, 10, 11, 13, 14, 10, 5, 1, 2, 3, 4, 5, 6, 7, 8, 9, 10, 11, 12, 13, 14, 15, 8, 10, 15, 9, 1, 2, 3, 4, 5, 6, 7, 8, 9, 10, 11, 12, 13, 14, 15, 12, 1, 2, 3, 4, 5, 6, 7, 8, 9, 10, 11, 12, 13, 14, 15, 2, 3, 4, 5, 6, 11, 12, 14, 11, 5, 7, 11, 12, 15, 2, 2, 10, 13, 2, 5, 7, 12, 15, 13, 3, 4, 7, 1, 7, 10, 14, 1, 5, 8, 1, 2, 3, 4, 5, 7, 9, 10, 11, 12, 15, 7, 1, 4, 5, 6, 7, 8, 9, 13, 14, 15, 12, 5, 6, 15, 8, 1, 6, 11, 5, 1, 2, 4, 5, 6, 7, 8, 9, 10, 11, 12, 13, 2, 10, 11, 14, 15, 1, 10, 2, 3, 15, 5, 15, 9, 1, 12, 5, 15, 3, 12, 10, 9, 15, 3, 13, 5, 4, 6, 10, 2, 13, 11, 5, 11, 13, 14, 9, 11, 7, 3, 1, 2, 3, 4, 6, 9, 12, 14, 15, 3, 5, 7, 8, 10, 11, 13, 14, 6, 9, 1, 7, 10, 11, 1, 2, 3, 5, 6, 7, 8, 9, 10, 11, 14, 10, 2, 3, 4, 5, 6, 7, 8, 10, 11, 13, 15, 3, 5, 6, 7, 8, 9, 10, 11, 13, 15, 9, 13, 7, 6, 14, 12, 15, 1, 2, 3, 5, 6, 7, 8, 10, 11, 13, 14, 1, 4, 5, 8, 9, 10, 1, 2, 2, 3, 5, 6, 7, 8, 9, 10, 11, 12, 13, 14, 15, 8, 12, 12, 3, 6, 7, 8, 9, 11, 12, 13, 14, 2, 4, 6, 8, 10, 15, 5, 9, 1, 2, 3, 4, 5, 6, 7, 10, 11, 12, 13, 14, 2, 3, 5, 7, 8, 9, 10, 11, 14, 15, 2, 9, 2, 3, 2, 1, 4, 5, 6, 9, 12, 13, 3, 5, 6, 9, 10, 11, 12, 13, 14, 15, 6, 9, 1, 3, 4, 5, 6, 7, 8, 9, 10, 11, 12, 13, 14, 15, 14, 5, 10, 12, 2, 5, 6, 7, 6, 14, 1, 2, 3, 5, 9, 10, 11, 12, 13, 14, 15, 1, 2, 3, 8, 10, 15, 1, 2, 4, 9, 10, 15, 12, 2, 3, 6, 7, 8, 9, 11, 13, 1, 2, 3, 4, 5, 6, 7, 8, 9, 10, 11, 12, 14, 1, 6, 8, 9, 10, 11, 13, 15, 4, 7, 11, 14, 5, 8, 12, 1, 3, 4, 7, 8, 12, 13, 7, 2, 4, 8, 14, 1, 4, 6, 8, 12, 14, 15, 8, 7, 1, 2, 3, 4, 5, 6, 7, 8, 9, 10, 12, 13, 14, 15, 1, 2, 3, 4, 5, 6, 7, 8, 10, 12, 14, 15, 1, 2, 3, 6, 8, 9, 10, 11, 12, 15, 10, 9, 3, 6, 9, 5, 7, 11, 12, 14, 7, 9, 10, 15, 7, 12, 11, 1, 5, 7, 2, 8, 11, 14, 9, 4, 3, 8, 1, 4, 6, 7, 11, 14, 11, 3, 12, 7, 1, 2, 3, 6, 7, 8, 11, 12, 13, 14, 15, 13, 4, 1, 2, 3, 4, 6, 7, 8, 9, 10, 11, 12, 14, 15, 11, 2, 14, 3, 11, 8, 15, 12, 14, 10, 13, 1, 2, 3, 6, 7, 9, 12, 13, 14, 1, 2, 3, 4, 5, 6, 8, 9, 11, 12, 14, 15, 12, 15, 2, 3, 4, 5, 7, 8, 9, 11, 15, 1, 2, 3, 4, 5, 6, 7, 8, 9, 10, 11, 12, 13, 14, 12, 11, 14, 2, 6, 8, 10, 6, 7, 7, 6, 11, 3, 10, 13, 3, 5, 6, 8, 9, 11, 14, 1, 2, 5, 7, 8, 10, 11, 14, 2, 4, 9, 7, 2, 8, 12, 1, 5, 6, 7, 11, 12, 1, 2, 3, 5, 7, 8, 10, 12, 13, 14, 7, 3, 2, 5, 9, 10, 2, 6, 14, 5, 11, 9, 6, 3, 6, 15, 14, 3, 5, 6, 7, 8, 10, 11, 3, 2, 3, 5, 7, 9, 10, 11, 12, 14, 15, 1, 3, 5, 6, 7, 8, 9, 10, 14, 1, 4, 7, 8, 9, 10, 11, 13, 15, 3, 12, 7, 11, 14, 10, 13, 8, 1, 2, 3, 4, 5, 6, 7, 9, 10, 11, 12, 13, 14, 15, 5, 15, 10, 3, 11, 12, 6, 12, 1, 2, 3, 6, 7, 8, 9, 10, 11, 12, 13, 14, 15, 5, 14, 5, 13, 2, 8, 2, 3, 5, 9, 10, 12, 14, 5, 8, 13, 10, 1, 2, 3, 4, 6, 7, 9, 11, 13, 15, 15, 2, 11, 1, 12, 13, 15, 4, 10, 12, 8, 5, 13, 3, 6, 1, 5, 6, 15, 4, 10, 12, 14, 13, 1, 13, 15, 2, 9, 1, 2, 3, 4, 6, 7, 8, 9, 10, 11, 13, 15, 2, 6, 13, 15, 9, 5, 6, 7, 8, 13, 2, 9, 1, 3, 4, 15, 8, 10, 4, 13, 8, 13, 1, 2, 4, 5, 6, 8, 11, 9, 13, 11, 4, 9, 3, 4, 13, 1, 3, 4, 5, 8, 14, 15, 12, 10, 6, 7, 12, 14, 2, 3, 4, 6, 7, 10, 11, 13, 14, 11, 8, 10, 1, 2, 3, 4, 6, 7, 10, 11, 12, 13, 15, 6, 12, 15, 6, 13, 2, 3, 6, 9, 13, 15, 3, 6, 8, 10, 11, 12, 1, 6, 10, 11, 1, 5, 15, 1, 6, 7, 8, 10, 12, 9, 2, 1, 2, 3, 5, 6, 7, 8, 9, 10, 11, 12, 14, 15, 14, 1, 3, 5, 11, 11, 12, 1, 3, 4, 5, 6, 7, 8, 9, 10, 11, 13, 14, 15, 11, 2, 5, 9, 1, 2, 3, 5, 7, 8, 13, 1, 2, 3, 4, 6, 7, 8, 9, 10, 12, 13, 14, 5, 6, 1, 2, 3, 4, 8, 9, 13, 15, 14, 11, 7, 8, 4, 1, 12, 14, 1, 2, 3, 4, 9, 11, 12, 2, 7, 6, 14, 1, 13, 11, 14, 5, 1, 2, 6, 7, 8, 10, 11, 13, 4, 1, 3, 6, 10, 1, 2, 11, 13, 15, 1, 2, 3, 4, 5, 7, 8, 9, 14, 10, 14, 1, 8, 5, 7, 1, 1, 4, 5, 6, 7, 8, 9, 10, 11, 12, 13, 14, 11, 3, 4, 6, 11, 12, 13, 14, 9, 1, 1, 3, 4, 5, 6, 7, 8, 10, 12, 13, 14, 1, 4, 12, 7, 11, 13, 15, 8, 3, 4, 1, 2, 3, 6, 7, 8, 12, 15, 3, 13, 2, 5, 8, 11, 13, 11, 5, 8, 9, 13, 2, 3, 4, 13, 1, 3, 6, 8, 3, 4, 5, 4, 1, 3, 4, 5, 6, 7, 8, 9, 12, 13, 14, 5, 14, 1, 14, 12, 2, 9, 10, 1, 2, 3, 4, 5, 6, 8, 9, 10, 11, 12, 13, 14, 15, 1, 2, 3, 4, 5, 6, 7, 8, 9, 10, 11, 12, 13, 14, 15, 4, 12, 10, 1, 2, 3, 4, 6, 11, 13, 14, 2, 7, 8, 11, 15, 1, 2, 4, 6, 7, 10, 11, 12, 15, 7, 1, 2, 5, 7, 10, 11, 12, 5, 15, 1, 2, 3, 5, 6, 7, 8, 9, 10, 11, 2, 6, 9, 10, 1, 3, 5, 12, 1, 2, 3, 4, 5, 7, 8, 11, 12, 14, 1, 3, 4, 5, 6, 9, 10, 11, 12, 14, 15, 1, 2, 3, 4, 5, 6, 7, 9, 10, 11, 12, 14, 15, 9, 11, 14, 1, 2, 3, 4, 5, 6, 7, 8, 10, 11, 12, 13, 14, 15, 1, 2, 7, 10, 13, 14, 1, 2, 3, 4, 5, 7, 8, 9, 10, 14, 3, 7, 8, 11, 12, 15, 2, 3, 4, 5, 14, 5, 9, 3, 12, 10, 11, 1, 2, 3, 5, 7, 9, 10, 11, 12, 13, 15, 14, 10, 12, 1, 5, 14, 1, 2, 4, 5, 6, 8, 9, 10, 11, 12, 14, 4, 8, 11, 13, 7, 6, 12, 14, 2, 3, 4, 6, 7, 9, 10, 12, 2, 3, 4, 6, 9, 10, 11, 13, 1, 5, 15, 1, 2, 6, 13, 5, 10, 1, 5, 2, 3, 4, 5, 6, 7, 12, 13, 14, 15, 15, 2, 4, 8, 10, 11, 13, 1, 1, 2, 4, 5, 8, 11, 12, 14, 13, 6, 1, 5, 9, 10, 13, 4, 1, 3, 4, 5, 6, 9, 11, 13, 4, 11, 15, 7, 10, 3, 6, 1, 3, 4, 5, 6, 8, 9, 10, 12, 14, 15, 4, 1, 5, 6, 7, 8, 11, 12, 13, 14, 1, 7, 1, 2, 2, 4, 5, 9, 10, 11, 12, 14, 15, 3, 6, 9, 1, 2, 5, 8, 12, 13, 1, 2, 3, 4, 5, 6, 7, 8, 9, 10, 11, 12, 13, 15, 4, 5, 6, 7, 10, 11, 14, 15, 5, 11, 14, 4, 14, 6, 1, 12, 13, 15, 5, 8, 9, 11, 12, 14, 2, 7, 9, 11, 12, 13, 15, 8, 1, 2, 5, 6, 7, 8, 9, 10, 11, 12, 13, 8, 2, 3, 5, 6, 8, 9, 11, 12, 13, 14, 15, 1, 4, 8, 9, 10, 11, 12, 13, 14, 9, 12, 15, 9, 3, 4, 7, 9, 13, 9, 1, 2, 3, 4, 5, 6, 7, 8, 12, 14, 15, 6, 14, 3, 5, 6, 8, 9, 10, 11, 12, 13, 14, 15, 15, 2, 4, 7, 9, 10, 11, 13, 14, 4, 6, 9, 14, 1, 2, 3, 4, 6, 8, 9, 10, 11, 13, 1, 3, 5, 9, 13, 14, 8, 1, 8, 14], \"Freq\": [0.7428831458091736, 0.6449024081230164, 0.6446340084075928, 0.06306882202625275, 0.28380969166755676, 0.09460322558879852, 0.06306882202625275, 0.06306882202625275, 0.03153441101312637, 0.03153441101312637, 0.09460322558879852, 0.06306882202625275, 0.1261376440525055, 0.06306882202625275, 0.03153441101312637, 0.7428826689720154, 0.6017053127288818, 0.6187652945518494, 0.8326076865196228, 0.6193268299102783, 0.6237072944641113, 0.7945228219032288, 0.6079099178314209, 0.30395495891571045, 0.6446340680122375, 0.8489105701446533, 0.6017051339149475, 0.31377363204956055, 0.6275472640991211, 0.8711856007575989, 0.6193264722824097, 0.6082584261894226, 0.6322973966598511, 0.6253803372383118, 0.6421202421188354, 0.6176183819770813, 0.6187654137611389, 0.6446336507797241, 0.824794352054596, 0.8326074481010437, 0.6297350525856018, 0.6187654137611389, 0.11980987340211868, 0.11980987340211868, 0.4193345606327057, 0.23961974680423737, 0.05990493670105934, 0.05990493670105934, 0.806084156036377, 0.644633948802948, 0.644633948802948, 0.6017051339149475, 0.6322972774505615, 0.6446340680122375, 0.8247934579849243, 0.6169292330741882, 0.6040248870849609, 0.41455891728401184, 0.6237072944641113, 0.6040248274803162, 0.6449025273323059, 0.6040248870849609, 0.806084930896759, 0.8060845136642456, 0.8332117199897766, 0.6237074732780457, 0.6237074732780457, 0.5927419662475586, 0.2963709831237793, 0.6322975754737854, 0.2506861090660095, 0.501372218132019, 0.2506861090660095, 0.6236698031425476, 0.3118349015712738, 0.6322972774505615, 0.6322972178459167, 0.6237072944641113, 0.6169291138648987, 0.6322973966598511, 0.8213100433349609, 0.644902229309082, 0.20543473958969116, 0.4108694791793823, 0.20543473958969116, 0.6446336507797241, 0.6421206593513489, 0.6322975754737854, 0.6017052531242371, 0.6449024081230164, 0.6193267703056335, 0.6322975158691406, 0.6297354102134705, 0.6322973966598511, 0.2697005271911621, 0.2697005271911621, 0.40455079078674316, 0.6017051339149475, 0.8439912796020508, 0.8326094150543213, 0.5929227471351624, 0.5939881801605225, 0.6237069964408875, 0.6040248870849609, 0.6449022889137268, 0.2596513628959656, 0.5193027257919312, 0.6322970986366272, 0.5929228663444519, 0.27625682950019836, 0.5525136590003967, 0.13812841475009918, 0.8213098049163818, 0.6322972774505615, 0.6284313797950745, 0.8210952281951904, 0.14170248806476593, 0.14170248806476593, 0.16059616208076477, 0.09446832537651062, 0.03778733313083649, 0.06612782925367355, 0.03778733313083649, 0.05668099597096443, 0.04723416268825531, 0.009446833282709122, 0.018893666565418243, 0.06612782925367355, 0.009446833282709122, 0.04723416268825531, 0.06612782925367355, 0.5075398683547974, 0.2537699341773987, 0.6446337699890137, 0.824570894241333, 0.6297352313995361, 0.04405611753463745, 0.22028057277202606, 0.04405611753463745, 0.30839282274246216, 0.0881122350692749, 0.0881122350692749, 0.04405611753463745, 0.0881122350692749, 0.04405611753463745, 0.8213467597961426, 0.7604717016220093, 0.6237072944641113, 0.6348721385002136, 0.3174360692501068, 0.4358639419078827, 0.31367138028144836, 0.15683569014072418, 0.15683569014072418, 0.31367138028144836, 0.6017053127288818, 0.6297351717948914, 0.09717610478401184, 0.1214701235294342, 0.02429402619600296, 0.09717610478401184, 0.04858805239200592, 0.14576415717601776, 0.04858805239200592, 0.09717610478401184, 0.07288207858800888, 0.1214701235294342, 0.04858805239200592, 0.07288207858800888, 0.8213091492652893, 0.6193268299102783, 0.0717090293765068, 0.0358545146882534, 0.0358545146882534, 0.02390301041305065, 0.2270786017179489, 0.02390301041305065, 0.1434180587530136, 0.0478060208261013, 0.011951505206525326, 0.1553695648908615, 0.0478060208261013, 0.0956120416522026, 0.059757523238658905, 0.0358545146882534, 0.6040248274803162, 0.09264325350522995, 0.1852865070104599, 0.12352433800697327, 0.030881084501743317, 0.09264325350522995, 0.24704867601394653, 0.06176216900348663, 0.06176216900348663, 0.09264325350522995, 0.12431495636701584, 0.12431495636701584, 0.49725982546806335, 0.12431495636701584, 0.12431495636701584, 0.6421205401420593, 0.6017052531242371, 0.629753828048706, 0.314876914024353, 0.14251485466957092, 0.08550891280174255, 0.05700594559311867, 0.4845505356788635, 0.05700594559311867, 0.05700594559311867, 0.028502972796559334, 0.08550891280174255, 0.7971726655960083, 0.12731467187404633, 0.1591433435678482, 0.04774300381541252, 0.0795716717839241, 0.01591433398425579, 0.01591433398425579, 0.03182866796851158, 0.14322900772094727, 0.19097201526165009, 0.03182866796851158, 0.01591433398425579, 0.06365733593702316, 0.04774300381541252, 0.03182866796851158, 0.5939881801605225, 0.17086511850357056, 0.046599578112363815, 0.03106638602912426, 0.06213277205824852, 0.06213277205824852, 0.12426554411649704, 0.09319915622472763, 0.01553319301456213, 0.13979873061180115, 0.03106638602912426, 0.046599578112363815, 0.06213277205824852, 0.06213277205824852, 0.03106638602912426, 0.03106638602912426, 0.824570894241333, 0.5888630747795105, 0.29443153738975525, 0.644633948802948, 0.30821141600608826, 0.04403020069003105, 0.0880604013800621, 0.1761208027601242, 0.0880604013800621, 0.13209059834480286, 0.04403020069003105, 0.04403020069003105, 0.04403020069003105, 0.04403020069003105, 0.29766613245010376, 0.5953322649002075, 0.13873054087162018, 0.13873054087162018, 0.5549221634864807, 0.13873054087162018, 0.3185739517211914, 0.3185739517211914, 0.20997768640518188, 0.19088880717754364, 0.07635551691055298, 0.05726664140820503, 0.07635551691055298, 0.07635551691055298, 0.05726664140820503, 0.09544440358877182, 0.07635551691055298, 0.03817775845527649, 0.019088879227638245, 0.03817775845527649, 0.6187654733657837, 0.8441867828369141, 0.7792750597000122, 0.8213087916374207, 0.7827555537223816, 0.16546638309955597, 0.4963991343975067, 0.16546638309955597, 0.6449024081230164, 0.12284008413553238, 0.030710021033883095, 0.15355010330677032, 0.09213006496429443, 0.12284008413553238, 0.030710021033883095, 0.30710020661354065, 0.09213006496429443, 0.030710021033883095, 0.030710021033883095, 0.6297353506088257, 0.16777531802654266, 0.08388765901327133, 0.08388765901327133, 0.08388765901327133, 0.3355506360530853, 0.2516629695892334, 0.5962540507316589, 0.29812702536582947, 0.7985875606536865, 0.19520671665668488, 0.14640504121780396, 0.14640504121780396, 0.10980377346277237, 0.08540293574333191, 0.012200419791042805, 0.04880167916417122, 0.04880167916417122, 0.03660126030445099, 0.02440083958208561, 0.03660126030445099, 0.06100209802389145, 0.02440083958208561, 0.6169288754463196, 0.17814765870571136, 0.35629531741142273, 0.35629531741142273, 0.5939882397651672, 0.08372385799884796, 0.06697908788919449, 0.08372385799884796, 0.05023431405425072, 0.08372385799884796, 0.16744771599769592, 0.13395817577838898, 0.016744771972298622, 0.16744771599769592, 0.033489543944597244, 0.08372385799884796, 0.016744771972298622, 0.033489543944597244, 0.7985875606536865, 0.13810667395591736, 0.13810667395591736, 0.13810667395591736, 0.06905333697795868, 0.13810667395591736, 0.06905333697795868, 0.3452666699886322, 0.0838305801153183, 0.027943525463342667, 0.11177410185337067, 0.22354820370674133, 0.11177410185337067, 0.027943525463342667, 0.05588705092668533, 0.0838305801153183, 0.13971762359142303, 0.027943525463342667, 0.11177410185337067, 0.13746489584445953, 0.34366223216056824, 0.06873244792222977, 0.13746489584445953, 0.06873244792222977, 0.13746489584445953, 0.13746489584445953, 0.6322975754737854, 0.6187654137611389, 0.6421205401420593, 0.8210943937301636, 0.10336757451295853, 0.10336757451295853, 0.10336757451295853, 0.20673514902591705, 0.10336757451295853, 0.3101027309894562, 0.10336757451295853, 0.6582873463630676, 0.7428797483444214, 0.6421206593513489, 0.619326651096344, 0.08224362134933472, 0.05874544382095337, 0.08224362134933472, 0.16448724269866943, 0.07049453258514404, 0.1292399764060974, 0.1292399764060974, 0.09399271011352539, 0.08224362134933472, 0.05874544382095337, 0.046996355056762695, 0.0323975570499897, 0.0647951140999794, 0.0647951140999794, 0.1619877964258194, 0.0971926748752594, 0.0323975570499897, 0.1619877964258194, 0.0323975570499897, 0.0647951140999794, 0.0647951140999794, 0.0647951140999794, 0.0647951140999794, 0.0647951140999794, 0.09040799736976624, 0.09040799736976624, 0.2712239921092987, 0.09040799736976624, 0.36163198947906494, 0.09040799736976624, 0.044238850474357605, 0.044238850474357605, 0.13271655142307281, 0.22119423747062683, 0.08847770094871521, 0.13271655142307281, 0.13271655142307281, 0.08847770094871521, 0.08847770094871521, 0.044238850474357605, 0.6017053127288818, 0.6017052531242371, 0.07419571280479431, 0.07419571280479431, 0.07419571280479431, 0.5935657024383545, 0.07419571280479431, 0.07419571280479431, 0.7811069488525391, 0.11624271422624588, 0.11624271422624588, 0.11624271422624588, 0.05812135711312294, 0.2906067967414856, 0.11624271422624588, 0.11624271422624588, 0.05812135711312294, 0.05812135711312294, 0.8060848116874695, 0.6169292330741882, 0.36970654129981995, 0.295765221118927, 0.07394130527973175, 0.07394130527973175, 0.07394130527973175, 0.07394130527973175, 0.07658291608095169, 0.22974875569343567, 0.07658291608095169, 0.15316583216190338, 0.30633166432380676, 0.07658291608095169, 0.07658291608095169, 0.4676761031150818, 0.1558920443058014, 0.1558920443058014, 0.1558920443058014, 0.6322972178459167, 0.5929227471351624, 0.6040248870849609, 0.30311352014541626, 0.6062270402908325, 0.6040400266647339, 0.30202001333236694, 0.642120361328125, 0.20074300467967987, 0.20074300467967987, 0.40148600935935974, 0.19146311283111572, 0.09573155641555786, 0.19146311283111572, 0.38292622566223145, 0.09573155641555786, 0.09573155641555786, 0.6169292330741882, 0.5939881801605225, 0.6297352313995361, 0.6017051339149475, 0.22266750037670135, 0.11133375018835068, 0.11133375018835068, 0.33400124311447144, 0.11133375018835068, 0.6322975158691406, 0.20439670979976654, 0.4087934195995331, 0.20439670979976654, 0.6040248870849609, 0.3764510750770569, 0.1254836916923523, 0.1254836916923523, 0.06274184584617615, 0.1254836916923523, 0.1254836916923523, 0.06274184584617615, 0.20070327818393707, 0.10035163909196854, 0.20070327818393707, 0.40140655636787415, 0.10035163909196854, 0.8707420229911804, 0.17800119519233704, 0.3560023903846741, 0.3560023903846741, 0.1598479151725769, 0.0319695845246315, 0.0959087535738945, 0.063939169049263, 0.3196958303451538, 0.0319695845246315, 0.063939169049263, 0.0319695845246315, 0.0319695845246315, 0.0959087535738945, 0.063939169049263, 0.2554621398448944, 0.5109242796897888, 0.2554621398448944, 0.1001213937997818, 0.23361659049987793, 0.13349519670009613, 0.06674759835004807, 0.1001213937997818, 0.3337379992008209, 0.6303223371505737, 0.31516116857528687, 0.15913763642311096, 0.5967661142349243, 0.03978440910577774, 0.03978440910577774, 0.03978440910577774, 0.03978440910577774, 0.07956881821155548, 0.6040248274803162, 0.5939881801605225, 0.616752028465271, 0.3083760142326355, 0.6383691430091858, 0.6169289350509644, 0.5929227471351624, 0.7428829073905945, 0.0539994053542614, 0.1619982123374939, 0.1619982123374939, 0.1619982123374939, 0.0539994053542614, 0.1079988107085228, 0.0539994053542614, 0.0539994053542614, 0.1619982123374939, 0.5172361135482788, 0.17241202294826508, 0.17241202294826508, 0.17241202294826508, 0.2515410780906677, 0.12577053904533386, 0.12577053904533386, 0.12577053904533386, 0.3773116171360016, 0.6255691647529602, 0.3127845823764801, 0.2054964005947113, 0.10274820029735565, 0.10274820029735565, 0.2054964005947113, 0.30824458599090576, 0.10274820029735565, 0.21217530965805054, 0.21217530965805054, 0.4243506193161011, 0.20467254519462585, 0.4093450903892517, 0.20467254519462585, 0.28713691234588623, 0.04785614833235741, 0.23928074538707733, 0.14356845617294312, 0.04785614833235741, 0.09571229666471481, 0.14356845617294312, 0.43012428283691406, 0.22532711923122406, 0.11266355961561203, 0.11266355961561203, 0.22532711923122406, 0.11266355961561203, 0.22532711923122406, 0.6421207189559937, 0.6217459440231323, 0.31087297201156616, 0.6082586646080017, 0.6237074136734009, 0.5857634544372559, 0.11715269088745117, 0.11715269088745117, 0.11715269088745117, 0.32171449065208435, 0.6434289813041687, 0.6040247678756714, 0.6297353506088257, 0.13742871582508087, 0.13742871582508087, 0.4122861623764038, 0.13742871582508087, 0.13742871582508087, 0.11560290306806564, 0.11560290306806564, 0.2312058061361313, 0.34680870175361633, 0.2312058061361313, 0.8708584308624268, 0.8245717883110046, 0.3152642250061035, 0.630528450012207, 0.6470195651054382, 0.10783659666776657, 0.10783659666776657, 0.10783659666776657, 0.15707719326019287, 0.31415438652038574, 0.31415438652038574, 0.15707719326019287, 0.60523521900177, 0.8016241788864136, 0.8436612486839294, 0.6193267703056335, 0.7949464321136475, 0.7090534567832947, 0.3182053864002228, 0.6364107728004456, 0.6446337103843689, 0.3932802975177765, 0.04916003718972206, 0.09832007437944412, 0.14748011529445648, 0.04916003718972206, 0.19664014875888824, 0.04916003718972206, 0.09832007437944412, 0.5935439467430115, 0.29677197337150574, 0.6446337103843689, 0.6446340680122375, 0.6040248274803162, 0.24942094087600708, 0.24942094087600708, 0.49884188175201416, 0.1525496393442154, 0.1525496393442154, 0.4576489329338074, 0.1525496393442154, 0.6284312605857849, 0.10815484076738358, 0.09270414710044861, 0.09270414710044861, 0.07725345343351364, 0.09270414710044861, 0.07725345343351364, 0.07725345343351364, 0.046352073550224304, 0.015450690872967243, 0.09270414710044861, 0.06180276349186897, 0.046352073550224304, 0.10815484076738358, 0.3074757754802704, 0.6149515509605408, 0.11841747909784317, 0.5920873880386353, 0.23683495819568634, 0.7945228219032288, 0.8706098794937134, 0.14465297758579254, 0.009643531404435635, 0.17358356714248657, 0.4918201267719269, 0.02893059514462948, 0.02893059514462948, 0.009643531404435635, 0.01928706280887127, 0.009643531404435635, 0.05786119028925896, 0.02893059514462948, 0.6421204209327698, 0.7945306301116943, 0.6421205401420593, 0.797053873538971, 0.806312620639801, 0.6169290542602539, 0.43384331464767456, 0.11710354685783386, 0.15613806247711182, 0.21468983590602875, 0.11710354685783386, 0.039034515619277954, 0.039034515619277954, 0.039034515619277954, 0.09758628904819489, 0.019517257809638977, 0.05855177342891693, 0.019517257809638977, 0.039034515619277954, 0.05855177342891693, 0.6237074136734009, 0.6134005784988403, 0.08762865513563156, 0.08762865513563156, 0.17525731027126312, 0.08762865513563156, 0.31115853786468506, 0.6223170757293701, 0.090488962829113, 0.0452444814145565, 0.090488962829113, 0.090488962829113, 0.1357334554195404, 0.0452444814145565, 0.180977925658226, 0.1357334554195404, 0.090488962829113, 0.090488962829113, 0.6187654733657837, 0.7991322875022888, 0.6322975158691406, 0.5332099199295044, 0.1333024799823761, 0.1333024799823761, 0.1333024799823761, 0.1333024799823761, 0.7812374830245972, 0.6348029971122742, 0.3174014985561371, 0.0995437353849411, 0.0995437353849411, 0.0995437353849411, 0.1990874707698822, 0.4977186918258667, 0.15577960014343262, 0.15577960014343262, 0.07788980007171631, 0.07788980007171631, 0.15577960014343262, 0.07788980007171631, 0.31155920028686523, 0.4033786356449127, 0.13445955514907837, 0.26891911029815674, 0.13445955514907837, 0.3352874219417572, 0.4191092848777771, 0.0838218554854393, 0.0838218554854393, 0.6237074136734009, 0.2238859087228775, 0.11194295436143875, 0.11194295436143875, 0.33582884073257446, 0.11194295436143875, 0.7811079621315002, 0.62973552942276, 0.5929229259490967, 0.8147159814834595, 0.03394649922847748, 0.06789299845695496, 0.03394649922847748, 0.6182695031166077, 0.15651923418045044, 0.15651923418045044, 0.15651923418045044, 0.15651923418045044, 0.3130384683609009, 0.6075915098190308, 0.3037957549095154, 0.08283920586109161, 0.16567841172218323, 0.08283920586109161, 0.08283920586109161, 0.08283920586109161, 0.04141960293054581, 0.08283920586109161, 0.28993722796440125, 0.08283920586109161, 0.10552424192428589, 0.052762120962142944, 0.15828636288642883, 0.15828636288642883, 0.052762120962142944, 0.21104848384857178, 0.10552424192428589, 0.052762120962142944, 0.052762120962142944, 0.6284312009811401, 0.6169289350509644, 0.6187652349472046, 0.6446337699890137, 0.895175039768219, 0.30511045455932617, 0.6102209091186523, 0.07651889324188232, 0.38259443640708923, 0.07651889324188232, 0.15303778648376465, 0.15303778648376465, 0.15303778648376465, 0.24803707003593445, 0.12401853501796722, 0.06200926750898361, 0.12401853501796722, 0.31004634499549866, 0.12401853501796722, 0.06200926750898361, 0.3248881697654724, 0.6497763395309448, 0.6187655925750732, 0.6322973966598511, 0.696473240852356, 0.6446340680122375, 0.6187655925750732, 0.1938006728887558, 0.5814020037651062, 0.1938006728887558, 0.6446333527565002, 0.05935897305607796, 0.05935897305607796, 0.4155128002166748, 0.23743589222431183, 0.11871794611215591, 0.05935897305607796, 0.11871794611215591, 0.6284312605857849, 0.6132259368896484, 0.3066129684448242, 0.18527966737747192, 0.09263983368873596, 0.09263983368873596, 0.37055933475494385, 0.09263983368873596, 0.09263983368873596, 0.09263983368873596, 0.6193267703056335, 0.5974680185317993, 0.29873400926589966, 0.6187654137611389, 0.7812766432762146, 0.2944185137748718, 0.5888370275497437, 0.6237071752548218, 0.6017052531242371, 0.12179805338382721, 0.16239739954471588, 0.08119869977235794, 0.08119869977235794, 0.24359610676765442, 0.08119869977235794, 0.04059934988617897, 0.04059934988617897, 0.04059934988617897, 0.04059934988617897, 0.04059934988617897, 0.08119869977235794, 0.6800530552864075, 0.17001326382160187, 0.17001326382160187, 0.06819657981395721, 0.10229486972093582, 0.06819657981395721, 0.03409828990697861, 0.03409828990697861, 0.20458973944187164, 0.13639315962791443, 0.06819657981395721, 0.06819657981395721, 0.17049144208431244, 0.07576414197683334, 0.1515282839536667, 0.3030565679073334, 0.07576414197683334, 0.07576414197683334, 0.1515282839536667, 0.1515282839536667, 0.1675313115119934, 0.1675313115119934, 0.0837656557559967, 0.0837656557559967, 0.0837656557559967, 0.2512969672679901, 0.0837656557559967, 0.0837656557559967, 0.6421202421188354, 0.7945220470428467, 0.21766877174377441, 0.43533754348754883, 0.43533754348754883, 0.1513027399778366, 0.05043424665927887, 0.3026054799556732, 0.1513027399778366, 0.20173698663711548, 0.05043424665927887, 0.05043424665927887, 0.05043424665927887, 0.18525388836860657, 0.12350258976221085, 0.12350258976221085, 0.12350258976221085, 0.2470051795244217, 0.12350258976221085, 0.06175129488110542, 0.6297354102134705, 0.6580447554588318, 0.3290223777294159, 0.5311006307601929, 0.031241213902831078, 0.062482427805662155, 0.062482427805662155, 0.062482427805662155, 0.031241213902831078, 0.062482427805662155, 0.062482427805662155, 0.062482427805662155, 0.6040248870849609, 0.8210932612419128, 0.5929229259490967, 0.8066208958625793, 0.5929227471351624, 0.6297353506088257, 0.62973552942276, 0.07364939898252487, 0.07364939898252487, 0.14729879796504974, 0.07364939898252487, 0.07364939898252487, 0.07364939898252487, 0.07364939898252487, 0.22094818949699402, 0.14729879796504974, 0.12332084029912949, 0.24664168059825897, 0.12332084029912949, 0.12332084029912949, 0.24664168059825897, 0.12332084029912949, 0.06650689989328384, 0.1330137997865677, 0.06650689989328384, 0.3325344920158386, 0.19952070713043213, 0.1330137997865677, 0.06650689989328384, 0.15103094279766083, 0.07551547139883041, 0.07551547139883041, 0.37757736444473267, 0.07551547139883041, 0.07551547139883041, 0.07551547139883041, 0.07551547139883041, 0.20276884734630585, 0.20276884734630585, 0.4055376946926117, 0.8666044473648071, 0.6410371661186218, 0.21367906033992767, 0.8662176132202148, 0.08053930103778839, 0.6443144083023071, 0.08053930103778839, 0.16107860207557678, 0.13851496577262878, 0.13851496577262878, 0.13851496577262878, 0.27702993154525757, 0.13851496577262878, 0.6237074136734009, 0.6446337103843689, 0.6017053127288818, 0.43549439311027527, 0.26167359948158264, 0.5233471989631653, 0.26167359948158264, 0.09991209954023361, 0.1665201634168625, 0.23312823474407196, 0.06660806387662888, 0.13321612775325775, 0.06660806387662888, 0.03330403193831444, 0.06660806387662888, 0.06660806387662888, 0.06660806387662888, 0.5962927341461182, 0.2981463670730591, 0.1298546940088272, 0.6492735147476196, 0.1298546940088272, 0.025172216817736626, 0.201377734541893, 0.07551664859056473, 0.12586109340190887, 0.07551664859056473, 0.025172216817736626, 0.05034443363547325, 0.07551664859056473, 0.07551664859056473, 0.05034443363547325, 0.05034443363547325, 0.12586109340190887, 0.6284313797950745, 0.6187654733657837, 0.9063556790351868, 0.9450044631958008, 0.24147658050060272, 0.08049219101667404, 0.4024609625339508, 0.08049219101667404, 0.16098438203334808, 0.08049219101667404, 0.08172860741615295, 0.08172860741615295, 0.19727595150470734, 0.06200101226568222, 0.087365061044693, 0.03663696348667145, 0.03100050613284111, 0.08172860741615295, 0.04227341711521149, 0.087365061044693, 0.050728101283311844, 0.045091643929481506, 0.050728101283311844, 0.03381873294711113, 0.03100050613284111, 0.3284335136413574, 0.6568670272827148, 0.27587753534317017, 0.13793876767158508, 0.13793876767158508, 0.27587753534317017, 0.13793876767158508, 0.09288019686937332, 0.09288019686937332, 0.6501613855361938, 0.09288019686937332, 0.09288019686937332, 0.40058445930480957, 0.20029222965240479, 0.20029222965240479, 0.07527045160531998, 0.22581134736537933, 0.3010818064212799, 0.07527045160531998, 0.07527045160531998, 0.07527045160531998, 0.07527045160531998, 0.07527045160531998, 0.07527045160531998, 0.6040248274803162, 0.15405568480491638, 0.15405568480491638, 0.07702784240245819, 0.15405568480491638, 0.05777088180184364, 0.05777088180184364, 0.019256960600614548, 0.038513921201229095, 0.21182656288146973, 0.019256960600614548, 0.038513921201229095, 0.0719585046172142, 0.0539688766002655, 0.01798962615430355, 0.1798962652683258, 0.0899481326341629, 0.01798962615430355, 0.1439170092344284, 0.01798962615430355, 0.107937753200531, 0.1439170092344284, 0.1439170092344284, 0.12303108721971512, 0.12303108721971512, 0.36909326910972595, 0.12303108721971512, 0.12303108721971512, 0.12303108721971512, 0.10375482589006424, 0.795453667640686, 0.03458494320511818, 0.03458494320511818, 0.14036472141742706, 0.42109414935112, 0.2807294428348541, 0.27010032534599304, 0.13505016267299652, 0.40515047311782837, 0.13505016267299652, 0.4862462282180786, 0.2431231141090393, 0.6421205401420593, 0.6193267703056335, 0.09643951058387756, 0.09643951058387756, 0.2893185317516327, 0.04821975529193878, 0.04821975529193878, 0.43397781252861023, 0.2653801143169403, 0.06634502857923508, 0.39807015657424927, 0.06634502857923508, 0.13269005715847015, 0.06634502857923508, 0.06634502857923508, 0.7019132375717163, 0.23397107422351837, 0.07472117245197296, 0.03736058622598648, 0.07472117245197296, 0.14944234490394592, 0.03736058622598648, 0.1868029236793518, 0.2241635024547577, 0.07472117245197296, 0.07472117245197296, 0.03736058622598648, 0.07472117245197296, 0.03736058622598648, 0.6169290542602539, 0.6449024081230164, 0.6345610022544861, 0.10526890307664871, 0.42107561230659485, 0.10526890307664871, 0.21053780615329742, 0.10526890307664871, 0.10526890307664871, 0.644902229309082, 0.6187652945518494, 0.1462465077638626, 0.10968488454818726, 0.09140406548976898, 0.10968488454818726, 0.05484244227409363, 0.0731232538819313, 0.0731232538819313, 0.03656162694096565, 0.03656162694096565, 0.018280813470482826, 0.018280813470482826, 0.12796570360660553, 0.03656162694096565, 0.09140406548976898, 0.8360999822616577, 0.11135841906070709, 0.11135841906070709, 0.12148191034793854, 0.04049397259950638, 0.04049397259950638, 0.06074095517396927, 0.06074095517396927, 0.12148191034793854, 0.0911114364862442, 0.12148191034793854, 0.04049397259950638, 0.04049397259950638, 0.010123493149876595, 0.010123493149876595, 0.308758020401001, 0.617516040802002, 0.5428221821784973, 0.036188144236803055, 0.036188144236803055, 0.07237628847360611, 0.07237628847360611, 0.036188144236803055, 0.10856442898511887, 0.10856442898511887, 0.036188144236803055, 0.41446608304977417, 0.6297353506088257, 0.2560137212276459, 0.2560137212276459, 0.5120274424552917, 0.7708991765975952, 0.1927247941493988, 0.6421204209327698, 0.47839754819869995, 0.23919877409934998, 0.23919877409934998, 0.8210936188697815, 0.8245724439620972, 0.025440365076065063, 0.05088073015213013, 0.15264219045639038, 0.07632109522819519, 0.2798440158367157, 0.22896327078342438, 0.12720182538032532, 0.025440365076065063, 0.025440365076065063, 0.025440365076065063, 0.13367846608161926, 0.6683923006057739, 0.13367846608161926, 0.11910192668437958, 0.05955096334218979, 0.29775482416152954, 0.29775482416152954, 0.05955096334218979, 0.05955096334218979, 0.05955096334218979, 0.07796800881624222, 0.10024458169937134, 0.04455314949154854, 0.17821259796619415, 0.15593601763248444, 0.02227657474577427, 0.21162745356559753, 0.02227657474577427, 0.03341486304998398, 0.02227657474577427, 0.03341486304998398, 0.08910629898309708, 0.632729709148407, 0.9045364856719971, 0.41753992438316345, 0.011929712258279324, 0.05964856222271919, 0.05964856222271919, 0.023859424516558647, 0.17894569039344788, 0.023859424516558647, 0.035789135843515396, 0.07157827168703079, 0.035789135843515396, 0.011929712258279324, 0.035789135843515396, 0.011929712258279324, 0.011929712258279324, 0.011929712258279324, 0.8284512162208557, 0.6284313797950745, 0.6449021697044373, 0.6237074732780457, 0.047394152730703354, 0.08952228724956512, 0.06845821440219879, 0.0631922036409378, 0.05792618542909622, 0.13691642880439758, 0.0631922036409378, 0.03686211630702019, 0.14744846522808075, 0.01579805091023445, 0.05792618542909622, 0.1316504180431366, 0.0315961018204689, 0.010532033629715443, 0.04212813451886177, 0.6322973966598511, 0.05961443483829498, 0.02980721741914749, 0.02980721741914749, 0.2682649493217468, 0.04967869445681572, 0.06955017149448395, 0.04967869445681572, 0.039742954075336456, 0.05961443483829498, 0.06955017149448395, 0.08942165225744247, 0.02980721741914749, 0.02980721741914749, 0.02980721741914749, 0.08942165225744247, 0.0655599981546402, 0.0655599981546402, 0.0655599981546402, 0.0655599981546402, 0.4589200019836426, 0.0655599981546402, 0.0655599981546402, 0.1966799944639206, 0.6297350525856018, 0.25561025738716125, 0.12780512869358063, 0.12780512869358063, 0.12780512869358063, 0.3834154009819031, 0.5929230451583862, 0.7098739743232727, 0.23662465810775757, 0.8665177822113037, 0.20684529840946198, 0.31026795506477356, 0.10342264920473099, 0.20684529840946198, 0.20684529840946198, 0.8662165403366089, 0.17398343980312347, 0.17398343980312347, 0.5219503045082092, 0.20983560383319855, 0.20983560383319855, 0.20983560383319855, 0.4196712076663971, 0.2021843045949936, 0.2021843045949936, 0.4043686091899872, 0.11198727041482925, 0.34996020793914795, 0.041995227336883545, 0.09798885881900787, 0.041995227336883545, 0.1539824903011322, 0.027996817603707314, 0.06999204307794571, 0.06999204307794571, 0.013998408801853657, 0.027996817603707314, 0.6187652349472046, 0.16015927493572235, 0.12812742590904236, 0.03203185647726059, 0.06406371295452118, 0.06406371295452118, 0.06406371295452118, 0.06406371295452118, 0.2882867157459259, 0.06406371295452118, 0.06406371295452118, 0.6383436918258667, 0.6064525842666626, 0.4043017029762268, 0.644902229309082, 0.6193267703056335, 0.5902319550514221, 0.14755798876285553, 0.14755798876285553, 0.6082584261894226, 0.06237637996673584, 0.3326740264892578, 0.04158425331115723, 0.06237637996673584, 0.10396063327789307, 0.06237637996673584, 0.020792126655578613, 0.12475275993347168, 0.04158425331115723, 0.04158425331115723, 0.10396063327789307, 0.04158425331115723, 0.37979453802108765, 0.18989726901054382, 0.09494863450527191, 0.18989726901054382, 0.09494863450527191, 0.24770791828632355, 0.4954158365726471, 0.5959434509277344, 0.19864781200885773, 0.19864781200885773, 0.4006945490837097, 0.6449022889137268, 0.8334222435951233, 0.24935489892959595, 0.4987097978591919, 0.6201574802398682, 0.3100787401199341, 0.607575535774231, 0.3037877678871155, 0.6284312009811401, 0.8367226123809814, 0.8716816902160645, 0.2515054941177368, 0.5030109882354736, 0.8060545325279236, 0.6027076840400696, 0.3013538420200348, 0.8418389558792114, 0.9254230260848999, 0.6421202421188354, 0.6297354102134705, 0.31174027919769287, 0.6234805583953857, 0.6421207189559937, 0.6446340680122375, 0.420558899641037, 0.420558899641037, 0.6187654733657837, 0.6017052531242371, 0.2622028887271881, 0.13110144436359406, 0.08740096539258957, 0.08740096539258957, 0.08740096539258957, 0.043700482696294785, 0.043700482696294785, 0.13110144436359406, 0.17480193078517914, 0.11646180599927902, 0.11646180599927902, 0.05823090299963951, 0.05823090299963951, 0.05823090299963951, 0.05823090299963951, 0.17469270527362823, 0.34938541054725647, 0.6169291138648987, 0.6237072944641113, 0.7811762690544128, 0.16857026517391205, 0.6742810606956482, 0.08428513258695602, 0.07446809113025665, 0.07446809113025665, 0.19858159124851227, 0.04964539781212807, 0.09929079562425613, 0.22340428829193115, 0.12411349266767502, 0.024822698906064034, 0.09929079562425613, 0.024822698906064034, 0.04964539781212807, 0.6284313797950745, 0.11427187919616699, 0.2856796979904175, 0.1714078187942505, 0.057135939598083496, 0.11427187919616699, 0.11427187919616699, 0.057135939598083496, 0.057135939598083496, 0.057135939598083496, 0.6421205997467041, 0.8714480996131897, 0.08990161865949631, 0.029967205598950386, 0.2697048485279083, 0.05993441119790077, 0.05993441119790077, 0.11986882239580154, 0.029967205598950386, 0.029967205598950386, 0.11986882239580154, 0.14983601868152618, 0.6237071752548218, 0.6421205401420593, 0.6181793212890625, 0.42655980587005615, 0.42655980587005615, 0.6322972774505615, 0.6449025273323059, 0.14430640637874603, 0.03607660159468651, 0.03607660159468651, 0.10822980850934982, 0.32468941807746887, 0.03607660159468651, 0.18038301169872284, 0.03607660159468651, 0.07215320318937302, 0.07215320318937302, 0.03607660159468651, 0.7813032269477844, 0.2452983558177948, 0.1226491779088974, 0.367947518825531, 0.1226491779088974, 0.1226491779088974, 0.29044732451438904, 0.5808946490287781, 0.10690057277679443, 0.17104092240333557, 0.04276023060083389, 0.12828068435192108, 0.06414034217596054, 0.10690057277679443, 0.021380115300416946, 0.06414034217596054, 0.08552046120166779, 0.021380115300416946, 0.06414034217596054, 0.08552046120166779, 0.04276023060083389, 0.31606343388557434, 0.6321268677711487, 0.6322972774505615, 0.10963498055934906, 0.21926996111869812, 0.10963498055934906, 0.10963498055934906, 0.05481749027967453, 0.10963498055934906, 0.05481749027967453, 0.10963498055934906, 0.164452463388443, 0.223802849650383, 0.1119014248251915, 0.1119014248251915, 0.1119014248251915, 0.3357042670249939, 0.1119014248251915, 0.8060848116874695, 0.6237072944641113, 0.10241984575986862, 0.03413994610309601, 0.06827989220619202, 0.03413994610309601, 0.27311956882476807, 0.06827989220619202, 0.03413994610309601, 0.03413994610309601, 0.13655978441238403, 0.06827989220619202, 0.06827989220619202, 0.06827989220619202, 0.060914237052202225, 0.3045711815357208, 0.18274271488189697, 0.060914237052202225, 0.060914237052202225, 0.12182847410440445, 0.060914237052202225, 0.060914237052202225, 0.060914237052202225, 0.060914237052202225, 0.5929226875305176, 0.6237074136734009, 0.7802481651306152, 0.7095770239830017, 0.5929226875305176, 0.08200886100530624, 0.328035444021225, 0.08200886100530624, 0.08200886100530624, 0.08200886100530624, 0.1640177220106125, 0.1640177220106125, 0.14453881978988647, 0.14453881978988647, 0.09635921567678452, 0.19271843135356903, 0.04817960783839226, 0.09635921567678452, 0.04817960783839226, 0.09635921567678452, 0.09635921567678452, 0.04817960783839226, 0.6175917387008667, 0.6237074136734009, 0.06025433540344238, 0.12050867080688477, 0.06025433540344238, 0.14059345424175262, 0.04016955569386482, 0.04016955569386482, 0.08033911138772964, 0.1004238948225975, 0.06025433540344238, 0.08033911138772964, 0.04016955569386482, 0.1004238948225975, 0.02008477784693241, 0.1004238948225975, 0.6446337699890137, 0.6082584261894226, 0.6284312605857849, 0.6322970986366272, 0.21916168928146362, 0.32874253392219543, 0.32874253392219543, 0.10958084464073181, 0.6290484070777893, 0.31452420353889465, 0.14163044095039368, 0.14163044095039368, 0.07081522047519684, 0.07081522047519684, 0.10622283071279526, 0.03540761023759842, 0.14163044095039368, 0.03540761023759842, 0.14163044095039368, 0.03540761023759842, 0.10622283071279526, 0.04623936489224434, 0.09247872978448868, 0.27743619680404663, 0.09247872978448868, 0.09247872978448868, 0.3699149191379547, 0.24486982822418213, 0.08162327110767365, 0.1632465422153473, 0.08162327110767365, 0.3264930844306946, 0.1632465422153473, 0.6322973966598511, 0.13678908348083496, 0.06839454174041748, 0.06839454174041748, 0.3419727087020874, 0.20518362522125244, 0.06839454174041748, 0.06839454174041748, 0.06839454174041748, 0.04728679358959198, 0.018914716318249702, 0.05674415081739426, 0.04728679358959198, 0.11348830163478851, 0.04728679358959198, 0.12294565886259079, 0.3120928406715393, 0.05674415081739426, 0.06620150804519653, 0.02837207540869713, 0.04728679358959198, 0.02837207540869713, 0.10566631704568863, 0.21133263409137726, 0.10566631704568863, 0.10566631704568863, 0.10566631704568863, 0.10566631704568863, 0.10566631704568863, 0.21133263409137726, 0.3093252182006836, 0.4124336242675781, 0.20621681213378906, 0.10310840606689453, 0.1769533008337021, 0.5308598875999451, 0.1769533008337021, 0.0821988508105278, 0.246596559882164, 0.0821988508105278, 0.1643977016210556, 0.0821988508105278, 0.3287954032421112, 0.0821988508105278, 0.618246853351593, 0.17934271693229675, 0.17934271693229675, 0.17934271693229675, 0.3586854338645935, 0.09094768017530441, 0.09094768017530441, 0.09094768017530441, 0.18189536035060883, 0.09094768017530441, 0.27284303307533264, 0.18189536035060883, 0.6193268299102783, 0.6182146668434143, 0.019075850024819374, 0.0763034000992775, 0.152606800198555, 0.28613775968551636, 0.05722755193710327, 0.019075850024819374, 0.03815170004963875, 0.019075850024819374, 0.019075850024819374, 0.03815170004963875, 0.0763034000992775, 0.03815170004963875, 0.09537925571203232, 0.03815170004963875, 0.17471669614315033, 0.09706483036279678, 0.019412966445088387, 0.11647779494524002, 0.17471669614315033, 0.17471669614315033, 0.07765186578035355, 0.019412966445088387, 0.03882593289017677, 0.03882593289017677, 0.03882593289017677, 0.019412966445088387, 0.281924843788147, 0.08054995536804199, 0.12082492560148239, 0.08054995536804199, 0.08054995536804199, 0.08054995536804199, 0.08054995536804199, 0.12082492560148239, 0.08054995536804199, 0.040274977684020996, 0.6284310817718506, 0.6237072944641113, 0.7945220470428467, 0.8210935592651367, 0.6237074732780457, 0.14061224460601807, 0.28122448921203613, 0.14061224460601807, 0.28122448921203613, 0.14061224460601807, 0.18073853850364685, 0.3614770770072937, 0.18073853850364685, 0.18073853850364685, 0.824571967124939, 0.6322972774505615, 0.6297352313995361, 0.8728814721107483, 0.6078314781188965, 0.40522101521492004, 0.17547330260276794, 0.5264199376106262, 0.17547330260276794, 0.6446340680122375, 0.6237071752548218, 0.7985886931419373, 0.7189455032348633, 0.2396484911441803, 0.09592670202255249, 0.09592670202255249, 0.19185340404510498, 0.09592670202255249, 0.28778010606765747, 0.19185340404510498, 0.6297353506088257, 0.3111632168292999, 0.6223264336585999, 0.8246399760246277, 0.16899633407592773, 0.1267472505569458, 0.042249083518981934, 0.2534945011138916, 0.1267472505569458, 0.08449816703796387, 0.08449816703796387, 0.042249083518981934, 0.08449816703796387, 0.042249083518981934, 0.042249083518981934, 0.4325684607028961, 0.6040248274803162, 0.08605656027793884, 0.462554007768631, 0.04302828013896942, 0.08605656027793884, 0.010757070034742355, 0.032271210104227066, 0.032271210104227066, 0.07529948651790619, 0.10757069289684296, 0.010757070034742355, 0.04302828013896942, 0.010757070034742355, 0.8707732558250427, 0.6297354102134705, 0.7792744636535645, 0.6446340680122375, 0.6017052531242371, 0.6297354102134705, 0.6193265914916992, 0.6449025273323059, 0.632297694683075, 0.6446337103843689, 0.8418724536895752, 0.6421207189559937, 0.11510884761810303, 0.11510884761810303, 0.057554423809051514, 0.057554423809051514, 0.057554423809051514, 0.057554423809051514, 0.057554423809051514, 0.11510884761810303, 0.4028809666633606, 0.08820846676826477, 0.044104233384132385, 0.044104233384132385, 0.044104233384132385, 0.24257327616214752, 0.06615635007619858, 0.06615635007619858, 0.044104233384132385, 0.11026058346033096, 0.13231270015239716, 0.044104233384132385, 0.08820846676826477, 0.21890130639076233, 0.6567038893699646, 0.09644763171672821, 0.09644763171672821, 0.06429842114448547, 0.19289526343345642, 0.09644763171672821, 0.12859684228897095, 0.09644763171672821, 0.16074605286121368, 0.06429842114448547, 0.13200683891773224, 0.23761232197284698, 0.10560547560453415, 0.026401368901133537, 0.026401368901133537, 0.07920410484075546, 0.026401368901133537, 0.026401368901133537, 0.052802737802267075, 0.052802737802267075, 0.10560547560453415, 0.07920410484075546, 0.07920410484075546, 0.026401368901133537, 0.8539308905601501, 0.32474106550216675, 0.6494821310043335, 0.1524970382452011, 0.4574911296367645, 0.3049940764904022, 0.841839075088501, 0.6164736747741699, 0.30823683738708496, 0.8244813680648804, 0.6169288754463196, 0.6297354102134705, 0.2533676028251648, 0.2533676028251648, 0.5067352056503296, 0.056026797741651535, 0.5042411684989929, 0.11205359548330307, 0.056026797741651535, 0.056026797741651535, 0.056026797741651535, 0.1680803894996643, 0.19709059596061707, 0.39418119192123413, 0.03941811993718147, 0.03941811993718147, 0.11825436353683472, 0.03941811993718147, 0.07883623987436295, 0.03941811993718147, 0.6471288800239563, 0.1294257789850235, 0.1294257789850235, 0.6187654733657837, 0.48388198018074036, 0.24194099009037018, 0.24194099009037018, 0.13795658946037292, 0.13795658946037292, 0.13795658946037292, 0.13795658946037292, 0.13795658946037292, 0.27591317892074585, 0.0944930762052536, 0.0472465381026268, 0.141739621758461, 0.2362326979637146, 0.1653628945350647, 0.0472465381026268, 0.0472465381026268, 0.0472465381026268, 0.0708698108792305, 0.1181163489818573, 0.8247931003570557, 0.7945404052734375, 0.17550767958164215, 0.17550767958164215, 0.3510153591632843, 0.17550767958164215, 0.7815422415733337, 0.8213100433349609, 0.6446337699890137, 0.7218565940856934, 0.6297352313995361, 0.6237074732780457, 0.6169292330741882, 0.2523162364959717, 0.2523162364959717, 0.5046324729919434, 0.6446337699890137, 0.08314107358455658, 0.08314107358455658, 0.08314107358455658, 0.16628214716911316, 0.08314107358455658, 0.08314107358455658, 0.3325642943382263, 0.6017053127288818, 0.04603234678506851, 0.09206469357013702, 0.23016174137592316, 0.04603234678506851, 0.13809704780578613, 0.09206469357013702, 0.18412938714027405, 0.04603234678506851, 0.04603234678506851, 0.09206469357013702, 0.7814669609069824, 0.4060024321079254, 0.0812004879117012, 0.0812004879117012, 0.0812004879117012, 0.0812004879117012, 0.0812004879117012, 0.1624009758234024, 0.0812004879117012, 0.4333034157752991, 0.04814482480287552, 0.19257929921150208, 0.09628964960575104, 0.04814482480287552, 0.04814482480287552, 0.04814482480287552, 0.04814482480287552, 0.04814482480287552, 0.5264925360679626, 0.3509950339794159, 0.257301926612854, 0.257301926612854, 0.514603853225708, 0.840261697769165, 0.6421204209327698, 0.6193264722824097, 0.09732849150896072, 0.09732849150896072, 0.03893139585852623, 0.07786279171705246, 0.15572558343410492, 0.11679419130086899, 0.058397095650434494, 0.07786279171705246, 0.03893139585852623, 0.019465697929263115, 0.13625988364219666, 0.03893139585852623, 0.058397095650434494, 0.03893139585852623, 0.7385541796684265, 0.24618473649024963, 0.6284312009811401, 0.6063898205757141, 0.30319491028785706, 0.6322975158691406, 0.6230402588844299, 0.31152012944221497, 0.06286162883043289, 0.16763101518154144, 0.04190775379538536, 0.04190775379538536, 0.04190775379538536, 0.06286162883043289, 0.2724004089832306, 0.12572325766086578, 0.06286162883043289, 0.08381550759077072, 0.04190775379538536, 0.02095387689769268, 0.6449025273323059, 0.6122615337371826, 0.20408716797828674, 0.6082583069801331, 0.6421207189559937, 0.7793036699295044, 0.6193268299102783, 0.11200125515460968, 0.11200125515460968, 0.22400251030921936, 0.11200125515460968, 0.33600375056266785, 0.11200125515460968, 0.6446337699890137, 0.41764408349990845, 0.20882204174995422, 0.41764408349990845, 0.8419352769851685, 0.2707008421421051, 0.038671549409627914, 0.2707008421421051, 0.038671549409627914, 0.038671549409627914, 0.07734309881925583, 0.07734309881925583, 0.07734309881925583, 0.038671549409627914, 0.038671549409627914, 0.6449022889137268, 0.30977609753608704, 0.30977609753608704, 0.6925878524780273, 0.09894111752510071, 0.09894111752510071, 0.09894111752510071, 0.8479298949241638, 0.6344757080078125, 0.31723785400390625, 0.6193268299102783, 0.6082584261894226, 0.6539451479911804, 0.3039438724517822, 0.6078877449035645, 0.5739158987998962, 0.11478317528963089, 0.15304423868656158, 0.11478317528963089, 0.6088757514953613, 0.15221893787384033, 0.15221893787384033, 0.6446340680122375, 0.6421207189559937, 0.2550220787525177, 0.2550220787525177, 0.5100441575050354, 0.5947414040565491, 0.29737070202827454, 0.07637578248977661, 0.07637578248977661, 0.10183437168598175, 0.1272929608821869, 0.10183437168598175, 0.2036687433719635, 0.025458592921495438, 0.025458592921495438, 0.10183437168598175, 0.050917185842990875, 0.025458592921495438, 0.050917185842990875, 0.125196635723114, 0.500786542892456, 0.250393271446228, 0.125196635723114, 0.6237071752548218, 0.12674382328987122, 0.12674382328987122, 0.12674382328987122, 0.25348764657974243, 0.38023144006729126, 0.3048587143421173, 0.6097174286842346, 0.525648832321167, 0.2628244161605835, 0.13141220808029175, 0.13141220808029175, 0.31408289074897766, 0.6281657814979553, 0.7999366521835327, 0.6421205997467041, 0.7428827881813049, 0.6421205997467041, 0.29271480441093445, 0.3763476014137268, 0.04181639850139618, 0.08363279700279236, 0.04181639850139618, 0.08363279700279236, 0.04181639850139618, 0.6349024772644043, 0.31745123863220215, 0.8440784811973572, 0.30788540840148926, 0.6157708168029785, 0.21777403354644775, 0.6533221006393433, 0.10888701677322388, 0.691830575466156, 0.11859952658414841, 0.019766587764024734, 0.03953317552804947, 0.019766587764024734, 0.019766587764024734, 0.03953317552804947, 0.6383530497550964, 0.841681182384491, 0.10583876073360443, 0.21167752146720886, 0.5291937589645386, 0.10583876073360443, 0.04405502602458, 0.04405502602458, 0.04405502602458, 0.5727153420448303, 0.08811005204916, 0.04405502602458, 0.08811005204916, 0.04405502602458, 0.04405502602458, 0.6297352313995361, 0.6193268299102783, 0.8418383598327637, 0.10399255156517029, 0.10399255156517029, 0.10399255156517029, 0.31197765469551086, 0.06932836771011353, 0.06932836771011353, 0.03466418385505676, 0.06932836771011353, 0.06932836771011353, 0.06932836771011353, 0.06932836771011353, 0.8213090896606445, 0.6451533436775208, 0.3225766718387604, 0.6169291138648987, 0.642120361328125, 0.3048316240310669, 0.10161054134368896, 0.40644216537475586, 0.10161054134368896, 0.10161054134368896, 0.10161054134368896, 0.20753546059131622, 0.20753546059131622, 0.10376773029565811, 0.10376773029565811, 0.31130316853523254, 0.10376773029565811, 0.43585139513015747, 0.21792569756507874, 0.10896284878253937, 0.10896284878253937, 0.7811350226402283, 0.318829208612442, 0.318829208612442, 0.1546352356672287, 0.1546352356672287, 0.23195286095142365, 0.1546352356672287, 0.3092704713344574, 0.07731761783361435, 0.8334255218505859, 0.5929229259490967, 0.15396253764629364, 0.03079250641167164, 0.09237752109766006, 0.12317002564668655, 0.12317002564668655, 0.06158501282334328, 0.03079250641167164, 0.12317002564668655, 0.06158501282334328, 0.06158501282334328, 0.06158501282334328, 0.06158501282334328, 0.06158501282334328, 0.8711885809898376, 0.11862757056951523, 0.5931378602981567, 0.11862757056951523, 0.11862757056951523, 0.2554902136325836, 0.5109804272651672, 0.06057287007570267, 0.08076382428407669, 0.020190956071019173, 0.14133669435977936, 0.040381912142038345, 0.30286434292793274, 0.08076382428407669, 0.08076382428407669, 0.08076382428407669, 0.020190956071019173, 0.040381912142038345, 0.020190956071019173, 0.020190956071019173, 0.8441864252090454, 0.12171559780836105, 0.36514678597450256, 0.36514678597450256, 0.03128062188625336, 0.7507349252700806, 0.03128062188625336, 0.06256124377250671, 0.06256124377250671, 0.03128062188625336, 0.03128062188625336, 0.1641969233751297, 0.022390490397810936, 0.11195244640111923, 0.3657113313674927, 0.03731748089194298, 0.05970797315239906, 0.02985398657619953, 0.04478098079562187, 0.02985398657619953, 0.05970797315239906, 0.05224447697401047, 0.014926993288099766, 0.7263720035552979, 0.24212400615215302, 0.07160886377096176, 0.07160886377096176, 0.28643545508384705, 0.07160886377096176, 0.28643545508384705, 0.07160886377096176, 0.07160886377096176, 0.07160886377096176, 0.6446338891983032, 0.6297354102134705, 0.6185198426246643, 0.30925992131233215, 0.7985872626304626, 0.7811079621315002, 0.26314878463745117, 0.5262975692749023, 0.09352497011423111, 0.09352497011423111, 0.2805749177932739, 0.09352497011423111, 0.09352497011423111, 0.2805749177932739, 0.09352497011423111, 0.7049922347068787, 0.23499742150306702, 0.6169289350509644, 0.6446338891983032, 0.8727658987045288, 0.6421207189559937, 0.6297353506088257, 0.6446335315704346, 0.8059155941009521, 0.20217762887477875, 0.20217762887477875, 0.06739254295825958, 0.06739254295825958, 0.26957017183303833, 0.06739254295825958, 0.13478508591651917, 0.06739254295825958, 0.6040247678756714, 0.29478493332862854, 0.5895698666572571, 0.6169292330741882, 0.84352707862854, 0.11669263988733292, 0.11669263988733292, 0.11669263988733292, 0.11669263988733292, 0.46677055954933167, 0.03678251802921295, 0.11034755408763885, 0.03678251802921295, 0.03678251802921295, 0.25747761130332947, 0.0735650360584259, 0.33104264736175537, 0.0735650360584259, 0.03678251802921295, 0.6284312009811401, 0.6446337103843689, 0.7068856954574585, 0.23562857508659363, 0.607812225818634, 0.303906112909317, 0.7811081409454346, 0.05671198293566704, 0.05671198293566704, 0.08506797254085541, 0.02835599146783352, 0.14177995920181274, 0.11342396587133408, 0.11342396587133408, 0.11342396587133408, 0.08506797254085541, 0.11342396587133408, 0.02835599146783352, 0.05671198293566704, 0.8441863656044006, 0.08768711239099503, 0.43843555450439453, 0.08768711239099503, 0.08768711239099503, 0.08768711239099503, 0.08768711239099503, 0.08768711239099503, 0.623707115650177, 0.5939881801605225, 0.12395570427179337, 0.09296678006649017, 0.18593356013298035, 0.03098892606794834, 0.03098892606794834, 0.06197785213589668, 0.06197785213589668, 0.06197785213589668, 0.03098892606794834, 0.24791140854358673, 0.03098892606794834, 0.29591602087020874, 0.5918320417404175, 0.6322973966598511, 0.8245708346366882, 0.6297351717948914, 0.6421204805374146, 0.6561284065246582, 0.6193268299102783, 0.8835862278938293, 0.6040247678756714, 0.24776969850063324, 0.12388484925031662, 0.12388484925031662, 0.08258990198373795, 0.20647475123405457, 0.08258990198373795, 0.08258990198373795, 0.04129495099186897, 0.6017052531242371, 0.6421204209327698, 0.1027950718998909, 0.2055901437997818, 0.4111802875995636, 0.1027950718998909, 0.1027950718998909, 0.6348972320556641, 0.8060849905014038, 0.6193269491195679, 0.623707115650177, 0.6421202421188354, 0.23686473071575165, 0.4737294614315033, 0.11843236535787582, 0.11843236535787582, 0.11838395148515701, 0.6511117219924927, 0.11838395148515701, 0.059191975742578506, 0.19912178814411163, 0.19912178814411163, 0.5973653197288513, 0.7984461784362793, 0.25516563653945923, 0.12758281826972961, 0.09568712115287781, 0.06379140913486481, 0.06379140913486481, 0.031895704567432404, 0.06379140913486481, 0.09568712115287781, 0.09568712115287781, 0.06379140913486481, 0.06379140913486481, 0.6082586646080017, 0.8711889386177063, 0.3152756094932556, 0.6305512189865112, 0.9158744215965271, 0.5967841148376465, 0.19892804324626923, 0.19892804324626923, 0.06707151979207993, 0.5339924693107605, 0.09286826103925705, 0.09544793516397476, 0.03095608577132225, 0.025796737521886826, 0.025796737521886826, 0.010318695567548275, 0.036115434020757675, 0.02063739113509655, 0.012898368760943413, 0.015478042885661125, 0.015478042885661125, 0.010318695567548275, 0.3222849667072296, 0.11987428367137909, 0.0687803253531456, 0.11397883296012878, 0.03144243732094765, 0.049128808081150055, 0.0687803253531456, 0.03340758755803108, 0.04519850015640259, 0.013756065629422665, 0.021616674959659576, 0.039303045719861984, 0.019651522859930992, 0.025546979159116745, 0.02751213125884533, 0.3127817213535309, 0.6255634427070618, 0.8402419090270996, 0.10138405859470367, 0.1689734309911728, 0.1689734309911728, 0.13517874479293823, 0.10138405859470367, 0.10138405859470367, 0.20276811718940735, 0.03379468619823456, 0.13737501204013824, 0.13737501204013824, 0.4121250510215759, 0.13737501204013824, 0.13737501204013824, 0.0884011834859848, 0.0442005917429924, 0.0442005917429924, 0.4420059025287628, 0.0442005917429924, 0.0884011834859848, 0.0884011834859848, 0.0884011834859848, 0.0884011834859848, 0.6187654733657837, 0.07724359631538391, 0.07724359631538391, 0.15448719263076782, 0.15448719263076782, 0.07724359631538391, 0.30897438526153564, 0.15448719263076782, 0.16384106874465942, 0.6553642749786377, 0.32678723335266113, 0.054464537650346756, 0.10892907530069351, 0.054464537650346756, 0.10892907530069351, 0.16339361667633057, 0.054464537650346756, 0.054464537650346756, 0.054464537650346756, 0.054464537650346756, 0.17694295942783356, 0.17694295942783356, 0.17694295942783356, 0.3538859188556671, 0.495900422334671, 0.09918008744716644, 0.09918008744716644, 0.19836017489433289, 0.15167780220508575, 0.15167780220508575, 0.025279635563492775, 0.1011185422539711, 0.4044741690158844, 0.05055927112698555, 0.05055927112698555, 0.025279635563492775, 0.025279635563492775, 0.025279635563492775, 0.03801162913441658, 0.11403489112854004, 0.11403489112854004, 0.07602325826883316, 0.07602325826883316, 0.07602325826883316, 0.15204651653766632, 0.07602325826883316, 0.03801162913441658, 0.15204651653766632, 0.07602325826883316, 0.056515298783779144, 0.10172753781080246, 0.20345507562160492, 0.011303059756755829, 0.21475814282894135, 0.1582428365945816, 0.03390917927026749, 0.06781835854053497, 0.011303059756755829, 0.022606119513511658, 0.045212239027023315, 0.056515298783779144, 0.022606119513511658, 0.6237074732780457, 0.6297353506088257, 0.6446338295936584, 0.059409864246845245, 0.10396725684404373, 0.11881972849369049, 0.10396725684404373, 0.044557396322488785, 0.07426232844591141, 0.059409864246845245, 0.10396725684404373, 0.014852466061711311, 0.059409864246845245, 0.059409864246845245, 0.029704932123422623, 0.059409864246845245, 0.13367219269275665, 0.26835939288139343, 0.2236328125, 0.17890626192092896, 0.13417969644069672, 0.04472656548023224, 0.08945313096046448, 0.18630439043045044, 0.15525366365909576, 0.031050732359290123, 0.062101464718580246, 0.062101464718580246, 0.062101464718580246, 0.062101464718580246, 0.18630439043045044, 0.15525366365909576, 0.062101464718580246, 0.5075231790542603, 0.10150463879108429, 0.10150463879108429, 0.10150463879108429, 0.10150463879108429, 0.10150463879108429, 0.7795789837837219, 0.12148415297269821, 0.48593661189079285, 0.12148415297269821, 0.24296830594539642, 0.17755600810050964, 0.7102240324020386, 0.31140828132629395, 0.6228165626525879, 0.6284313797950745, 0.844186544418335, 0.045731622725725174, 0.22865810990333557, 0.045731622725725174, 0.045731622725725174, 0.045731622725725174, 0.1829264909029007, 0.045731622725725174, 0.09146324545145035, 0.09146324545145035, 0.09146324545145035, 0.045731622725725174, 0.6446340680122375, 0.42474645376205444, 0.42474645376205444, 0.5941338539123535, 0.29706692695617676, 0.14853346347808838, 0.0612894669175148, 0.183868408203125, 0.0612894669175148, 0.0919342041015625, 0.183868408203125, 0.0919342041015625, 0.0612894669175148, 0.0306447334587574, 0.0612894669175148, 0.1225789338350296, 0.0612894669175148, 0.6827556490898132, 0.1706889122724533, 0.32361680269241333, 0.6472336053848267, 0.8245713114738464, 0.25546184182167053, 0.5109236836433411, 0.25546184182167053, 0.12254184484481812, 0.06127092242240906, 0.06127092242240906, 0.12254184484481812, 0.3063546121120453, 0.06127092242240906, 0.12254184484481812, 0.12254184484481812, 0.0581638403236866, 0.2908191978931427, 0.0581638403236866, 0.2908191978931427, 0.0581638403236866, 0.0581638403236866, 0.1163276806473732, 0.0581638403236866, 0.08021606504917145, 0.8021606802940369, 0.08021606504917145, 0.8728939294815063, 0.21005363762378693, 0.21005363762378693, 0.42010727524757385, 0.7218325138092041, 0.8418081998825073, 0.5939881801605225, 0.8060070872306824, 0.06919697672128677, 0.10379546880722046, 0.06919697672128677, 0.13839395344257355, 0.10379546880722046, 0.06919697672128677, 0.20759093761444092, 0.03459848836064339, 0.06919697672128677, 0.10379546880722046, 0.6449024081230164, 0.5618484616279602, 0.07023105770349503, 0.07023105770349503, 0.21069316565990448, 0.07023105770349503, 0.07023105770349503, 0.7813039422035217, 0.17453834414482117, 0.058179449290037155, 0.11635889858007431, 0.2908972501754761, 0.11635889858007431, 0.058179449290037155, 0.058179449290037155, 0.17453834414482117, 0.642120361328125, 0.8213089108467102, 0.13850633800029755, 0.20775949954986572, 0.06925316900014877, 0.4847721755504608, 0.06925316900014877, 0.6040248274803162, 0.06611643731594086, 0.2314075380563736, 0.03305821865797043, 0.1322328746318817, 0.09917466342449188, 0.06611643731594086, 0.29752397537231445, 0.03305821865797043, 0.6040248870849609, 0.6297350525856018, 0.6449022889137268, 0.49800005555152893, 0.24900002777576447, 0.3039441406726837, 0.6078882813453674, 0.1801692247390747, 0.10295383632183075, 0.12869229912757874, 0.12869229912757874, 0.051476918160915375, 0.2059076726436615, 0.07721538096666336, 0.025738459080457687, 0.051476918160915375, 0.051476918160915375, 0.025738459080457687, 0.7985868453979492, 0.25145673751831055, 0.25145673751831055, 0.03592238947749138, 0.10776717215776443, 0.07184477895498276, 0.07184477895498276, 0.07184477895498276, 0.07184477895498276, 0.07184477895498276, 0.302843302488327, 0.605686604976654, 0.6950531601905823, 0.23168440163135529, 0.07039741426706314, 0.14079482853412628, 0.3871857523918152, 0.07039741426706314, 0.03519870713353157, 0.14079482853412628, 0.07039741426706314, 0.03519870713353157, 0.07039741426706314, 0.1770176738500595, 0.1770176738500595, 0.5310530662536621, 0.09562639147043228, 0.19125278294086456, 0.19125278294086456, 0.09562639147043228, 0.09562639147043228, 0.3825055658817291, 0.042282309383153915, 0.021141154691576958, 0.021141154691576958, 0.042282309383153915, 0.021141154691576958, 0.21141155064105988, 0.12684692442417145, 0.08456461876630783, 0.21141155064105988, 0.021141154691576958, 0.021141154691576958, 0.021141154691576958, 0.06342346221208572, 0.10570577532052994, 0.10594115406274796, 0.10594115406274796, 0.10594115406274796, 0.10594115406274796, 0.10594115406274796, 0.10594115406274796, 0.31782346963882446, 0.10594115406274796, 0.25313812494277954, 0.5062762498855591, 0.25313812494277954, 0.6156628131866455, 0.30783140659332275, 0.6169291138648987, 0.604566752910614, 0.20152224600315094, 0.20152224600315094, 0.6449024081230164, 0.1260112226009369, 0.1260112226009369, 0.37803366780281067, 0.1260112226009369, 0.1260112226009369, 0.1260112226009369, 0.16533896327018738, 0.41334742307662964, 0.08266948163509369, 0.08266948163509369, 0.08266948163509369, 0.08266948163509369, 0.08266948163509369, 0.8255727291107178, 0.12341548502445221, 0.061707742512226105, 0.061707742512226105, 0.12341548502445221, 0.061707742512226105, 0.24683097004890442, 0.12341548502445221, 0.061707742512226105, 0.061707742512226105, 0.061707742512226105, 0.061707742512226105, 0.8254272937774658, 0.1571698784828186, 0.11226420104503632, 0.11226420104503632, 0.11226420104503632, 0.11226420104503632, 0.044905681163072586, 0.022452840581536293, 0.11226420104503632, 0.044905681163072586, 0.08981136232614517, 0.044905681163072586, 0.08442221581935883, 0.08442221581935883, 0.08442221581935883, 0.08442221581935883, 0.08442221581935883, 0.08442221581935883, 0.42211106419563293, 0.08442221581935883, 0.08442221581935883, 0.2566591799259186, 0.5133183598518372, 0.2566591799259186, 0.6237071752548218, 0.18539445102214813, 0.4634861350059509, 0.18539445102214813, 0.18539445102214813, 0.6421205997467041, 0.8328092098236084, 0.11879892647266388, 0.07919928431510925, 0.07919928431510925, 0.1583985686302185, 0.11879892647266388, 0.039599642157554626, 0.07919928431510925, 0.07919928431510925, 0.039599642157554626, 0.19799821078777313, 0.039599642157554626, 0.32144269347190857, 0.6428853869438171, 0.0400896854698658, 0.4409865140914917, 0.0400896854698658, 0.0801793709397316, 0.0801793709397316, 0.0400896854698658, 0.0400896854698658, 0.0400896854698658, 0.0400896854698658, 0.1603587418794632, 0.0400896854698658, 0.6449024081230164, 0.10084745287895203, 0.22690676152706146, 0.05042372643947601, 0.10084745287895203, 0.3781779408454895, 0.05042372643947601, 0.05042372643947601, 0.025211863219738007, 0.7985862493515015, 0.6172853708267212, 0.20576179027557373, 0.6446340680122375, 0.06920550763607025, 0.17301377654075623, 0.06920550763607025, 0.10380826145410538, 0.06920550763607025, 0.034602753818035126, 0.034602753818035126, 0.034602753818035126, 0.10380826145410538, 0.34602755308151245, 0.12626832723617554, 0.12626832723617554, 0.12626832723617554, 0.12626832723617554, 0.12626832723617554, 0.378805011510849, 0.8254109025001526, 0.6012897491455078, 0.20042991638183594, 0.20042991638183594], \"Term\": [\"\\\"airport\", \"\\\"breaking\", \"\\\"fine\", \"#\", \"#\", \"#\", \"#\", \"#\", \"#\", \"#\", \"#\", \"#\", \"#\", \"#\", \"#\", \"#\\\"\", \"#a\", \"#aateam\", \"#aerojobmarket\", \"#air\", \"#allgood\", \"#amazing\", \"#americanairlines\", \"#americanairlines\", \"#americanforlife\", \"#americanview\", \"#ammisery\", \"#avgeek\", \"#avgeek\", \"#bestairlineever\", \"#bhm\", \"#blacklivesmatter\", \"#bloodymary\", \"#bluemanity\", \"#boise\", \"#brandmance\", \"#catsanddogslivingtogether\", \"#chairmans\", \"#cheapflights\", \"#corevalues\", \"#customersfirst\", \"#denver\", \"#destinationdragons\", \"#destinationdragons\", \"#destinationdragons\", \"#destinationdragons\", \"#destinationdragons\", \"#destinationdragons\", \"#dietcoke\", \"#dontmakemebeg\", \"#dreampath\", \"#earnedmybusiness\", \"#ever\", \"#excellentcustomerservice\", \"#farecompare\", \"#fattuesday\", \"#flysw\", \"#flyswa\", \"#frequentflyerappreciates\", \"#friendlyfriday\", \"#friends\", \"#funflightattendants\", \"#gogo\", \"#happyflier\", \"#impressive\", \"#jetbluefame\", \"#jetblueforever\", \"#jetbluerocks\", \"#jetbluerocks\", \"#jetsetter\", \"#jvmchat\", \"#jvmchat\", \"#jvmchat\", \"#legroom\", \"#legroom\", \"#lieflat\", \"#lifeisgood\", \"#london\", \"#lovesouthwestair\", \"#lucycat\", \"#mardigras\", \"#mdw\", \"#mint\", \"#mint\", \"#mint\", \"#missedupgrades\", \"#moneyelsewhere\", \"#mosaic\", \"#myvxexperience\", \"#neverchange\", \"#neworleans\", \"#nocharge\", \"#onechildfourbags\", \"#oscarnight\", \"#oscars\", \"#oscars\", \"#oscars\", \"#pa\", \"#passbook\", \"#passion\", \"#problemsolvers\", \"#smitten\", \"#sosmart\", \"#sundayfunday\", \"#sunshine\", \"#swa\", \"#swa\", \"#throwback\", \"#tokyomarathon\", \"#travel\", \"#travel\", \"#travel\", \"#ua\", \"#usairways\", \"#whyabcwhy\", \"#winterweather\", \"-\", \"-\", \"-\", \"-\", \"-\", \"-\", \"-\", \"-\", \"-\", \"-\", \"-\", \"-\", \"-\", \"-\", \"-\", \"--\", \"--\", \"-g\", \"aadfw\", \"ability\", \"able\", \"able\", \"able\", \"able\", \"able\", \"able\", \"able\", \"able\", \"able\", \"abq\", \"absolutely\", \"absurd\", \"accept\", \"accept\", \"accommodating\", \"admiral\", \"admiral\", \"admiral\", \"admiral\", \"advertising\", \"age\", \"agent\", \"agent\", \"agent\", \"agent\", \"agent\", \"agent\", \"agent\", \"agent\", \"agent\", \"agent\", \"agent\", \"agent\", \"aircraft\", \"aired\", \"airline\", \"airline\", \"airline\", \"airline\", \"airline\", \"airline\", \"airline\", \"airline\", \"airline\", \"airline\", \"airline\", \"airline\", \"airline\", \"airline\", \"airplane\\\"\", \"airport\", \"airport\", \"airport\", \"airport\", \"airport\", \"airport\", \"airport\", \"airport\", \"airport\", \"airway\", \"airway\", \"airway\", \"airway\", \"airway\", \"alcohol\", \"aligned\", \"alliance\", \"alliance\", \"always\", \"always\", \"always\", \"always\", \"always\", \"always\", \"always\", \"always\", \"amazed\", \"amazing\", \"amazing\", \"amazing\", \"amazing\", \"amazing\", \"amazing\", \"amazing\", \"amazing\", \"amazing\", \"amazing\", \"amazing\", \"amazing\", \"amazing\", \"amazing\", \"amid\", \"amp\", \"amp\", \"amp\", \"amp\", \"amp\", \"amp\", \"amp\", \"amp\", \"amp\", \"amp\", \"amp\", \"amp\", \"amp\", \"amp\", \"amp\", \"amso\", \"angel\", \"angel\", \"angeles\", \"another\", \"another\", \"another\", \"another\", \"another\", \"another\", \"another\", \"another\", \"another\", \"another\", \"answered\", \"answered\", \"anything\", \"anything\", \"anything\", \"anything\", \"apparently\", \"apparently\", \"appreciate\", \"appreciate\", \"appreciate\", \"appreciate\", \"appreciate\", \"appreciate\", \"appreciate\", \"appreciate\", \"appreciate\", \"appreciate\", \"appreciate\", \"appreciate\", \"appropriate\", \"arrive\", \"article\", \"ashley\", \"asking\", \"assistance\", \"assistance\", \"assistance\", \"assisting\", \"attendant\", \"attendant\", \"attendant\", \"attendant\", \"attendant\", \"attendant\", \"attendant\", \"attendant\", \"attendant\", \"attendant\", \"attended\", \"austin\", \"austin\", \"austin\", \"austin\", \"austin\", \"austin\", \"aviation\", \"aviation\", \"aw\", \"awesome\", \"awesome\", \"awesome\", \"awesome\", \"awesome\", \"awesome\", \"awesome\", \"awesome\", \"awesome\", \"awesome\", \"awesome\", \"awesome\", \"awesome\", \"awhile\", \"aww\", \"aww\", \"aww\", \"bach\", \"back\", \"back\", \"back\", \"back\", \"back\", \"back\", \"back\", \"back\", \"back\", \"back\", \"back\", \"back\", \"back\", \"backup\", \"bad\", \"bad\", \"bad\", \"bad\", \"bad\", \"bad\", \"bad\", \"bag\", \"bag\", \"bag\", \"bag\", \"bag\", \"bag\", \"bag\", \"bag\", \"bag\", \"bag\", \"bag\", \"baggage\", \"baggage\", \"baggage\", \"baggage\", \"baggage\", \"baggage\", \"baggage\", \"ball\", \"bandwidth\", \"bd\", \"beanie\", \"beautiful\", \"beautiful\", \"beautiful\", \"beautiful\", \"beautiful\", \"beautiful\", \"beautiful\", \"beauty\", \"become\", \"beginning\", \"beloved\", \"best\", \"best\", \"best\", \"best\", \"best\", \"best\", \"best\", \"best\", \"best\", \"best\", \"best\", \"better\", \"better\", \"better\", \"better\", \"better\", \"better\", \"better\", \"better\", \"better\", \"better\", \"better\", \"better\", \"better\", \"beyond\", \"beyond\", \"beyond\", \"beyond\", \"beyond\", \"beyond\", \"big\", \"big\", \"big\", \"big\", \"big\", \"big\", \"big\", \"big\", \"big\", \"big\", \"biscuit\", \"bless\", \"blue\", \"blue\", \"blue\", \"blue\", \"blue\", \"blue\", \"bluemanity\", \"boarding\", \"boarding\", \"boarding\", \"boarding\", \"boarding\", \"boarding\", \"boarding\", \"boarding\", \"boarding\", \"boat-style\", \"bold\", \"booking\", \"booking\", \"booking\", \"booking\", \"booking\", \"booking\", \"bos\", \"bos\", \"bos\", \"bos\", \"bos\", \"bos\", \"bos\", \"boston\", \"boston\", \"boston\", \"boston\", \"brandi\", \"braving\", \"break\", \"breakfast\", \"breakfast\", \"brilliant\", \"brilliant\", \"broken\", \"brought\", \"brought\", \"brought\", \"btw\", \"btw\", \"btw\", \"btw\", \"btw\", \"btw\", \"buf\", \"bug\", \"buisness\", \"busiest\", \"business\", \"business\", \"business\", \"business\", \"business\", \"buying\", \"bwi\", \"bwi\", \"bwi\", \"calderon\", \"call\", \"call\", \"call\", \"call\", \"call\", \"call\", \"call\", \"called\", \"called\", \"called\", \"called\", \"called\", \"calling\", \"came\", \"came\", \"came\", \"cancelled\", \"cancelled\", \"cancelled\", \"cancelled\", \"cancelled\", \"cancelled\", \"cancelled\", \"cancelled\", \"cancelled\", \"cancelled\", \"cancelled\", \"cancun\", \"cancun\", \"cancun\", \"cant\", \"cant\", \"cant\", \"cant\", \"cant\", \"cant\", \"capt\", \"capt\", \"care\", \"care\", \"care\", \"care\", \"care\", \"care\", \"care\", \"carryon\", \"cb\", \"celebrating\", \"celebrating\", \"cellphone\", \"cert\", \"certainly\", \"cessnas\", \"change\", \"change\", \"change\", \"change\", \"change\", \"change\", \"change\", \"change\", \"change\", \"charge\", \"charge\", \"charge\", \"charge\", \"charlotte\", \"charlotte\", \"charlotte\", \"charlotte\", \"charlotte\", \"cheese\", \"cheese\", \"chicago\", \"chicago\", \"chicago\", \"chicago\", \"chicago\", \"chicago\", \"choice\", \"choice\", \"choice\", \"city\", \"city\", \"city\", \"class\", \"class\", \"class\", \"class\", \"class\", \"class\", \"class\", \"cleared\", \"club\", \"club\", \"club\", \"club\", \"club\", \"club\", \"cmh\", \"coat\", \"coat\", \"coffeeat\", \"combined\", \"coming\", \"coming\", \"coming\", \"coming\", \"common\", \"common\", \"comms\", \"commute\", \"companion\", \"companion\", \"companion\", \"companion\", \"companion\", \"company\", \"company\", \"company\", \"company\", \"company\", \"competitor\", \"complete\", \"completely\", \"completely\", \"confirmation\", \"confirmation\", \"confirmation\", \"confirmation\", \"congrats\", \"congrats\", \"congrats\", \"congrats\", \"congratulation\", \"connect\", \"consideration\", \"consumer\", \"cont\", \"contact\", \"continue\", \"continue\", \"continues\", \"cool\", \"cool\", \"cool\", \"cool\", \"cool\", \"cool\", \"cool\", \"cool\", \"correct\", \"correct\", \"correctly\", \"count\", \"county\", \"couple\", \"couple\", \"couple\", \"course\", \"course\", \"course\", \"course\", \"court\", \"crew\", \"crew\", \"crew\", \"crew\", \"crew\", \"crew\", \"crew\", \"crew\", \"crew\", \"crew\", \"crew\", \"crew\", \"crew\", \"cross\", \"cross\", \"crossed\", \"crossed\", \"crossed\", \"cun\", \"current\", \"customer\", \"customer\", \"customer\", \"customer\", \"customer\", \"customer\", \"customer\", \"customer\", \"customer\", \"customer\", \"customer\", \"customerits\", \"cut\", \"cxl\", \"daily\", \"dal-aus\", \"dare\", \"dawn\", \"day\", \"day\", \"day\", \"day\", \"day\", \"day\", \"day\", \"day\", \"day\", \"day\", \"day\", \"day\", \"day\", \"decent\", \"definitely\", \"definitely\", \"definitely\", \"definitely\", \"definitely\", \"degree\", \"degree\", \"delay\", \"delay\", \"delay\", \"delay\", \"delay\", \"delay\", \"delay\", \"delay\", \"delay\", \"delay\", \"deleted\", \"delighted\", \"delightful\", \"den\", \"den\", \"den\", \"den\", \"den\", \"depart\", \"deserved\", \"deserved\", \"desk\", \"desk\", \"desk\", \"desk\", \"desk\", \"despite\", \"despite\", \"despite\", \"despite\", \"despite\", \"despite\", \"despite\", \"destination\", \"destination\", \"destination\", \"destination\", \"dfw\", \"dfw\", \"dfw\", \"dfw\", \"die\", \"direct\", \"direct\", \"direct\", \"direct\", \"direct\", \"disney\", \"displeasure\", \"disregard\", \"dm\", \"dm\", \"dm\", \"dm\", \"dmd\", \"doesnt\", \"doesnt\", \"doesnt\", \"doesnt\", \"doesnt\", \"domestic\", \"domestic\", \"done\", \"done\", \"done\", \"done\", \"done\", \"done\", \"done\", \"done\", \"done\", \"dont\", \"dont\", \"dont\", \"dont\", \"dont\", \"dont\", \"dont\", \"dont\", \"dont\", \"donut\", \"dorm\", \"downthanks\", \"downtown\", \"dragon\", \"dulles\", \"dulles\", \"earlier\", \"earlier\", \"earlier\", \"earlier\", \"earlier\", \"earlier\", \"early\", \"early\", \"early\", \"early\", \"early\", \"early\", \"early\", \"easily\", \"easily\", \"eastern\", \"eight\", \"either\", \"elevate\", \"ellas\", \"else\", \"else\", \"else\", \"emerg\", \"employee\", \"employee\", \"employee\", \"employee\", \"employee\", \"employee\", \"employee\", \"encouragement\", \"ended\", \"ended\", \"enjoy\", \"enjoy\", \"enjoy\", \"enjoy\", \"enjoy\", \"enjoy\", \"enjoy\", \"enjoyable\", \"enjoyed\", \"enjoyed\", \"entertain\", \"entertaining\", \"entire\", \"entire\", \"ethan\", \"europe\", \"even\", \"even\", \"even\", \"even\", \"even\", \"even\", \"even\", \"even\", \"even\", \"even\", \"even\", \"even\", \"evening\", \"evening\", \"evening\", \"ever\", \"ever\", \"ever\", \"ever\", \"ever\", \"ever\", \"ever\", \"ever\", \"ever\", \"ever\", \"every\", \"every\", \"every\", \"every\", \"every\", \"every\", \"every\", \"everyone\", \"everyone\", \"everyone\", \"everyone\", \"everyone\", \"everyone\", \"everyone\", \"everyone\", \"evn\", \"exact\", \"exactly\", \"exactly\", \"exactly\", \"excellent\", \"excellent\", \"excellent\", \"excellent\", \"excellent\", \"excellent\", \"excellent\", \"excellent\", \"excited\", \"excited\", \"excited\", \"excited\", \"excited\", \"excited\", \"excited\", \"executive\", \"expect\", \"expect\", \"experience\", \"experience\", \"experience\", \"experience\", \"experience\", \"experience\", \"experience\", \"experience\", \"experience\", \"explain\", \"explanation\", \"extraordinaire\", \"fact\", \"fails\", \"faint\", \"fallflorida\", \"family\", \"family\", \"family\", \"family\", \"family\", \"family\", \"family\", \"family\", \"family\", \"fan\", \"fan\", \"fan\", \"fan\", \"fan\", \"fan\", \"fantastic\", \"fantastic\", \"fantastic\", \"fantastic\", \"fantastic\", \"fantastic\", \"fantastic\", \"far\", \"far\", \"far\", \"far\", \"far\", \"far\", \"far\", \"far\", \"fare\", \"fare\", \"fare\", \"fastest\", \"fav\", \"fav\", \"faves\", \"favorite\", \"favorite\", \"favorite\", \"favorite\", \"fee\", \"fee\", \"fee\", \"fee\", \"fee\", \"feeling\", \"feesbut\", \"fifth\", \"figure\", \"figured\", \"figured\", \"figured\", \"finally\", \"finally\", \"finally\", \"finally\", \"finally\", \"finally\", \"finally\", \"finally\", \"finally\", \"finally\", \"finding\", \"finding\", \"finger\", \"finger\", \"finger\", \"first\", \"first\", \"first\", \"first\", \"first\", \"first\", \"first\", \"first\", \"first\", \"first\", \"first\", \"first\", \"flailing\", \"flattering\", \"fleek\", \"fleet\", \"flew\", \"flew\", \"flew\", \"flew\", \"flew\", \"flew\", \"flight\", \"flight\", \"flight\", \"flight\", \"flight\", \"flight\", \"flight\", \"flight\", \"flight\", \"flight\", \"flight\", \"flight\", \"flight\", \"flight\", \"flight\", \"flightd\", \"flightd\", \"flightlations\", \"flightlations\", \"flightlations\", \"flightlations\", \"flightlations\", \"flightled\", \"flightled\", \"flightled\", \"flightled\", \"flightled\", \"flightr\", \"flightr\", \"flightr\", \"flt\", \"flt\", \"flt\", \"flt\", \"flt\", \"flt\", \"flt\", \"flt\", \"flt\", \"fltkeeping\", \"fly\", \"fly\", \"fly\", \"fly\", \"fly\", \"fly\", \"fly\", \"fly\", \"fly\", \"fly\", \"fly\", \"flying\", \"flying\", \"flying\", \"flying\", \"flying\", \"flying\", \"flying\", \"flying\", \"flying\", \"flying\", \"flying\", \"folk\", \"folk\", \"folk\", \"folk\", \"folk\", \"folk\", \"follow\", \"follow\", \"follow\", \"follow\", \"followed\", \"followed\", \"followed\", \"following\", \"following\", \"following\", \"following\", \"forever\", \"forever\", \"forgiven\", \"forgot\", \"forward\", \"forward\", \"forward\", \"forward\", \"forward\", \"forward\", \"found\", \"found\", \"found\", \"found\", \"found\", \"found\", \"found\", \"francisco\", \"francisco\", \"free\", \"free\", \"free\", \"free\", \"free\", \"free\", \"free\", \"free\", \"free\", \"free\", \"free\", \"free\", \"fresh\", \"frm\", \"frontrunner\", \"fun\", \"fun\", \"fun\", \"fun\", \"fun\", \"fun\", \"future\\\"\", \"gang\", \"gate\", \"gate\", \"gate\", \"gate\", \"gate\", \"gate\", \"gate\", \"gate\", \"gate\", \"gate\", \"gate\", \"gate\", \"gate\", \"gate\", \"general\", \"get\", \"get\", \"get\", \"get\", \"get\", \"get\", \"get\", \"get\", \"get\", \"get\", \"get\", \"get\", \"get\", \"get\", \"getaway\", \"getaway\", \"getting\", \"getting\", \"getting\", \"getting\", \"getting\", \"getting\", \"getting\", \"getting\", \"getting\", \"gfc\", \"giggled\", \"girl\", \"girl\", \"girl\", \"giving\", \"giving\", \"glitch\", \"global\", \"global\", \"global\", \"glove\", \"gma\", \"go\", \"go\", \"go\", \"go\", \"go\", \"go\", \"go\", \"go\", \"go\", \"go\", \"god\", \"god\", \"god\", \"going\", \"going\", \"going\", \"going\", \"going\", \"going\", \"going\", \"good\", \"good\", \"good\", \"good\", \"good\", \"good\", \"good\", \"good\", \"good\", \"good\", \"good\", \"good\", \"gorgeous\", \"gosh\", \"got\", \"got\", \"got\", \"got\", \"got\", \"got\", \"got\", \"got\", \"got\", \"got\", \"got\", \"got\", \"got\", \"got\", \"got\", \"gotcha\", \"gotten\", \"gracious\", \"grandbabies\", \"great\", \"great\", \"great\", \"great\", \"great\", \"great\", \"great\", \"great\", \"great\", \"great\", \"great\", \"great\", \"great\", \"great\", \"great\", \"groundoutside\", \"guy\", \"guy\", \"guy\", \"guy\", \"guy\", \"guy\", \"guy\", \"guy\", \"guy\", \"guy\", \"guy\", \"guy\", \"guy\", \"guy\", \"guy\", \"haha\", \"haha\", \"haha\", \"haha\", \"haha\", \"haha\", \"haha\", \"haha\", \"hail\", \"handled\", \"handled\", \"handled\", \"handled\", \"handled\", \"handshake\", \"happen\", \"happen\", \"happens\", \"hard\", \"hard\", \"hard\", \"hard\", \"hard\", \"head\", \"heading\", \"heading\", \"heading\", \"heard\", \"heard\", \"heard\", \"heard\", \"heart\", \"heart\", \"heart\", \"help\", \"help\", \"help\", \"help\", \"help\", \"help\", \"help\", \"help\", \"help\", \"help\", \"help\", \"help--faith\", \"helpful\", \"helpful\", \"helpful\", \"helpful\", \"helpful\", \"helpful\", \"helpful\", \"helpful\", \"helpful\", \"helpful\", \"hero\", \"history\", \"history\", \"hmmm\", \"hmmmseems\", \"hold\", \"hold\", \"hold\", \"holz\", \"home\", \"home\", \"home\", \"home\", \"home\", \"home\", \"home\", \"home\", \"home\", \"home\", \"home\", \"home\", \"hopefully\", \"hopefully\", \"hopefully\", \"hopefully\", \"hopefully\", \"hotel\", \"hotel\", \"houston\", \"houston\", \"houston\", \"however\", \"hows\", \"hunt\", \"husband\", \"husband\", \"iad\", \"iad\", \"idea\", \"idea\", \"idol\", \"imagine\", \"impress\", \"incredibly\", \"incredibly\", \"indeed\", \"industry\", \"industry\", \"indy\", \"information\", \"injured\", \"integrate\", \"integration\", \"integration\", \"interview\", \"invitational\", \"io\", \"io\", \"irritating\", \"irrops\", \"issue\", \"issue\", \"issue\", \"issue\", \"issue\", \"issue\", \"issue\", \"issue\", \"issue\", \"ive\", \"ive\", \"ive\", \"ive\", \"ive\", \"ive\", \"ive\", \"ive\", \"jamie\", \"janna\", \"jeanine\", \"jet\", \"jet\", \"jet\", \"jetblue\", \"jetblue\", \"jetblue\", \"jetblue\", \"jetblue\", \"jetblue\", \"jetblue\", \"jetblue\", \"jetblue\", \"jetblue\", \"jetblue\", \"jetred\", \"jfk\", \"jfk\", \"jfk\", \"jfk\", \"jfk\", \"jfk\", \"jfk\", \"jfk\", \"jfk\", \"jilted\", \"joanna\", \"job\", \"job\", \"job\", \"job\", \"job\", \"job\", \"job\", \"job\", \"job\", \"job\", \"joni\", \"jose\", \"jt\", \"juan\", \"juan\", \"julian\", \"kate\", \"keep\", \"keep\", \"keep\", \"keep\", \"keep\", \"keep\", \"keep\", \"keep\", \"keep\", \"keep\", \"keep\", \"killeen\", \"kind\", \"kind\", \"kind\", \"kind\", \"kind\", \"kindness\", \"kindness\", \"know\", \"know\", \"know\", \"know\", \"know\", \"know\", \"know\", \"know\", \"know\", \"know\", \"know\", \"know\", \"know\", \"kp\", \"kp\", \"kristiesp\", \"kudos\", \"kudos\", \"kudos\", \"kudos\", \"kudos\", \"kudos\", \"kudos\", \"kudos\", \"kudos\", \"landed\", \"landed\", \"landed\", \"landed\", \"landed\", \"landed\", \"laptop\", \"laptop-large\", \"last\", \"last\", \"last\", \"last\", \"last\", \"last\", \"last\", \"last\", \"last\", \"last\", \"last\", \"last\", \"late\", \"late\", \"late\", \"late\", \"late\", \"late\", \"late\", \"late\", \"late\", \"late\", \"latte\", \"laundry\", \"learn\", \"leaving\", \"led\", \"left\", \"left\", \"left\", \"left\", \"left\", \"left\", \"left\", \"let\", \"let\", \"let\", \"let\", \"let\", \"let\", \"let\", \"let\", \"let\", \"let\", \"letting\", \"lifesaver\", \"like\", \"like\", \"like\", \"like\", \"like\", \"like\", \"like\", \"like\", \"like\", \"like\", \"like\", \"like\", \"like\", \"like\", \"list\", \"liza\", \"local\", \"login\", \"lol\", \"lol\", \"lol\", \"lol\", \"longer\", \"longer\", \"look\", \"look\", \"look\", \"look\", \"look\", \"look\", \"look\", \"look\", \"look\", \"look\", \"look\", \"looking\", \"looking\", \"looking\", \"looking\", \"looking\", \"looking\", \"lost\", \"lost\", \"lost\", \"lost\", \"lost\", \"lost\", \"lostfound\", \"lot\", \"lot\", \"lot\", \"lot\", \"lot\", \"lot\", \"lot\", \"lot\", \"love\", \"love\", \"love\", \"love\", \"love\", \"love\", \"love\", \"love\", \"love\", \"love\", \"love\", \"love\", \"love\", \"loved\", \"loved\", \"loved\", \"loved\", \"loved\", \"loved\", \"loved\", \"loved\", \"lovely\", \"lovely\", \"lovely\", \"lovely\", \"loving\", \"loving\", \"loving\", \"lt\", \"lt\", \"lt\", \"lt\", \"lt\", \"lt\", \"lt\", \"lucky\", \"luggage\", \"luggage\", \"luggage\", \"luggage\", \"luv\", \"luv\", \"luv\", \"luv\", \"luv\", \"luv\", \"luv\", \"luxurious\", \"mad\", \"made\", \"made\", \"made\", \"made\", \"made\", \"made\", \"made\", \"made\", \"made\", \"made\", \"made\", \"made\", \"made\", \"made\", \"make\", \"make\", \"make\", \"make\", \"make\", \"make\", \"make\", \"make\", \"make\", \"make\", \"make\", \"make\", \"making\", \"making\", \"making\", \"making\", \"making\", \"making\", \"making\", \"making\", \"making\", \"making\", \"male\", \"map\", \"march\", \"maria\", \"marsha\", \"maybe\", \"maybe\", \"maybe\", \"maybe\", \"maybe\", \"mco\", \"mco\", \"mco\", \"mco\", \"md\", \"me-right\", \"melinda\", \"message\", \"met\", \"met\", \"method\", \"method\", \"method\", \"mgr\", \"mht\", \"million\", \"mint\", \"mint\", \"minute\", \"minute\", \"minute\", \"minute\", \"minute\", \"minute\", \"miraculously\", \"moment\", \"moment\", \"moon\", \"morning\", \"morning\", \"morning\", \"morning\", \"morning\", \"morning\", \"morning\", \"morning\", \"morning\", \"morning\", \"morning\", \"mr\", \"mths\", \"much\", \"much\", \"much\", \"much\", \"much\", \"much\", \"much\", \"much\", \"much\", \"much\", \"much\", \"much\", \"multiple\", \"murdock\", \"mvp\", \"myers\", \"na\", \"nancy\", \"national\", \"natt\", \"nawww\", \"near\", \"needed\", \"neighboring\", \"never\", \"never\", \"never\", \"never\", \"never\", \"never\", \"never\", \"never\", \"never\", \"new\", \"new\", \"new\", \"new\", \"new\", \"new\", \"new\", \"new\", \"new\", \"new\", \"new\", \"new\", \"news\", \"news\", \"next\", \"next\", \"next\", \"next\", \"next\", \"next\", \"next\", \"next\", \"next\", \"nice\", \"nice\", \"nice\", \"nice\", \"nice\", \"nice\", \"nice\", \"nice\", \"nice\", \"nice\", \"nice\", \"nice\", \"nice\", \"nice\", \"nicely\", \"nicest\", \"nicest\", \"note\", \"note\", \"note\", \"notified\", \"nut\", \"nut\", \"nyc-\", \"odd\", \"offered\", \"often\", \"often\", \"often\", \"oh\", \"oh\", \"oh\", \"oh\", \"oh\", \"oh\", \"oh\", \"ok\", \"ok\", \"ok\", \"ok\", \"ok\", \"ok\", \"ok\", \"ok\", \"okay\", \"okay\", \"okay\", \"oma\", \"omg\", \"omg\", \"omg\", \"onboard\", \"onboard\", \"onboard\", \"onboard\", \"onboard\", \"onboard\", \"one\", \"one\", \"one\", \"one\", \"one\", \"one\", \"one\", \"one\", \"one\", \"one\", \"one-way\", \"opened\", \"opportunity\", \"opportunity\", \"opportunity\", \"opportunity\", \"otherwise\", \"oui\", \"outlet\", \"outsource\", \"overhead\", \"overnight\", \"package\", \"pair\", \"pair\", \"pair\", \"par\", \"passbook\", \"passbook\", \"passbook\", \"passbook\", \"passbook\", \"passbook\", \"passbook\", \"paypal\", \"people\", \"people\", \"people\", \"people\", \"people\", \"people\", \"people\", \"people\", \"people\", \"people\", \"personalized\", \"phl\", \"phl\", \"phl\", \"phl\", \"phl\", \"phl\", \"phl\", \"phl\", \"phone\", \"phone\", \"phone\", \"phone\", \"phone\", \"phone\", \"phone\", \"phone\", \"phone\", \"photo\", \"photo\", \"pick\", \"pick\", \"pick\", \"picking\", \"piece\", \"pimentel\", \"plane\", \"plane\", \"plane\", \"plane\", \"plane\", \"plane\", \"plane\", \"plane\", \"plane\", \"plane\", \"plane\", \"plane\", \"plane\", \"plane\", \"planned\", \"planned\", \"plastic\", \"platinum\", \"platinum\", \"platter\", \"pleasantly\", \"pleasantly\", \"please\", \"please\", \"please\", \"please\", \"please\", \"please\", \"please\", \"please\", \"please\", \"please\", \"please\", \"please\", \"populate\", \"power\", \"power\", \"pple\", \"preboarding\", \"present\", \"presented\", \"pretty\", \"pretty\", \"pretty\", \"pretty\", \"pretty\", \"pretty\", \"print\\\"\", \"priority\", \"priority\", \"priority\", \"private\", \"problem\", \"problem\", \"problem\", \"problem\", \"problem\", \"problem\", \"problem\", \"problem\", \"problem\", \"problem\", \"professionalnice\", \"promo\", \"promo\", \"prompt\", \"prompt\", \"prompt\", \"prompt\", \"provided\", \"puerto\", \"puerto\", \"pure\", \"pwm\", \"q\", \"quality\", \"quality\", \"quick\", \"quick\", \"quick\", \"quick\", \"quickly\", \"quickly\", \"quickly\", \"rain\", \"raving\", \"reach\", \"reach\", \"reach\", \"real\", \"real\", \"really\", \"really\", \"really\", \"really\", \"really\", \"really\", \"really\", \"really\", \"really\", \"really\", \"really\", \"really\", \"reason\", \"reason\", \"reason\", \"reason\", \"reasonable\", \"rebooked\", \"rebooked\", \"rebooked\", \"rebooked\", \"rebooked\", \"recovery\", \"recovery\", \"reflight\", \"reflight\", \"reflight\", \"reflight\", \"refunded\", \"refunded\", \"relaxing\", \"relieved\", \"removal\", \"reopens\", \"reply\", \"reply\", \"reply\", \"reply\", \"reply\", \"reply\", \"reply\", \"request\", \"request\", \"resoled\", \"respect\", \"respect\", \"responding\", \"responding\", \"responding\", \"response\", \"response\", \"response\", \"response\", \"response\", \"response\", \"response\", \"retrieve\", \"rico\", \"ride\", \"ride\", \"ride\", \"ride\", \"right\", \"right\", \"right\", \"right\", \"right\", \"right\", \"right\", \"right\", \"right\", \"rising\", \"rita\", \"robert\", \"rock\", \"rock\", \"rock\", \"rock\", \"rock\", \"rock\", \"rock\", \"rock\", \"rock\", \"rock\", \"rock\", \"rollercoaster\", \"rule\", \"rule\", \"sabe\", \"sadly\", \"safe\", \"safe\", \"safe\", \"safe\", \"safe\", \"safe\", \"safety\", \"safety\", \"safety\", \"safety\", \"safety\", \"safety\", \"said\", \"said\", \"said\", \"said\", \"sat\", \"save\", \"save\", \"say\", \"say\", \"say\", \"say\", \"say\", \"say\", \"scavenger\", \"screwed\", \"seat\", \"seat\", \"seat\", \"seat\", \"seat\", \"seat\", \"seat\", \"seat\", \"seat\", \"seat\", \"seat\", \"seat\", \"seat\", \"seated\", \"second\", \"second\", \"second\", \"second\", \"security\", \"security\", \"see\", \"see\", \"see\", \"see\", \"see\", \"see\", \"see\", \"see\", \"see\", \"see\", \"see\", \"see\", \"see\", \"select\", \"send\", \"send\", \"send\", \"sent\", \"sent\", \"sent\", \"sent\", \"sent\", \"sent\", \"sent\", \"service\", \"service\", \"service\", \"service\", \"service\", \"service\", \"service\", \"service\", \"service\", \"service\", \"service\", \"service\", \"several\", \"several\", \"sfo\", \"sfo\", \"sfo\", \"sfo\", \"sfo\", \"sfo\", \"sfo\", \"sfo\", \"sheesh\", \"shoe\", \"shot\", \"shot\", \"shoutout\", \"showed\", \"sign\", \"sign\", \"since\", \"since\", \"since\", \"since\", \"since\", \"since\", \"since\", \"sincerely\", \"sincerely\", \"sing\", \"size\\\"\", \"sju\", \"skin\", \"sliced\", \"slide\", \"slowing\", \"snow\", \"snow\", \"snow\", \"snow\", \"snow\", \"snow\", \"snow\", \"snow\", \"solution\", \"solved\", \"solved\", \"sort\", \"sorted\", \"sound\", \"sound\", \"sound\", \"sound\", \"sound\", \"southwest\", \"southwest\", \"southwest\", \"southwest\", \"southwest\", \"southwest\", \"southwest\", \"southwest\", \"southwest\", \"spam\", \"spare\", \"special\", \"special\", \"speed\", \"speed\", \"squared\", \"staff\", \"staff\", \"staff\", \"staff\", \"staff\", \"staff\", \"staff\", \"staff\", \"staff\", \"staff\", \"staff\", \"staff\", \"stair\", \"start\", \"start\", \"start\", \"start\", \"start\", \"start\", \"start\", \"stayed\", \"stbernard\", \"still\", \"still\", \"still\", \"still\", \"still\", \"still\", \"still\", \"still\", \"still\", \"still\", \"still\", \"straight\", \"straight\", \"stream\", \"streaming\", \"streamline\", \"stress\", \"stressful\", \"suggestion\", \"sunday\", \"suprise\", \"sure\", \"sure\", \"sure\", \"sure\", \"sure\", \"sure\", \"sure\", \"sure\", \"surprise\", \"survey\", \"swa\", \"swa\", \"swa\", \"swa\", \"swa\", \"switch\", \"swivel\", \"sylvie\", \"tab\", \"tagged\", \"taken\", \"taken\", \"taken\", \"taken\", \"taking\", \"taking\", \"taking\", \"taking\", \"talked\", \"talked\", \"talked\", \"tammy\", \"team\", \"team\", \"team\", \"team\", \"team\", \"team\", \"team\", \"team\", \"team\", \"team\", \"team\", \"teeming\", \"terribly\", \"terrific\", \"terrific\", \"terry\", \"texas\", \"texas\", \"texas\", \"thank\", \"thank\", \"thank\", \"thank\", \"thank\", \"thank\", \"thank\", \"thank\", \"thank\", \"thank\", \"thank\", \"thank\", \"thank\", \"thank\", \"thanks\", \"thanks\", \"thanks\", \"thanks\", \"thanks\", \"thanks\", \"thanks\", \"thanks\", \"thanks\", \"thanks\", \"thanks\", \"thanks\", \"thanks\", \"thanks\", \"thanks\", \"thankyou\", \"thankyou\", \"thanx\", \"thats\", \"thats\", \"thats\", \"thats\", \"thats\", \"thats\", \"thats\", \"thats\", \"theyre\", \"theyre\", \"theyre\", \"theyre\", \"theyre\", \"thing\", \"thing\", \"thing\", \"thing\", \"thing\", \"thing\", \"thing\", \"thing\", \"thing\", \"things--the\", \"think\", \"think\", \"think\", \"think\", \"think\", \"think\", \"think\", \"thnx\", \"thnx\", \"though\", \"though\", \"though\", \"though\", \"though\", \"though\", \"though\", \"though\", \"though\", \"though\", \"thought\", \"thought\", \"thought\", \"thought\", \"thru\", \"thru\", \"thru\", \"thru\", \"thx\", \"thx\", \"thx\", \"thx\", \"thx\", \"thx\", \"thx\", \"thx\", \"thx\", \"thx\", \"ticket\", \"ticket\", \"ticket\", \"ticket\", \"ticket\", \"ticket\", \"ticket\", \"ticket\", \"ticket\", \"ticket\", \"ticket\", \"time\", \"time\", \"time\", \"time\", \"time\", \"time\", \"time\", \"time\", \"time\", \"time\", \"time\", \"time\", \"time\", \"tiny\", \"tired\", \"tnx\", \"today\", \"today\", \"today\", \"today\", \"today\", \"today\", \"today\", \"today\", \"today\", \"today\", \"today\", \"today\", \"today\", \"today\", \"tomorrow\", \"tomorrow\", \"tomorrow\", \"tomorrow\", \"tomorrow\", \"tomorrow\", \"tonight\", \"tonight\", \"tonight\", \"tonight\", \"tonight\", \"tonight\", \"tonight\", \"tonight\", \"tonight\", \"tonight\", \"took\", \"took\", \"took\", \"took\", \"took\", \"took\", \"tool\", \"totally\", \"totally\", \"totally\", \"totally\", \"touch\", \"touch\", \"tough\", \"tough\", \"tracking\", \"transfer\", \"travel\", \"travel\", \"travel\", \"travel\", \"travel\", \"travel\", \"travel\", \"travel\", \"travel\", \"travel\", \"travel\", \"travis\", \"treat\", \"treat\", \"tried\", \"tried\", \"tried\", \"trip\", \"trip\", \"trip\", \"trip\", \"trip\", \"trip\", \"trip\", \"trip\", \"trip\", \"trip\", \"trip\", \"truly\", \"truly\", \"trust\", \"trust\", \"trvlove\", \"tv\", \"tv\", \"tv\", \"tweet\", \"tweet\", \"tweet\", \"tweet\", \"tweet\", \"tweet\", \"tweet\", \"tweet\", \"twitter\", \"twitter\", \"twitter\", \"twitter\", \"twitter\", \"twitter\", \"twitter\", \"twitter\", \"two\", \"two\", \"two\", \"tx\", \"ty\", \"ty\", \"ty\", \"type\", \"unbelievable\", \"understands\", \"understood\", \"united\", \"united\", \"united\", \"united\", \"united\", \"united\", \"united\", \"united\", \"united\", \"united\", \"up-\", \"update\", \"update\", \"update\", \"update\", \"update\", \"update\", \"updated\", \"upgrade\", \"upgrade\", \"upgrade\", \"upgrade\", \"upgrade\", \"upgrade\", \"upgrade\", \"upgrade\", \"ute\", \"vaca\", \"vega\", \"vega\", \"vega\", \"vega\", \"vega\", \"vent\", \"wait\", \"wait\", \"wait\", \"wait\", \"wait\", \"wait\", \"wait\", \"wait\", \"waiver\", \"walk\", \"walking\", \"wanna\", \"wanna\", \"watched\", \"watched\", \"way\", \"way\", \"way\", \"way\", \"way\", \"way\", \"way\", \"way\", \"way\", \"way\", \"way\", \"wc\", \"weather\", \"weather\", \"weather\", \"weather\", \"weather\", \"weather\", \"weather\", \"weather\", \"weather\", \"web\", \"web\", \"website\", \"website\", \"week\", \"week\", \"week\", \"week\", \"week\", \"week\", \"week\", \"week\", \"week\", \"weekend\", \"weekend\", \"weekend\", \"welcome\", \"welcome\", \"welcome\", \"welcome\", \"welcome\", \"welcome\", \"well\", \"well\", \"well\", \"well\", \"well\", \"well\", \"well\", \"well\", \"well\", \"well\", \"well\", \"well\", \"well\", \"well\", \"went\", \"went\", \"went\", \"went\", \"went\", \"went\", \"went\", \"went\", \"weve\", \"weve\", \"weve\", \"whats\", \"whats\", \"whod\", \"whole\", \"whole\", \"whole\", \"whoooo\", \"wife\", \"wife\", \"wife\", \"wife\", \"wife\", \"wife\", \"wifi\", \"wifi\", \"wifi\", \"wifi\", \"wifi\", \"wifi\", \"wifi\", \"wine\", \"wish\", \"wish\", \"wish\", \"wish\", \"wish\", \"wish\", \"wish\", \"wish\", \"wish\", \"wish\", \"wish\", \"without\", \"work\", \"work\", \"work\", \"work\", \"work\", \"work\", \"work\", \"work\", \"work\", \"work\", \"work\", \"world\", \"world\", \"world\", \"world\", \"world\", \"world\", \"world\", \"world\", \"world\", \"wouldnt\", \"wouldnt\", \"wouldnt\", \"wouldve\", \"wow\", \"wow\", \"wow\", \"wow\", \"wproj\", \"xoxo\", \"yall\", \"yall\", \"yall\", \"yall\", \"yall\", \"yall\", \"yall\", \"yall\", \"yall\", \"yall\", \"yall\", \"yeah\", \"yeah\", \"year\", \"year\", \"year\", \"year\", \"year\", \"year\", \"year\", \"year\", \"year\", \"year\", \"year\", \"year-round\", \"yes\", \"yes\", \"yes\", \"yes\", \"yes\", \"yes\", \"yes\", \"yes\", \"yesso\", \"yet\", \"yet\", \"younger\", \"youre\", \"youre\", \"youre\", \"youre\", \"youre\", \"youre\", \"youre\", \"youre\", \"youre\", \"youre\", \"youve\", \"youve\", \"youve\", \"youve\", \"youve\", \"youve\", \"youyou\", \"yr\", \"yr\", \"yr\"]}, \"R\": 30, \"lambda.step\": 0.01, \"plot.opts\": {\"xlab\": \"PC1\", \"ylab\": \"PC2\"}, \"topic.order\": [9, 14, 3, 1, 7, 6, 5, 11, 13, 8, 12, 15, 4, 2, 10]};\n",
       "\n",
       "function LDAvis_load_lib(url, callback){\n",
       "  var s = document.createElement('script');\n",
       "  s.src = url;\n",
       "  s.async = true;\n",
       "  s.onreadystatechange = s.onload = callback;\n",
       "  s.onerror = function(){console.warn(\"failed to load library \" + url);};\n",
       "  document.getElementsByTagName(\"head\")[0].appendChild(s);\n",
       "}\n",
       "\n",
       "if(typeof(LDAvis) !== \"undefined\"){\n",
       "   // already loaded: just create the visualization\n",
       "   !function(LDAvis){\n",
       "       new LDAvis(\"#\" + \"ldavis_el24136122446250516083156666\", ldavis_el24136122446250516083156666_data);\n",
       "   }(LDAvis);\n",
       "}else if(typeof define === \"function\" && define.amd){\n",
       "   // require.js is available: use it to load d3/LDAvis\n",
       "   require.config({paths: {d3: \"https://cdnjs.cloudflare.com/ajax/libs/d3/3.5.5/d3.min\"}});\n",
       "   require([\"d3\"], function(d3){\n",
       "      window.d3 = d3;\n",
       "      LDAvis_load_lib(\"https://cdn.rawgit.com/bmabey/pyLDAvis/files/ldavis.v1.0.0.js\", function(){\n",
       "        new LDAvis(\"#\" + \"ldavis_el24136122446250516083156666\", ldavis_el24136122446250516083156666_data);\n",
       "      });\n",
       "    });\n",
       "}else{\n",
       "    // require.js not available: dynamically load d3 & LDAvis\n",
       "    LDAvis_load_lib(\"https://cdnjs.cloudflare.com/ajax/libs/d3/3.5.5/d3.min.js\", function(){\n",
       "         LDAvis_load_lib(\"https://cdn.rawgit.com/bmabey/pyLDAvis/files/ldavis.v1.0.0.js\", function(){\n",
       "                 new LDAvis(\"#\" + \"ldavis_el24136122446250516083156666\", ldavis_el24136122446250516083156666_data);\n",
       "            })\n",
       "         });\n",
       "}\n",
       "</script>"
      ],
      "text/plain": [
       "PreparedData(topic_coordinates=              x         y  topics  cluster       Freq\n",
       "topic                                                \n",
       "8     -0.094644  0.069074       1        1  10.298455\n",
       "13    -0.144507 -0.000222       2        1   9.789518\n",
       "2     -0.027181  0.038239       3        1   8.946330\n",
       "0     -0.097122  0.051361       4        1   7.890408\n",
       "6      0.097089  0.037063       5        1   7.549289\n",
       "5      0.050813  0.017870       6        1   6.958067\n",
       "4     -0.004016 -0.035066       7        1   6.594180\n",
       "10     0.041557 -0.059125       8        1   6.319176\n",
       "12     0.006837 -0.104093       9        1   5.921833\n",
       "7     -0.025011 -0.125321      10        1   5.704559\n",
       "11     0.039064 -0.031212      11        1   5.313374\n",
       "14     0.013336  0.014564      12        1   5.280895\n",
       "3      0.003882 -0.006624      13        1   4.629537\n",
       "1      0.077605  0.042767      14        1   4.470561\n",
       "9      0.062298  0.090723      15        1   4.333825, topic_info=         Term        Freq       Total Category  logprob  loglift\n",
       "183     thank  387.000000  387.000000  Default  30.0000  30.0000\n",
       "150  customer  103.000000  103.000000  Default  29.0000  29.0000\n",
       "50     thanks  508.000000  508.000000  Default  28.0000  28.0000\n",
       "152   service  133.000000  133.000000  Default  27.0000  27.0000\n",
       "246    follow   28.000000   28.000000  Default  26.0000  26.0000\n",
       "..        ...         ...         ...      ...      ...      ...\n",
       "472      look    2.877075   28.242516  Topic15  -5.5317   0.8547\n",
       "595     agent    3.024537   41.162384  Topic15  -5.4817   0.5280\n",
       "89    airline    3.303139   83.671471  Topic15  -5.3936  -0.0933\n",
       "183     thank    3.717772  387.645905  Topic15  -5.2754  -1.5082\n",
       "393       day    2.926465   51.236706  Topic15  -5.5147   0.2761\n",
       "\n",
       "[1165 rows x 6 columns], token_table=      Topic      Freq       Term\n",
       "term                            \n",
       "608       8  0.742883   \"airport\n",
       "2801     15  0.644902  \"breaking\n",
       "1622     14  0.644634      \"fine\n",
       "1323      1  0.063069          #\n",
       "1323      3  0.283810          #\n",
       "...     ...       ...        ...\n",
       "5        14  0.378805      youve\n",
       "3504      8  0.825411     youyou\n",
       "459       1  0.601290         yr\n",
       "459       8  0.200430         yr\n",
       "459      14  0.200430         yr\n",
       "\n",
       "[2818 rows x 3 columns], R=30, lambda_step=0.01, plot_opts={'xlab': 'PC1', 'ylab': 'PC2'}, topic_order=[9, 14, 3, 1, 7, 6, 5, 11, 13, 8, 12, 15, 4, 2, 10])"
      ]
     },
     "execution_count": 135,
     "metadata": {},
     "output_type": "execute_result"
    }
   ],
   "source": [
    "ldaViz"
   ]
  },
  {
   "cell_type": "code",
   "execution_count": 136,
   "metadata": {},
   "outputs": [
    {
     "data": {
      "text/plain": [
       "<matplotlib.axes._subplots.AxesSubplot at 0x11d1a7435c8>"
      ]
     },
     "execution_count": 136,
     "metadata": {},
     "output_type": "execute_result"
    },
    {
     "data": {
      "image/png": "[encoded data removed]",
      "text/plain": [
       "<Figure size 1080x720 with 1 Axes>"
      ]
     },
     "metadata": {
      "needs_background": "light"
     },
     "output_type": "display_data"
    }
   ],
   "source": [
    "count_terms = Counter(neg_tweets_tok)\n",
    "ng_tweets_cnt = pd.DataFrame (count_terms.most_common(20), columns = ['word','count'])\n",
    "f, ax = plt.subplots(figsize=(15, 10))\n",
    "sns.barplot(ng_tweets_cnt['word'],ng_tweets_cnt['count'] )\n"
   ]
  },
  {
   "cell_type": "markdown",
   "metadata": {},
   "source": [
    "##### Here, we have flights as the first most common word. The reason could be that negative tweets are complainings about something that happened during a flight time, indicating that a operational problem. Also we notice words like \"Canceled\", \" Servive\", \"Hours\".\"Hold\" and \"Time\" which points to either a bad service or flights getting delayed/cancelled or combination of both.\n",
    "\n"
   ]
  },
  {
   "cell_type": "markdown",
   "metadata": {},
   "source": [
    "### With Above bag of words analysis I will be ending my exporatory data analysis and move on to feature engineering section now on move on to Feature engineering"
   ]
  },
  {
   "cell_type": "markdown",
   "metadata": {},
   "source": [
    "#### Text Preprocessed feature\n",
    "Lets now create a feature with original texts being Preprocessed "
   ]
  },
  {
   "cell_type": "code",
   "execution_count": 137,
   "metadata": {},
   "outputs": [
    {
     "data": {
      "text/html": [
       "<div>\n",
       "<style scoped>\n",
       "    .dataframe tbody tr th:only-of-type {\n",
       "        vertical-align: middle;\n",
       "    }\n",
       "\n",
       "    .dataframe tbody tr th {\n",
       "        vertical-align: top;\n",
       "    }\n",
       "\n",
       "    .dataframe thead th {\n",
       "        text-align: right;\n",
       "    }\n",
       "</style>\n",
       "<table border=\"1\" class=\"dataframe\">\n",
       "  <thead>\n",
       "    <tr style=\"text-align: right;\">\n",
       "      <th></th>\n",
       "      <th>tweet_id</th>\n",
       "      <th>airline_sentiment</th>\n",
       "      <th>airline_sentiment_confidence</th>\n",
       "      <th>negativereason</th>\n",
       "      <th>negativereason_confidence</th>\n",
       "      <th>airline</th>\n",
       "      <th>name</th>\n",
       "      <th>retweet_count</th>\n",
       "      <th>text</th>\n",
       "      <th>tweet_created</th>\n",
       "      <th>tweet_location</th>\n",
       "      <th>user_timezone</th>\n",
       "    </tr>\n",
       "  </thead>\n",
       "  <tbody>\n",
       "    <tr>\n",
       "      <th>0</th>\n",
       "      <td>570306133677760513</td>\n",
       "      <td>neutral</td>\n",
       "      <td>1.0000</td>\n",
       "      <td>NaN</td>\n",
       "      <td>NaN</td>\n",
       "      <td>Virgin America</td>\n",
       "      <td>cairdin</td>\n",
       "      <td>0</td>\n",
       "      <td>@VirginAmerica What @dhepburn said.</td>\n",
       "      <td>2015-02-24 11:35:52 -0800</td>\n",
       "      <td>NaN</td>\n",
       "      <td>Eastern Time (US &amp; Canada)</td>\n",
       "    </tr>\n",
       "    <tr>\n",
       "      <th>1</th>\n",
       "      <td>570301130888122368</td>\n",
       "      <td>positive</td>\n",
       "      <td>0.3486</td>\n",
       "      <td>NaN</td>\n",
       "      <td>0.0000</td>\n",
       "      <td>Virgin America</td>\n",
       "      <td>jnardino</td>\n",
       "      <td>0</td>\n",
       "      <td>@VirginAmerica plus you've added commercials t...</td>\n",
       "      <td>2015-02-24 11:15:59 -0800</td>\n",
       "      <td>NaN</td>\n",
       "      <td>Pacific Time (US &amp; Canada)</td>\n",
       "    </tr>\n",
       "    <tr>\n",
       "      <th>2</th>\n",
       "      <td>570301083672813571</td>\n",
       "      <td>neutral</td>\n",
       "      <td>0.6837</td>\n",
       "      <td>NaN</td>\n",
       "      <td>NaN</td>\n",
       "      <td>Virgin America</td>\n",
       "      <td>yvonnalynn</td>\n",
       "      <td>0</td>\n",
       "      <td>@VirginAmerica I didn't today... Must mean I n...</td>\n",
       "      <td>2015-02-24 11:15:48 -0800</td>\n",
       "      <td>Lets Play</td>\n",
       "      <td>Central Time (US &amp; Canada)</td>\n",
       "    </tr>\n",
       "    <tr>\n",
       "      <th>3</th>\n",
       "      <td>570301031407624196</td>\n",
       "      <td>negative</td>\n",
       "      <td>1.0000</td>\n",
       "      <td>Bad Flight</td>\n",
       "      <td>0.7033</td>\n",
       "      <td>Virgin America</td>\n",
       "      <td>jnardino</td>\n",
       "      <td>0</td>\n",
       "      <td>@VirginAmerica it's really aggressive to blast...</td>\n",
       "      <td>2015-02-24 11:15:36 -0800</td>\n",
       "      <td>NaN</td>\n",
       "      <td>Pacific Time (US &amp; Canada)</td>\n",
       "    </tr>\n",
       "    <tr>\n",
       "      <th>4</th>\n",
       "      <td>570300817074462722</td>\n",
       "      <td>negative</td>\n",
       "      <td>1.0000</td>\n",
       "      <td>Can't Tell</td>\n",
       "      <td>1.0000</td>\n",
       "      <td>Virgin America</td>\n",
       "      <td>jnardino</td>\n",
       "      <td>0</td>\n",
       "      <td>@VirginAmerica and it's a really big bad thing...</td>\n",
       "      <td>2015-02-24 11:14:45 -0800</td>\n",
       "      <td>NaN</td>\n",
       "      <td>Pacific Time (US &amp; Canada)</td>\n",
       "    </tr>\n",
       "  </tbody>\n",
       "</table>\n",
       "</div>"
      ],
      "text/plain": [
       "             tweet_id airline_sentiment  airline_sentiment_confidence  \\\n",
       "0  570306133677760513           neutral                        1.0000   \n",
       "1  570301130888122368          positive                        0.3486   \n",
       "2  570301083672813571           neutral                        0.6837   \n",
       "3  570301031407624196          negative                        1.0000   \n",
       "4  570300817074462722          negative                        1.0000   \n",
       "\n",
       "  negativereason  negativereason_confidence         airline        name  \\\n",
       "0            NaN                        NaN  Virgin America     cairdin   \n",
       "1            NaN                     0.0000  Virgin America    jnardino   \n",
       "2            NaN                        NaN  Virgin America  yvonnalynn   \n",
       "3     Bad Flight                     0.7033  Virgin America    jnardino   \n",
       "4     Can't Tell                     1.0000  Virgin America    jnardino   \n",
       "\n",
       "   retweet_count                                               text  \\\n",
       "0              0                @VirginAmerica What @dhepburn said.   \n",
       "1              0  @VirginAmerica plus you've added commercials t...   \n",
       "2              0  @VirginAmerica I didn't today... Must mean I n...   \n",
       "3              0  @VirginAmerica it's really aggressive to blast...   \n",
       "4              0  @VirginAmerica and it's a really big bad thing...   \n",
       "\n",
       "               tweet_created tweet_location               user_timezone  \n",
       "0  2015-02-24 11:35:52 -0800            NaN  Eastern Time (US & Canada)  \n",
       "1  2015-02-24 11:15:59 -0800            NaN  Pacific Time (US & Canada)  \n",
       "2  2015-02-24 11:15:48 -0800      Lets Play  Central Time (US & Canada)  \n",
       "3  2015-02-24 11:15:36 -0800            NaN  Pacific Time (US & Canada)  \n",
       "4  2015-02-24 11:14:45 -0800            NaN  Pacific Time (US & Canada)  "
      ]
     },
     "execution_count": 137,
     "metadata": {},
     "output_type": "execute_result"
    }
   ],
   "source": [
    "#Before I start, I will have dataset only limit to US time Zones:\n",
    "tz = ['Eastern Time (US & Canada)','Central Time (US & Canada)','Pacific Time (US & Canada)','Mountain Time (US & Canada)']\n",
    "data = data[data.user_timezone.isin(tz)]\n",
    "data.head()"
   ]
  },
  {
   "cell_type": "code",
   "execution_count": 138,
   "metadata": {},
   "outputs": [],
   "source": [
    "\n",
    "from nltk.tokenize import TweetTokenizer\n",
    "from nltk.corpus import stopwords\n",
    "import string\n",
    "\n",
    "# function to help us developing features such as lower_case, punctuation (keep or strip),\n",
    "# delete stop_words, etc.\n",
    "def preprocess(tweet,punctuation=False, join=True,preserve_case= False,strip_handles=False, reduce_len=False, emo=False ):\n",
    "    \n",
    "    #define filter words\n",
    "    punctuation = [] if punctuation else list(string.punctuation)\n",
    "    positive_emoticons = {':-)':'happy', ':)':'happy', '=)':'happy', ':D':'happy', ';D':'happy', ':]':'happy', ';]':'happy', ':-D':'happy'}\n",
    "    negative_emoticons = {':-(':'sad', ':(':'sad', '=(':'sad', ';(':'sad', 'D:':'sad', 'D;':'sad', ':[':'sad', ';[':'sad', ':/':'sad'}\n",
    "    qex_emoticons = {'?':'question', '!':'exclamation'}\n",
    "    emoticons = {**positive_emoticons,**negative_emoticons,**qex_emoticons }\n",
    "    stop = stopwords.words('english') + punctuation + ['jetblue', 'southwestair','united','americanair','usairways','http','virginamerica','\\'s','...']\n",
    "\n",
    "    tknzr = TweetTokenizer(preserve_case=preserve_case, \n",
    "                           strip_handles=strip_handles, reduce_len=reduce_len)\n",
    "    \n",
    "    tokens = tknzr.tokenize(tweet)\n",
    "    \n",
    "    tokens = [token for token in tokens\n",
    "              if token not in stop and\n",
    "              not token.startswith(('#', '@','http', '...'))] \n",
    "    \n",
    "    if join and emo:\n",
    "        tokens=' '.join(tokens)\n",
    "        for key in emoticons.keys():\n",
    "            tokens=tokens.replace(key, emoticons[key])\n",
    "        return tokens\n",
    "    elif join:\n",
    "        return ' '.join(tokens)\n",
    "    \n",
    "    return tokens"
   ]
  },
  {
   "cell_type": "code",
   "execution_count": 139,
   "metadata": {},
   "outputs": [
    {
     "data": {
      "text/html": [
       "<div>\n",
       "<style scoped>\n",
       "    .dataframe tbody tr th:only-of-type {\n",
       "        vertical-align: middle;\n",
       "    }\n",
       "\n",
       "    .dataframe tbody tr th {\n",
       "        vertical-align: top;\n",
       "    }\n",
       "\n",
       "    .dataframe thead th {\n",
       "        text-align: right;\n",
       "    }\n",
       "</style>\n",
       "<table border=\"1\" class=\"dataframe\">\n",
       "  <thead>\n",
       "    <tr style=\"text-align: right;\">\n",
       "      <th></th>\n",
       "      <th>tweet_id</th>\n",
       "      <th>airline_sentiment</th>\n",
       "      <th>airline_sentiment_confidence</th>\n",
       "      <th>negativereason</th>\n",
       "      <th>negativereason_confidence</th>\n",
       "      <th>airline</th>\n",
       "      <th>name</th>\n",
       "      <th>retweet_count</th>\n",
       "      <th>text</th>\n",
       "      <th>tweet_created</th>\n",
       "      <th>tweet_location</th>\n",
       "      <th>user_timezone</th>\n",
       "      <th>text_preprocessed</th>\n",
       "    </tr>\n",
       "  </thead>\n",
       "  <tbody>\n",
       "    <tr>\n",
       "      <th>14629</th>\n",
       "      <td>569588591602458624</td>\n",
       "      <td>negative</td>\n",
       "      <td>1.000</td>\n",
       "      <td>Customer Service Issue</td>\n",
       "      <td>1.0000</td>\n",
       "      <td>American</td>\n",
       "      <td>jontgreen89</td>\n",
       "      <td>0</td>\n",
       "      <td>@AmericanAir How do I change my flight if the ...</td>\n",
       "      <td>2015-02-22 12:04:37 -0800</td>\n",
       "      <td>Waco, TX</td>\n",
       "      <td>Central Time (US &amp; Canada)</td>\n",
       "      <td>How I change flight phone system keeps telling...</td>\n",
       "    </tr>\n",
       "    <tr>\n",
       "      <th>14631</th>\n",
       "      <td>569588464896876545</td>\n",
       "      <td>negative</td>\n",
       "      <td>1.000</td>\n",
       "      <td>Bad Flight</td>\n",
       "      <td>1.0000</td>\n",
       "      <td>American</td>\n",
       "      <td>MDDavis7</td>\n",
       "      <td>0</td>\n",
       "      <td>@AmericanAir thx for nothing on getting us out...</td>\n",
       "      <td>2015-02-22 12:04:07 -0800</td>\n",
       "      <td>US</td>\n",
       "      <td>Eastern Time (US &amp; Canada)</td>\n",
       "      <td>thx nothing getting us country back US Broken ...</td>\n",
       "    </tr>\n",
       "    <tr>\n",
       "      <th>14632</th>\n",
       "      <td>569587813856841728</td>\n",
       "      <td>neutral</td>\n",
       "      <td>0.676</td>\n",
       "      <td>NaN</td>\n",
       "      <td>0.0000</td>\n",
       "      <td>American</td>\n",
       "      <td>Chad_SMFYM</td>\n",
       "      <td>0</td>\n",
       "      <td>“@AmericanAir: @TilleyMonsta George, that does...</td>\n",
       "      <td>2015-02-22 12:01:31 -0800</td>\n",
       "      <td>NaN</td>\n",
       "      <td>Central Time (US &amp; Canada)</td>\n",
       "      <td>“ George look good Please follow link start re...</td>\n",
       "    </tr>\n",
       "    <tr>\n",
       "      <th>14638</th>\n",
       "      <td>569587188687634433</td>\n",
       "      <td>negative</td>\n",
       "      <td>1.000</td>\n",
       "      <td>Customer Service Issue</td>\n",
       "      <td>0.6659</td>\n",
       "      <td>American</td>\n",
       "      <td>SraJackson</td>\n",
       "      <td>0</td>\n",
       "      <td>@AmericanAir you have my money, you change my ...</td>\n",
       "      <td>2015-02-22 11:59:02 -0800</td>\n",
       "      <td>New Jersey</td>\n",
       "      <td>Eastern Time (US &amp; Canada)</td>\n",
       "      <td>money change flight answer phones Any suggesti...</td>\n",
       "    </tr>\n",
       "  </tbody>\n",
       "</table>\n",
       "</div>"
      ],
      "text/plain": [
       "                 tweet_id airline_sentiment  airline_sentiment_confidence  \\\n",
       "14629  569588591602458624          negative                         1.000   \n",
       "14631  569588464896876545          negative                         1.000   \n",
       "14632  569587813856841728           neutral                         0.676   \n",
       "14638  569587188687634433          negative                         1.000   \n",
       "\n",
       "               negativereason  negativereason_confidence   airline  \\\n",
       "14629  Customer Service Issue                     1.0000  American   \n",
       "14631              Bad Flight                     1.0000  American   \n",
       "14632                     NaN                     0.0000  American   \n",
       "14638  Customer Service Issue                     0.6659  American   \n",
       "\n",
       "              name  retweet_count  \\\n",
       "14629  jontgreen89              0   \n",
       "14631     MDDavis7              0   \n",
       "14632   Chad_SMFYM              0   \n",
       "14638   SraJackson              0   \n",
       "\n",
       "                                                    text  \\\n",
       "14629  @AmericanAir How do I change my flight if the ...   \n",
       "14631  @AmericanAir thx for nothing on getting us out...   \n",
       "14632  “@AmericanAir: @TilleyMonsta George, that does...   \n",
       "14638  @AmericanAir you have my money, you change my ...   \n",
       "\n",
       "                   tweet_created tweet_location               user_timezone  \\\n",
       "14629  2015-02-22 12:04:37 -0800       Waco, TX  Central Time (US & Canada)   \n",
       "14631  2015-02-22 12:04:07 -0800             US  Eastern Time (US & Canada)   \n",
       "14632  2015-02-22 12:01:31 -0800            NaN  Central Time (US & Canada)   \n",
       "14638  2015-02-22 11:59:02 -0800     New Jersey  Eastern Time (US & Canada)   \n",
       "\n",
       "                                       text_preprocessed  \n",
       "14629  How I change flight phone system keeps telling...  \n",
       "14631  thx nothing getting us country back US Broken ...  \n",
       "14632  “ George look good Please follow link start re...  \n",
       "14638  money change flight answer phones Any suggesti...  "
      ]
     },
     "execution_count": 139,
     "metadata": {},
     "output_type": "execute_result"
    }
   ],
   "source": [
    "data['text_preprocessed'] = data.text.apply(lambda x: preprocess(x, preserve_case=True, punctuation=False))\n",
    "data.tail(4)"
   ]
  },
  {
   "cell_type": "markdown",
   "metadata": {},
   "source": [
    "#### Sentiment Scores Features\n",
    "Now, I will use the library defined on nltk module called vader that contains a lexicon of positive, neutral and negative words. Here, I want to create features based on the polarity scores of our tweets, i.e., I will pass each tweet to the function polarity_scores, and it will returns values for negative, neutral, positive and compound. Then, they will be used as extra features to our classification task."
   ]
  },
  {
   "cell_type": "code",
   "execution_count": 140,
   "metadata": {},
   "outputs": [],
   "source": [
    "from nltk.sentiment.vader import SentimentIntensityAnalyzer\n",
    "\n",
    "analyser = SentimentIntensityAnalyzer()\n",
    "\n",
    "def polarity_scores(tweets):\n",
    "    neg, neu, pos, compound = [], [], [], []\n",
    "    analyser = SentimentIntensityAnalyzer()\n",
    "\n",
    "    for tweet in tweets:\n",
    "        score = analyser.polarity_scores(tweet)\n",
    "        neg.append(score['neg'])\n",
    "        neu.append(score['neu'])\n",
    "        pos.append(score['pos'])\n",
    "        compound.append(score['compound'])\n",
    "    \n",
    "    return neg, neu, pos, compound\n",
    "\n",
    "all_scores = polarity_scores(data.text_preprocessed.values)\n",
    "data['neg_scores'] = all_scores[0]\n",
    "data['neu_scores'] = all_scores[1]\n",
    "data['pos_scores'] = all_scores[2]\n",
    "data['compound_scores'] = all_scores[3]"
   ]
  },
  {
   "cell_type": "code",
   "execution_count": 141,
   "metadata": {},
   "outputs": [
    {
     "data": {
      "text/html": [
       "<div>\n",
       "<style scoped>\n",
       "    .dataframe tbody tr th:only-of-type {\n",
       "        vertical-align: middle;\n",
       "    }\n",
       "\n",
       "    .dataframe tbody tr th {\n",
       "        vertical-align: top;\n",
       "    }\n",
       "\n",
       "    .dataframe thead th {\n",
       "        text-align: right;\n",
       "    }\n",
       "</style>\n",
       "<table border=\"1\" class=\"dataframe\">\n",
       "  <thead>\n",
       "    <tr style=\"text-align: right;\">\n",
       "      <th></th>\n",
       "      <th>tweet_id</th>\n",
       "      <th>airline_sentiment</th>\n",
       "      <th>airline_sentiment_confidence</th>\n",
       "      <th>negativereason</th>\n",
       "      <th>negativereason_confidence</th>\n",
       "      <th>airline</th>\n",
       "      <th>name</th>\n",
       "      <th>retweet_count</th>\n",
       "      <th>text</th>\n",
       "      <th>tweet_created</th>\n",
       "      <th>tweet_location</th>\n",
       "      <th>user_timezone</th>\n",
       "      <th>text_preprocessed</th>\n",
       "      <th>neg_scores</th>\n",
       "      <th>neu_scores</th>\n",
       "      <th>pos_scores</th>\n",
       "      <th>compound_scores</th>\n",
       "    </tr>\n",
       "  </thead>\n",
       "  <tbody>\n",
       "    <tr>\n",
       "      <th>14629</th>\n",
       "      <td>569588591602458624</td>\n",
       "      <td>negative</td>\n",
       "      <td>1.000</td>\n",
       "      <td>Customer Service Issue</td>\n",
       "      <td>1.0000</td>\n",
       "      <td>American</td>\n",
       "      <td>jontgreen89</td>\n",
       "      <td>0</td>\n",
       "      <td>@AmericanAir How do I change my flight if the ...</td>\n",
       "      <td>2015-02-22 12:04:37 -0800</td>\n",
       "      <td>Waco, TX</td>\n",
       "      <td>Central Time (US &amp; Canada)</td>\n",
       "      <td>How I change flight phone system keeps telling...</td>\n",
       "      <td>0.000</td>\n",
       "      <td>1.000</td>\n",
       "      <td>0.000</td>\n",
       "      <td>0.0000</td>\n",
       "    </tr>\n",
       "    <tr>\n",
       "      <th>14631</th>\n",
       "      <td>569588464896876545</td>\n",
       "      <td>negative</td>\n",
       "      <td>1.000</td>\n",
       "      <td>Bad Flight</td>\n",
       "      <td>1.0000</td>\n",
       "      <td>American</td>\n",
       "      <td>MDDavis7</td>\n",
       "      <td>0</td>\n",
       "      <td>@AmericanAir thx for nothing on getting us out...</td>\n",
       "      <td>2015-02-22 12:04:07 -0800</td>\n",
       "      <td>US</td>\n",
       "      <td>Eastern Time (US &amp; Canada)</td>\n",
       "      <td>thx nothing getting us country back US Broken ...</td>\n",
       "      <td>0.187</td>\n",
       "      <td>0.663</td>\n",
       "      <td>0.151</td>\n",
       "      <td>-0.1531</td>\n",
       "    </tr>\n",
       "    <tr>\n",
       "      <th>14632</th>\n",
       "      <td>569587813856841728</td>\n",
       "      <td>neutral</td>\n",
       "      <td>0.676</td>\n",
       "      <td>NaN</td>\n",
       "      <td>0.0000</td>\n",
       "      <td>American</td>\n",
       "      <td>Chad_SMFYM</td>\n",
       "      <td>0</td>\n",
       "      <td>“@AmericanAir: @TilleyMonsta George, that does...</td>\n",
       "      <td>2015-02-22 12:01:31 -0800</td>\n",
       "      <td>NaN</td>\n",
       "      <td>Central Time (US &amp; Canada)</td>\n",
       "      <td>“ George look good Please follow link start re...</td>\n",
       "      <td>0.000</td>\n",
       "      <td>0.574</td>\n",
       "      <td>0.426</td>\n",
       "      <td>0.6369</td>\n",
       "    </tr>\n",
       "    <tr>\n",
       "      <th>14638</th>\n",
       "      <td>569587188687634433</td>\n",
       "      <td>negative</td>\n",
       "      <td>1.000</td>\n",
       "      <td>Customer Service Issue</td>\n",
       "      <td>0.6659</td>\n",
       "      <td>American</td>\n",
       "      <td>SraJackson</td>\n",
       "      <td>0</td>\n",
       "      <td>@AmericanAir you have my money, you change my ...</td>\n",
       "      <td>2015-02-22 11:59:02 -0800</td>\n",
       "      <td>New Jersey</td>\n",
       "      <td>Eastern Time (US &amp; Canada)</td>\n",
       "      <td>money change flight answer phones Any suggesti...</td>\n",
       "      <td>0.000</td>\n",
       "      <td>0.755</td>\n",
       "      <td>0.245</td>\n",
       "      <td>0.3818</td>\n",
       "    </tr>\n",
       "  </tbody>\n",
       "</table>\n",
       "</div>"
      ],
      "text/plain": [
       "                 tweet_id airline_sentiment  airline_sentiment_confidence  \\\n",
       "14629  569588591602458624          negative                         1.000   \n",
       "14631  569588464896876545          negative                         1.000   \n",
       "14632  569587813856841728           neutral                         0.676   \n",
       "14638  569587188687634433          negative                         1.000   \n",
       "\n",
       "               negativereason  negativereason_confidence   airline  \\\n",
       "14629  Customer Service Issue                     1.0000  American   \n",
       "14631              Bad Flight                     1.0000  American   \n",
       "14632                     NaN                     0.0000  American   \n",
       "14638  Customer Service Issue                     0.6659  American   \n",
       "\n",
       "              name  retweet_count  \\\n",
       "14629  jontgreen89              0   \n",
       "14631     MDDavis7              0   \n",
       "14632   Chad_SMFYM              0   \n",
       "14638   SraJackson              0   \n",
       "\n",
       "                                                    text  \\\n",
       "14629  @AmericanAir How do I change my flight if the ...   \n",
       "14631  @AmericanAir thx for nothing on getting us out...   \n",
       "14632  “@AmericanAir: @TilleyMonsta George, that does...   \n",
       "14638  @AmericanAir you have my money, you change my ...   \n",
       "\n",
       "                   tweet_created tweet_location               user_timezone  \\\n",
       "14629  2015-02-22 12:04:37 -0800       Waco, TX  Central Time (US & Canada)   \n",
       "14631  2015-02-22 12:04:07 -0800             US  Eastern Time (US & Canada)   \n",
       "14632  2015-02-22 12:01:31 -0800            NaN  Central Time (US & Canada)   \n",
       "14638  2015-02-22 11:59:02 -0800     New Jersey  Eastern Time (US & Canada)   \n",
       "\n",
       "                                       text_preprocessed  neg_scores  \\\n",
       "14629  How I change flight phone system keeps telling...       0.000   \n",
       "14631  thx nothing getting us country back US Broken ...       0.187   \n",
       "14632  “ George look good Please follow link start re...       0.000   \n",
       "14638  money change flight answer phones Any suggesti...       0.000   \n",
       "\n",
       "       neu_scores  pos_scores  compound_scores  \n",
       "14629       1.000       0.000           0.0000  \n",
       "14631       0.663       0.151          -0.1531  \n",
       "14632       0.574       0.426           0.6369  \n",
       "14638       0.755       0.245           0.3818  "
      ]
     },
     "execution_count": 141,
     "metadata": {},
     "output_type": "execute_result"
    }
   ],
   "source": [
    "data.tail(4)"
   ]
  },
  {
   "cell_type": "markdown",
   "metadata": {},
   "source": [
    "#### Change emoticons/Questions/Exclamation to words"
   ]
  },
  {
   "cell_type": "code",
   "execution_count": 142,
   "metadata": {},
   "outputs": [],
   "source": [
    "data['text_preprocessed_with_emoticon'] = data.text.apply(lambda x: preprocess(x, preserve_case=True, punctuation=False,emo=True))"
   ]
  },
  {
   "cell_type": "code",
   "execution_count": 143,
   "metadata": {},
   "outputs": [
    {
     "data": {
      "text/plain": [
       "'Well I … NOW I DO :-D'"
      ]
     },
     "execution_count": 143,
     "metadata": {},
     "output_type": "execute_result"
    }
   ],
   "source": [
    "data['text_preprocessed'][8]\n"
   ]
  },
  {
   "cell_type": "code",
   "execution_count": 144,
   "metadata": {},
   "outputs": [
    {
     "data": {
      "text/plain": [
       "'Well I … NOW I DO happy'"
      ]
     },
     "execution_count": 144,
     "metadata": {},
     "output_type": "execute_result"
    }
   ],
   "source": [
    "data['text_preprocessed_with_emoticon'][8]"
   ]
  },
  {
   "cell_type": "markdown",
   "metadata": {},
   "source": [
    "### Stemming\n",
    "Stemming is another common step in text analysis. Here, I will replace words for its root based on a rule called Porter Stemmer and will be another one of my features:"
   ]
  },
  {
   "cell_type": "code",
   "execution_count": 145,
   "metadata": {},
   "outputs": [],
   "source": [
    "from nltk.stem.porter import PorterStemmer\n",
    "\n",
    "def stemming(s):\n",
    "    stemmer = PorterStemmer()\n",
    "    tokens = preprocess(s,  join=False)\n",
    "    x = [stemmer.stem(w) for w in tokens]\n",
    "    \n",
    "    return ' '.join(x)\n",
    "\n",
    "data['text_stemming'] = data.text_preprocessed.apply(lambda x: stemming(x))\n",
    "data['text_stemming_with_emoticon'] = data.text_preprocessed_with_emoticon.apply(lambda x: stemming(x))"
   ]
  },
  {
   "cell_type": "code",
   "execution_count": 146,
   "metadata": {},
   "outputs": [
    {
     "data": {
      "text/plain": [
       "'Well I … NOW I DO :-D'"
      ]
     },
     "execution_count": 146,
     "metadata": {},
     "output_type": "execute_result"
    }
   ],
   "source": [
    "data['text_preprocessed'][8]"
   ]
  },
  {
   "cell_type": "code",
   "execution_count": 147,
   "metadata": {},
   "outputs": [
    {
     "data": {
      "text/plain": [
       "'well … :-d'"
      ]
     },
     "execution_count": 147,
     "metadata": {},
     "output_type": "execute_result"
    }
   ],
   "source": [
    "data['text_stemming'][8]"
   ]
  },
  {
   "cell_type": "code",
   "execution_count": 148,
   "metadata": {},
   "outputs": [
    {
     "data": {
      "text/plain": [
       "(7252, 20)"
      ]
     },
     "execution_count": 148,
     "metadata": {},
     "output_type": "execute_result"
    }
   ],
   "source": [
    "data = data.fillna(value=0.0)\n",
    "data.shape"
   ]
  },
  {
   "cell_type": "code",
   "execution_count": 149,
   "metadata": {},
   "outputs": [
    {
     "name": "stdout",
     "output_type": "stream",
     "text": [
      "<class 'pandas.core.frame.DataFrame'>\n",
      "Int64Index: 7252 entries, 0 to 14638\n",
      "Data columns (total 20 columns):\n",
      " #   Column                           Non-Null Count  Dtype  \n",
      "---  ------                           --------------  -----  \n",
      " 0   tweet_id                         7252 non-null   int64  \n",
      " 1   airline_sentiment                7252 non-null   object \n",
      " 2   airline_sentiment_confidence     7252 non-null   float64\n",
      " 3   negativereason                   7252 non-null   object \n",
      " 4   negativereason_confidence        7252 non-null   float64\n",
      " 5   airline                          7252 non-null   object \n",
      " 6   name                             7252 non-null   object \n",
      " 7   retweet_count                    7252 non-null   int64  \n",
      " 8   text                             7252 non-null   object \n",
      " 9   tweet_created                    7252 non-null   object \n",
      " 10  tweet_location                   7252 non-null   object \n",
      " 11  user_timezone                    7252 non-null   object \n",
      " 12  text_preprocessed                7252 non-null   object \n",
      " 13  neg_scores                       7252 non-null   float64\n",
      " 14  neu_scores                       7252 non-null   float64\n",
      " 15  pos_scores                       7252 non-null   float64\n",
      " 16  compound_scores                  7252 non-null   float64\n",
      " 17  text_preprocessed_with_emoticon  7252 non-null   object \n",
      " 18  text_stemming                    7252 non-null   object \n",
      " 19  text_stemming_with_emoticon      7252 non-null   object \n",
      "dtypes: float64(6), int64(2), object(12)\n",
      "memory usage: 1.5+ MB\n"
     ]
    }
   ],
   "source": [
    "# let's see how the data set is now\n",
    "data.info()"
   ]
  },
  {
   "cell_type": "markdown",
   "metadata": {},
   "source": [
    "### With this I will now move on to my next part which is creating models."
   ]
  },
  {
   "cell_type": "code",
   "execution_count": 150,
   "metadata": {},
   "outputs": [
    {
     "name": "stdout",
     "output_type": "stream",
     "text": [
      "<class 'pandas.core.frame.DataFrame'>\n",
      "Int64Index: 7252 entries, 0 to 14638\n",
      "Data columns (total 24 columns):\n",
      " #   Column                           Non-Null Count  Dtype  \n",
      "---  ------                           --------------  -----  \n",
      " 0   tweet_id                         7252 non-null   int64  \n",
      " 1   airline_sentiment                7252 non-null   object \n",
      " 2   airline_sentiment_confidence     7252 non-null   float64\n",
      " 3   negativereason                   7252 non-null   object \n",
      " 4   negativereason_confidence        7252 non-null   float64\n",
      " 5   airline                          7252 non-null   object \n",
      " 6   name                             7252 non-null   object \n",
      " 7   retweet_count                    7252 non-null   int64  \n",
      " 8   text                             7252 non-null   object \n",
      " 9   tweet_created                    7252 non-null   object \n",
      " 10  tweet_location                   7252 non-null   object \n",
      " 11  user_timezone                    7252 non-null   object \n",
      " 12  text_preprocessed                7252 non-null   object \n",
      " 13  neg_scores                       7252 non-null   float64\n",
      " 14  neu_scores                       7252 non-null   float64\n",
      " 15  pos_scores                       7252 non-null   float64\n",
      " 16  compound_scores                  7252 non-null   float64\n",
      " 17  text_preprocessed_with_emoticon  7252 non-null   object \n",
      " 18  text_stemming                    7252 non-null   object \n",
      " 19  text_stemming_with_emoticon      7252 non-null   object \n",
      " 20  tz_Central Time (US & Canada)    7252 non-null   uint8  \n",
      " 21  tz_Eastern Time (US & Canada)    7252 non-null   uint8  \n",
      " 22  tz_Mountain Time (US & Canada)   7252 non-null   uint8  \n",
      " 23  tz_Pacific Time (US & Canada)    7252 non-null   uint8  \n",
      "dtypes: float64(6), int64(2), object(12), uint8(4)\n",
      "memory usage: 1.5+ MB\n"
     ]
    }
   ],
   "source": [
    "data.columns\n",
    "# Lets do one hot encoding for US Time Zones\n",
    "user_timezone = pd.get_dummies(data.user_timezone, prefix='tz')\n",
    "data = pd.concat([data,user_timezone], axis = 1)\n",
    "data.info()\n",
    "#data = data.drop(data.columns[[20,21,22,23,24,25,26,27,28,29,30,31,32,33,34,35]], axis=1) \n"
   ]
  },
  {
   "cell_type": "code",
   "execution_count": 151,
   "metadata": {},
   "outputs": [
    {
     "name": "stdout",
     "output_type": "stream",
     "text": [
      "<class 'pandas.core.frame.DataFrame'>\n",
      "Int64Index: 7252 entries, 0 to 14638\n",
      "Data columns (total 30 columns):\n",
      " #   Column                           Non-Null Count  Dtype  \n",
      "---  ------                           --------------  -----  \n",
      " 0   tweet_id                         7252 non-null   int64  \n",
      " 1   airline_sentiment                7252 non-null   object \n",
      " 2   airline_sentiment_confidence     7252 non-null   float64\n",
      " 3   negativereason                   7252 non-null   object \n",
      " 4   negativereason_confidence        7252 non-null   float64\n",
      " 5   airline                          7252 non-null   object \n",
      " 6   name                             7252 non-null   object \n",
      " 7   retweet_count                    7252 non-null   int64  \n",
      " 8   text                             7252 non-null   object \n",
      " 9   tweet_created                    7252 non-null   object \n",
      " 10  tweet_location                   7252 non-null   object \n",
      " 11  user_timezone                    7252 non-null   object \n",
      " 12  text_preprocessed                7252 non-null   object \n",
      " 13  neg_scores                       7252 non-null   float64\n",
      " 14  neu_scores                       7252 non-null   float64\n",
      " 15  pos_scores                       7252 non-null   float64\n",
      " 16  compound_scores                  7252 non-null   float64\n",
      " 17  text_preprocessed_with_emoticon  7252 non-null   object \n",
      " 18  text_stemming                    7252 non-null   object \n",
      " 19  text_stemming_with_emoticon      7252 non-null   object \n",
      " 20  tz_Central Time (US & Canada)    7252 non-null   uint8  \n",
      " 21  tz_Eastern Time (US & Canada)    7252 non-null   uint8  \n",
      " 22  tz_Mountain Time (US & Canada)   7252 non-null   uint8  \n",
      " 23  tz_Pacific Time (US & Canada)    7252 non-null   uint8  \n",
      " 24  al_American                      7252 non-null   uint8  \n",
      " 25  al_Delta                         7252 non-null   uint8  \n",
      " 26  al_Southwest                     7252 non-null   uint8  \n",
      " 27  al_US Airways                    7252 non-null   uint8  \n",
      " 28  al_United                        7252 non-null   uint8  \n",
      " 29  al_Virgin America                7252 non-null   uint8  \n",
      "dtypes: float64(6), int64(2), object(12), uint8(10)\n",
      "memory usage: 1.5+ MB\n"
     ]
    }
   ],
   "source": [
    "## Lets do one hot encoding for US Airlines now\n",
    "airline = pd.get_dummies(data.airline, prefix='al')\n",
    "data = pd.concat([data,airline], axis = 1)\n",
    "data.info()"
   ]
  },
  {
   "cell_type": "code",
   "execution_count": 152,
   "metadata": {},
   "outputs": [
    {
     "data": {
      "text/html": [
       "<div>\n",
       "<style scoped>\n",
       "    .dataframe tbody tr th:only-of-type {\n",
       "        vertical-align: middle;\n",
       "    }\n",
       "\n",
       "    .dataframe tbody tr th {\n",
       "        vertical-align: top;\n",
       "    }\n",
       "\n",
       "    .dataframe thead th {\n",
       "        text-align: right;\n",
       "    }\n",
       "</style>\n",
       "<table border=\"1\" class=\"dataframe\">\n",
       "  <thead>\n",
       "    <tr style=\"text-align: right;\">\n",
       "      <th></th>\n",
       "      <th>neg_scores</th>\n",
       "      <th>neu_scores</th>\n",
       "      <th>pos_scores</th>\n",
       "      <th>compound_scores</th>\n",
       "      <th>text_stemming</th>\n",
       "      <th>tz_Central Time (US &amp; Canada)</th>\n",
       "      <th>tz_Eastern Time (US &amp; Canada)</th>\n",
       "      <th>tz_Mountain Time (US &amp; Canada)</th>\n",
       "      <th>tz_Pacific Time (US &amp; Canada)</th>\n",
       "      <th>al_American</th>\n",
       "      <th>al_Delta</th>\n",
       "      <th>al_Southwest</th>\n",
       "      <th>al_US Airways</th>\n",
       "      <th>al_United</th>\n",
       "      <th>al_Virgin America</th>\n",
       "    </tr>\n",
       "  </thead>\n",
       "  <tbody>\n",
       "    <tr>\n",
       "      <th>0</th>\n",
       "      <td>0.000</td>\n",
       "      <td>1.000</td>\n",
       "      <td>0.000</td>\n",
       "      <td>0.0000</td>\n",
       "      <td>said</td>\n",
       "      <td>0</td>\n",
       "      <td>1</td>\n",
       "      <td>0</td>\n",
       "      <td>0</td>\n",
       "      <td>0</td>\n",
       "      <td>0</td>\n",
       "      <td>0</td>\n",
       "      <td>0</td>\n",
       "      <td>0</td>\n",
       "      <td>1</td>\n",
       "    </tr>\n",
       "    <tr>\n",
       "      <th>1</th>\n",
       "      <td>0.000</td>\n",
       "      <td>1.000</td>\n",
       "      <td>0.000</td>\n",
       "      <td>0.0000</td>\n",
       "      <td>plu ad commerci experi tacki</td>\n",
       "      <td>0</td>\n",
       "      <td>0</td>\n",
       "      <td>0</td>\n",
       "      <td>1</td>\n",
       "      <td>0</td>\n",
       "      <td>0</td>\n",
       "      <td>0</td>\n",
       "      <td>0</td>\n",
       "      <td>0</td>\n",
       "      <td>1</td>\n",
       "    </tr>\n",
       "    <tr>\n",
       "      <th>2</th>\n",
       "      <td>0.000</td>\n",
       "      <td>1.000</td>\n",
       "      <td>0.000</td>\n",
       "      <td>0.0000</td>\n",
       "      <td>today must mean need take anoth trip</td>\n",
       "      <td>1</td>\n",
       "      <td>0</td>\n",
       "      <td>0</td>\n",
       "      <td>0</td>\n",
       "      <td>0</td>\n",
       "      <td>0</td>\n",
       "      <td>0</td>\n",
       "      <td>0</td>\n",
       "      <td>0</td>\n",
       "      <td>1</td>\n",
       "    </tr>\n",
       "    <tr>\n",
       "      <th>3</th>\n",
       "      <td>0.369</td>\n",
       "      <td>0.430</td>\n",
       "      <td>0.201</td>\n",
       "      <td>-0.3306</td>\n",
       "      <td>realli aggress blast obnoxi entertain guest fa...</td>\n",
       "      <td>0</td>\n",
       "      <td>0</td>\n",
       "      <td>0</td>\n",
       "      <td>1</td>\n",
       "      <td>0</td>\n",
       "      <td>0</td>\n",
       "      <td>0</td>\n",
       "      <td>0</td>\n",
       "      <td>0</td>\n",
       "      <td>1</td>\n",
       "    </tr>\n",
       "    <tr>\n",
       "      <th>4</th>\n",
       "      <td>0.557</td>\n",
       "      <td>0.443</td>\n",
       "      <td>0.000</td>\n",
       "      <td>-0.5829</td>\n",
       "      <td>realli big bad thing</td>\n",
       "      <td>0</td>\n",
       "      <td>0</td>\n",
       "      <td>0</td>\n",
       "      <td>1</td>\n",
       "      <td>0</td>\n",
       "      <td>0</td>\n",
       "      <td>0</td>\n",
       "      <td>0</td>\n",
       "      <td>0</td>\n",
       "      <td>1</td>\n",
       "    </tr>\n",
       "  </tbody>\n",
       "</table>\n",
       "</div>"
      ],
      "text/plain": [
       "   neg_scores  neu_scores  pos_scores  compound_scores  \\\n",
       "0       0.000       1.000       0.000           0.0000   \n",
       "1       0.000       1.000       0.000           0.0000   \n",
       "2       0.000       1.000       0.000           0.0000   \n",
       "3       0.369       0.430       0.201          -0.3306   \n",
       "4       0.557       0.443       0.000          -0.5829   \n",
       "\n",
       "                                       text_stemming  \\\n",
       "0                                               said   \n",
       "1                       plu ad commerci experi tacki   \n",
       "2               today must mean need take anoth trip   \n",
       "3  realli aggress blast obnoxi entertain guest fa...   \n",
       "4                               realli big bad thing   \n",
       "\n",
       "   tz_Central Time (US & Canada)  tz_Eastern Time (US & Canada)  \\\n",
       "0                              0                              1   \n",
       "1                              0                              0   \n",
       "2                              1                              0   \n",
       "3                              0                              0   \n",
       "4                              0                              0   \n",
       "\n",
       "   tz_Mountain Time (US & Canada)  tz_Pacific Time (US & Canada)  al_American  \\\n",
       "0                               0                              0            0   \n",
       "1                               0                              1            0   \n",
       "2                               0                              0            0   \n",
       "3                               0                              1            0   \n",
       "4                               0                              1            0   \n",
       "\n",
       "   al_Delta  al_Southwest  al_US Airways  al_United  al_Virgin America  \n",
       "0         0             0              0          0                  1  \n",
       "1         0             0              0          0                  1  \n",
       "2         0             0              0          0                  1  \n",
       "3         0             0              0          0                  1  \n",
       "4         0             0              0          0                  1  "
      ]
     },
     "execution_count": 152,
     "metadata": {},
     "output_type": "execute_result"
    }
   ],
   "source": [
    "## Seperate out Features and Target Variables\n",
    "\n",
    "label = ['airline_sentiment']\n",
    "columns = list(data.select_dtypes('uint8').columns)\n",
    "features = ['text_stemming', 'neu_scores', 'neg_scores', 'compound_scores', 'pos_scores'] + columns\n",
    "X = data[[col for col in data.columns if col in features]]\n",
    "y = data[label]\n",
    "X.head()"
   ]
  },
  {
   "cell_type": "code",
   "execution_count": 153,
   "metadata": {},
   "outputs": [
    {
     "name": "stdout",
     "output_type": "stream",
     "text": [
      "Shapes are (5076, 15) and (2176, 15)\n"
     ]
    }
   ],
   "source": [
    "# train_test_split\n",
    "from sklearn.model_selection import train_test_split\n",
    "\n",
    "X_train, X_test, y_train, y_test = train_test_split(X, y, test_size=0.30, random_state=0,stratify=y)\n",
    "\n",
    "print(\"Shapes are {} and {}\".format(X_train.shape, X_test.shape))"
   ]
  },
  {
   "cell_type": "markdown",
   "metadata": {},
   "source": [
    "## Now I will use Mutual Information Library as a curiousity to find out what are my most important Features"
   ]
  },
  {
   "cell_type": "code",
   "execution_count": 155,
   "metadata": {},
   "outputs": [],
   "source": [
    "Import TfidfVectorizer\n",
    "from sklearn.feature_extraction.text import TfidfVectorizer\n",
    "\n",
    "# Initialize a TfidfVectorizer object: tfidf_vectorizer\n",
    "tfidf_vectorizer = TfidfVectorizer(stop_words=\"english\" , max_df=0.7)\n",
    "# Transform the training data: tfidf_train \n",
    "X_train['tfidf_train'] = tfidf_vectorizer.fit_transform(X_train['text_stemming'])\n",
    "# Transform the test data: tfidf_test \n",
    "X_test['tfidf_test'] = tfidf_vectorizer.transform(X_test['text_stemming'])\n"
   ]
  },
  {
   "cell_type": "code",
   "execution_count": 156,
   "metadata": {},
   "outputs": [
    {
     "name": "stderr",
     "output_type": "stream",
     "text": [
      "C:\\Users\\nisaurab\\Anaconda3\\lib\\site-packages\\sklearn\\utils\\validation.py:760: DataConversionWarning: A column-vector y was passed when a 1d array was expected. Please change the shape of y to (n_samples, ), for example using ravel().\n",
      "  y = column_or_1d(y, warn=True)\n"
     ]
    },
    {
     "data": {
      "text/plain": [
       "array([2.49661778e-01, 1.62412343e-01, 2.75504301e-01, 2.95422358e-01,\n",
       "       1.15220900e-04, 8.31449279e-05, 6.85884810e-06, 1.44539175e-04,\n",
       "       2.80750567e-03, 1.19601913e-02, 8.34961896e-03, 1.12279304e-02,\n",
       "       5.50396194e-03, 5.51554268e-03])"
      ]
     },
     "execution_count": 156,
     "metadata": {},
     "output_type": "execute_result"
    }
   ],
   "source": [
    "from sklearn.feature_selection import mutual_info_classif\n",
    "features_n = ['neu_scores', 'neg_scores', 'compound_scores',  'pos_scores'] + columns\n",
    "X_train[features_n]\n",
    "mutual_info_classif(X_train[features_n], y_train, discrete_features=True)"
   ]
  },
  {
   "cell_type": "code",
   "execution_count": 157,
   "metadata": {},
   "outputs": [],
   "source": [
    "from sklearn.base import BaseEstimator, TransformerMixin\n",
    "\n",
    "class TextSelector(BaseEstimator, TransformerMixin):\n",
    "    \"\"\"\n",
    "    Using inheritance to create my function to return one text column\n",
    "    \"\"\"\n",
    "    def __init__(self, key):\n",
    "        self.key = key\n",
    "    def fit(self, X, y=None):\n",
    "        return self\n",
    "    def transform(self, X):\n",
    "        return X[self.key]\n",
    "    \n",
    "class NumberSelector(BaseEstimator, TransformerMixin):\n",
    "    \"\"\"\n",
    "        Using inheritance to create my function to return one numeric column\n",
    "    \"\"\"\n",
    "    def __init__(self, key):\n",
    "        self.key = key\n",
    "    def fit(self, X, y=None):\n",
    "        return self\n",
    "    def transform(self, X):\n",
    "        return X[[self.key]]"
   ]
  },
  {
   "cell_type": "markdown",
   "metadata": {},
   "source": [
    "# Defining Pipelines"
   ]
  },
  {
   "cell_type": "markdown",
   "metadata": {},
   "source": [
    "## We will test our classifier with two types of text processors, tfidf and countVectorizer.\n"
   ]
  },
  {
   "cell_type": "code",
   "execution_count": 158,
   "metadata": {},
   "outputs": [],
   "source": [
    "\n",
    "from sklearn.pipeline import Pipeline\n",
    "from sklearn.feature_extraction.text import TfidfVectorizer, HashingVectorizer, CountVectorizer\n",
    "\n",
    "tfidf = Pipeline([\n",
    "                ('selector', TextSelector(key='text_stemming')),\n",
    "                ('tfidf', TfidfVectorizer())\n",
    "            ])\n",
    "\n",
    "countvect = Pipeline([\n",
    "                ('selector', TextSelector(key='text_stemming')),\n",
    "                ('countvect', CountVectorizer())\n",
    "            ])"
   ]
  },
  {
   "cell_type": "code",
   "execution_count": 159,
   "metadata": {},
   "outputs": [],
   "source": [
    "from sklearn.preprocessing import MinMaxScaler\n",
    "\n",
    "neu_scores =  Pipeline([\n",
    "                ('selector', NumberSelector(key='neu_scores')),\n",
    "                ('minmax', MinMaxScaler())\n",
    "            ])\n",
    "neg_scores =  Pipeline([\n",
    "                ('selector', NumberSelector(key='neg_scores')),\n",
    "                ('minmax', MinMaxScaler())\n",
    "            ])\n",
    "pos_scores =  Pipeline([\n",
    "                ('selector', NumberSelector(key='pos_scores')),\n",
    "                ('minmax', MinMaxScaler())\n",
    "            ])\n",
    "\n",
    "compound_scores =  Pipeline([\n",
    "                ('selector', NumberSelector(key='compound_scores')),\n",
    "                ('minmax', MinMaxScaler())\n",
    "            ])"
   ]
  },
  {
   "cell_type": "code",
   "execution_count": 160,
   "metadata": {},
   "outputs": [],
   "source": [
    "from sklearn.pipeline import FeatureUnion\n",
    "\n",
    "# using featureuning to combine horizontly all outputs from dif pipelines\n",
    "def features_union(textProcessor):\n",
    "    return FeatureUnion([('text', textProcessor), \n",
    "                      ('neu_scores', neu_scores),\n",
    "                      ('neg_scores', neg_scores),\n",
    "                      ('pos_scores', pos_scores),\n",
    "                      ('compound_scores', compound_scores)])"
   ]
  },
  {
   "cell_type": "code",
   "execution_count": 161,
   "metadata": {},
   "outputs": [
    {
     "data": {
      "text/plain": [
       "((5076, 15), (2176, 15))"
      ]
     },
     "execution_count": 161,
     "metadata": {},
     "output_type": "execute_result"
    }
   ],
   "source": [
    "from sklearn.preprocessing import LabelEncoder\n",
    "## Using labelencoder to change y column to numeric value\n",
    "le = LabelEncoder().fit(y_train.values.ravel())\n",
    "\n",
    "y_train = le.transform(y_train.values.ravel())\n",
    "y_test = le.transform(y_test.values.ravel())\n",
    "\n",
    "X_train.shape, X_test.shape"
   ]
  },
  {
   "cell_type": "code",
   "execution_count": 162,
   "metadata": {},
   "outputs": [
    {
     "data": {
      "text/plain": [
       "['negative', 'neutral', 'positive']"
      ]
     },
     "execution_count": 162,
     "metadata": {},
     "output_type": "execute_result"
    }
   ],
   "source": [
    "list(le.inverse_transform([0, 1, 2]))"
   ]
  },
  {
   "cell_type": "markdown",
   "metadata": {},
   "source": [
    "## Now I will give a try to few models without CV, to get a feeling of how they perform"
   ]
  },
  {
   "cell_type": "code",
   "execution_count": 163,
   "metadata": {},
   "outputs": [
    {
     "data": {
      "text/plain": [
       "0.7545955882352942"
      ]
     },
     "execution_count": 163,
     "metadata": {},
     "output_type": "execute_result"
    }
   ],
   "source": [
    "from sklearn.naive_bayes import MultinomialNB\n",
    "\n",
    "clf = MultinomialNB()\n",
    "features_count = features_union(countvect)\n",
    "nb_pipeline = Pipeline([('features', features_count),\n",
    "                       ('nb', clf)])\n",
    "nb_pipeline.fit(X_train, y_train)\n",
    "nb_pipeline.score(X_test, y_test)"
   ]
  },
  {
   "cell_type": "code",
   "execution_count": 164,
   "metadata": {},
   "outputs": [
    {
     "data": {
      "text/plain": [
       "0.6760110294117647"
      ]
     },
     "execution_count": 164,
     "metadata": {},
     "output_type": "execute_result"
    }
   ],
   "source": [
    "\n",
    "features_tfidf = features_union(tfidf)\n",
    "nb_pipeline = Pipeline([('features', features_tfidf),\n",
    "                       ('nb', clf)])\n",
    "nb_pipeline.fit(X_train, y_train)\n",
    "nb_pipeline.score(X_test, y_test)"
   ]
  },
  {
   "cell_type": "code",
   "execution_count": 165,
   "metadata": {},
   "outputs": [
    {
     "data": {
      "text/plain": [
       "0.7743566176470589"
      ]
     },
     "execution_count": 165,
     "metadata": {},
     "output_type": "execute_result"
    }
   ],
   "source": [
    "from sklearn.svm import LinearSVC\n",
    "\n",
    "svm = LinearSVC()\n",
    "\n",
    "features_tfidf = features_union(tfidf)\n",
    "svm_pipeline = Pipeline([('features', features_tfidf),\n",
    "                       ('svm', svm)])\n",
    "svm_pipeline.fit(X_train, y_train)\n",
    "svm_pipeline.score(X_test, y_test)"
   ]
  },
  {
   "cell_type": "code",
   "execution_count": 166,
   "metadata": {},
   "outputs": [
    {
     "data": {
      "text/plain": [
       "0.7522977941176471"
      ]
     },
     "execution_count": 166,
     "metadata": {},
     "output_type": "execute_result"
    }
   ],
   "source": [
    "from sklearn.svm import LinearSVC\n",
    "\n",
    "svm = LinearSVC()\n",
    "\n",
    "features_tfidf = features_union(countvect)\n",
    "svm_pipeline = Pipeline([('features', features_tfidf),\n",
    "                       ('svm', svm)])\n",
    "svm_pipeline.fit(X_train, y_train)\n",
    "svm_pipeline.score(X_test, y_test)"
   ]
  },
  {
   "cell_type": "code",
   "execution_count": 175,
   "metadata": {},
   "outputs": [
    {
     "data": {
      "image/png": "[encoded data removed]",
      "text/plain": [
       "<Figure size 432x288 with 1 Axes>"
      ]
     },
     "metadata": {
      "needs_background": "light"
     },
     "output_type": "display_data"
    }
   ],
   "source": [
    "## Lets check feature importance \n",
    "def f_importances(coef, names):\n",
    "    imp = coef\n",
    "    imp,names = zip(*sorted(zip(imp,names)))\n",
    "    plt.barh(range(len(names)), imp, align='center')\n",
    "    plt.yticks(range(len(names)), names)\n",
    "    plt.show()\n",
    "\n",
    "f_importances(svm.coef_[0], features)"
   ]
  },
  {
   "cell_type": "code",
   "execution_count": 168,
   "metadata": {},
   "outputs": [
    {
     "data": {
      "text/plain": [
       "0.7541360294117647"
      ]
     },
     "execution_count": 168,
     "metadata": {},
     "output_type": "execute_result"
    }
   ],
   "source": [
    "from sklearn.ensemble import RandomForestClassifier\n",
    "\n",
    "rf = RandomForestClassifier(n_estimators = 100)\n",
    "rf_pipeline = Pipeline([('features', features_count),\n",
    "                       ('rf', rf)])\n",
    "\n",
    "rf_pipeline.fit(X_train, y_train)\n",
    "rf_pipeline.score(X_test, y_test)"
   ]
  },
  {
   "cell_type": "code",
   "execution_count": 169,
   "metadata": {},
   "outputs": [],
   "source": [
    "#len(X_train.columns)\n",
    "#len(rf.feature_importances_)"
   ]
  },
  {
   "cell_type": "markdown",
   "metadata": {},
   "source": [
    "## Cross-Validation"
   ]
  },
  {
   "cell_type": "markdown",
   "metadata": {},
   "source": [
    "## Now I will go for Cross Validation for different models. Things I plan to do for each model will be \n",
    "    \n",
    "###        1. Get the Best performing Parameters\n",
    "###        2. Generate Confusion Matrix\n",
    "###        3. Generate Classification Report\n",
    "### Considering this is multiclass classification I will look for Weighted F1 Sore for Model Performance "
   ]
  },
  {
   "cell_type": "code",
   "execution_count": 77,
   "metadata": {},
   "outputs": [],
   "source": [
    "import numpy as np\n",
    "\n",
    "\n",
    "def plot_confusion_matrix(cm,\n",
    "                          target_names,\n",
    "                          title='Confusion matrix',\n",
    "                          cmap=None,\n",
    "                          normalize=True):\n",
    "    \"\"\"\n",
    "    given a sklearn confusion matrix (cm), make a nice plot\n",
    "\n",
    "    Arguments\n",
    "    ---------\n",
    "    cm:           confusion matrix from sklearn.metrics.confusion_matrix\n",
    "\n",
    "    target_names: given classification classes such as [0, 1, 2]\n",
    "                  the class names, for example: ['high', 'medium', 'low']\n",
    "\n",
    "    title:        the text to display at the top of the matrix\n",
    "\n",
    "    cmap:         the gradient of the values displayed from matplotlib.pyplot.cm\n",
    "                  see http://matplotlib.org/examples/color/colormaps_reference.html\n",
    "                  plt.get_cmap('jet') or plt.cm.Blues\n",
    "\n",
    "    normalize:    If False, plot the raw numbers\n",
    "                  If True, plot the proportions\n",
    "\n",
    "    Usage\n",
    "    -----\n",
    "    plot_confusion_matrix(cm           = cm,                  # confusion matrix created by\n",
    "                                                              # sklearn.metrics.confusion_matrix\n",
    "                          normalize    = True,                # show proportions\n",
    "                          target_names = y_labels_vals,       # list of names of the classes\n",
    "                          title        = best_estimator_name) # title of graph\n",
    "\n",
    "    Citiation\n",
    "    ---------\n",
    "    http://scikit-learn.org/stable/auto_examples/model_selection/plot_confusion_matrix.html\n",
    "\n",
    "    \"\"\"\n",
    "    import matplotlib.pyplot as plt\n",
    "    import numpy as np\n",
    "    import itertools\n",
    "\n",
    "    accuracy = np.trace(cm) / float(np.sum(cm))\n",
    "    misclass = 1 - accuracy\n",
    "\n",
    "    if cmap is None:\n",
    "        cmap = plt.get_cmap('Blues')\n",
    "\n",
    "    plt.figure(figsize=(8, 6))\n",
    "    plt.imshow(cm, interpolation='nearest', cmap=cmap)\n",
    "    plt.title(title)\n",
    "    plt.colorbar()\n",
    "\n",
    "    if target_names is not None:\n",
    "        tick_marks = np.arange(len(target_names))\n",
    "        plt.xticks(tick_marks, target_names, rotation=45)\n",
    "        plt.yticks(tick_marks, target_names)\n",
    "\n",
    "    if normalize:\n",
    "        cm = cm.astype('float') / cm.sum(axis=1)[:, np.newaxis]\n",
    "\n",
    "\n",
    "    thresh = cm.max() / 1.5 if normalize else cm.max() / 2\n",
    "    for i, j in itertools.product(range(cm.shape[0]), range(cm.shape[1])):\n",
    "        if normalize:\n",
    "            plt.text(j, i, \"{:0.4f}\".format(cm[i, j]),\n",
    "                     horizontalalignment=\"center\",\n",
    "                     color=\"white\" if cm[i, j] > thresh else \"black\")\n",
    "        else:\n",
    "            plt.text(j, i, \"{:,}\".format(cm[i, j]),\n",
    "                     horizontalalignment=\"center\",\n",
    "                     color=\"white\" if cm[i, j] > thresh else \"black\")\n",
    "\n",
    "\n",
    "    plt.tight_layout()\n",
    "    plt.ylabel('True label')\n",
    "    plt.xlabel('Predicted label\\naccuracy={:0.4f}; misclass={:0.4f}'.format(accuracy, misclass))\n",
    "    plt.show()"
   ]
  },
  {
   "cell_type": "code",
   "execution_count": 89,
   "metadata": {},
   "outputs": [
    {
     "data": {
      "text/plain": [
       "0.7748161764705882"
      ]
     },
     "execution_count": 89,
     "metadata": {},
     "output_type": "execute_result"
    }
   ],
   "source": [
    "# cross-validation for Naive Bayes Classifier\n",
    "from sklearn.model_selection import GridSearchCV\n",
    "\n",
    "features_tfidf = features_union(tfidf)\n",
    "\n",
    "nb_pipeline = Pipeline([('feats', features_tfidf),  ('clf', MultinomialNB())])\n",
    "parameters = {\n",
    "    'feats__text__tfidf__max_df': (0.5, 0.75, 1.0),\n",
    "    'feats__text__tfidf__ngram_range': ((1, 1), (1, 2), (2, 2)), \n",
    "    'feats__text__tfidf__use_idf': (False, True),\n",
    "    'feats__text__tfidf__binary':(False, True),\n",
    "    'feats__text__tfidf__binary':('l1', 'l2', None),\n",
    "   ## 'clf__alpha': (10, 100, 500, 1000), - Best Param 10 - 0.6392463235294118\n",
    "   ## 'clf__alpha': (1.0, 5.0, 10.0), - Best Param 1 - 0.7545955882352942\n",
    "    'clf__alpha': (0.1, 0.5, 0.6, 1),\n",
    "    'clf__fit_prior': (True, False),                               \n",
    "}\n",
    "\n",
    "nb_gs = GridSearchCV(nb_pipeline, parameters, cv=3)\n",
    "nb_gs.fit(X_train, y_train)\n",
    "nb_gs.score(X_test, y_test)"
   ]
  },
  {
   "cell_type": "code",
   "execution_count": 90,
   "metadata": {},
   "outputs": [
    {
     "name": "stdout",
     "output_type": "stream",
     "text": [
      "Best params: {'clf__alpha': 0.5, 'clf__fit_prior': False, 'feats__text__tfidf__binary': None, 'feats__text__tfidf__max_df': 0.5, 'feats__text__tfidf__ngram_range': (1, 1), 'feats__text__tfidf__use_idf': False}\n"
     ]
    },
    {
     "data": {
      "text/html": [
       "<div>\n",
       "<style scoped>\n",
       "    .dataframe tbody tr th:only-of-type {\n",
       "        vertical-align: middle;\n",
       "    }\n",
       "\n",
       "    .dataframe tbody tr th {\n",
       "        vertical-align: top;\n",
       "    }\n",
       "\n",
       "    .dataframe thead th {\n",
       "        text-align: right;\n",
       "    }\n",
       "</style>\n",
       "<table border=\"1\" class=\"dataframe\">\n",
       "  <thead>\n",
       "    <tr style=\"text-align: right;\">\n",
       "      <th></th>\n",
       "      <th>mean_fit_time</th>\n",
       "      <th>std_fit_time</th>\n",
       "      <th>mean_score_time</th>\n",
       "      <th>std_score_time</th>\n",
       "      <th>param_clf__alpha</th>\n",
       "      <th>param_clf__fit_prior</th>\n",
       "      <th>param_feats__text__tfidf__binary</th>\n",
       "      <th>param_feats__text__tfidf__max_df</th>\n",
       "      <th>param_feats__text__tfidf__ngram_range</th>\n",
       "      <th>param_feats__text__tfidf__use_idf</th>\n",
       "      <th>params</th>\n",
       "      <th>split0_test_score</th>\n",
       "      <th>split1_test_score</th>\n",
       "      <th>split2_test_score</th>\n",
       "      <th>mean_test_score</th>\n",
       "      <th>std_test_score</th>\n",
       "      <th>rank_test_score</th>\n",
       "    </tr>\n",
       "  </thead>\n",
       "  <tbody>\n",
       "    <tr>\n",
       "      <th>0</th>\n",
       "      <td>0.108753</td>\n",
       "      <td>0.012139</td>\n",
       "      <td>0.054526</td>\n",
       "      <td>0.003497</td>\n",
       "      <td>0.1</td>\n",
       "      <td>True</td>\n",
       "      <td>l1</td>\n",
       "      <td>0.5</td>\n",
       "      <td>(1, 1)</td>\n",
       "      <td>False</td>\n",
       "      <td>{'clf__alpha': 0.1, 'clf__fit_prior': True, 'f...</td>\n",
       "      <td>0.738180</td>\n",
       "      <td>0.742908</td>\n",
       "      <td>0.737589</td>\n",
       "      <td>0.739559</td>\n",
       "      <td>0.002380</td>\n",
       "      <td>61</td>\n",
       "    </tr>\n",
       "    <tr>\n",
       "      <th>1</th>\n",
       "      <td>0.120316</td>\n",
       "      <td>0.002577</td>\n",
       "      <td>0.056633</td>\n",
       "      <td>0.002942</td>\n",
       "      <td>0.1</td>\n",
       "      <td>True</td>\n",
       "      <td>l1</td>\n",
       "      <td>0.5</td>\n",
       "      <td>(1, 1)</td>\n",
       "      <td>True</td>\n",
       "      <td>{'clf__alpha': 0.1, 'clf__fit_prior': True, 'f...</td>\n",
       "      <td>0.728723</td>\n",
       "      <td>0.731678</td>\n",
       "      <td>0.731087</td>\n",
       "      <td>0.730496</td>\n",
       "      <td>0.001277</td>\n",
       "      <td>82</td>\n",
       "    </tr>\n",
       "    <tr>\n",
       "      <th>2</th>\n",
       "      <td>0.253799</td>\n",
       "      <td>0.002596</td>\n",
       "      <td>0.082093</td>\n",
       "      <td>0.000921</td>\n",
       "      <td>0.1</td>\n",
       "      <td>True</td>\n",
       "      <td>l1</td>\n",
       "      <td>0.5</td>\n",
       "      <td>(1, 2)</td>\n",
       "      <td>False</td>\n",
       "      <td>{'clf__alpha': 0.1, 'clf__fit_prior': True, 'f...</td>\n",
       "      <td>0.718676</td>\n",
       "      <td>0.729314</td>\n",
       "      <td>0.714539</td>\n",
       "      <td>0.720843</td>\n",
       "      <td>0.006224</td>\n",
       "      <td>118</td>\n",
       "    </tr>\n",
       "    <tr>\n",
       "      <th>3</th>\n",
       "      <td>0.261980</td>\n",
       "      <td>0.000567</td>\n",
       "      <td>0.085815</td>\n",
       "      <td>0.003687</td>\n",
       "      <td>0.1</td>\n",
       "      <td>True</td>\n",
       "      <td>l1</td>\n",
       "      <td>0.5</td>\n",
       "      <td>(1, 2)</td>\n",
       "      <td>True</td>\n",
       "      <td>{'clf__alpha': 0.1, 'clf__fit_prior': True, 'f...</td>\n",
       "      <td>0.719858</td>\n",
       "      <td>0.735816</td>\n",
       "      <td>0.716312</td>\n",
       "      <td>0.723995</td>\n",
       "      <td>0.008483</td>\n",
       "      <td>109</td>\n",
       "    </tr>\n",
       "    <tr>\n",
       "      <th>4</th>\n",
       "      <td>0.204006</td>\n",
       "      <td>0.003552</td>\n",
       "      <td>0.064529</td>\n",
       "      <td>0.002601</td>\n",
       "      <td>0.1</td>\n",
       "      <td>True</td>\n",
       "      <td>l1</td>\n",
       "      <td>0.5</td>\n",
       "      <td>(2, 2)</td>\n",
       "      <td>False</td>\n",
       "      <td>{'clf__alpha': 0.1, 'clf__fit_prior': True, 'f...</td>\n",
       "      <td>0.674941</td>\n",
       "      <td>0.681442</td>\n",
       "      <td>0.669622</td>\n",
       "      <td>0.675335</td>\n",
       "      <td>0.004834</td>\n",
       "      <td>238</td>\n",
       "    </tr>\n",
       "    <tr>\n",
       "      <th>...</th>\n",
       "      <td>...</td>\n",
       "      <td>...</td>\n",
       "      <td>...</td>\n",
       "      <td>...</td>\n",
       "      <td>...</td>\n",
       "      <td>...</td>\n",
       "      <td>...</td>\n",
       "      <td>...</td>\n",
       "      <td>...</td>\n",
       "      <td>...</td>\n",
       "      <td>...</td>\n",
       "      <td>...</td>\n",
       "      <td>...</td>\n",
       "      <td>...</td>\n",
       "      <td>...</td>\n",
       "      <td>...</td>\n",
       "      <td>...</td>\n",
       "    </tr>\n",
       "    <tr>\n",
       "      <th>427</th>\n",
       "      <td>0.118303</td>\n",
       "      <td>0.001754</td>\n",
       "      <td>0.058693</td>\n",
       "      <td>0.001215</td>\n",
       "      <td>1</td>\n",
       "      <td>False</td>\n",
       "      <td>None</td>\n",
       "      <td>1</td>\n",
       "      <td>(1, 1)</td>\n",
       "      <td>True</td>\n",
       "      <td>{'clf__alpha': 1, 'clf__fit_prior': False, 'fe...</td>\n",
       "      <td>0.731678</td>\n",
       "      <td>0.739362</td>\n",
       "      <td>0.736998</td>\n",
       "      <td>0.736013</td>\n",
       "      <td>0.003213</td>\n",
       "      <td>73</td>\n",
       "    </tr>\n",
       "    <tr>\n",
       "      <th>428</th>\n",
       "      <td>0.249049</td>\n",
       "      <td>0.005285</td>\n",
       "      <td>0.078470</td>\n",
       "      <td>0.006464</td>\n",
       "      <td>1</td>\n",
       "      <td>False</td>\n",
       "      <td>None</td>\n",
       "      <td>1</td>\n",
       "      <td>(1, 2)</td>\n",
       "      <td>False</td>\n",
       "      <td>{'clf__alpha': 1, 'clf__fit_prior': False, 'fe...</td>\n",
       "      <td>0.663712</td>\n",
       "      <td>0.664303</td>\n",
       "      <td>0.662530</td>\n",
       "      <td>0.663515</td>\n",
       "      <td>0.000737</td>\n",
       "      <td>307</td>\n",
       "    </tr>\n",
       "    <tr>\n",
       "      <th>429</th>\n",
       "      <td>0.252851</td>\n",
       "      <td>0.001547</td>\n",
       "      <td>0.086087</td>\n",
       "      <td>0.001291</td>\n",
       "      <td>1</td>\n",
       "      <td>False</td>\n",
       "      <td>None</td>\n",
       "      <td>1</td>\n",
       "      <td>(1, 2)</td>\n",
       "      <td>True</td>\n",
       "      <td>{'clf__alpha': 1, 'clf__fit_prior': False, 'fe...</td>\n",
       "      <td>0.662530</td>\n",
       "      <td>0.669622</td>\n",
       "      <td>0.665485</td>\n",
       "      <td>0.665879</td>\n",
       "      <td>0.002909</td>\n",
       "      <td>262</td>\n",
       "    </tr>\n",
       "    <tr>\n",
       "      <th>430</th>\n",
       "      <td>0.196518</td>\n",
       "      <td>0.006433</td>\n",
       "      <td>0.061927</td>\n",
       "      <td>0.000243</td>\n",
       "      <td>1</td>\n",
       "      <td>False</td>\n",
       "      <td>None</td>\n",
       "      <td>1</td>\n",
       "      <td>(2, 2)</td>\n",
       "      <td>False</td>\n",
       "      <td>{'clf__alpha': 1, 'clf__fit_prior': False, 'fe...</td>\n",
       "      <td>0.667258</td>\n",
       "      <td>0.663121</td>\n",
       "      <td>0.667258</td>\n",
       "      <td>0.665879</td>\n",
       "      <td>0.001950</td>\n",
       "      <td>262</td>\n",
       "    </tr>\n",
       "    <tr>\n",
       "      <th>431</th>\n",
       "      <td>0.208569</td>\n",
       "      <td>0.011722</td>\n",
       "      <td>0.066022</td>\n",
       "      <td>0.000943</td>\n",
       "      <td>1</td>\n",
       "      <td>False</td>\n",
       "      <td>None</td>\n",
       "      <td>1</td>\n",
       "      <td>(2, 2)</td>\n",
       "      <td>True</td>\n",
       "      <td>{'clf__alpha': 1, 'clf__fit_prior': False, 'fe...</td>\n",
       "      <td>0.670213</td>\n",
       "      <td>0.656028</td>\n",
       "      <td>0.666076</td>\n",
       "      <td>0.664106</td>\n",
       "      <td>0.005956</td>\n",
       "      <td>304</td>\n",
       "    </tr>\n",
       "  </tbody>\n",
       "</table>\n",
       "<p>432 rows × 17 columns</p>\n",
       "</div>"
      ],
      "text/plain": [
       "     mean_fit_time  std_fit_time  mean_score_time  std_score_time  \\\n",
       "0         0.108753      0.012139         0.054526        0.003497   \n",
       "1         0.120316      0.002577         0.056633        0.002942   \n",
       "2         0.253799      0.002596         0.082093        0.000921   \n",
       "3         0.261980      0.000567         0.085815        0.003687   \n",
       "4         0.204006      0.003552         0.064529        0.002601   \n",
       "..             ...           ...              ...             ...   \n",
       "427       0.118303      0.001754         0.058693        0.001215   \n",
       "428       0.249049      0.005285         0.078470        0.006464   \n",
       "429       0.252851      0.001547         0.086087        0.001291   \n",
       "430       0.196518      0.006433         0.061927        0.000243   \n",
       "431       0.208569      0.011722         0.066022        0.000943   \n",
       "\n",
       "    param_clf__alpha param_clf__fit_prior param_feats__text__tfidf__binary  \\\n",
       "0                0.1                 True                               l1   \n",
       "1                0.1                 True                               l1   \n",
       "2                0.1                 True                               l1   \n",
       "3                0.1                 True                               l1   \n",
       "4                0.1                 True                               l1   \n",
       "..               ...                  ...                              ...   \n",
       "427                1                False                             None   \n",
       "428                1                False                             None   \n",
       "429                1                False                             None   \n",
       "430                1                False                             None   \n",
       "431                1                False                             None   \n",
       "\n",
       "    param_feats__text__tfidf__max_df param_feats__text__tfidf__ngram_range  \\\n",
       "0                                0.5                                (1, 1)   \n",
       "1                                0.5                                (1, 1)   \n",
       "2                                0.5                                (1, 2)   \n",
       "3                                0.5                                (1, 2)   \n",
       "4                                0.5                                (2, 2)   \n",
       "..                               ...                                   ...   \n",
       "427                                1                                (1, 1)   \n",
       "428                                1                                (1, 2)   \n",
       "429                                1                                (1, 2)   \n",
       "430                                1                                (2, 2)   \n",
       "431                                1                                (2, 2)   \n",
       "\n",
       "    param_feats__text__tfidf__use_idf  \\\n",
       "0                               False   \n",
       "1                                True   \n",
       "2                               False   \n",
       "3                                True   \n",
       "4                               False   \n",
       "..                                ...   \n",
       "427                              True   \n",
       "428                             False   \n",
       "429                              True   \n",
       "430                             False   \n",
       "431                              True   \n",
       "\n",
       "                                                params  split0_test_score  \\\n",
       "0    {'clf__alpha': 0.1, 'clf__fit_prior': True, 'f...           0.738180   \n",
       "1    {'clf__alpha': 0.1, 'clf__fit_prior': True, 'f...           0.728723   \n",
       "2    {'clf__alpha': 0.1, 'clf__fit_prior': True, 'f...           0.718676   \n",
       "3    {'clf__alpha': 0.1, 'clf__fit_prior': True, 'f...           0.719858   \n",
       "4    {'clf__alpha': 0.1, 'clf__fit_prior': True, 'f...           0.674941   \n",
       "..                                                 ...                ...   \n",
       "427  {'clf__alpha': 1, 'clf__fit_prior': False, 'fe...           0.731678   \n",
       "428  {'clf__alpha': 1, 'clf__fit_prior': False, 'fe...           0.663712   \n",
       "429  {'clf__alpha': 1, 'clf__fit_prior': False, 'fe...           0.662530   \n",
       "430  {'clf__alpha': 1, 'clf__fit_prior': False, 'fe...           0.667258   \n",
       "431  {'clf__alpha': 1, 'clf__fit_prior': False, 'fe...           0.670213   \n",
       "\n",
       "     split1_test_score  split2_test_score  mean_test_score  std_test_score  \\\n",
       "0             0.742908           0.737589         0.739559        0.002380   \n",
       "1             0.731678           0.731087         0.730496        0.001277   \n",
       "2             0.729314           0.714539         0.720843        0.006224   \n",
       "3             0.735816           0.716312         0.723995        0.008483   \n",
       "4             0.681442           0.669622         0.675335        0.004834   \n",
       "..                 ...                ...              ...             ...   \n",
       "427           0.739362           0.736998         0.736013        0.003213   \n",
       "428           0.664303           0.662530         0.663515        0.000737   \n",
       "429           0.669622           0.665485         0.665879        0.002909   \n",
       "430           0.663121           0.667258         0.665879        0.001950   \n",
       "431           0.656028           0.666076         0.664106        0.005956   \n",
       "\n",
       "     rank_test_score  \n",
       "0                 61  \n",
       "1                 82  \n",
       "2                118  \n",
       "3                109  \n",
       "4                238  \n",
       "..               ...  \n",
       "427               73  \n",
       "428              307  \n",
       "429              262  \n",
       "430              262  \n",
       "431              304  \n",
       "\n",
       "[432 rows x 17 columns]"
      ]
     },
     "execution_count": 90,
     "metadata": {},
     "output_type": "execute_result"
    }
   ],
   "source": [
    "print('Best params: {}'.format(nb_gs.best_params_))\n",
    "nb_gs_results = pd.DataFrame(nb_gs.cv_results_)\n",
    "nb_gs_results"
   ]
  },
  {
   "cell_type": "code",
   "execution_count": 73,
   "metadata": {},
   "outputs": [
    {
     "data": {
      "image/png": "[encoded data removed]",
      "text/plain": [
       "<Figure size 576x432 with 2 Axes>"
      ]
     },
     "metadata": {
      "needs_background": "light"
     },
     "output_type": "display_data"
    }
   ],
   "source": [
    "from sklearn import metrics\n",
    "from sklearn.metrics import confusion_matrix\n",
    "#print(metrics.classification_report(Y_true, y_pred, digits=3))\n",
    "target_names = ['negative', 'neutral', 'positive']\n",
    "plot_confusion_matrix(cm           = confusion_matrix(y_test, nb_gs.best_estimator_.predict(X_test)), \n",
    "                      normalize    = False,\n",
    "                      target_names = target_names,\n",
    "                      title        = \"Confusion Matrix\")\n",
    "#print(classification_report(nb_gs.best_estimator_.predict(X_test), y_test))"
   ]
  },
  {
   "cell_type": "code",
   "execution_count": 74,
   "metadata": {},
   "outputs": [
    {
     "data": {
      "text/plain": [
       "<matplotlib.axes._subplots.AxesSubplot at 0x1678add2408>"
      ]
     },
     "execution_count": 74,
     "metadata": {},
     "output_type": "execute_result"
    },
    {
     "data": {
      "image/png": "[encoded data removed]",
      "text/plain": [
       "<Figure size 432x288 with 2 Axes>"
      ]
     },
     "metadata": {
      "needs_background": "light"
     },
     "output_type": "display_data"
    }
   ],
   "source": [
    "import numpy as np\n",
    "import seaborn as sns\n",
    "from sklearn.metrics import classification_report\n",
    "import pandas as pd\n",
    "clf_report = classification_report(y_test, nb_gs.best_estimator_.predict(X_test),\n",
    "                                   target_names=target_names,\n",
    "                                   output_dict=True)\n",
    "sns.heatmap(pd.DataFrame(clf_report).iloc[:-1, :].T, annot=True)"
   ]
  },
  {
   "cell_type": "code",
   "execution_count": 76,
   "metadata": {},
   "outputs": [
    {
     "data": {
      "text/plain": [
       "0.7890625"
      ]
     },
     "execution_count": 76,
     "metadata": {},
     "output_type": "execute_result"
    }
   ],
   "source": [
    "# cross-validation for SVM Classifier\n",
    "from sklearn.model_selection import GridSearchCV\n",
    "import warnings\n",
    "\n",
    "warnings.filterwarnings(\"ignore\")\n",
    "\n",
    "features_count = features_union(tfidf)\n",
    "svm_count_pipeline = Pipeline([('feats', features_count),  ('clf', LinearSVC())])\n",
    "parameters = {\n",
    "    'feats__text__tfidf__max_df': (0.5, 0.75, 1.0),\n",
    "    'feats__text__tfidf__ngram_range': ((1, 1), (1, 2), (2, 2)), \n",
    "    'feats__text__tfidf__use_idf': (False, True),\n",
    "    'clf__loss': ('hinge', 'squared_hinge'),\n",
    "    'clf__C': (0.1, 0.5, 0.6, 1, 4, 5, 10, 100),\n",
    "    'clf__class_weight': (None, 'balanced')                                    \n",
    "}\n",
    "\n",
    "svm_gs = GridSearchCV(svm_count_pipeline, parameters, cv=3)\n",
    "svm_gs.fit(X_train, y_train)\n",
    "svm_gs.score(X_test, y_test)\n"
   ]
  },
  {
   "cell_type": "code",
   "execution_count": null,
   "metadata": {},
   "outputs": [],
   "source": []
  },
  {
   "cell_type": "code",
   "execution_count": 171,
   "metadata": {},
   "outputs": [
    {
     "data": {
      "text/plain": [
       "0.7890625"
      ]
     },
     "execution_count": 171,
     "metadata": {},
     "output_type": "execute_result"
    }
   ],
   "source": [
    "# cross-validation for SVM Classifier\n",
    "from sklearn.model_selection import GridSearchCV\n",
    "import warnings\n",
    "\n",
    "warnings.filterwarnings(\"ignore\")\n",
    "\n",
    "features_count = features_union(tfidf)\n",
    "svm_count_pipeline = Pipeline([('feats', features_count),  ('clf', LinearSVC())])\n",
    "parameters = {\n",
    "    'feats__text__tfidf__max_df': (0.5, 0.75, 1.0),\n",
    "    'feats__text__tfidf__ngram_range': ((1, 1), (1, 2), (2, 2)), \n",
    "    'feats__text__tfidf__use_idf': (False, True),\n",
    "    'clf__loss': ('hinge', 'squared_hinge'),\n",
    "    ##'clf__C': (10, 100, 500, 1000), - Best Param 10 - 0.7748161764705882\n",
    "    ##'clf__C': (1, 5, 10), - Best Param 1 - 0.7817095588235294\n",
    "    'clf__C': (0.1, 0.5,0.6, 1), ## --Best Param 0.5 - 0.7890625\n",
    "    'clf__class_weight': (None, 'balanced')                                    \n",
    "}\n",
    "\n",
    "svm_gs = GridSearchCV(svm_count_pipeline, parameters, cv=3)\n",
    "svm_gs.fit(X_train, y_train)\n",
    "svm_gs.score(X_test, y_test)"
   ]
  },
  {
   "cell_type": "code",
   "execution_count": 174,
   "metadata": {},
   "outputs": [
    {
     "name": "stdout",
     "output_type": "stream",
     "text": [
      "Best params: {'clf__C': 0.5, 'clf__class_weight': 'balanced', 'clf__loss': 'squared_hinge', 'feats__text__tfidf__max_df': 0.5, 'feats__text__tfidf__ngram_range': (1, 2), 'feats__text__tfidf__use_idf': False}\n"
     ]
    },
    {
     "data": {
      "text/html": [
       "<div>\n",
       "<style scoped>\n",
       "    .dataframe tbody tr th:only-of-type {\n",
       "        vertical-align: middle;\n",
       "    }\n",
       "\n",
       "    .dataframe tbody tr th {\n",
       "        vertical-align: top;\n",
       "    }\n",
       "\n",
       "    .dataframe thead th {\n",
       "        text-align: right;\n",
       "    }\n",
       "</style>\n",
       "<table border=\"1\" class=\"dataframe\">\n",
       "  <thead>\n",
       "    <tr style=\"text-align: right;\">\n",
       "      <th></th>\n",
       "      <th>mean_fit_time</th>\n",
       "      <th>std_fit_time</th>\n",
       "      <th>mean_score_time</th>\n",
       "      <th>std_score_time</th>\n",
       "      <th>param_clf__C</th>\n",
       "      <th>param_clf__class_weight</th>\n",
       "      <th>param_clf__loss</th>\n",
       "      <th>param_feats__text__tfidf__max_df</th>\n",
       "      <th>param_feats__text__tfidf__ngram_range</th>\n",
       "      <th>param_feats__text__tfidf__use_idf</th>\n",
       "      <th>params</th>\n",
       "      <th>split0_test_score</th>\n",
       "      <th>split1_test_score</th>\n",
       "      <th>split2_test_score</th>\n",
       "      <th>mean_test_score</th>\n",
       "      <th>std_test_score</th>\n",
       "      <th>rank_test_score</th>\n",
       "    </tr>\n",
       "  </thead>\n",
       "  <tbody>\n",
       "    <tr>\n",
       "      <th>0</th>\n",
       "      <td>0.066505</td>\n",
       "      <td>0.007020</td>\n",
       "      <td>0.025250</td>\n",
       "      <td>0.004029</td>\n",
       "      <td>0.1</td>\n",
       "      <td>None</td>\n",
       "      <td>hinge</td>\n",
       "      <td>0.5</td>\n",
       "      <td>(1, 1)</td>\n",
       "      <td>False</td>\n",
       "      <td>{'clf__C': 0.1, 'clf__class_weight': None, 'cl...</td>\n",
       "      <td>0.710993</td>\n",
       "      <td>0.725768</td>\n",
       "      <td>0.710402</td>\n",
       "      <td>0.715721</td>\n",
       "      <td>0.007109</td>\n",
       "      <td>172</td>\n",
       "    </tr>\n",
       "    <tr>\n",
       "      <th>1</th>\n",
       "      <td>0.069801</td>\n",
       "      <td>0.009396</td>\n",
       "      <td>0.023617</td>\n",
       "      <td>0.000935</td>\n",
       "      <td>0.1</td>\n",
       "      <td>None</td>\n",
       "      <td>hinge</td>\n",
       "      <td>0.5</td>\n",
       "      <td>(1, 1)</td>\n",
       "      <td>True</td>\n",
       "      <td>{'clf__C': 0.1, 'clf__class_weight': None, 'cl...</td>\n",
       "      <td>0.708038</td>\n",
       "      <td>0.721631</td>\n",
       "      <td>0.708038</td>\n",
       "      <td>0.712569</td>\n",
       "      <td>0.006408</td>\n",
       "      <td>196</td>\n",
       "    </tr>\n",
       "    <tr>\n",
       "      <th>2</th>\n",
       "      <td>0.130677</td>\n",
       "      <td>0.016891</td>\n",
       "      <td>0.038217</td>\n",
       "      <td>0.006180</td>\n",
       "      <td>0.1</td>\n",
       "      <td>None</td>\n",
       "      <td>hinge</td>\n",
       "      <td>0.5</td>\n",
       "      <td>(1, 2)</td>\n",
       "      <td>False</td>\n",
       "      <td>{'clf__C': 0.1, 'clf__class_weight': None, 'cl...</td>\n",
       "      <td>0.709811</td>\n",
       "      <td>0.722222</td>\n",
       "      <td>0.704492</td>\n",
       "      <td>0.712175</td>\n",
       "      <td>0.007429</td>\n",
       "      <td>199</td>\n",
       "    </tr>\n",
       "    <tr>\n",
       "      <th>3</th>\n",
       "      <td>0.154267</td>\n",
       "      <td>0.017171</td>\n",
       "      <td>0.034884</td>\n",
       "      <td>0.000826</td>\n",
       "      <td>0.1</td>\n",
       "      <td>None</td>\n",
       "      <td>hinge</td>\n",
       "      <td>0.5</td>\n",
       "      <td>(1, 2)</td>\n",
       "      <td>True</td>\n",
       "      <td>{'clf__C': 0.1, 'clf__class_weight': None, 'cl...</td>\n",
       "      <td>0.705674</td>\n",
       "      <td>0.716312</td>\n",
       "      <td>0.701537</td>\n",
       "      <td>0.707841</td>\n",
       "      <td>0.006224</td>\n",
       "      <td>214</td>\n",
       "    </tr>\n",
       "    <tr>\n",
       "      <th>4</th>\n",
       "      <td>0.263962</td>\n",
       "      <td>0.030474</td>\n",
       "      <td>0.030918</td>\n",
       "      <td>0.004309</td>\n",
       "      <td>0.1</td>\n",
       "      <td>None</td>\n",
       "      <td>hinge</td>\n",
       "      <td>0.5</td>\n",
       "      <td>(2, 2)</td>\n",
       "      <td>False</td>\n",
       "      <td>{'clf__C': 0.1, 'clf__class_weight': None, 'cl...</td>\n",
       "      <td>0.693853</td>\n",
       "      <td>0.703901</td>\n",
       "      <td>0.695626</td>\n",
       "      <td>0.697794</td>\n",
       "      <td>0.004379</td>\n",
       "      <td>250</td>\n",
       "    </tr>\n",
       "    <tr>\n",
       "      <th>...</th>\n",
       "      <td>...</td>\n",
       "      <td>...</td>\n",
       "      <td>...</td>\n",
       "      <td>...</td>\n",
       "      <td>...</td>\n",
       "      <td>...</td>\n",
       "      <td>...</td>\n",
       "      <td>...</td>\n",
       "      <td>...</td>\n",
       "      <td>...</td>\n",
       "      <td>...</td>\n",
       "      <td>...</td>\n",
       "      <td>...</td>\n",
       "      <td>...</td>\n",
       "      <td>...</td>\n",
       "      <td>...</td>\n",
       "      <td>...</td>\n",
       "    </tr>\n",
       "    <tr>\n",
       "      <th>283</th>\n",
       "      <td>0.134279</td>\n",
       "      <td>0.002598</td>\n",
       "      <td>0.029962</td>\n",
       "      <td>0.002149</td>\n",
       "      <td>1</td>\n",
       "      <td>balanced</td>\n",
       "      <td>squared_hinge</td>\n",
       "      <td>1</td>\n",
       "      <td>(1, 1)</td>\n",
       "      <td>True</td>\n",
       "      <td>{'clf__C': 1, 'clf__class_weight': 'balanced',...</td>\n",
       "      <td>0.725768</td>\n",
       "      <td>0.722813</td>\n",
       "      <td>0.731087</td>\n",
       "      <td>0.726556</td>\n",
       "      <td>0.003424</td>\n",
       "      <td>166</td>\n",
       "    </tr>\n",
       "    <tr>\n",
       "      <th>284</th>\n",
       "      <td>0.227421</td>\n",
       "      <td>0.013329</td>\n",
       "      <td>0.039604</td>\n",
       "      <td>0.001332</td>\n",
       "      <td>1</td>\n",
       "      <td>balanced</td>\n",
       "      <td>squared_hinge</td>\n",
       "      <td>1</td>\n",
       "      <td>(1, 2)</td>\n",
       "      <td>False</td>\n",
       "      <td>{'clf__C': 1, 'clf__class_weight': 'balanced',...</td>\n",
       "      <td>0.757092</td>\n",
       "      <td>0.751773</td>\n",
       "      <td>0.745863</td>\n",
       "      <td>0.751576</td>\n",
       "      <td>0.004586</td>\n",
       "      <td>55</td>\n",
       "    </tr>\n",
       "    <tr>\n",
       "      <th>285</th>\n",
       "      <td>0.226062</td>\n",
       "      <td>0.006534</td>\n",
       "      <td>0.039562</td>\n",
       "      <td>0.000503</td>\n",
       "      <td>1</td>\n",
       "      <td>balanced</td>\n",
       "      <td>squared_hinge</td>\n",
       "      <td>1</td>\n",
       "      <td>(1, 2)</td>\n",
       "      <td>True</td>\n",
       "      <td>{'clf__C': 1, 'clf__class_weight': 'balanced',...</td>\n",
       "      <td>0.755910</td>\n",
       "      <td>0.750591</td>\n",
       "      <td>0.740544</td>\n",
       "      <td>0.749015</td>\n",
       "      <td>0.006372</td>\n",
       "      <td>79</td>\n",
       "    </tr>\n",
       "    <tr>\n",
       "      <th>286</th>\n",
       "      <td>0.175189</td>\n",
       "      <td>0.012967</td>\n",
       "      <td>0.031245</td>\n",
       "      <td>0.000465</td>\n",
       "      <td>1</td>\n",
       "      <td>balanced</td>\n",
       "      <td>squared_hinge</td>\n",
       "      <td>1</td>\n",
       "      <td>(2, 2)</td>\n",
       "      <td>False</td>\n",
       "      <td>{'clf__C': 1, 'clf__class_weight': 'balanced',...</td>\n",
       "      <td>0.697400</td>\n",
       "      <td>0.707447</td>\n",
       "      <td>0.712175</td>\n",
       "      <td>0.705674</td>\n",
       "      <td>0.006161</td>\n",
       "      <td>226</td>\n",
       "    </tr>\n",
       "    <tr>\n",
       "      <th>287</th>\n",
       "      <td>0.171882</td>\n",
       "      <td>0.006545</td>\n",
       "      <td>0.030903</td>\n",
       "      <td>0.000777</td>\n",
       "      <td>1</td>\n",
       "      <td>balanced</td>\n",
       "      <td>squared_hinge</td>\n",
       "      <td>1</td>\n",
       "      <td>(2, 2)</td>\n",
       "      <td>True</td>\n",
       "      <td>{'clf__C': 1, 'clf__class_weight': 'balanced',...</td>\n",
       "      <td>0.702719</td>\n",
       "      <td>0.704492</td>\n",
       "      <td>0.712175</td>\n",
       "      <td>0.706462</td>\n",
       "      <td>0.004104</td>\n",
       "      <td>223</td>\n",
       "    </tr>\n",
       "  </tbody>\n",
       "</table>\n",
       "<p>288 rows × 17 columns</p>\n",
       "</div>"
      ],
      "text/plain": [
       "     mean_fit_time  std_fit_time  mean_score_time  std_score_time  \\\n",
       "0         0.066505      0.007020         0.025250        0.004029   \n",
       "1         0.069801      0.009396         0.023617        0.000935   \n",
       "2         0.130677      0.016891         0.038217        0.006180   \n",
       "3         0.154267      0.017171         0.034884        0.000826   \n",
       "4         0.263962      0.030474         0.030918        0.004309   \n",
       "..             ...           ...              ...             ...   \n",
       "283       0.134279      0.002598         0.029962        0.002149   \n",
       "284       0.227421      0.013329         0.039604        0.001332   \n",
       "285       0.226062      0.006534         0.039562        0.000503   \n",
       "286       0.175189      0.012967         0.031245        0.000465   \n",
       "287       0.171882      0.006545         0.030903        0.000777   \n",
       "\n",
       "    param_clf__C param_clf__class_weight param_clf__loss  \\\n",
       "0            0.1                    None           hinge   \n",
       "1            0.1                    None           hinge   \n",
       "2            0.1                    None           hinge   \n",
       "3            0.1                    None           hinge   \n",
       "4            0.1                    None           hinge   \n",
       "..           ...                     ...             ...   \n",
       "283            1                balanced   squared_hinge   \n",
       "284            1                balanced   squared_hinge   \n",
       "285            1                balanced   squared_hinge   \n",
       "286            1                balanced   squared_hinge   \n",
       "287            1                balanced   squared_hinge   \n",
       "\n",
       "    param_feats__text__tfidf__max_df param_feats__text__tfidf__ngram_range  \\\n",
       "0                                0.5                                (1, 1)   \n",
       "1                                0.5                                (1, 1)   \n",
       "2                                0.5                                (1, 2)   \n",
       "3                                0.5                                (1, 2)   \n",
       "4                                0.5                                (2, 2)   \n",
       "..                               ...                                   ...   \n",
       "283                                1                                (1, 1)   \n",
       "284                                1                                (1, 2)   \n",
       "285                                1                                (1, 2)   \n",
       "286                                1                                (2, 2)   \n",
       "287                                1                                (2, 2)   \n",
       "\n",
       "    param_feats__text__tfidf__use_idf  \\\n",
       "0                               False   \n",
       "1                                True   \n",
       "2                               False   \n",
       "3                                True   \n",
       "4                               False   \n",
       "..                                ...   \n",
       "283                              True   \n",
       "284                             False   \n",
       "285                              True   \n",
       "286                             False   \n",
       "287                              True   \n",
       "\n",
       "                                                params  split0_test_score  \\\n",
       "0    {'clf__C': 0.1, 'clf__class_weight': None, 'cl...           0.710993   \n",
       "1    {'clf__C': 0.1, 'clf__class_weight': None, 'cl...           0.708038   \n",
       "2    {'clf__C': 0.1, 'clf__class_weight': None, 'cl...           0.709811   \n",
       "3    {'clf__C': 0.1, 'clf__class_weight': None, 'cl...           0.705674   \n",
       "4    {'clf__C': 0.1, 'clf__class_weight': None, 'cl...           0.693853   \n",
       "..                                                 ...                ...   \n",
       "283  {'clf__C': 1, 'clf__class_weight': 'balanced',...           0.725768   \n",
       "284  {'clf__C': 1, 'clf__class_weight': 'balanced',...           0.757092   \n",
       "285  {'clf__C': 1, 'clf__class_weight': 'balanced',...           0.755910   \n",
       "286  {'clf__C': 1, 'clf__class_weight': 'balanced',...           0.697400   \n",
       "287  {'clf__C': 1, 'clf__class_weight': 'balanced',...           0.702719   \n",
       "\n",
       "     split1_test_score  split2_test_score  mean_test_score  std_test_score  \\\n",
       "0             0.725768           0.710402         0.715721        0.007109   \n",
       "1             0.721631           0.708038         0.712569        0.006408   \n",
       "2             0.722222           0.704492         0.712175        0.007429   \n",
       "3             0.716312           0.701537         0.707841        0.006224   \n",
       "4             0.703901           0.695626         0.697794        0.004379   \n",
       "..                 ...                ...              ...             ...   \n",
       "283           0.722813           0.731087         0.726556        0.003424   \n",
       "284           0.751773           0.745863         0.751576        0.004586   \n",
       "285           0.750591           0.740544         0.749015        0.006372   \n",
       "286           0.707447           0.712175         0.705674        0.006161   \n",
       "287           0.704492           0.712175         0.706462        0.004104   \n",
       "\n",
       "     rank_test_score  \n",
       "0                172  \n",
       "1                196  \n",
       "2                199  \n",
       "3                214  \n",
       "4                250  \n",
       "..               ...  \n",
       "283              166  \n",
       "284               55  \n",
       "285               79  \n",
       "286              226  \n",
       "287              223  \n",
       "\n",
       "[288 rows x 17 columns]"
      ]
     },
     "execution_count": 174,
     "metadata": {},
     "output_type": "execute_result"
    }
   ],
   "source": [
    "print('Best params: {}'.format(svm_gs.best_params_))\n",
    "svm_gs_results = pd.DataFrame(svm_gs.cv_results_)\n",
    "svm_gs_results"
   ]
  },
  {
   "cell_type": "code",
   "execution_count": 77,
   "metadata": {},
   "outputs": [
    {
     "data": {
      "image/png": "[encoded data removed]",
      "text/plain": [
       "<Figure size 576x432 with 2 Axes>"
      ]
     },
     "metadata": {
      "needs_background": "light"
     },
     "output_type": "display_data"
    }
   ],
   "source": [
    "plot_confusion_matrix(cm           = confusion_matrix(y_test, svm_gs.best_estimator_.predict(X_test)), \n",
    "                      normalize    = False,\n",
    "                      target_names = target_names,\n",
    "                      title        = \"Confusion Matrix\")"
   ]
  },
  {
   "cell_type": "code",
   "execution_count": 78,
   "metadata": {},
   "outputs": [
    {
     "data": {
      "text/plain": [
       "<matplotlib.axes._subplots.AxesSubplot at 0x1678ac76e88>"
      ]
     },
     "execution_count": 78,
     "metadata": {},
     "output_type": "execute_result"
    },
    {
     "data": {
      "image/png": "[encoded data removed]",
      "text/plain": [
       "<Figure size 432x288 with 2 Axes>"
      ]
     },
     "metadata": {
      "needs_background": "light"
     },
     "output_type": "display_data"
    }
   ],
   "source": [
    "import numpy as np\n",
    "import seaborn as sns\n",
    "from sklearn.metrics import classification_report\n",
    "import pandas as pd\n",
    "clf_report = classification_report(y_test, svm_gs.best_estimator_.predict(X_test),\n",
    "                                   target_names=target_names,\n",
    "                                   output_dict=True)\n",
    "sns.heatmap(pd.DataFrame(clf_report).iloc[:-1, :].T, annot=True)"
   ]
  },
  {
   "cell_type": "code",
   "execution_count": 75,
   "metadata": {},
   "outputs": [
    {
     "name": "stdout",
     "output_type": "stream",
     "text": [
      "Best params: {'clf__alpha': 1.0, 'clf__fit_prior': False, 'feats__text__tfidf__binary': None, 'feats__text__tfidf__max_df': 0.5, 'feats__text__tfidf__ngram_range': (1, 1), 'feats__text__tfidf__use_idf': True}\n"
     ]
    },
    {
     "data": {
      "text/html": [
       "<div>\n",
       "<style scoped>\n",
       "    .dataframe tbody tr th:only-of-type {\n",
       "        vertical-align: middle;\n",
       "    }\n",
       "\n",
       "    .dataframe tbody tr th {\n",
       "        vertical-align: top;\n",
       "    }\n",
       "\n",
       "    .dataframe thead th {\n",
       "        text-align: right;\n",
       "    }\n",
       "</style>\n",
       "<table border=\"1\" class=\"dataframe\">\n",
       "  <thead>\n",
       "    <tr style=\"text-align: right;\">\n",
       "      <th></th>\n",
       "      <th>mean_fit_time</th>\n",
       "      <th>std_fit_time</th>\n",
       "      <th>mean_score_time</th>\n",
       "      <th>std_score_time</th>\n",
       "      <th>param_clf__alpha</th>\n",
       "      <th>param_clf__fit_prior</th>\n",
       "      <th>param_feats__text__tfidf__binary</th>\n",
       "      <th>param_feats__text__tfidf__max_df</th>\n",
       "      <th>param_feats__text__tfidf__ngram_range</th>\n",
       "      <th>param_feats__text__tfidf__use_idf</th>\n",
       "      <th>params</th>\n",
       "      <th>split0_test_score</th>\n",
       "      <th>split1_test_score</th>\n",
       "      <th>split2_test_score</th>\n",
       "      <th>mean_test_score</th>\n",
       "      <th>std_test_score</th>\n",
       "      <th>rank_test_score</th>\n",
       "    </tr>\n",
       "  </thead>\n",
       "  <tbody>\n",
       "    <tr>\n",
       "      <th>0</th>\n",
       "      <td>0.144894</td>\n",
       "      <td>0.107616</td>\n",
       "      <td>0.040992</td>\n",
       "      <td>0.011952</td>\n",
       "      <td>1</td>\n",
       "      <td>True</td>\n",
       "      <td>l1</td>\n",
       "      <td>0.5</td>\n",
       "      <td>(1, 1)</td>\n",
       "      <td>False</td>\n",
       "      <td>{'clf__alpha': 1.0, 'clf__fit_prior': True, 'f...</td>\n",
       "      <td>0.676123</td>\n",
       "      <td>0.677305</td>\n",
       "      <td>0.683215</td>\n",
       "      <td>0.678881</td>\n",
       "      <td>0.003102</td>\n",
       "      <td>19</td>\n",
       "    </tr>\n",
       "    <tr>\n",
       "      <th>1</th>\n",
       "      <td>0.069812</td>\n",
       "      <td>0.002444</td>\n",
       "      <td>0.034921</td>\n",
       "      <td>0.005075</td>\n",
       "      <td>1</td>\n",
       "      <td>True</td>\n",
       "      <td>l1</td>\n",
       "      <td>0.5</td>\n",
       "      <td>(1, 1)</td>\n",
       "      <td>True</td>\n",
       "      <td>{'clf__alpha': 1.0, 'clf__fit_prior': True, 'f...</td>\n",
       "      <td>0.671986</td>\n",
       "      <td>0.675532</td>\n",
       "      <td>0.678487</td>\n",
       "      <td>0.675335</td>\n",
       "      <td>0.002658</td>\n",
       "      <td>31</td>\n",
       "    </tr>\n",
       "    <tr>\n",
       "      <th>2</th>\n",
       "      <td>0.150452</td>\n",
       "      <td>0.009764</td>\n",
       "      <td>0.052877</td>\n",
       "      <td>0.004908</td>\n",
       "      <td>1</td>\n",
       "      <td>True</td>\n",
       "      <td>l1</td>\n",
       "      <td>0.5</td>\n",
       "      <td>(1, 2)</td>\n",
       "      <td>False</td>\n",
       "      <td>{'clf__alpha': 1.0, 'clf__fit_prior': True, 'f...</td>\n",
       "      <td>0.639480</td>\n",
       "      <td>0.639480</td>\n",
       "      <td>0.643617</td>\n",
       "      <td>0.640859</td>\n",
       "      <td>0.001950</td>\n",
       "      <td>118</td>\n",
       "    </tr>\n",
       "  </tbody>\n",
       "</table>\n",
       "</div>"
      ],
      "text/plain": [
       "   mean_fit_time  std_fit_time  mean_score_time  std_score_time  \\\n",
       "0       0.144894      0.107616         0.040992        0.011952   \n",
       "1       0.069812      0.002444         0.034921        0.005075   \n",
       "2       0.150452      0.009764         0.052877        0.004908   \n",
       "\n",
       "  param_clf__alpha param_clf__fit_prior param_feats__text__tfidf__binary  \\\n",
       "0                1                 True                               l1   \n",
       "1                1                 True                               l1   \n",
       "2                1                 True                               l1   \n",
       "\n",
       "  param_feats__text__tfidf__max_df param_feats__text__tfidf__ngram_range  \\\n",
       "0                              0.5                                (1, 1)   \n",
       "1                              0.5                                (1, 1)   \n",
       "2                              0.5                                (1, 2)   \n",
       "\n",
       "  param_feats__text__tfidf__use_idf  \\\n",
       "0                             False   \n",
       "1                              True   \n",
       "2                             False   \n",
       "\n",
       "                                              params  split0_test_score  \\\n",
       "0  {'clf__alpha': 1.0, 'clf__fit_prior': True, 'f...           0.676123   \n",
       "1  {'clf__alpha': 1.0, 'clf__fit_prior': True, 'f...           0.671986   \n",
       "2  {'clf__alpha': 1.0, 'clf__fit_prior': True, 'f...           0.639480   \n",
       "\n",
       "   split1_test_score  split2_test_score  mean_test_score  std_test_score  \\\n",
       "0           0.677305           0.683215         0.678881        0.003102   \n",
       "1           0.675532           0.678487         0.675335        0.002658   \n",
       "2           0.639480           0.643617         0.640859        0.001950   \n",
       "\n",
       "   rank_test_score  \n",
       "0               19  \n",
       "1               31  \n",
       "2              118  "
      ]
     },
     "execution_count": 75,
     "metadata": {},
     "output_type": "execute_result"
    }
   ],
   "source": [
    "print('Best params: {}'.format(nb_gs.best_params_))\n",
    "nb_cv_results = pd.DataFrame(nb_gs.cv_results_)\n",
    "nb_cv_results"
   ]
  },
  {
   "cell_type": "code",
   "execution_count": 172,
   "metadata": {},
   "outputs": [
    {
     "data": {
      "text/plain": [
       "0.7449448529411765"
      ]
     },
     "execution_count": 172,
     "metadata": {},
     "output_type": "execute_result"
    }
   ],
   "source": [
    "# cross-validation for RF Classifier\n",
    "features_count = features_union(tfidf)\n",
    "rf_pipeline_cv = Pipeline([('feats', features_count),  ('rf', RandomForestClassifier())])\n",
    "parameters = {\n",
    "    'feats__text__tfidf__max_df': (0.5, 1.0),\n",
    "    'feats__text__tfidf__ngram_range': ((1, 1), (1, 2)),\n",
    "    'rf__max_features': (0.5, 0.7, 1.0),\n",
    "    'rf__bootstrap': (False ,True),\n",
    "    'rf__class_weight': ('balanced', 'balanced_subsample', None),\n",
    "    'rf__n_estimators':(10, 50, 80)\n",
    "}\n",
    "\n",
    "rf_gs = GridSearchCV(rf_pipeline_cv, parameters, cv=3)\n",
    "rf_gs.fit(X_train, y_train)\n",
    "rf_gs.score(X_test, y_test)"
   ]
  },
  {
   "cell_type": "code",
   "execution_count": 173,
   "metadata": {},
   "outputs": [
    {
     "name": "stdout",
     "output_type": "stream",
     "text": [
      "Best params: {'feats__text__tfidf__max_df': 1.0, 'feats__text__tfidf__ngram_range': (1, 1), 'rf__bootstrap': True, 'rf__class_weight': None, 'rf__max_features': 0.7, 'rf__n_estimators': 50}\n"
     ]
    },
    {
     "data": {
      "text/html": [
       "<div>\n",
       "<style scoped>\n",
       "    .dataframe tbody tr th:only-of-type {\n",
       "        vertical-align: middle;\n",
       "    }\n",
       "\n",
       "    .dataframe tbody tr th {\n",
       "        vertical-align: top;\n",
       "    }\n",
       "\n",
       "    .dataframe thead th {\n",
       "        text-align: right;\n",
       "    }\n",
       "</style>\n",
       "<table border=\"1\" class=\"dataframe\">\n",
       "  <thead>\n",
       "    <tr style=\"text-align: right;\">\n",
       "      <th></th>\n",
       "      <th>mean_fit_time</th>\n",
       "      <th>std_fit_time</th>\n",
       "      <th>mean_score_time</th>\n",
       "      <th>std_score_time</th>\n",
       "      <th>param_feats__text__tfidf__max_df</th>\n",
       "      <th>param_feats__text__tfidf__ngram_range</th>\n",
       "      <th>param_rf__bootstrap</th>\n",
       "      <th>param_rf__class_weight</th>\n",
       "      <th>param_rf__max_features</th>\n",
       "      <th>param_rf__n_estimators</th>\n",
       "      <th>params</th>\n",
       "      <th>split0_test_score</th>\n",
       "      <th>split1_test_score</th>\n",
       "      <th>split2_test_score</th>\n",
       "      <th>mean_test_score</th>\n",
       "      <th>std_test_score</th>\n",
       "      <th>rank_test_score</th>\n",
       "    </tr>\n",
       "  </thead>\n",
       "  <tbody>\n",
       "    <tr>\n",
       "      <th>0</th>\n",
       "      <td>1.149145</td>\n",
       "      <td>0.007518</td>\n",
       "      <td>0.027579</td>\n",
       "      <td>0.000948</td>\n",
       "      <td>0.5</td>\n",
       "      <td>(1, 1)</td>\n",
       "      <td>False</td>\n",
       "      <td>balanced</td>\n",
       "      <td>0.5</td>\n",
       "      <td>10</td>\n",
       "      <td>{'feats__text__tfidf__max_df': 0.5, 'feats__te...</td>\n",
       "      <td>0.734043</td>\n",
       "      <td>0.695626</td>\n",
       "      <td>0.685579</td>\n",
       "      <td>0.705083</td>\n",
       "      <td>0.020884</td>\n",
       "      <td>129</td>\n",
       "    </tr>\n",
       "    <tr>\n",
       "      <th>1</th>\n",
       "      <td>6.416247</td>\n",
       "      <td>0.232996</td>\n",
       "      <td>0.056160</td>\n",
       "      <td>0.002472</td>\n",
       "      <td>0.5</td>\n",
       "      <td>(1, 1)</td>\n",
       "      <td>False</td>\n",
       "      <td>balanced</td>\n",
       "      <td>0.5</td>\n",
       "      <td>50</td>\n",
       "      <td>{'feats__text__tfidf__max_df': 0.5, 'feats__te...</td>\n",
       "      <td>0.731087</td>\n",
       "      <td>0.702719</td>\n",
       "      <td>0.687943</td>\n",
       "      <td>0.707250</td>\n",
       "      <td>0.017903</td>\n",
       "      <td>124</td>\n",
       "    </tr>\n",
       "    <tr>\n",
       "      <th>2</th>\n",
       "      <td>10.843964</td>\n",
       "      <td>1.082747</td>\n",
       "      <td>0.082141</td>\n",
       "      <td>0.016072</td>\n",
       "      <td>0.5</td>\n",
       "      <td>(1, 1)</td>\n",
       "      <td>False</td>\n",
       "      <td>balanced</td>\n",
       "      <td>0.5</td>\n",
       "      <td>80</td>\n",
       "      <td>{'feats__text__tfidf__max_df': 0.5, 'feats__te...</td>\n",
       "      <td>0.729905</td>\n",
       "      <td>0.703310</td>\n",
       "      <td>0.688534</td>\n",
       "      <td>0.707250</td>\n",
       "      <td>0.017118</td>\n",
       "      <td>124</td>\n",
       "    </tr>\n",
       "    <tr>\n",
       "      <th>3</th>\n",
       "      <td>3.004021</td>\n",
       "      <td>0.559617</td>\n",
       "      <td>0.044551</td>\n",
       "      <td>0.006630</td>\n",
       "      <td>0.5</td>\n",
       "      <td>(1, 1)</td>\n",
       "      <td>False</td>\n",
       "      <td>balanced</td>\n",
       "      <td>0.7</td>\n",
       "      <td>10</td>\n",
       "      <td>{'feats__text__tfidf__max_df': 0.5, 'feats__te...</td>\n",
       "      <td>0.718676</td>\n",
       "      <td>0.697991</td>\n",
       "      <td>0.676714</td>\n",
       "      <td>0.697794</td>\n",
       "      <td>0.017132</td>\n",
       "      <td>159</td>\n",
       "    </tr>\n",
       "    <tr>\n",
       "      <th>4</th>\n",
       "      <td>10.739135</td>\n",
       "      <td>0.273719</td>\n",
       "      <td>0.075466</td>\n",
       "      <td>0.022335</td>\n",
       "      <td>0.5</td>\n",
       "      <td>(1, 1)</td>\n",
       "      <td>False</td>\n",
       "      <td>balanced</td>\n",
       "      <td>0.7</td>\n",
       "      <td>50</td>\n",
       "      <td>{'feats__text__tfidf__max_df': 0.5, 'feats__te...</td>\n",
       "      <td>0.723995</td>\n",
       "      <td>0.683806</td>\n",
       "      <td>0.677896</td>\n",
       "      <td>0.695232</td>\n",
       "      <td>0.020481</td>\n",
       "      <td>164</td>\n",
       "    </tr>\n",
       "    <tr>\n",
       "      <th>...</th>\n",
       "      <td>...</td>\n",
       "      <td>...</td>\n",
       "      <td>...</td>\n",
       "      <td>...</td>\n",
       "      <td>...</td>\n",
       "      <td>...</td>\n",
       "      <td>...</td>\n",
       "      <td>...</td>\n",
       "      <td>...</td>\n",
       "      <td>...</td>\n",
       "      <td>...</td>\n",
       "      <td>...</td>\n",
       "      <td>...</td>\n",
       "      <td>...</td>\n",
       "      <td>...</td>\n",
       "      <td>...</td>\n",
       "      <td>...</td>\n",
       "    </tr>\n",
       "    <tr>\n",
       "      <th>211</th>\n",
       "      <td>14.929020</td>\n",
       "      <td>0.129476</td>\n",
       "      <td>0.062495</td>\n",
       "      <td>0.001229</td>\n",
       "      <td>1</td>\n",
       "      <td>(1, 2)</td>\n",
       "      <td>True</td>\n",
       "      <td>None</td>\n",
       "      <td>0.7</td>\n",
       "      <td>50</td>\n",
       "      <td>{'feats__text__tfidf__max_df': 1.0, 'feats__te...</td>\n",
       "      <td>0.735816</td>\n",
       "      <td>0.731678</td>\n",
       "      <td>0.710993</td>\n",
       "      <td>0.726162</td>\n",
       "      <td>0.010859</td>\n",
       "      <td>17</td>\n",
       "    </tr>\n",
       "    <tr>\n",
       "      <th>212</th>\n",
       "      <td>25.238627</td>\n",
       "      <td>0.897248</td>\n",
       "      <td>0.084798</td>\n",
       "      <td>0.008598</td>\n",
       "      <td>1</td>\n",
       "      <td>(1, 2)</td>\n",
       "      <td>True</td>\n",
       "      <td>None</td>\n",
       "      <td>0.7</td>\n",
       "      <td>80</td>\n",
       "      <td>{'feats__text__tfidf__max_df': 1.0, 'feats__te...</td>\n",
       "      <td>0.732270</td>\n",
       "      <td>0.737589</td>\n",
       "      <td>0.713357</td>\n",
       "      <td>0.727738</td>\n",
       "      <td>0.010398</td>\n",
       "      <td>9</td>\n",
       "    </tr>\n",
       "    <tr>\n",
       "      <th>213</th>\n",
       "      <td>4.936323</td>\n",
       "      <td>0.525645</td>\n",
       "      <td>0.049881</td>\n",
       "      <td>0.002168</td>\n",
       "      <td>1</td>\n",
       "      <td>(1, 2)</td>\n",
       "      <td>True</td>\n",
       "      <td>None</td>\n",
       "      <td>1</td>\n",
       "      <td>10</td>\n",
       "      <td>{'feats__text__tfidf__max_df': 1.0, 'feats__te...</td>\n",
       "      <td>0.726950</td>\n",
       "      <td>0.720449</td>\n",
       "      <td>0.694444</td>\n",
       "      <td>0.713948</td>\n",
       "      <td>0.014044</td>\n",
       "      <td>101</td>\n",
       "    </tr>\n",
       "    <tr>\n",
       "      <th>214</th>\n",
       "      <td>21.255924</td>\n",
       "      <td>0.508262</td>\n",
       "      <td>0.063152</td>\n",
       "      <td>0.004002</td>\n",
       "      <td>1</td>\n",
       "      <td>(1, 2)</td>\n",
       "      <td>True</td>\n",
       "      <td>None</td>\n",
       "      <td>1</td>\n",
       "      <td>50</td>\n",
       "      <td>{'feats__text__tfidf__max_df': 1.0, 'feats__te...</td>\n",
       "      <td>0.731678</td>\n",
       "      <td>0.718085</td>\n",
       "      <td>0.709220</td>\n",
       "      <td>0.719661</td>\n",
       "      <td>0.009236</td>\n",
       "      <td>65</td>\n",
       "    </tr>\n",
       "    <tr>\n",
       "      <th>215</th>\n",
       "      <td>33.835198</td>\n",
       "      <td>1.289048</td>\n",
       "      <td>0.084111</td>\n",
       "      <td>0.008930</td>\n",
       "      <td>1</td>\n",
       "      <td>(1, 2)</td>\n",
       "      <td>True</td>\n",
       "      <td>None</td>\n",
       "      <td>1</td>\n",
       "      <td>80</td>\n",
       "      <td>{'feats__text__tfidf__max_df': 1.0, 'feats__te...</td>\n",
       "      <td>0.738180</td>\n",
       "      <td>0.726359</td>\n",
       "      <td>0.708629</td>\n",
       "      <td>0.724389</td>\n",
       "      <td>0.012144</td>\n",
       "      <td>24</td>\n",
       "    </tr>\n",
       "  </tbody>\n",
       "</table>\n",
       "<p>216 rows × 17 columns</p>\n",
       "</div>"
      ],
      "text/plain": [
       "     mean_fit_time  std_fit_time  mean_score_time  std_score_time  \\\n",
       "0         1.149145      0.007518         0.027579        0.000948   \n",
       "1         6.416247      0.232996         0.056160        0.002472   \n",
       "2        10.843964      1.082747         0.082141        0.016072   \n",
       "3         3.004021      0.559617         0.044551        0.006630   \n",
       "4        10.739135      0.273719         0.075466        0.022335   \n",
       "..             ...           ...              ...             ...   \n",
       "211      14.929020      0.129476         0.062495        0.001229   \n",
       "212      25.238627      0.897248         0.084798        0.008598   \n",
       "213       4.936323      0.525645         0.049881        0.002168   \n",
       "214      21.255924      0.508262         0.063152        0.004002   \n",
       "215      33.835198      1.289048         0.084111        0.008930   \n",
       "\n",
       "    param_feats__text__tfidf__max_df param_feats__text__tfidf__ngram_range  \\\n",
       "0                                0.5                                (1, 1)   \n",
       "1                                0.5                                (1, 1)   \n",
       "2                                0.5                                (1, 1)   \n",
       "3                                0.5                                (1, 1)   \n",
       "4                                0.5                                (1, 1)   \n",
       "..                               ...                                   ...   \n",
       "211                                1                                (1, 2)   \n",
       "212                                1                                (1, 2)   \n",
       "213                                1                                (1, 2)   \n",
       "214                                1                                (1, 2)   \n",
       "215                                1                                (1, 2)   \n",
       "\n",
       "    param_rf__bootstrap param_rf__class_weight param_rf__max_features  \\\n",
       "0                 False               balanced                    0.5   \n",
       "1                 False               balanced                    0.5   \n",
       "2                 False               balanced                    0.5   \n",
       "3                 False               balanced                    0.7   \n",
       "4                 False               balanced                    0.7   \n",
       "..                  ...                    ...                    ...   \n",
       "211                True                   None                    0.7   \n",
       "212                True                   None                    0.7   \n",
       "213                True                   None                      1   \n",
       "214                True                   None                      1   \n",
       "215                True                   None                      1   \n",
       "\n",
       "    param_rf__n_estimators                                             params  \\\n",
       "0                       10  {'feats__text__tfidf__max_df': 0.5, 'feats__te...   \n",
       "1                       50  {'feats__text__tfidf__max_df': 0.5, 'feats__te...   \n",
       "2                       80  {'feats__text__tfidf__max_df': 0.5, 'feats__te...   \n",
       "3                       10  {'feats__text__tfidf__max_df': 0.5, 'feats__te...   \n",
       "4                       50  {'feats__text__tfidf__max_df': 0.5, 'feats__te...   \n",
       "..                     ...                                                ...   \n",
       "211                     50  {'feats__text__tfidf__max_df': 1.0, 'feats__te...   \n",
       "212                     80  {'feats__text__tfidf__max_df': 1.0, 'feats__te...   \n",
       "213                     10  {'feats__text__tfidf__max_df': 1.0, 'feats__te...   \n",
       "214                     50  {'feats__text__tfidf__max_df': 1.0, 'feats__te...   \n",
       "215                     80  {'feats__text__tfidf__max_df': 1.0, 'feats__te...   \n",
       "\n",
       "     split0_test_score  split1_test_score  split2_test_score  mean_test_score  \\\n",
       "0             0.734043           0.695626           0.685579         0.705083   \n",
       "1             0.731087           0.702719           0.687943         0.707250   \n",
       "2             0.729905           0.703310           0.688534         0.707250   \n",
       "3             0.718676           0.697991           0.676714         0.697794   \n",
       "4             0.723995           0.683806           0.677896         0.695232   \n",
       "..                 ...                ...                ...              ...   \n",
       "211           0.735816           0.731678           0.710993         0.726162   \n",
       "212           0.732270           0.737589           0.713357         0.727738   \n",
       "213           0.726950           0.720449           0.694444         0.713948   \n",
       "214           0.731678           0.718085           0.709220         0.719661   \n",
       "215           0.738180           0.726359           0.708629         0.724389   \n",
       "\n",
       "     std_test_score  rank_test_score  \n",
       "0          0.020884              129  \n",
       "1          0.017903              124  \n",
       "2          0.017118              124  \n",
       "3          0.017132              159  \n",
       "4          0.020481              164  \n",
       "..              ...              ...  \n",
       "211        0.010859               17  \n",
       "212        0.010398                9  \n",
       "213        0.014044              101  \n",
       "214        0.009236               65  \n",
       "215        0.012144               24  \n",
       "\n",
       "[216 rows x 17 columns]"
      ]
     },
     "execution_count": 173,
     "metadata": {},
     "output_type": "execute_result"
    }
   ],
   "source": [
    "print('Best params: {}'.format(rf_gs.best_params_))\n",
    "nb_cv_results = pd.DataFrame(rf_gs.cv_results_)\n",
    "nb_cv_results"
   ]
  },
  {
   "cell_type": "code",
   "execution_count": 80,
   "metadata": {},
   "outputs": [
    {
     "data": {
      "image/png": "[encoded data removed]",
      "text/plain": [
       "<Figure size 576x432 with 2 Axes>"
      ]
     },
     "metadata": {
      "needs_background": "light"
     },
     "output_type": "display_data"
    }
   ],
   "source": [
    "plot_confusion_matrix(cm           = confusion_matrix(y_test, rf_gs.best_estimator_.predict(X_test)), \n",
    "                      normalize    = False,\n",
    "                      target_names = target_names,\n",
    "                      title        = \"Confusion Matrix\")"
   ]
  },
  {
   "cell_type": "code",
   "execution_count": 81,
   "metadata": {},
   "outputs": [
    {
     "data": {
      "text/plain": [
       "<matplotlib.axes._subplots.AxesSubplot at 0x1678accdd88>"
      ]
     },
     "execution_count": 81,
     "metadata": {},
     "output_type": "execute_result"
    },
    {
     "data": {
      "image/png": "[encoded data removed]",
      "text/plain": [
       "<Figure size 432x288 with 2 Axes>"
      ]
     },
     "metadata": {
      "needs_background": "light"
     },
     "output_type": "display_data"
    }
   ],
   "source": [
    "import numpy as np\n",
    "import seaborn as sns\n",
    "from sklearn.metrics import classification_report\n",
    "import pandas as pd\n",
    "clf_report = classification_report(y_test, rf_gs.best_estimator_.predict(X_test),\n",
    "                                   target_names=target_names,\n",
    "                                   output_dict=True)\n",
    "sns.heatmap(pd.DataFrame(clf_report).iloc[:-1, :].T, annot=True)"
   ]
  },
  {
   "cell_type": "markdown",
   "metadata": {},
   "source": [
    "### I will also give a try to simpletransformers ( Considering all the fuss around it) to check if it could give me some better results and if could be another candidte to optimize further"
   ]
  },
  {
   "cell_type": "code",
   "execution_count": 1,
   "metadata": {},
   "outputs": [
    {
     "name": "stderr",
     "output_type": "stream",
     "text": [
      "Some weights of the model checkpoint at roberta-base were not used when initializing RobertaForSequenceClassification: ['lm_head.bias', 'lm_head.dense.weight', 'lm_head.dense.bias', 'lm_head.layer_norm.weight', 'lm_head.layer_norm.bias', 'lm_head.decoder.weight']\n",
      "- This IS expected if you are initializing RobertaForSequenceClassification from the checkpoint of a model trained on another task or with another architecture (e.g. initializing a BertForSequenceClassification model from a BertForPreTraining model).\n",
      "- This IS NOT expected if you are initializing RobertaForSequenceClassification from the checkpoint of a model that you expect to be exactly identical (initializing a BertForSequenceClassification model from a BertForSequenceClassification model).\n",
      "Some weights of RobertaForSequenceClassification were not initialized from the model checkpoint at roberta-base and are newly initialized: ['classifier.dense.weight', 'classifier.dense.bias', 'classifier.out_proj.weight', 'classifier.out_proj.bias']\n",
      "You should probably TRAIN this model on a down-stream task to be able to use it for predictions and inference.\n"
     ]
    },
    {
     "data": {
      "application/vnd.jupyter.widget-view+json": {
       "model_id": "45e9b41d269f462bb5bf2ec08b6edd61",
       "version_major": 2,
       "version_minor": 0
      },
      "text/plain": [
       "Downloading:   0%|          | 0.00/899k [00:00<?, ?B/s]"
      ]
     },
     "metadata": {},
     "output_type": "display_data"
    },
    {
     "data": {
      "application/vnd.jupyter.widget-view+json": {
       "model_id": "6070fa684f3c465fa9a79ecd76eff4f7",
       "version_major": 2,
       "version_minor": 0
      },
      "text/plain": [
       "Downloading:   0%|          | 0.00/456k [00:00<?, ?B/s]"
      ]
     },
     "metadata": {},
     "output_type": "display_data"
    }
   ],
   "source": [
    "from simpletransformers.classification import ClassificationModel\n",
    "\n",
    "Xmodel = ClassificationModel('roberta', 'roberta-base', num_labels=3, use_cuda = False)"
   ]
  },
  {
   "cell_type": "code",
   "execution_count": 82,
   "metadata": {},
   "outputs": [],
   "source": [
    "train_ST = pd.DataFrame (y_train, columns = ['labels'])\n",
    "train_ST['text'] = X_train['text_stemming']\n",
    "test_ST = pd.DataFrame (y_test, columns = ['labels'])\n",
    "test_ST['text'] = X_test['text_stemming']"
   ]
  },
  {
   "cell_type": "code",
   "execution_count": 83,
   "metadata": {},
   "outputs": [
    {
     "data": {
      "application/vnd.jupyter.widget-view+json": {
       "model_id": "2bcbd8d37e324e8b8e23968189ae4489",
       "version_major": 2,
       "version_minor": 0
      },
      "text/plain": [
       "  0%|          | 0/5076 [00:00<?, ?it/s]"
      ]
     },
     "metadata": {},
     "output_type": "display_data"
    },
    {
     "data": {
      "application/vnd.jupyter.widget-view+json": {
       "model_id": "8320107bc3804e2da6c05b54a2f1a367",
       "version_major": 2,
       "version_minor": 0
      },
      "text/plain": [
       "Epoch:   0%|          | 0/1 [00:00<?, ?it/s]"
      ]
     },
     "metadata": {},
     "output_type": "display_data"
    },
    {
     "data": {
      "application/vnd.jupyter.widget-view+json": {
       "model_id": "f6f2072294684ed4a82c1fb3b0fc780f",
       "version_major": 2,
       "version_minor": 0
      },
      "text/plain": [
       "Running Epoch 0 of 1:   0%|          | 0/635 [00:00<?, ?it/s]"
      ]
     },
     "metadata": {},
     "output_type": "display_data"
    },
    {
     "name": "stderr",
     "output_type": "stream",
     "text": [
      "C:\\Users\\nisaurab\\Anaconda3\\lib\\site-packages\\torch\\optim\\lr_scheduler.py:216: UserWarning: Please also save or load the state of the optimizer when saving or loading the scheduler.\n",
      "  warnings.warn(SAVE_STATE_WARNING, UserWarning)\n"
     ]
    },
    {
     "data": {
      "text/plain": [
       "(635, 0.9566591525641013)"
      ]
     },
     "execution_count": 83,
     "metadata": {},
     "output_type": "execute_result"
    }
   ],
   "source": [
    "model.train_model(train_ST)"
   ]
  },
  {
   "cell_type": "code",
   "execution_count": 84,
   "metadata": {},
   "outputs": [],
   "source": [
    "#Evaluating With F1 Score & Accuracy\n",
    "\n",
    "from sklearn.metrics import f1_score, accuracy_score\n",
    "def f1_multiclass(labels, preds):\n",
    "    return f1_score(labels, preds, average='micro')"
   ]
  },
  {
   "cell_type": "code",
   "execution_count": 86,
   "metadata": {
    "scrolled": true
   },
   "outputs": [
    {
     "data": {
      "application/vnd.jupyter.widget-view+json": {
       "model_id": "c171386ff08a40729679629f0770b608",
       "version_major": 2,
       "version_minor": 0
      },
      "text/plain": [
       "  0%|          | 0/2176 [00:00<?, ?it/s]"
      ]
     },
     "metadata": {},
     "output_type": "display_data"
    },
    {
     "data": {
      "application/vnd.jupyter.widget-view+json": {
       "model_id": "526043a80b414d58add6221c36380f16",
       "version_major": 2,
       "version_minor": 0
      },
      "text/plain": [
       "Running Evaluation:   0%|          | 0/272 [00:00<?, ?it/s]"
      ]
     },
     "metadata": {},
     "output_type": "display_data"
    },
    {
     "name": "stderr",
     "output_type": "stream",
     "text": [
      "C:\\Users\\nisaurab\\Anaconda3\\lib\\site-packages\\sklearn\\metrics\\_classification.py:900: RuntimeWarning: invalid value encountered in double_scalars\n",
      "  mcc = cov_ytyp / np.sqrt(cov_ytyt * cov_ypyp)\n"
     ]
    }
   ],
   "source": [
    "scores2, model_outputs, wrong_predictions = model.eval_model(test_ST, f1=f1_multiclass, acc=accuracy_score)"
   ]
  },
  {
   "cell_type": "code",
   "execution_count": 87,
   "metadata": {
    "scrolled": true
   },
   "outputs": [
    {
     "data": {
      "text/plain": [
       "{'mcc': 0.0,\n",
       " 'f1': 0.6135110294117647,\n",
       " 'acc': 0.6135110294117647,\n",
       " 'eval_loss': 0.9346704106120503}"
      ]
     },
     "execution_count": 87,
     "metadata": {},
     "output_type": "execute_result"
    }
   ],
   "source": [
    "scores2"
   ]
  },
  {
   "attachments": {},
   "cell_type": "markdown",
   "metadata": {},
   "source": [
    "### With Above I will be ending my Model bulding step with below conclusions \n",
    "\n",
    "#### Best Model : LinearSVC\n",
    "#### Best Score : 0.7890625\n",
    "#### Best params: {'clf__C': 0.5, 'clf__class_weight': 'balanced', 'clf__loss': 'squared_hinge', 'feats__text__tfidf__max_df': 0.5, 'feats__text__tfidf__ngram_range':                                      (1, 2), 'feats__text__tfidf__use_idf': False}\n"
   ]
  },
  {
   "attachments": {},
   "cell_type": "markdown",
   "metadata": {},
   "source": [
    "## Future Work \n",
    "\n",
    "### With above conclusions I will end my model building process. We always have rooms for improvement, and I will always love if someone ( Or me in near future) may be able try few of below and check if we can make this model perform even better\n",
    "\n",
    "\n",
    "#### Try Deep Learning models\n",
    "#### Include more features like ( Geography/Time of Tweet etc)-\n",
    "#### Feature engineering like np.log(X), np.exp(X), np.sqrt(X)"
   ]
  }
 ],
 "metadata": {
  "kernelspec": {
   "display_name": "Python 3",
   "language": "python",
   "name": "python3"
  },
  "language_info": {
   "codemirror_mode": {
    "name": "ipython",
    "version": 3
   },
   "file_extension": ".py",
   "mimetype": "text/x-python",
   "name": "python",
   "nbconvert_exporter": "python",
   "pygments_lexer": "ipython3",
   "version": "3.7.6"
  }
 },
 "nbformat": 4,
 "nbformat_minor": 4
}
