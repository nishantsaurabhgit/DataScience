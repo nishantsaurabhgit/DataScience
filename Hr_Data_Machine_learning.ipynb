{
 "cells": [
  {
   "cell_type": "code",
   "execution_count": 2,
   "metadata": {},
   "outputs": [],
   "source": [
    "import pandas as pd"
   ]
  },
  {
   "cell_type": "code",
   "execution_count": 3,
   "metadata": {},
   "outputs": [],
   "source": [
    "hr_data1= pd.read_csv(r'C:\\Users\\HappyPC\\Desktop\\Datascience\\Springboard\\Project1_hr_analytics\\train_data_hr.csv')"
   ]
  },
  {
   "cell_type": "markdown",
   "metadata": {},
   "source": [
    "# Let’s explore the data a little bit  before starting in Depth exploration and Visualization starting with looking at top 5 rows"
   ]
  },
  {
   "cell_type": "code",
   "execution_count": 138,
   "metadata": {},
   "outputs": [
    {
     "data": {
      "text/html": [
       "<div>\n",
       "<style scoped>\n",
       "    .dataframe tbody tr th:only-of-type {\n",
       "        vertical-align: middle;\n",
       "    }\n",
       "\n",
       "    .dataframe tbody tr th {\n",
       "        vertical-align: top;\n",
       "    }\n",
       "\n",
       "    .dataframe thead th {\n",
       "        text-align: right;\n",
       "    }\n",
       "</style>\n",
       "<table border=\"1\" class=\"dataframe\">\n",
       "  <thead>\n",
       "    <tr style=\"text-align: right;\">\n",
       "      <th></th>\n",
       "      <th>employee_id</th>\n",
       "      <th>department</th>\n",
       "      <th>region</th>\n",
       "      <th>education</th>\n",
       "      <th>gender</th>\n",
       "      <th>recruitment_channel</th>\n",
       "      <th>no_of_trainings</th>\n",
       "      <th>age</th>\n",
       "      <th>previous_year_rating</th>\n",
       "      <th>length_of_service</th>\n",
       "      <th>KPIs_met &gt;80%</th>\n",
       "      <th>awards_won?</th>\n",
       "      <th>avg_training_score</th>\n",
       "      <th>is_promoted</th>\n",
       "    </tr>\n",
       "  </thead>\n",
       "  <tbody>\n",
       "    <tr>\n",
       "      <th>0</th>\n",
       "      <td>65438</td>\n",
       "      <td>Sales &amp; Marketing</td>\n",
       "      <td>region_7</td>\n",
       "      <td>Master's &amp; above</td>\n",
       "      <td>f</td>\n",
       "      <td>sourcing</td>\n",
       "      <td>1</td>\n",
       "      <td>35</td>\n",
       "      <td>5.0</td>\n",
       "      <td>8</td>\n",
       "      <td>1</td>\n",
       "      <td>0</td>\n",
       "      <td>49</td>\n",
       "      <td>0</td>\n",
       "    </tr>\n",
       "    <tr>\n",
       "      <th>1</th>\n",
       "      <td>65141</td>\n",
       "      <td>Operations</td>\n",
       "      <td>region_22</td>\n",
       "      <td>Bachelor's</td>\n",
       "      <td>m</td>\n",
       "      <td>other</td>\n",
       "      <td>1</td>\n",
       "      <td>30</td>\n",
       "      <td>5.0</td>\n",
       "      <td>4</td>\n",
       "      <td>0</td>\n",
       "      <td>0</td>\n",
       "      <td>60</td>\n",
       "      <td>0</td>\n",
       "    </tr>\n",
       "    <tr>\n",
       "      <th>2</th>\n",
       "      <td>7513</td>\n",
       "      <td>Sales &amp; Marketing</td>\n",
       "      <td>region_19</td>\n",
       "      <td>Bachelor's</td>\n",
       "      <td>m</td>\n",
       "      <td>sourcing</td>\n",
       "      <td>1</td>\n",
       "      <td>34</td>\n",
       "      <td>3.0</td>\n",
       "      <td>7</td>\n",
       "      <td>0</td>\n",
       "      <td>0</td>\n",
       "      <td>50</td>\n",
       "      <td>0</td>\n",
       "    </tr>\n",
       "    <tr>\n",
       "      <th>3</th>\n",
       "      <td>2542</td>\n",
       "      <td>Sales &amp; Marketing</td>\n",
       "      <td>region_23</td>\n",
       "      <td>Bachelor's</td>\n",
       "      <td>m</td>\n",
       "      <td>other</td>\n",
       "      <td>2</td>\n",
       "      <td>39</td>\n",
       "      <td>1.0</td>\n",
       "      <td>10</td>\n",
       "      <td>0</td>\n",
       "      <td>0</td>\n",
       "      <td>50</td>\n",
       "      <td>0</td>\n",
       "    </tr>\n",
       "    <tr>\n",
       "      <th>4</th>\n",
       "      <td>48945</td>\n",
       "      <td>Technology</td>\n",
       "      <td>region_26</td>\n",
       "      <td>Bachelor's</td>\n",
       "      <td>m</td>\n",
       "      <td>other</td>\n",
       "      <td>1</td>\n",
       "      <td>45</td>\n",
       "      <td>3.0</td>\n",
       "      <td>2</td>\n",
       "      <td>0</td>\n",
       "      <td>0</td>\n",
       "      <td>73</td>\n",
       "      <td>0</td>\n",
       "    </tr>\n",
       "  </tbody>\n",
       "</table>\n",
       "</div>"
      ],
      "text/plain": [
       "   employee_id         department     region         education gender  \\\n",
       "0        65438  Sales & Marketing   region_7  Master's & above      f   \n",
       "1        65141         Operations  region_22        Bachelor's      m   \n",
       "2         7513  Sales & Marketing  region_19        Bachelor's      m   \n",
       "3         2542  Sales & Marketing  region_23        Bachelor's      m   \n",
       "4        48945         Technology  region_26        Bachelor's      m   \n",
       "\n",
       "  recruitment_channel  no_of_trainings  age  previous_year_rating  \\\n",
       "0            sourcing                1   35                   5.0   \n",
       "1               other                1   30                   5.0   \n",
       "2            sourcing                1   34                   3.0   \n",
       "3               other                2   39                   1.0   \n",
       "4               other                1   45                   3.0   \n",
       "\n",
       "   length_of_service  KPIs_met >80%  awards_won?  avg_training_score  \\\n",
       "0                  8              1            0                  49   \n",
       "1                  4              0            0                  60   \n",
       "2                  7              0            0                  50   \n",
       "3                 10              0            0                  50   \n",
       "4                  2              0            0                  73   \n",
       "\n",
       "   is_promoted  \n",
       "0            0  \n",
       "1            0  \n",
       "2            0  \n",
       "3            0  \n",
       "4            0  "
      ]
     },
     "execution_count": 138,
     "metadata": {},
     "output_type": "execute_result"
    }
   ],
   "source": [
    "hr_data1.head()"
   ]
  },
  {
   "cell_type": "markdown",
   "metadata": {},
   "source": [
    "### We will take a look at statistical details of the dataset, with use of describe()"
   ]
  },
  {
   "cell_type": "code",
   "execution_count": 4,
   "metadata": {},
   "outputs": [
    {
     "data": {
      "text/html": [
       "<div>\n",
       "<style scoped>\n",
       "    .dataframe tbody tr th:only-of-type {\n",
       "        vertical-align: middle;\n",
       "    }\n",
       "\n",
       "    .dataframe tbody tr th {\n",
       "        vertical-align: top;\n",
       "    }\n",
       "\n",
       "    .dataframe thead th {\n",
       "        text-align: right;\n",
       "    }\n",
       "</style>\n",
       "<table border=\"1\" class=\"dataframe\">\n",
       "  <thead>\n",
       "    <tr style=\"text-align: right;\">\n",
       "      <th></th>\n",
       "      <th>employee_id</th>\n",
       "      <th>no_of_trainings</th>\n",
       "      <th>age</th>\n",
       "      <th>previous_year_rating</th>\n",
       "      <th>length_of_service</th>\n",
       "      <th>KPIs_met &gt;80%</th>\n",
       "      <th>awards_won?</th>\n",
       "      <th>avg_training_score</th>\n",
       "      <th>is_promoted</th>\n",
       "    </tr>\n",
       "  </thead>\n",
       "  <tbody>\n",
       "    <tr>\n",
       "      <th>count</th>\n",
       "      <td>54808.000000</td>\n",
       "      <td>54808.000000</td>\n",
       "      <td>54808.000000</td>\n",
       "      <td>50684.000000</td>\n",
       "      <td>54808.000000</td>\n",
       "      <td>54808.000000</td>\n",
       "      <td>54808.000000</td>\n",
       "      <td>54808.000000</td>\n",
       "      <td>54808.000000</td>\n",
       "    </tr>\n",
       "    <tr>\n",
       "      <th>mean</th>\n",
       "      <td>39195.830627</td>\n",
       "      <td>1.253011</td>\n",
       "      <td>34.803915</td>\n",
       "      <td>3.329256</td>\n",
       "      <td>5.865512</td>\n",
       "      <td>0.351974</td>\n",
       "      <td>0.023172</td>\n",
       "      <td>63.386750</td>\n",
       "      <td>0.085170</td>\n",
       "    </tr>\n",
       "    <tr>\n",
       "      <th>std</th>\n",
       "      <td>22586.581449</td>\n",
       "      <td>0.609264</td>\n",
       "      <td>7.660169</td>\n",
       "      <td>1.259993</td>\n",
       "      <td>4.265094</td>\n",
       "      <td>0.477590</td>\n",
       "      <td>0.150450</td>\n",
       "      <td>13.371559</td>\n",
       "      <td>0.279137</td>\n",
       "    </tr>\n",
       "    <tr>\n",
       "      <th>min</th>\n",
       "      <td>1.000000</td>\n",
       "      <td>1.000000</td>\n",
       "      <td>20.000000</td>\n",
       "      <td>1.000000</td>\n",
       "      <td>1.000000</td>\n",
       "      <td>0.000000</td>\n",
       "      <td>0.000000</td>\n",
       "      <td>39.000000</td>\n",
       "      <td>0.000000</td>\n",
       "    </tr>\n",
       "    <tr>\n",
       "      <th>25%</th>\n",
       "      <td>19669.750000</td>\n",
       "      <td>1.000000</td>\n",
       "      <td>29.000000</td>\n",
       "      <td>3.000000</td>\n",
       "      <td>3.000000</td>\n",
       "      <td>0.000000</td>\n",
       "      <td>0.000000</td>\n",
       "      <td>51.000000</td>\n",
       "      <td>0.000000</td>\n",
       "    </tr>\n",
       "    <tr>\n",
       "      <th>50%</th>\n",
       "      <td>39225.500000</td>\n",
       "      <td>1.000000</td>\n",
       "      <td>33.000000</td>\n",
       "      <td>3.000000</td>\n",
       "      <td>5.000000</td>\n",
       "      <td>0.000000</td>\n",
       "      <td>0.000000</td>\n",
       "      <td>60.000000</td>\n",
       "      <td>0.000000</td>\n",
       "    </tr>\n",
       "    <tr>\n",
       "      <th>75%</th>\n",
       "      <td>58730.500000</td>\n",
       "      <td>1.000000</td>\n",
       "      <td>39.000000</td>\n",
       "      <td>4.000000</td>\n",
       "      <td>7.000000</td>\n",
       "      <td>1.000000</td>\n",
       "      <td>0.000000</td>\n",
       "      <td>76.000000</td>\n",
       "      <td>0.000000</td>\n",
       "    </tr>\n",
       "    <tr>\n",
       "      <th>max</th>\n",
       "      <td>78298.000000</td>\n",
       "      <td>10.000000</td>\n",
       "      <td>60.000000</td>\n",
       "      <td>5.000000</td>\n",
       "      <td>37.000000</td>\n",
       "      <td>1.000000</td>\n",
       "      <td>1.000000</td>\n",
       "      <td>99.000000</td>\n",
       "      <td>1.000000</td>\n",
       "    </tr>\n",
       "  </tbody>\n",
       "</table>\n",
       "</div>"
      ],
      "text/plain": [
       "        employee_id  no_of_trainings           age  previous_year_rating  \\\n",
       "count  54808.000000     54808.000000  54808.000000          50684.000000   \n",
       "mean   39195.830627         1.253011     34.803915              3.329256   \n",
       "std    22586.581449         0.609264      7.660169              1.259993   \n",
       "min        1.000000         1.000000     20.000000              1.000000   \n",
       "25%    19669.750000         1.000000     29.000000              3.000000   \n",
       "50%    39225.500000         1.000000     33.000000              3.000000   \n",
       "75%    58730.500000         1.000000     39.000000              4.000000   \n",
       "max    78298.000000        10.000000     60.000000              5.000000   \n",
       "\n",
       "       length_of_service  KPIs_met >80%   awards_won?  avg_training_score  \\\n",
       "count       54808.000000   54808.000000  54808.000000        54808.000000   \n",
       "mean            5.865512       0.351974      0.023172           63.386750   \n",
       "std             4.265094       0.477590      0.150450           13.371559   \n",
       "min             1.000000       0.000000      0.000000           39.000000   \n",
       "25%             3.000000       0.000000      0.000000           51.000000   \n",
       "50%             5.000000       0.000000      0.000000           60.000000   \n",
       "75%             7.000000       1.000000      0.000000           76.000000   \n",
       "max            37.000000       1.000000      1.000000           99.000000   \n",
       "\n",
       "        is_promoted  \n",
       "count  54808.000000  \n",
       "mean       0.085170  \n",
       "std        0.279137  \n",
       "min        0.000000  \n",
       "25%        0.000000  \n",
       "50%        0.000000  \n",
       "75%        0.000000  \n",
       "max        1.000000  "
      ]
     },
     "execution_count": 4,
     "metadata": {},
     "output_type": "execute_result"
    }
   ],
   "source": [
    "hr_data1.describe()"
   ]
  },
  {
   "cell_type": "markdown",
   "metadata": {},
   "source": [
    "### We will take a quick look at data types and missing value with info() "
   ]
  },
  {
   "cell_type": "code",
   "execution_count": 5,
   "metadata": {},
   "outputs": [
    {
     "name": "stdout",
     "output_type": "stream",
     "text": [
      "<class 'pandas.core.frame.DataFrame'>\n",
      "RangeIndex: 54808 entries, 0 to 54807\n",
      "Data columns (total 14 columns):\n",
      " #   Column                Non-Null Count  Dtype  \n",
      "---  ------                --------------  -----  \n",
      " 0   employee_id           54808 non-null  int64  \n",
      " 1   department            54808 non-null  object \n",
      " 2   region                54808 non-null  object \n",
      " 3   education             52399 non-null  object \n",
      " 4   gender                54808 non-null  object \n",
      " 5   recruitment_channel   54808 non-null  object \n",
      " 6   no_of_trainings       54808 non-null  int64  \n",
      " 7   age                   54808 non-null  int64  \n",
      " 8   previous_year_rating  50684 non-null  float64\n",
      " 9   length_of_service     54808 non-null  int64  \n",
      " 10  KPIs_met >80%         54808 non-null  int64  \n",
      " 11  awards_won?           54808 non-null  int64  \n",
      " 12  avg_training_score    54808 non-null  int64  \n",
      " 13  is_promoted           54808 non-null  int64  \n",
      "dtypes: float64(1), int64(8), object(5)\n",
      "memory usage: 5.9+ MB\n"
     ]
    }
   ],
   "source": [
    "hr_data1.info()"
   ]
  },
  {
   "cell_type": "code",
   "execution_count": 6,
   "metadata": {},
   "outputs": [
    {
     "data": {
      "text/plain": [
       "employee_id             False\n",
       "department              False\n",
       "region                  False\n",
       "education                True\n",
       "gender                  False\n",
       "recruitment_channel     False\n",
       "no_of_trainings         False\n",
       "age                     False\n",
       "previous_year_rating     True\n",
       "length_of_service       False\n",
       "KPIs_met >80%           False\n",
       "awards_won?             False\n",
       "avg_training_score      False\n",
       "is_promoted             False\n",
       "dtype: bool"
      ]
     },
     "execution_count": 6,
     "metadata": {},
     "output_type": "execute_result"
    }
   ],
   "source": [
    "#Find all Columns having NULL values(i.e. Column name with Value TRUE for isna().any() function)\n",
    "hr_data1.isna().any()"
   ]
  },
  {
   "cell_type": "code",
   "execution_count": 7,
   "metadata": {},
   "outputs": [
    {
     "data": {
      "text/plain": [
       "employee_id                0\n",
       "department                 0\n",
       "region                     0\n",
       "education               2409\n",
       "gender                     0\n",
       "recruitment_channel        0\n",
       "no_of_trainings            0\n",
       "age                        0\n",
       "previous_year_rating    4124\n",
       "length_of_service          0\n",
       "KPIs_met >80%              0\n",
       "awards_won?                0\n",
       "avg_training_score         0\n",
       "is_promoted                0\n",
       "dtype: int64"
      ]
     },
     "execution_count": 7,
     "metadata": {},
     "output_type": "execute_result"
    }
   ],
   "source": [
    "#Find Count of rows with NULL values for each column\n",
    "hr_data1.isnull().sum()"
   ]
  },
  {
   "cell_type": "code",
   "execution_count": 8,
   "metadata": {},
   "outputs": [
    {
     "data": {
      "text/plain": [
       "0    52399\n",
       "1     2409\n",
       "Name: education_isnull, dtype: int64"
      ]
     },
     "execution_count": 8,
     "metadata": {},
     "output_type": "execute_result"
    }
   ],
   "source": [
    "#Create a new column for Education with information of which values were NULL before filling them with most frequent value\n",
    "hr_data1['education_isnull'] = hr_data1['education'].isnull().astype(int)\n",
    "hr_data1['education_isnull'].value_counts()"
   ]
  },
  {
   "cell_type": "code",
   "execution_count": 9,
   "metadata": {},
   "outputs": [
    {
     "data": {
      "text/plain": [
       "0    50684\n",
       "1     4124\n",
       "Name: previous_year_rating_isnull, dtype: int64"
      ]
     },
     "execution_count": 9,
     "metadata": {},
     "output_type": "execute_result"
    }
   ],
   "source": [
    "#Create new column for previous_year_rating with information of which values were NULL before filling them with most frequent value\n",
    "hr_data1['previous_year_rating_isnull'] = hr_data1['previous_year_rating'].isnull().astype(int)\n",
    "hr_data1['previous_year_rating_isnull'].value_counts()"
   ]
  },
  {
   "cell_type": "code",
   "execution_count": 10,
   "metadata": {},
   "outputs": [
    {
     "data": {
      "text/plain": [
       "\"Bachelor's\""
      ]
     },
     "execution_count": 10,
     "metadata": {},
     "output_type": "execute_result"
    }
   ],
   "source": [
    "# Find most frequest value for education and staore in variable most_freq_edu\n",
    "most_freq_edu = hr_data1['education'].value_counts().sort_values(ascending = False).index[0]\n",
    "most_freq_edu"
   ]
  },
  {
   "cell_type": "code",
   "execution_count": 11,
   "metadata": {},
   "outputs": [],
   "source": [
    "#Fill NULL values for education column with most_freq_edu\n",
    "hr_data1['education']= hr_data1['education'].fillna(most_freq_edu)"
   ]
  },
  {
   "cell_type": "code",
   "execution_count": 12,
   "metadata": {},
   "outputs": [
    {
     "data": {
      "text/plain": [
       "3.0"
      ]
     },
     "execution_count": 12,
     "metadata": {},
     "output_type": "execute_result"
    }
   ],
   "source": [
    "# Find most frequest value for previous_year_rating and staore in variable most_freq_pry_rtng\n",
    "most_freq_pry_rtng = hr_data1['previous_year_rating'].value_counts().sort_values(ascending = False).index[0]\n",
    "most_freq_pry_rtng"
   ]
  },
  {
   "cell_type": "code",
   "execution_count": 13,
   "metadata": {},
   "outputs": [],
   "source": [
    "#Fill NULL values for previous_year_rating column with most_freq_pry_rtng\n",
    "hr_data1['previous_year_rating']= hr_data1['previous_year_rating'].fillna(most_freq_pry_rtng)"
   ]
  },
  {
   "cell_type": "code",
   "execution_count": 14,
   "metadata": {},
   "outputs": [
    {
     "data": {
      "text/plain": [
       "employee_id                    0\n",
       "department                     0\n",
       "region                         0\n",
       "education                      0\n",
       "gender                         0\n",
       "recruitment_channel            0\n",
       "no_of_trainings                0\n",
       "age                            0\n",
       "previous_year_rating           0\n",
       "length_of_service              0\n",
       "KPIs_met >80%                  0\n",
       "awards_won?                    0\n",
       "avg_training_score             0\n",
       "is_promoted                    0\n",
       "education_isnull               0\n",
       "previous_year_rating_isnull    0\n",
       "dtype: int64"
      ]
     },
     "execution_count": 14,
     "metadata": {},
     "output_type": "execute_result"
    }
   ],
   "source": [
    "#Confirm we have no column left with NULL values\n",
    "hr_data1.isnull().sum()"
   ]
  },
  {
   "cell_type": "markdown",
   "metadata": {},
   "source": [
    "# Data Exploration and Visualization Begins"
   ]
  },
  {
   "cell_type": "code",
   "execution_count": 15,
   "metadata": {},
   "outputs": [],
   "source": [
    "import numpy as np\n",
    "import matplotlib.pyplot as plt\n",
    "import seaborn as sb\n",
    "from sklearn.model_selection import train_test_split\n",
    "from sklearn.linear_model import LinearRegression\n",
    "from sklearn.linear_model import LogisticRegression\n",
    "from sklearn import metrics\n",
    "from sklearn import preprocessing\n",
    "plt.rc(\"font\", size=14)\n",
    "import seaborn as sns\n",
    "sns.set(style=\"white\")\n",
    "sns.set(style=\"whitegrid\", color_codes=True)\n",
    "%matplotlib inline"
   ]
  },
  {
   "cell_type": "code",
   "execution_count": 16,
   "metadata": {},
   "outputs": [
    {
     "data": {
      "image/png": "[encoded data removed]",
      "text/plain": [
       "<Figure size 432x288 with 1 Axes>"
      ]
     },
     "metadata": {
      "needs_background": "light"
     },
     "output_type": "display_data"
    },
    {
     "data": {
      "text/plain": [
       "<Figure size 432x288 with 0 Axes>"
      ]
     },
     "metadata": {},
     "output_type": "display_data"
    }
   ],
   "source": [
    "#Find count of dependent variable is_promoted for each possible outcome i.e. (Binary : 1,0) in dataset\n",
    "sns.countplot(x ='is_promoted', data = hr_data1, palette = 'hls' )\n",
    "plt.show()\n",
    "plt.savefig('count_plot')\n",
    "#Looking at below graph we have a clear indication of an imbalanced dataset"
   ]
  },
  {
   "cell_type": "markdown",
   "metadata": {},
   "source": [
    "# Obesrvations for numerical variables"
   ]
  },
  {
   "cell_type": "code",
   "execution_count": 17,
   "metadata": {},
   "outputs": [
    {
     "data": {
      "text/html": [
       "<div>\n",
       "<style scoped>\n",
       "    .dataframe tbody tr th:only-of-type {\n",
       "        vertical-align: middle;\n",
       "    }\n",
       "\n",
       "    .dataframe tbody tr th {\n",
       "        vertical-align: top;\n",
       "    }\n",
       "\n",
       "    .dataframe thead th {\n",
       "        text-align: right;\n",
       "    }\n",
       "</style>\n",
       "<table border=\"1\" class=\"dataframe\">\n",
       "  <thead>\n",
       "    <tr style=\"text-align: right;\">\n",
       "      <th></th>\n",
       "      <th>employee_id</th>\n",
       "      <th>no_of_trainings</th>\n",
       "      <th>age</th>\n",
       "      <th>previous_year_rating</th>\n",
       "      <th>length_of_service</th>\n",
       "      <th>KPIs_met &gt;80%</th>\n",
       "      <th>awards_won?</th>\n",
       "      <th>avg_training_score</th>\n",
       "      <th>education_isnull</th>\n",
       "      <th>previous_year_rating_isnull</th>\n",
       "    </tr>\n",
       "    <tr>\n",
       "      <th>is_promoted</th>\n",
       "      <th></th>\n",
       "      <th></th>\n",
       "      <th></th>\n",
       "      <th></th>\n",
       "      <th></th>\n",
       "      <th></th>\n",
       "      <th></th>\n",
       "      <th></th>\n",
       "      <th></th>\n",
       "      <th></th>\n",
       "    </tr>\n",
       "  </thead>\n",
       "  <tbody>\n",
       "    <tr>\n",
       "      <th>0</th>\n",
       "      <td>39187.520423</td>\n",
       "      <td>1.257639</td>\n",
       "      <td>34.844037</td>\n",
       "      <td>3.247686</td>\n",
       "      <td>5.879398</td>\n",
       "      <td>0.319685</td>\n",
       "      <td>0.014180</td>\n",
       "      <td>62.647686</td>\n",
       "      <td>0.045612</td>\n",
       "      <td>0.075489</td>\n",
       "    </tr>\n",
       "    <tr>\n",
       "      <th>1</th>\n",
       "      <td>39285.092331</td>\n",
       "      <td>1.203299</td>\n",
       "      <td>34.372965</td>\n",
       "      <td>3.914524</td>\n",
       "      <td>5.716367</td>\n",
       "      <td>0.698800</td>\n",
       "      <td>0.119751</td>\n",
       "      <td>71.325193</td>\n",
       "      <td>0.026135</td>\n",
       "      <td>0.072622</td>\n",
       "    </tr>\n",
       "  </tbody>\n",
       "</table>\n",
       "</div>"
      ],
      "text/plain": [
       "              employee_id  no_of_trainings        age  previous_year_rating  \\\n",
       "is_promoted                                                                   \n",
       "0            39187.520423         1.257639  34.844037              3.247686   \n",
       "1            39285.092331         1.203299  34.372965              3.914524   \n",
       "\n",
       "             length_of_service  KPIs_met >80%  awards_won?  \\\n",
       "is_promoted                                                  \n",
       "0                     5.879398       0.319685     0.014180   \n",
       "1                     5.716367       0.698800     0.119751   \n",
       "\n",
       "             avg_training_score  education_isnull  previous_year_rating_isnull  \n",
       "is_promoted                                                                     \n",
       "0                     62.647686          0.045612                     0.075489  \n",
       "1                     71.325193          0.026135                     0.072622  "
      ]
     },
     "execution_count": 17,
     "metadata": {},
     "output_type": "execute_result"
    }
   ],
   "source": [
    "hr_data1.groupby('is_promoted').mean()\n",
    "# Average age of people promoted is less (Younger) to those who did not.\n",
    "# Surprisingly More trainings didnt help with promotion as average number of trainings is less for people promoted.\n",
    "# People who got promoted had better performance ratings last year.\n",
    "# People who got promoted were also on average were more recent joiners to company then people who did not.\n",
    "# People who got promoted had better average training score.\n",
    "# People who got promoted also got more awards.\n",
    "# More % of people who met the KPIs got promoted\n",
    "# People with better performance ratings last year had better chance for promotion."
   ]
  },
  {
   "cell_type": "code",
   "execution_count": 18,
   "metadata": {},
   "outputs": [
    {
     "data": {
      "image/png": "[encoded data removed]",
      "text/plain": [
       "<Figure size 432x288 with 1 Axes>"
      ]
     },
     "metadata": {
      "needs_background": "light"
     },
     "output_type": "display_data"
    },
    {
     "data": {
      "image/png": "[encoded data removed]",
      "text/plain": [
       "<Figure size 432x288 with 1 Axes>"
      ]
     },
     "metadata": {
      "needs_background": "light"
     },
     "output_type": "display_data"
    },
    {
     "data": {
      "image/png": "[encoded data removed]",
      "text/plain": [
       "<Figure size 432x288 with 1 Axes>"
      ]
     },
     "metadata": {
      "needs_background": "light"
     },
     "output_type": "display_data"
    },
    {
     "data": {
      "image/png": "[encoded data removed]",
      "text/plain": [
       "<Figure size 432x288 with 1 Axes>"
      ]
     },
     "metadata": {
      "needs_background": "light"
     },
     "output_type": "display_data"
    },
    {
     "data": {
      "image/png": "[encoded data removed]",
      "text/plain": [
       "<Figure size 432x288 with 1 Axes>"
      ]
     },
     "metadata": {
      "needs_background": "light"
     },
     "output_type": "display_data"
    },
    {
     "data": {
      "image/png": "[encoded data removed]",
      "text/plain": [
       "<Figure size 432x288 with 1 Axes>"
      ]
     },
     "metadata": {
      "needs_background": "light"
     },
     "output_type": "display_data"
    },
    {
     "data": {
      "image/png": "[encoded data removed]",
      "text/plain": [
       "<Figure size 432x288 with 1 Axes>"
      ]
     },
     "metadata": {
      "needs_background": "light"
     },
     "output_type": "display_data"
    },
    {
     "data": {
      "image/png": "[encoded data removed]",
      "text/plain": [
       "<Figure size 432x288 with 1 Axes>"
      ]
     },
     "metadata": {
      "needs_background": "light"
     },
     "output_type": "display_data"
    },
    {
     "data": {
      "image/png": "[encoded data removed]",
      "text/plain": [
       "<Figure size 432x288 with 1 Axes>"
      ]
     },
     "metadata": {
      "needs_background": "light"
     },
     "output_type": "display_data"
    },
    {
     "data": {
      "image/png": "[encoded data removed]",
      "text/plain": [
       "<Figure size 432x288 with 1 Axes>"
      ]
     },
     "metadata": {
      "needs_background": "light"
     },
     "output_type": "display_data"
    }
   ],
   "source": [
    "#Observing Outliers\n",
    "for column in hr_data1:\n",
    "    if column != 'employee_id' and hr_data1[column].dtype != 'object':\n",
    "        \n",
    "        plt.figure()\n",
    "        hr_data1.boxplot(column)\n",
    "     \n",
    "# For number of trainings, its possible some people took more trainings.\n",
    "# (Maybe people with large value for lenghth of service have more trainings - I will check this hypothesis next)\n",
    "# For age its very much possible to have employees between 55 - 60 ( As most of companies have retirement age 65)\n",
    "# Same is true for length of service - very much possible some employees have been for very long"
   ]
  },
  {
   "cell_type": "code",
   "execution_count": 19,
   "metadata": {},
   "outputs": [
    {
     "data": {
      "text/html": [
       "<div>\n",
       "<style scoped>\n",
       "    .dataframe tbody tr th:only-of-type {\n",
       "        vertical-align: middle;\n",
       "    }\n",
       "\n",
       "    .dataframe tbody tr th {\n",
       "        vertical-align: top;\n",
       "    }\n",
       "\n",
       "    .dataframe thead th {\n",
       "        text-align: right;\n",
       "    }\n",
       "</style>\n",
       "<table border=\"1\" class=\"dataframe\">\n",
       "  <thead>\n",
       "    <tr style=\"text-align: right;\">\n",
       "      <th></th>\n",
       "      <th>length_of_service</th>\n",
       "    </tr>\n",
       "    <tr>\n",
       "      <th>no_of_trainings</th>\n",
       "      <th></th>\n",
       "    </tr>\n",
       "  </thead>\n",
       "  <tbody>\n",
       "    <tr>\n",
       "      <th>1</th>\n",
       "      <td>5.986592</td>\n",
       "    </tr>\n",
       "    <tr>\n",
       "      <th>2</th>\n",
       "      <td>5.430700</td>\n",
       "    </tr>\n",
       "    <tr>\n",
       "      <th>3</th>\n",
       "      <td>5.145270</td>\n",
       "    </tr>\n",
       "    <tr>\n",
       "      <th>4</th>\n",
       "      <td>4.912393</td>\n",
       "    </tr>\n",
       "    <tr>\n",
       "      <th>5</th>\n",
       "      <td>4.773438</td>\n",
       "    </tr>\n",
       "    <tr>\n",
       "      <th>6</th>\n",
       "      <td>5.750000</td>\n",
       "    </tr>\n",
       "    <tr>\n",
       "      <th>7</th>\n",
       "      <td>5.333333</td>\n",
       "    </tr>\n",
       "    <tr>\n",
       "      <th>8</th>\n",
       "      <td>2.600000</td>\n",
       "    </tr>\n",
       "    <tr>\n",
       "      <th>9</th>\n",
       "      <td>2.200000</td>\n",
       "    </tr>\n",
       "    <tr>\n",
       "      <th>10</th>\n",
       "      <td>8.000000</td>\n",
       "    </tr>\n",
       "  </tbody>\n",
       "</table>\n",
       "</div>"
      ],
      "text/plain": [
       "                 length_of_service\n",
       "no_of_trainings                   \n",
       "1                         5.986592\n",
       "2                         5.430700\n",
       "3                         5.145270\n",
       "4                         4.912393\n",
       "5                         4.773438\n",
       "6                         5.750000\n",
       "7                         5.333333\n",
       "8                         2.600000\n",
       "9                         2.200000\n",
       "10                        8.000000"
      ]
     },
     "execution_count": 19,
     "metadata": {},
     "output_type": "execute_result"
    }
   ],
   "source": [
    "#Check if people with higher lenth of service has more traings \n",
    "hr_data1.groupby('no_of_trainings').mean()[['length_of_service']]\n",
    "#My Hypothesis was not right. It doesnt seem number of trainings is more for people with higher length of service\n",
    "#"
   ]
  },
  {
   "cell_type": "markdown",
   "metadata": {},
   "source": [
    "# Visualizations from Categorical variables"
   ]
  },
  {
   "cell_type": "code",
   "execution_count": 20,
   "metadata": {},
   "outputs": [
    {
     "data": {
      "image/png": "[encoded data removed]",
      "text/plain": [
       "<Figure size 432x288 with 1 Axes>"
      ]
     },
     "metadata": {
      "needs_background": "light"
     },
     "output_type": "display_data"
    }
   ],
   "source": [
    "#Visualize how education impacts promotion\n",
    "pd.crosstab(hr_data1.education,hr_data1.is_promoted).plot(kind='bar')\n",
    "plt.title('Promotion Frequency for Education')\n",
    "plt.xlabel('Education')\n",
    "plt.ylabel('Frequency of Promotion')\n",
    "plt.savefig('Promotion_per_Edu')\n",
    "#Company does seem to hire more of bachelors\n",
    "#The frequency of promotion does seems to depend a great deal on the Education. \n",
    "# I will now look at ratio or promotion to each education to confirm"
   ]
  },
  {
   "cell_type": "code",
   "execution_count": 21,
   "metadata": {},
   "outputs": [
    {
     "data": {
      "image/png": "[encoded data removed]",
      "text/plain": [
       "<Figure size 432x288 with 1 Axes>"
      ]
     },
     "metadata": {
      "needs_background": "light"
     },
     "output_type": "display_data"
    }
   ],
   "source": [
    "#Visualize how education impacts promotion\n",
    "table = pd.crosstab(hr_data1.education,hr_data1.is_promoted)\n",
    "table.div(table.sum(1).astype(float), axis=0).plot(kind='bar', stacked=True)\n",
    "plt.title('Promotion Frequency for Education')\n",
    "plt.xlabel('Education')\n",
    "plt.ylabel('Frequency of Promotion')\n",
    "plt.savefig('Promotion_per_Edu')\n",
    "#The frequency of promotion does not depend a great deal on the Education. \n",
    "#Thus Education can not be a good predictor of the outcome variable."
   ]
  },
  {
   "cell_type": "code",
   "execution_count": 22,
   "metadata": {},
   "outputs": [
    {
     "data": {
      "image/png": "[encoded data removed]",
      "text/plain": [
       "<Figure size 432x288 with 1 Axes>"
      ]
     },
     "metadata": {
      "needs_background": "light"
     },
     "output_type": "display_data"
    }
   ],
   "source": [
    "#Visualize how education impacts promotion #department,region,education,gender,recruitment_channel\n",
    "table = pd.crosstab(hr_data1.department,hr_data1.is_promoted)\n",
    "table.div(table.sum(1).astype(float), axis=0).plot(kind='bar', stacked=True)\n",
    "plt.title('Stacked Bar Chart for Promotion VS department')\n",
    "plt.xlabel('Department')\n",
    "plt.ylabel('Promotion Ratio')\n",
    "plt.savefig('Promotion_per_Dept')\n",
    "\n",
    "#The promotion depends a great deal on the Department. \n",
    "#Thus Department can be a good predictor of the outcome variable."
   ]
  },
  {
   "cell_type": "code",
   "execution_count": 23,
   "metadata": {},
   "outputs": [
    {
     "data": {
      "image/png": "[encoded data removed]",
      "text/plain": [
       "<Figure size 432x288 with 1 Axes>"
      ]
     },
     "metadata": {
      "needs_background": "light"
     },
     "output_type": "display_data"
    }
   ],
   "source": [
    "#Visualize how education impacts promotion #department,region,education,gender,recruitment_channel\n",
    "table = pd.crosstab(hr_data1.region,hr_data1.is_promoted)\n",
    "table.div(table.sum(1).astype(float), axis=0).plot(kind='bar', stacked=True)\n",
    "plt.title('Stacked Bar Chart for Promotion VS region')\n",
    "plt.xlabel('Region')\n",
    "plt.ylabel('Promotion Ratio')\n",
    "plt.savefig('Promotion_per_Regn')\n",
    "\n",
    "#The promotion depends a great deal on the Region. \n",
    "#Thus Region can be a good predictor of the outcome variable."
   ]
  },
  {
   "cell_type": "code",
   "execution_count": 24,
   "metadata": {},
   "outputs": [
    {
     "data": {
      "image/png": "[encoded data removed]",
      "text/plain": [
       "<Figure size 432x288 with 1 Axes>"
      ]
     },
     "metadata": {
      "needs_background": "light"
     },
     "output_type": "display_data"
    }
   ],
   "source": [
    "#Visualize how education impacts promotion #department,region,education,gender,recruitment_channel\n",
    "table = pd.crosstab(hr_data1.gender,hr_data1.is_promoted)\n",
    "table.div(table.sum(1).astype(float), axis=0).plot(kind='bar', stacked=True)\n",
    "plt.title('Stacked Bar Chart for Promotion VS gender')\n",
    "plt.xlabel('Gender')\n",
    "plt.ylabel('Promotion Ratio')\n",
    "plt.savefig('Promotion_per_Gender')\n",
    "\n",
    "#The promotion doesnt not depend a great deal on the Gender. \n",
    "#Thus Gender can't be a good predictor of the outcome variable."
   ]
  },
  {
   "cell_type": "markdown",
   "metadata": {},
   "source": [
    "## Machine Learning starts \n",
    "## Being a classification problem I will try below machine learning algorithms \n",
    " 1. SVC\n",
    " 2. Random Forest\n",
    " 3. Logistic regression\n",
    " 4. KNN\n",
    " 5. XGBoost"
   ]
  },
  {
   "cell_type": "markdown",
   "metadata": {},
   "source": [
    "## My Approach\n",
    "\n",
    " 1. Beeing inbalanced data set Accuracy Score may be misleading\n",
    " 2. I will have to rate the model performance based on how well it will predict who got promoted \n",
    " 3. I will look for Precision/Recall and F1 Score for promoted = 1"
   ]
  },
  {
   "cell_type": "markdown",
   "metadata": {},
   "source": [
    "### Before we start will perform below data preparation steps:\n",
    " 1. Perform one hot encoding for categorical variables\n",
    " 2. store feature matrix and response vector"
   ]
  },
  {
   "cell_type": "code",
   "execution_count": 25,
   "metadata": {},
   "outputs": [],
   "source": [
    "from sklearn.linear_model import LogisticRegression\n",
    "from sklearn.svm import SVC\n",
    "from sklearn.ensemble import RandomForestClassifier\n",
    "import numpy as np\n",
    "from sklearn.metrics import roc_auc_score\n",
    "import matplotlib.pyplot as plt\n",
    "from sklearn.metrics import classification_report, confusion_matrix"
   ]
  },
  {
   "cell_type": "code",
   "execution_count": 26,
   "metadata": {},
   "outputs": [
    {
     "name": "stdout",
     "output_type": "stream",
     "text": [
      "<class 'pandas.core.frame.DataFrame'>\n",
      "RangeIndex: 54808 entries, 0 to 54807\n",
      "Data columns (total 62 columns):\n",
      " #   Column                       Non-Null Count  Dtype  \n",
      "---  ------                       --------------  -----  \n",
      " 0   employee_id                  54808 non-null  int64  \n",
      " 1   no_of_trainings              54808 non-null  int64  \n",
      " 2   age                          54808 non-null  int64  \n",
      " 3   previous_year_rating         54808 non-null  float64\n",
      " 4   length_of_service            54808 non-null  int64  \n",
      " 5   KPIs_met >80%                54808 non-null  int64  \n",
      " 6   awards_won?                  54808 non-null  int64  \n",
      " 7   avg_training_score           54808 non-null  int64  \n",
      " 8   is_promoted                  54808 non-null  int64  \n",
      " 9   education_isnull             54808 non-null  int32  \n",
      " 10  previous_year_rating_isnull  54808 non-null  int32  \n",
      " 11  DM_Analytics                 54808 non-null  uint8  \n",
      " 12  DM_Finance                   54808 non-null  uint8  \n",
      " 13  DM_HR                        54808 non-null  uint8  \n",
      " 14  DM_Legal                     54808 non-null  uint8  \n",
      " 15  DM_Operations                54808 non-null  uint8  \n",
      " 16  DM_Procurement               54808 non-null  uint8  \n",
      " 17  DM_R&D                       54808 non-null  uint8  \n",
      " 18  DM_Sales & Marketing         54808 non-null  uint8  \n",
      " 19  DM_Technology                54808 non-null  uint8  \n",
      " 20  DM_region_1                  54808 non-null  uint8  \n",
      " 21  DM_region_10                 54808 non-null  uint8  \n",
      " 22  DM_region_11                 54808 non-null  uint8  \n",
      " 23  DM_region_12                 54808 non-null  uint8  \n",
      " 24  DM_region_13                 54808 non-null  uint8  \n",
      " 25  DM_region_14                 54808 non-null  uint8  \n",
      " 26  DM_region_15                 54808 non-null  uint8  \n",
      " 27  DM_region_16                 54808 non-null  uint8  \n",
      " 28  DM_region_17                 54808 non-null  uint8  \n",
      " 29  DM_region_18                 54808 non-null  uint8  \n",
      " 30  DM_region_19                 54808 non-null  uint8  \n",
      " 31  DM_region_2                  54808 non-null  uint8  \n",
      " 32  DM_region_20                 54808 non-null  uint8  \n",
      " 33  DM_region_21                 54808 non-null  uint8  \n",
      " 34  DM_region_22                 54808 non-null  uint8  \n",
      " 35  DM_region_23                 54808 non-null  uint8  \n",
      " 36  DM_region_24                 54808 non-null  uint8  \n",
      " 37  DM_region_25                 54808 non-null  uint8  \n",
      " 38  DM_region_26                 54808 non-null  uint8  \n",
      " 39  DM_region_27                 54808 non-null  uint8  \n",
      " 40  DM_region_28                 54808 non-null  uint8  \n",
      " 41  DM_region_29                 54808 non-null  uint8  \n",
      " 42  DM_region_3                  54808 non-null  uint8  \n",
      " 43  DM_region_30                 54808 non-null  uint8  \n",
      " 44  DM_region_31                 54808 non-null  uint8  \n",
      " 45  DM_region_32                 54808 non-null  uint8  \n",
      " 46  DM_region_33                 54808 non-null  uint8  \n",
      " 47  DM_region_34                 54808 non-null  uint8  \n",
      " 48  DM_region_4                  54808 non-null  uint8  \n",
      " 49  DM_region_5                  54808 non-null  uint8  \n",
      " 50  DM_region_6                  54808 non-null  uint8  \n",
      " 51  DM_region_7                  54808 non-null  uint8  \n",
      " 52  DM_region_8                  54808 non-null  uint8  \n",
      " 53  DM_region_9                  54808 non-null  uint8  \n",
      " 54  DM_Bachelor's                54808 non-null  uint8  \n",
      " 55  DM_Below Secondary           54808 non-null  uint8  \n",
      " 56  DM_Master's & above          54808 non-null  uint8  \n",
      " 57  DM_f                         54808 non-null  uint8  \n",
      " 58  DM_m                         54808 non-null  uint8  \n",
      " 59  DM_other                     54808 non-null  uint8  \n",
      " 60  DM_referred                  54808 non-null  uint8  \n",
      " 61  DM_sourcing                  54808 non-null  uint8  \n",
      "dtypes: float64(1), int32(2), int64(8), uint8(51)\n",
      "memory usage: 6.8 MB\n"
     ]
    }
   ],
   "source": [
    "#Doing One hot encoding\n",
    "hr_data1 = pd.get_dummies(hr_data1, prefix ='DM')\n",
    "hr_data1.info()"
   ]
  },
  {
   "cell_type": "code",
   "execution_count": 27,
   "metadata": {},
   "outputs": [],
   "source": [
    "# store feature matrix in \"X\"\n",
    "X = hr_data1.drop(['is_promoted'], axis = 1)\n",
    "# store response vector in \"y\"\n",
    "y = hr_data1['is_promoted']"
   ]
  },
  {
   "cell_type": "code",
   "execution_count": 136,
   "metadata": {},
   "outputs": [
    {
     "name": "stdout",
     "output_type": "stream",
     "text": [
      "y_train class distribution\n",
      "0    0.91483\n",
      "1    0.08517\n",
      "Name: is_promoted, dtype: float64\n",
      "y_test class distribution\n",
      "0    0.91483\n",
      "1    0.08517\n",
      "Name: is_promoted, dtype: float64\n"
     ]
    }
   ],
   "source": [
    "# Splitting the dataset into the Training set and Test set\n",
    "from sklearn.model_selection import train_test_split\n",
    "X_train, X_test, y_train, y_test = train_test_split(X, y, test_size = 0.25, random_state = 5,stratify=y, shuffle=True)\n",
    "# show the distribution\n",
    "print('y_train class distribution')\n",
    "print(y_train.value_counts(normalize=True))\n",
    "print('y_test class distribution')\n",
    "print(y_test.value_counts(normalize=True))"
   ]
  },
  {
   "cell_type": "code",
   "execution_count": 135,
   "metadata": {},
   "outputs": [],
   "source": [
    "# Feature Scaling\n",
    "from sklearn.preprocessing import StandardScaler\n",
    "sc = StandardScaler()\n",
    "X_train = sc.fit_transform(X_train)\n",
    "X_test = sc.transform(X_test)"
   ]
  },
  {
   "cell_type": "markdown",
   "metadata": {},
   "source": [
    "<b><u>SVC Classification</b></u>\n",
    "\n",
    "What is SVC : Support Vectors Classifier tries to find the best hyperplane to separate the different classes by maximizing the distance between sample points and the hyperplane.\n",
    "\n",
    "Some details on important parameters I will use for tuning\n",
    "\n",
    "### <b><u>Kernel</b></u>: \n",
    "kernel parameters selects the type of hyperplane used to separate the data. Using ‘linear’ will use a linear hyperplane (a line in the case of 2D data). ‘rbf’ and ‘poly’ uses a non linear hyper-plane\n",
    "### <b><u>Gamma</b></u>: \n",
    "gamma is a parameter for non linear hyperplanes. The higher the gamma value it tries to exactly fit the training data set\n",
    "### <b><u>C</b></u>: \n",
    "C is the penalty parameter of the error term. It controls the trade off between smooth decision boundary and classifying the training points correctly"
   ]
  },
  {
   "cell_type": "code",
   "execution_count": 32,
   "metadata": {},
   "outputs": [],
   "source": [
    "# define model and parameters\n",
    "\n",
    "kernels = ['poly', 'rbf', 'sigmoid']\n",
    "c_values = [50, 10, 1.0, 0.1]\n",
    "gammas = [0.1,'scale']\n"
   ]
  },
  {
   "cell_type": "code",
   "execution_count": 33,
   "metadata": {},
   "outputs": [
    {
     "name": "stdout",
     "output_type": "stream",
     "text": [
      "Steps completed : 2\n",
      "Steps completed : 10\n",
      "Steps completed : 20\n"
     ]
    }
   ],
   "source": [
    "df_svc = pd.DataFrame([{'index':object(), 'precision': float(), 'recall': float(), 'f1-score':float(), 'support':float(),\n",
    "                            'Model':object(),   'Parameters':object(),'Type':object(), 'Step': int()}])\n",
    "df_svc = pd.DataFrame([], None, df_svc.columns)\n",
    "from sklearn.ensemble import BaggingClassifier\n",
    "i=1\n",
    "# for loop to iterate for each Parameters\n",
    "for kernel in kernels :\n",
    "    for c_value in c_values:\n",
    "        for gamma in gammas:\n",
    "            n_estimators = 10\n",
    "            model = BaggingClassifier(SVC(kernel=kernel,C=c_value,gamma=gamma,class_weight='balanced'),max_samples=1.0 / n_estimators, n_estimators=n_estimators,n_jobs=-1)\n",
    "            parameter = 'c_value = '+str(c_value)+',gamma='+ str(gamma)+',kernel='+kernel\n",
    "            model.fit(X_train,y_train)\n",
    "            y_true, y_pred = y_train, model.predict(X_train)\n",
    "            report = classification_report(y_true, y_pred, output_dict=True)\n",
    "            df_svc= df_svc.append(pd.DataFrame(report).transpose().reset_index().assign(Model ='SVC_bagging',Parameters= parameter,Type ='Tr',Step = i),ignore_index=True)\n",
    "            y_true, y_pred = y_test, model.predict(X_test)\n",
    "            report = classification_report(y_true, y_pred, output_dict=True)\n",
    "            df_svc= df_svc.append(pd.DataFrame(report).transpose().reset_index().assign(Model ='SVC_bagging',Parameters= parameter,Type ='Ts',Step = i),ignore_index=True)\n",
    "            i+=1\n",
    "            if(i==2 or i ==10 or i ==20 ):\n",
    "                print('Steps completed :',i)"
   ]
  },
  {
   "cell_type": "markdown",
   "metadata": {},
   "source": [
    " ### Lets get the best training and test score for Is_promoted = 1 for SVC model"
   ]
  },
  {
   "cell_type": "code",
   "execution_count": 92,
   "metadata": {},
   "outputs": [
    {
     "data": {
      "text/html": [
       "<div>\n",
       "<style scoped>\n",
       "    .dataframe tbody tr th:only-of-type {\n",
       "        vertical-align: middle;\n",
       "    }\n",
       "\n",
       "    .dataframe tbody tr th {\n",
       "        vertical-align: top;\n",
       "    }\n",
       "\n",
       "    .dataframe thead th {\n",
       "        text-align: right;\n",
       "    }\n",
       "</style>\n",
       "<table border=\"1\" class=\"dataframe\">\n",
       "  <thead>\n",
       "    <tr style=\"text-align: right;\">\n",
       "      <th></th>\n",
       "      <th>item</th>\n",
       "      <th>precision</th>\n",
       "      <th>recall</th>\n",
       "      <th>f1-score</th>\n",
       "      <th>support</th>\n",
       "      <th>Model</th>\n",
       "      <th>Parameters</th>\n",
       "      <th>Type</th>\n",
       "      <th>Step</th>\n",
       "    </tr>\n",
       "  </thead>\n",
       "  <tbody>\n",
       "    <tr>\n",
       "      <th>131</th>\n",
       "      <td>1</td>\n",
       "      <td>0.272589</td>\n",
       "      <td>0.663146</td>\n",
       "      <td>0.386362</td>\n",
       "      <td>3503.0</td>\n",
       "      <td>SVC_bagging</td>\n",
       "      <td>c_value = 1.0,gamma=scale,kernel=rbf</td>\n",
       "      <td>Tr</td>\n",
       "      <td>14</td>\n",
       "    </tr>\n",
       "    <tr>\n",
       "      <th>136</th>\n",
       "      <td>1</td>\n",
       "      <td>0.263439</td>\n",
       "      <td>0.635193</td>\n",
       "      <td>0.372421</td>\n",
       "      <td>1165.0</td>\n",
       "      <td>SVC_bagging</td>\n",
       "      <td>c_value = 1.0,gamma=scale,kernel=rbf</td>\n",
       "      <td>Ts</td>\n",
       "      <td>14</td>\n",
       "    </tr>\n",
       "  </tbody>\n",
       "</table>\n",
       "</div>"
      ],
      "text/plain": [
       "    item  precision    recall  f1-score  support        Model  \\\n",
       "131    1   0.272589  0.663146  0.386362   3503.0  SVC_bagging   \n",
       "136    1   0.263439  0.635193  0.372421   1165.0  SVC_bagging   \n",
       "\n",
       "                               Parameters Type Step  \n",
       "131  c_value = 1.0,gamma=scale,kernel=rbf   Tr   14  \n",
       "136  c_value = 1.0,gamma=scale,kernel=rbf   Ts   14  "
      ]
     },
     "execution_count": 92,
     "metadata": {},
     "output_type": "execute_result"
    }
   ],
   "source": [
    "df_svc.columns = ['item', 'precision', 'recall', 'f1-score', 'support', 'Model','Parameters', 'Type', 'Step']\n",
    "a=df_svc[(df_svc.item == '1') & (df_svc.Type == 'Ts')]['f1-score'].max()\n",
    "b = df_svc[df_svc['f1-score'] == a]['Step'].max()\n",
    "df_svc[(df_svc['Step'] == b) &(df_svc['item'] == '1') ]"
   ]
  },
  {
   "cell_type": "code",
   "execution_count": 157,
   "metadata": {},
   "outputs": [
    {
     "name": "stderr",
     "output_type": "stream",
     "text": [
      "C:\\Users\\HappyPC\\anaconda3\\lib\\site-packages\\ipykernel_launcher.py:1: UserWarning: Boolean Series key will be reindexed to match DataFrame index.\n",
      "  \"\"\"Entry point for launching an IPython kernel.\n"
     ]
    },
    {
     "data": {
      "text/html": [
       "<div>\n",
       "<style scoped>\n",
       "    .dataframe tbody tr th:only-of-type {\n",
       "        vertical-align: middle;\n",
       "    }\n",
       "\n",
       "    .dataframe tbody tr th {\n",
       "        vertical-align: top;\n",
       "    }\n",
       "\n",
       "    .dataframe thead th {\n",
       "        text-align: right;\n",
       "    }\n",
       "</style>\n",
       "<table border=\"1\" class=\"dataframe\">\n",
       "  <thead>\n",
       "    <tr style=\"text-align: right;\">\n",
       "      <th></th>\n",
       "      <th>item</th>\n",
       "      <th>precision</th>\n",
       "      <th>recall</th>\n",
       "      <th>f1-score</th>\n",
       "      <th>support</th>\n",
       "      <th>Model</th>\n",
       "      <th>Parameters</th>\n",
       "      <th>Type</th>\n",
       "      <th>Step</th>\n",
       "    </tr>\n",
       "  </thead>\n",
       "  <tbody>\n",
       "    <tr>\n",
       "      <th>236</th>\n",
       "      <td>1</td>\n",
       "      <td>0.190947</td>\n",
       "      <td>0.796567</td>\n",
       "      <td>0.308050</td>\n",
       "      <td>1165.0</td>\n",
       "      <td>SVC_bagging</td>\n",
       "      <td>c_value = 0.1,gamma=scale,kernel=sigmoid</td>\n",
       "      <td>Ts</td>\n",
       "      <td>24</td>\n",
       "    </tr>\n",
       "    <tr>\n",
       "      <th>176</th>\n",
       "      <td>1</td>\n",
       "      <td>0.202564</td>\n",
       "      <td>0.759657</td>\n",
       "      <td>0.319841</td>\n",
       "      <td>1165.0</td>\n",
       "      <td>SVC_bagging</td>\n",
       "      <td>c_value = 50,gamma=scale,kernel=sigmoid</td>\n",
       "      <td>Ts</td>\n",
       "      <td>18</td>\n",
       "    </tr>\n",
       "    <tr>\n",
       "      <th>66</th>\n",
       "      <td>1</td>\n",
       "      <td>0.413102</td>\n",
       "      <td>0.265236</td>\n",
       "      <td>0.323053</td>\n",
       "      <td>1165.0</td>\n",
       "      <td>SVC_bagging</td>\n",
       "      <td>c_value = 0.1,gamma=0.1,kernel=poly</td>\n",
       "      <td>Ts</td>\n",
       "      <td>7</td>\n",
       "    </tr>\n",
       "    <tr>\n",
       "      <th>156</th>\n",
       "      <td>1</td>\n",
       "      <td>0.214501</td>\n",
       "      <td>0.672961</td>\n",
       "      <td>0.325311</td>\n",
       "      <td>1165.0</td>\n",
       "      <td>SVC_bagging</td>\n",
       "      <td>c_value = 0.1,gamma=scale,kernel=rbf</td>\n",
       "      <td>Ts</td>\n",
       "      <td>16</td>\n",
       "    </tr>\n",
       "    <tr>\n",
       "      <th>56</th>\n",
       "      <td>1</td>\n",
       "      <td>0.265185</td>\n",
       "      <td>0.460944</td>\n",
       "      <td>0.336677</td>\n",
       "      <td>1165.0</td>\n",
       "      <td>SVC_bagging</td>\n",
       "      <td>c_value = 1.0,gamma=scale,kernel=poly</td>\n",
       "      <td>Ts</td>\n",
       "      <td>6</td>\n",
       "    </tr>\n",
       "    <tr>\n",
       "      <th>216</th>\n",
       "      <td>1</td>\n",
       "      <td>0.211859</td>\n",
       "      <td>0.861803</td>\n",
       "      <td>0.340108</td>\n",
       "      <td>1165.0</td>\n",
       "      <td>SVC_bagging</td>\n",
       "      <td>c_value = 1.0,gamma=scale,kernel=sigmoid</td>\n",
       "      <td>Ts</td>\n",
       "      <td>22</td>\n",
       "    </tr>\n",
       "    <tr>\n",
       "      <th>196</th>\n",
       "      <td>1</td>\n",
       "      <td>0.222140</td>\n",
       "      <td>0.776824</td>\n",
       "      <td>0.345486</td>\n",
       "      <td>1165.0</td>\n",
       "      <td>SVC_bagging</td>\n",
       "      <td>c_value = 10,gamma=scale,kernel=sigmoid</td>\n",
       "      <td>Ts</td>\n",
       "      <td>20</td>\n",
       "    </tr>\n",
       "    <tr>\n",
       "      <th>96</th>\n",
       "      <td>1</td>\n",
       "      <td>0.575188</td>\n",
       "      <td>0.262661</td>\n",
       "      <td>0.360636</td>\n",
       "      <td>1165.0</td>\n",
       "      <td>SVC_bagging</td>\n",
       "      <td>c_value = 50,gamma=scale,kernel=rbf</td>\n",
       "      <td>Ts</td>\n",
       "      <td>10</td>\n",
       "    </tr>\n",
       "    <tr>\n",
       "      <th>116</th>\n",
       "      <td>1</td>\n",
       "      <td>0.374539</td>\n",
       "      <td>0.348498</td>\n",
       "      <td>0.361049</td>\n",
       "      <td>1165.0</td>\n",
       "      <td>SVC_bagging</td>\n",
       "      <td>c_value = 10,gamma=scale,kernel=rbf</td>\n",
       "      <td>Ts</td>\n",
       "      <td>12</td>\n",
       "    </tr>\n",
       "    <tr>\n",
       "      <th>136</th>\n",
       "      <td>1</td>\n",
       "      <td>0.263439</td>\n",
       "      <td>0.635193</td>\n",
       "      <td>0.372421</td>\n",
       "      <td>1165.0</td>\n",
       "      <td>SVC_bagging</td>\n",
       "      <td>c_value = 1.0,gamma=scale,kernel=rbf</td>\n",
       "      <td>Ts</td>\n",
       "      <td>14</td>\n",
       "    </tr>\n",
       "  </tbody>\n",
       "</table>\n",
       "</div>"
      ],
      "text/plain": [
       "    item  precision    recall  f1-score  support        Model  \\\n",
       "236  1    0.190947   0.796567  0.308050  1165.0   SVC_bagging   \n",
       "176  1    0.202564   0.759657  0.319841  1165.0   SVC_bagging   \n",
       "66   1    0.413102   0.265236  0.323053  1165.0   SVC_bagging   \n",
       "156  1    0.214501   0.672961  0.325311  1165.0   SVC_bagging   \n",
       "56   1    0.265185   0.460944  0.336677  1165.0   SVC_bagging   \n",
       "216  1    0.211859   0.861803  0.340108  1165.0   SVC_bagging   \n",
       "196  1    0.222140   0.776824  0.345486  1165.0   SVC_bagging   \n",
       "96   1    0.575188   0.262661  0.360636  1165.0   SVC_bagging   \n",
       "116  1    0.374539   0.348498  0.361049  1165.0   SVC_bagging   \n",
       "136  1    0.263439   0.635193  0.372421  1165.0   SVC_bagging   \n",
       "\n",
       "                                   Parameters Type Step  \n",
       "236  c_value = 0.1,gamma=scale,kernel=sigmoid  Ts   24   \n",
       "176  c_value = 50,gamma=scale,kernel=sigmoid   Ts   18   \n",
       "66   c_value = 0.1,gamma=0.1,kernel=poly       Ts   7    \n",
       "156  c_value = 0.1,gamma=scale,kernel=rbf      Ts   16   \n",
       "56   c_value = 1.0,gamma=scale,kernel=poly     Ts   6    \n",
       "216  c_value = 1.0,gamma=scale,kernel=sigmoid  Ts   22   \n",
       "196  c_value = 10,gamma=scale,kernel=sigmoid   Ts   20   \n",
       "96   c_value = 50,gamma=scale,kernel=rbf       Ts   10   \n",
       "116  c_value = 10,gamma=scale,kernel=rbf       Ts   12   \n",
       "136  c_value = 1.0,gamma=scale,kernel=rbf      Ts   14   "
      ]
     },
     "execution_count": 157,
     "metadata": {},
     "output_type": "execute_result"
    }
   ],
   "source": [
    "df_svc.sort_values('f1-score')[(df_svc.item == '1') & (df_svc.Type == 'Ts')].tail(10)"
   ]
  },
  {
   "cell_type": "markdown",
   "metadata": {},
   "source": [
    "#### <font color='red'><u>With a score F-Score of 37% I do not find this as a suitable model to predict if someone should be promoted or not. \n",
    "#### We will now see how does RandomForrest perform"
   ]
  },
  {
   "cell_type": "markdown",
   "metadata": {},
   "source": [
    "<b><u>RandomForrest Classification</b></u>\n",
    "\n",
    "What is RandomForest : Random Forest is a learning method that operates by constructing multiple decision trees. The final decision is made based on the majority of the trees and is chosen by the random forest\n",
    "\n",
    "Some details on important parameters I will use for tuning\n",
    "\n",
    "### <b><u>n_estimators</b></u>: \n",
    "The n_estimators parameter specifies the number of trees in the forest of the model. The default value for this parameter is 10, which means that 10 different decision trees will be constructed in the random forest.\n",
    "### <b><u>max_depth</b></u>: \n",
    "The max_depth parameter specifies the maximum depth of each tree. The default value for max_depth is None, which means that each tree will expand until every leaf is pure. A pure leaf is one where all of the data on the leaf comes from the same class.\n",
    "### <b><u>min_samples_split</b></u>: \n",
    "The min_samples_leaf parameter specifies the minimum number of samples required to be at a leaf node. The default value for this parameter is 1, which means that every leaf must have at least 1 sample that it classifies.\n",
    "### <b><u>max_features</b></u>: \n",
    "The number of features to consider when looking for the best split:"
   ]
  },
  {
   "cell_type": "code",
   "execution_count": 67,
   "metadata": {},
   "outputs": [],
   "source": [
    "# number of trees in random forest\n",
    "n_estimators = [int(x) for x in np.linspace(start = 200, stop = 2000, num = 10)]\n",
    "# number of features at every split\n",
    "max_features = ['auto', 'sqrt','log2']\n",
    "# max depth\n",
    "max_depths = [int(x) for x in np.linspace(100, 500, num = 10)]\n",
    "#min_samples_split\n",
    "min_samples_splits = [3, 5, 10]"
   ]
  },
  {
   "cell_type": "code",
   "execution_count": 68,
   "metadata": {},
   "outputs": [],
   "source": [
    "df_rf = pd.DataFrame([{'index':object(), 'precision': float(), 'recall': float(), 'f1-score':float(), 'support':float(),\n",
    "                            'Model':object(),   'Parameters':object(),'Type':object(), 'Step': int()}])\n",
    "df_rf = pd.DataFrame([], None, df_rf.columns)\n",
    "i=1\n",
    "# for loop to iterate for each leaf size\n",
    "for n_estimator in n_estimators :\n",
    "    for max_feature in max_features:\n",
    "        for max_depth in max_depths:\n",
    "            for min_samples_split in min_samples_splits:\n",
    "                model = RandomForestClassifier(n_estimators = n_estimator, max_features = max_feature,\n",
    "                                   max_depth=max_depth,\n",
    "                                  n_jobs = -1,class_weight='balanced',\n",
    "                                  random_state =50)\n",
    "                parameter = 'n_estimators = '+str(n_estimator)+',max_features='+ max_feature+',max_depth='+ str(max_depth)+',min_samples_split='+str(min_samples_split)\n",
    "                model.fit(X_train,y_train)\n",
    "                y_true, y_pred = y_train, model.predict(X_train)\n",
    "                report = classification_report(y_true, y_pred, output_dict=True)\n",
    "                df_rf= df_rf.append(pd.DataFrame(report).transpose().reset_index().assign(Model ='RandomForest',Parameters= parameter,Type ='Tr',Step = i),ignore_index=True)\n",
    "                y_true, y_pred = y_test, model.predict(X_test)\n",
    "                report = classification_report(y_true, y_pred, output_dict=True)\n",
    "                df_rf= df_rf.append(pd.DataFrame(report).transpose().reset_index().assign(Model ='RandomForest',Parameters= parameter,Type ='Ts',Step = i),ignore_index=True)\n",
    "                i+=1\n",
    "            "
   ]
  },
  {
   "cell_type": "code",
   "execution_count": 90,
   "metadata": {},
   "outputs": [
    {
     "data": {
      "text/html": [
       "<div>\n",
       "<style scoped>\n",
       "    .dataframe tbody tr th:only-of-type {\n",
       "        vertical-align: middle;\n",
       "    }\n",
       "\n",
       "    .dataframe tbody tr th {\n",
       "        vertical-align: top;\n",
       "    }\n",
       "\n",
       "    .dataframe thead th {\n",
       "        text-align: right;\n",
       "    }\n",
       "</style>\n",
       "<table border=\"1\" class=\"dataframe\">\n",
       "  <thead>\n",
       "    <tr style=\"text-align: right;\">\n",
       "      <th></th>\n",
       "      <th>item</th>\n",
       "      <th>precision</th>\n",
       "      <th>recall</th>\n",
       "      <th>f1-score</th>\n",
       "      <th>support</th>\n",
       "      <th>Model</th>\n",
       "      <th>Parameters</th>\n",
       "      <th>Type</th>\n",
       "      <th>Step</th>\n",
       "    </tr>\n",
       "  </thead>\n",
       "  <tbody>\n",
       "    <tr>\n",
       "      <th>5991</th>\n",
       "      <td>1</td>\n",
       "      <td>1.000000</td>\n",
       "      <td>1.000000</td>\n",
       "      <td>1.000000</td>\n",
       "      <td>3503.0</td>\n",
       "      <td>RandomForest</td>\n",
       "      <td>n_estimators = 1400,max_features=sqrt,max_dept...</td>\n",
       "      <td>Tr</td>\n",
       "      <td>600</td>\n",
       "    </tr>\n",
       "    <tr>\n",
       "      <th>5996</th>\n",
       "      <td>1</td>\n",
       "      <td>0.926254</td>\n",
       "      <td>0.269528</td>\n",
       "      <td>0.417553</td>\n",
       "      <td>1165.0</td>\n",
       "      <td>RandomForest</td>\n",
       "      <td>n_estimators = 1400,max_features=sqrt,max_dept...</td>\n",
       "      <td>Ts</td>\n",
       "      <td>600</td>\n",
       "    </tr>\n",
       "  </tbody>\n",
       "</table>\n",
       "</div>"
      ],
      "text/plain": [
       "     item  precision    recall  f1-score  support         Model  \\\n",
       "5991    1   1.000000  1.000000  1.000000   3503.0  RandomForest   \n",
       "5996    1   0.926254  0.269528  0.417553   1165.0  RandomForest   \n",
       "\n",
       "                                             Parameters Type Step  \n",
       "5991  n_estimators = 1400,max_features=sqrt,max_dept...   Tr  600  \n",
       "5996  n_estimators = 1400,max_features=sqrt,max_dept...   Ts  600  "
      ]
     },
     "execution_count": 90,
     "metadata": {},
     "output_type": "execute_result"
    }
   ],
   "source": [
    "df_rf.columns = ['item', 'precision', 'recall', 'f1-score', 'support', 'Model','Parameters', 'Type', 'Step']\n",
    "a=df_rf[(df_rf.item == '1') & (df_rf.Type == 'Ts')]['f1-score'].max()\n",
    "b = df_rf[df_rf['f1-score'] == a]['Step'].max()\n",
    "df_rf[(df_rf['Step'] == b) &(df_rf['item'] == '1') ]\n"
   ]
  },
  {
   "cell_type": "markdown",
   "metadata": {},
   "source": [
    "#### <font color='red'><u>With a score F-Score of 41% I do find RandomForest a slightly better model to SVC\n",
    "### But it seems model is not generalizing well and has overfitting issues.\n",
    "#### We will now see how does RandomForrest perform"
   ]
  },
  {
   "cell_type": "markdown",
   "metadata": {},
   "source": [
    "### <b><u>Logistic regression</b></u>\n",
    "\n",
    "What is Logistic regression : Logistic regression is the appropriate regression analysis to conduct when the dependent variable is binary.  Like all regression analyses, the logistic regression is a predictive analysis and is used to describe data and to explain the relationship between one dependent binary variable and one or more nominal, ordinal, interval or ratio-level independent variables.\n",
    "\n",
    "Some details on important parameters I will use for tuning\n",
    "\n",
    "### <b><u>Penalty:</b></u>\n",
    "This hyper-parameter is used to specify the type of normalization used.  Few of the values for this hyper-parameter can be l1, l2 or none. The default value is l2.\n",
    "### <b><u>Inverse of regularization(C):</b></u> \n",
    "This hyper-parameter is denoted as C. Smaller values of this hyper-parameter indicates a stronger regularization. Default value is 1.0\n",
    "### <b><u>Solver:</b></u> \n",
    "This indicates which algorithm to use in the optimization problem. Default value is lbfgs. other possible values are newton-cg, liblinear, sag, saga."
   ]
  },
  {
   "cell_type": "code",
   "execution_count": 30,
   "metadata": {},
   "outputs": [],
   "source": [
    "## define models and parameters\n",
    "\n",
    "penalties = ['l1', 'l2']\n",
    "c_values = [0.01, 0.1, 1, 10, 100, 1000]\n",
    "solvers = ['liblinear', 'saga']"
   ]
  },
  {
   "cell_type": "code",
   "execution_count": 31,
   "metadata": {},
   "outputs": [
    {
     "name": "stderr",
     "output_type": "stream",
     "text": [
      "C:\\Users\\HappyPC\\anaconda3\\lib\\site-packages\\sklearn\\linear_model\\_sag.py:330: ConvergenceWarning: The max_iter was reached which means the coef_ did not converge\n",
      "  \"the coef_ did not converge\", ConvergenceWarning)\n"
     ]
    }
   ],
   "source": [
    "df_lg = pd.DataFrame([{'index':object(), 'precision': float(), 'recall': float(), 'f1-score':float(), 'support':float(),\n",
    "                            'Model':object(),   'Parameters':object(),'Type':object(), 'Step': int()}])\n",
    "df_lg = pd.DataFrame([], None, df_lg.columns)\n",
    "i=1\n",
    "# for loop to iterate for each leaf size\n",
    "for solver in solvers :\n",
    "    for penalty in penalties:\n",
    "        for c_value in c_values:\n",
    "            model = LogisticRegression(solver=solver,penalty=penalty,C=c_value,multi_class='ovr',class_weight='balanced')\n",
    "            parameter = 'c_value = '+str(c_value)+',solver='+ solver+',penalty='+penalty\n",
    "            model.fit(X_train,y_train)\n",
    "            y_true, y_pred = y_train, model.predict(X_train)\n",
    "            report = classification_report(y_true, y_pred, output_dict=True)\n",
    "            df_lg= df_lg.append(pd.DataFrame(report).transpose().reset_index().assign(Model ='LogisticR',Parameters= parameter,Type ='Tr',Step = i),ignore_index=True)\n",
    "            y_true, y_pred = y_test, model.predict(X_test)\n",
    "            report = classification_report(y_true, y_pred, output_dict=True)\n",
    "            df_lg= df_lg.append(pd.DataFrame(report).transpose().reset_index().assign(Model ='LogisticR',Parameters= parameter,Type ='Ts',Step = i),ignore_index=True)\n",
    "            i+=1\n",
    "            "
   ]
  },
  {
   "cell_type": "markdown",
   "metadata": {},
   "source": [
    " ### Lets get the best training and test score for Is_promoted = 1 for Logestic regression model"
   ]
  },
  {
   "cell_type": "code",
   "execution_count": 91,
   "metadata": {},
   "outputs": [
    {
     "data": {
      "text/html": [
       "<div>\n",
       "<style scoped>\n",
       "    .dataframe tbody tr th:only-of-type {\n",
       "        vertical-align: middle;\n",
       "    }\n",
       "\n",
       "    .dataframe tbody tr th {\n",
       "        vertical-align: top;\n",
       "    }\n",
       "\n",
       "    .dataframe thead th {\n",
       "        text-align: right;\n",
       "    }\n",
       "</style>\n",
       "<table border=\"1\" class=\"dataframe\">\n",
       "  <thead>\n",
       "    <tr style=\"text-align: right;\">\n",
       "      <th></th>\n",
       "      <th>item</th>\n",
       "      <th>precision</th>\n",
       "      <th>recall</th>\n",
       "      <th>f1-score</th>\n",
       "      <th>support</th>\n",
       "      <th>Model</th>\n",
       "      <th>Parameters</th>\n",
       "      <th>Type</th>\n",
       "      <th>Step</th>\n",
       "    </tr>\n",
       "  </thead>\n",
       "  <tbody>\n",
       "    <tr>\n",
       "      <th>71</th>\n",
       "      <td>1</td>\n",
       "      <td>0.243419</td>\n",
       "      <td>0.821011</td>\n",
       "      <td>0.375506</td>\n",
       "      <td>3503.0</td>\n",
       "      <td>LogisticR</td>\n",
       "      <td>c_value = 0.1,solver=liblinear,penalty=l2</td>\n",
       "      <td>Tr</td>\n",
       "      <td>8</td>\n",
       "    </tr>\n",
       "    <tr>\n",
       "      <th>76</th>\n",
       "      <td>1</td>\n",
       "      <td>0.247579</td>\n",
       "      <td>0.812017</td>\n",
       "      <td>0.379462</td>\n",
       "      <td>1165.0</td>\n",
       "      <td>LogisticR</td>\n",
       "      <td>c_value = 0.1,solver=liblinear,penalty=l2</td>\n",
       "      <td>Ts</td>\n",
       "      <td>8</td>\n",
       "    </tr>\n",
       "  </tbody>\n",
       "</table>\n",
       "</div>"
      ],
      "text/plain": [
       "   item  precision    recall  f1-score  support      Model  \\\n",
       "71    1   0.243419  0.821011  0.375506   3503.0  LogisticR   \n",
       "76    1   0.247579  0.812017  0.379462   1165.0  LogisticR   \n",
       "\n",
       "                                   Parameters Type Step  \n",
       "71  c_value = 0.1,solver=liblinear,penalty=l2   Tr    8  \n",
       "76  c_value = 0.1,solver=liblinear,penalty=l2   Ts    8  "
      ]
     },
     "execution_count": 91,
     "metadata": {},
     "output_type": "execute_result"
    }
   ],
   "source": [
    "df_lg.columns = ['item', 'precision', 'recall', 'f1-score', 'support', 'Model','Parameters', 'Type', 'Step']\n",
    "a=df_lg[(df_lg.item == '1')  & (df_lg.Type == 'Ts')]['f1-score'].max()\n",
    "b = df_lg[df_lg['f1-score'] == a]['Step'].max()\n",
    "df_lg[(df_lg['Step'] == b) &(df_lg['item'] == '1') ]"
   ]
  },
  {
   "cell_type": "markdown",
   "metadata": {},
   "source": [
    "### <u>Now we will try to  visualise the coefficients that have the largest positive and negative impact on the probability of getting promoted "
   ]
  },
  {
   "cell_type": "code",
   "execution_count": 146,
   "metadata": {},
   "outputs": [
    {
     "data": {
      "text/plain": [
       "LogisticRegression(C=0.1, class_weight='balanced', dual=False,\n",
       "                   fit_intercept=True, intercept_scaling=1, l1_ratio=None,\n",
       "                   max_iter=100, multi_class='ovr', n_jobs=None, penalty='l2',\n",
       "                   random_state=None, solver='liblinear', tol=0.0001, verbose=0,\n",
       "                   warm_start=False)"
      ]
     },
     "execution_count": 146,
     "metadata": {},
     "output_type": "execute_result"
    }
   ],
   "source": [
    "#Get Coefficient vlues \n",
    "model_lg = LogisticRegression(C = 0.1,solver='liblinear',penalty='l2',multi_class='ovr',class_weight='balanced')\n",
    "model_lg.fit(X_train,y_train)"
   ]
  },
  {
   "cell_type": "code",
   "execution_count": 147,
   "metadata": {},
   "outputs": [
    {
     "data": {
      "image/png": "[encoded data removed]",
      "text/plain": [
       "<Figure size 720x432 with 1 Axes>"
      ]
     },
     "metadata": {
      "needs_background": "light"
     },
     "output_type": "display_data"
    },
    {
     "data": {
      "image/png": "[encoded data removed]",
      "text/plain": [
       "<Figure size 720x432 with 1 Axes>"
      ]
     },
     "metadata": {
      "needs_background": "light"
     },
     "output_type": "display_data"
    }
   ],
   "source": [
    " # Get the models coefficients (and top 5 and bottom 5)\n",
    "full_col_names = list(X_train.columns.values)\n",
    "logReg_coeff = pd.DataFrame({'feature_name': full_col_names, 'model_coefficient': model_lg.coef_.transpose().flatten()})\n",
    "logReg_coeff = logReg_coeff.sort_values('model_coefficient',ascending=False)\n",
    "logReg_coeff_top = logReg_coeff.head(5)\n",
    "logReg_coeff_bottom = logReg_coeff.tail(5)\n",
    "# Plot top 5 coefficients\n",
    "plt.figure().set_size_inches(10, 6)\n",
    "fg3 = sns.barplot(x='feature_name', y='model_coefficient',data=logReg_coeff_top, palette=\"Blues_d\")\n",
    "fg3.set_xticklabels(rotation=35, labels=logReg_coeff_top.feature_name)\n",
    "# Plot bottom 5 coefficients\n",
    "plt.figure().set_size_inches(10,6)\n",
    "fg4 = sns.barplot(x='feature_name', y='model_coefficient',data=logReg_coeff_bottom, palette=\"GnBu_d\")\n",
    "fg4.set_xticklabels(rotation=35, labels=logReg_coeff_bottom.feature_name)\n",
    "plt.xlabel('Feature')\n",
    "plt.ylabel('Coefficient')\n",
    "plt.subplots_adjust(bottom=0.4)\n",
    "plt.savefig('figure_4.png')"
   ]
  },
  {
   "cell_type": "markdown",
   "metadata": {},
   "source": [
    "    ### We can see from these graphs that the odds are brightest for people who are in Sales & Marketing department and have have met KPI>80 %\n",
    "\n",
    "    ### Also if you work with R&D or Analytics department, it negatively impacts your promotion.\n",
    "\n",
    "    ### I will advice my client on looking into these disparities based on department"
   ]
  },
  {
   "cell_type": "markdown",
   "metadata": {},
   "source": [
    "## <u>Model Performance analysis\n",
    "#### <font color='red'><u>With a score F-Score of 37% I do not find this as a suitable model to predict if someone should be promoted or not. \n",
    "#### Model seems to be generalizing well though, as F-Score of Test and Train set are almost similar\n",
    "#### We will now see how does KNN perform"
   ]
  },
  {
   "cell_type": "markdown",
   "metadata": {},
   "source": [
    "### <b><u>KNN</b></u>\n",
    "\n",
    "What is KNN : The KNN algorithm assumes that similar things exist in close proximity. In other words, similar things are near to each other.KNN captures the idea of similarity (sometimes called distance, proximity, or closeness) with some mathematics we might have learned in our childhood— calculating the distance between points on a graph.\n",
    "\n",
    "Some details on important parameters I will use for tuning\n",
    "\n",
    "### <b><u>n_neighbors:</b></u>\n",
    "Number of neighboring samples to use for imputation. Default value is 5\n",
    "### <b><u>Metric:</b></u> \n",
    "Distance metric for searching neighbors.Default value ’nan_euclidean’\n",
    "### <b><u>weights:</b></u> \n",
    "Weight function used in prediction.Default value is ’uniform’"
   ]
  },
  {
   "cell_type": "code",
   "execution_count": 71,
   "metadata": {},
   "outputs": [],
   "source": [
    "from sklearn.neighbors import KNeighborsClassifier\n",
    "# define parameters\n",
    "\n",
    "n_neighbors = range(1, 21, 2)\n",
    "weights = ['uniform', 'distance']\n",
    "metrics = ['euclidean', 'manhattan', 'minkowski']\n"
   ]
  },
  {
   "cell_type": "code",
   "execution_count": 73,
   "metadata": {},
   "outputs": [],
   "source": [
    "df_knn = pd.DataFrame([{'index':object(), 'precision': float(), 'recall': float(), 'f1-score':float(), 'support':float(),\n",
    "                            'Model':object(),   'Parameters':object(),'Type':object(), 'Step': int()}])\n",
    "df_knn = pd.DataFrame([], None, df_lg.columns)\n",
    "i=1\n",
    "# for loop to iterate for each leaf size\n",
    "for n_neighbor in n_neighbors :\n",
    "    for weight in weights:\n",
    "        for metric in metrics:\n",
    "            model = KNeighborsClassifier(n_neighbors=n_neighbor,weights=weight,metric=metric,n_jobs = -1)\n",
    "            parameter = 'n_neighbors = '+str(n_neighbor)+',weights='+ weight+',metrics='+metric\n",
    "            model.fit(X_train,y_train)\n",
    "            y_true, y_pred = y_train, model.predict(X_train)\n",
    "            report = classification_report(y_true, y_pred, output_dict=True)\n",
    "            df_knn= df_knn.append(pd.DataFrame(report).transpose().reset_index().assign(Model ='KNN',Parameters= parameter,Type ='Tr',Step = i),ignore_index=True)\n",
    "            y_true, y_pred = y_test, model.predict(X_test)\n",
    "            report = classification_report(y_true, y_pred, output_dict=True)\n",
    "            df_knn= df_knn.append(pd.DataFrame(report).transpose().reset_index().assign(Model ='KNN',Parameters= parameter,Type ='Ts',Step = i),ignore_index=True)\n",
    "            i+=1\n",
    "            "
   ]
  },
  {
   "cell_type": "code",
   "execution_count": 140,
   "metadata": {},
   "outputs": [
    {
     "data": {
      "text/html": [
       "<div>\n",
       "<style scoped>\n",
       "    .dataframe tbody tr th:only-of-type {\n",
       "        vertical-align: middle;\n",
       "    }\n",
       "\n",
       "    .dataframe tbody tr th {\n",
       "        vertical-align: top;\n",
       "    }\n",
       "\n",
       "    .dataframe thead th {\n",
       "        text-align: right;\n",
       "    }\n",
       "</style>\n",
       "<table border=\"1\" class=\"dataframe\">\n",
       "  <thead>\n",
       "    <tr style=\"text-align: right;\">\n",
       "      <th></th>\n",
       "      <th>item</th>\n",
       "      <th>precision</th>\n",
       "      <th>recall</th>\n",
       "      <th>f1-score</th>\n",
       "      <th>support</th>\n",
       "      <th>Model</th>\n",
       "      <th>Parameters</th>\n",
       "      <th>Type</th>\n",
       "      <th>Step</th>\n",
       "    </tr>\n",
       "  </thead>\n",
       "  <tbody>\n",
       "    <tr>\n",
       "      <th>51</th>\n",
       "      <td>1</td>\n",
       "      <td>1.000000</td>\n",
       "      <td>1.00000</td>\n",
       "      <td>1.000000</td>\n",
       "      <td>3503.0</td>\n",
       "      <td>KNN</td>\n",
       "      <td>n_neighbors = 1,weights=distance,metrics=minko...</td>\n",
       "      <td>Tr</td>\n",
       "      <td>6</td>\n",
       "    </tr>\n",
       "    <tr>\n",
       "      <th>56</th>\n",
       "      <td>1</td>\n",
       "      <td>0.276356</td>\n",
       "      <td>0.23176</td>\n",
       "      <td>0.252101</td>\n",
       "      <td>1165.0</td>\n",
       "      <td>KNN</td>\n",
       "      <td>n_neighbors = 1,weights=distance,metrics=minko...</td>\n",
       "      <td>Ts</td>\n",
       "      <td>6</td>\n",
       "    </tr>\n",
       "  </tbody>\n",
       "</table>\n",
       "</div>"
      ],
      "text/plain": [
       "   item  precision   recall  f1-score  support Model  \\\n",
       "51    1   1.000000  1.00000  1.000000   3503.0   KNN   \n",
       "56    1   0.276356  0.23176  0.252101   1165.0   KNN   \n",
       "\n",
       "                                           Parameters Type Step  \n",
       "51  n_neighbors = 1,weights=distance,metrics=minko...   Tr    6  \n",
       "56  n_neighbors = 1,weights=distance,metrics=minko...   Ts    6  "
      ]
     },
     "execution_count": 140,
     "metadata": {},
     "output_type": "execute_result"
    }
   ],
   "source": [
    "#df_knn =df_knn[['index', 'precision', 'recall', 'f1-score', 'support', 'Model', 'Parameters', 'Type', 'Step']]\n",
    "\n",
    "df_knn.columns = ['item', 'precision', 'recall', 'f1-score', 'support', 'Model','Parameters', 'Type', 'Step']\n",
    "a=df_knn[(df_knn.item == '1') & (df_knn.Type == 'Ts')]['f1-score'].max()\n",
    "b = df_knn[df_knn['f1-score'] == a]['Step'].max()\n",
    "df_knn[(df_knn['Step'] == b) &(df_knn['item'] == '1') ]"
   ]
  },
  {
   "cell_type": "markdown",
   "metadata": {},
   "source": [
    "#### <font color='red'><u>With a score F-Score of 25% and with model not generalizing well(Has Overfitting issue) I will reject this model\n",
    "\n",
    "### <u>Last model I will give a try is XGboost,considering its popularity in Kaggle competetions"
   ]
  },
  {
   "cell_type": "markdown",
   "metadata": {},
   "source": [
    "### <b><u>XGboost</b></u>\n",
    "\n",
    "What is XGboost : XGBoost is an algorithm that has recently been dominating applied machine learning and Kaggle competitions for structured or tabular data.XGBoost is an implementation of gradient boosted decision trees designed for speed and performance.\n",
    "\n",
    "Some details on important parameters I will use for tuning\n",
    "\n",
    "### <b><u>max_depths:</b></u> \n",
    "The maximum depth of a tree and used to control over-fitting as higher depth will allow model to learn relations very specific to a particular sample.\n",
    "### <b><u>min_child_weights:</b></u> \n",
    "Defines the minimum sum of weights of all observations required in a child\n",
    "### <b><u>gammas:</b></u> \n",
    "A node is split only when the resulting split gives a positive reduction in the loss function. Gamma specifies the minimum loss reduction required to make a split.\n",
    "### <b><u>colsample_bytrees:</b></u> \n",
    " Denotes the fraction of columns to be randomly samples for each tree.\n",
    "### <b><u>learning_rates:</b></u>\n",
    "Makes the model more robust by shrinking the weights on each step"
   ]
  },
  {
   "cell_type": "code",
   "execution_count": 110,
   "metadata": {},
   "outputs": [],
   "source": [
    "from xgboost import XGBClassifier\n",
    "learning_rates = [0.05, 0.10, 0.15 ] \n",
    "max_depths   = [ 3, 4, 5]\n",
    "min_child_weights = [ 1, 3, 5 ]\n",
    "gammas = [ 0.0, 0.1, 0.2 ]\n",
    "colsample_bytrees = [ 0.3, 0.4, 0.5]"
   ]
  },
  {
   "cell_type": "code",
   "execution_count": 111,
   "metadata": {},
   "outputs": [],
   "source": [
    "df_xgb = pd.DataFrame([{'item':object(), 'precision': float(), 'recall': float(), 'f1-score':float(), 'support':float(),\n",
    "                            'Model':object(),   'Parameters':object(),'Type':object(), 'Step': int()}])\n",
    "df_xgb = pd.DataFrame([], None, df_lg.columns)\n",
    "i=1\n",
    "for learning_rate in learning_rates:\n",
    "    for max_depth in max_depths:\n",
    "        for min_child_weight in min_child_weights:\n",
    "            for gamma in gammas:\n",
    "                for colsample_bytree in colsample_bytrees:\n",
    "                    model = XGBClassifier(learning_rate=learning_rate, n_estimators=200, max_depth=max_depth, min_child_weight=min_child_weight, gamma=gamma,nthread=4,seed=29)\n",
    "                    parameter = 'learning_rate = '+str(learning_rate)+',max_depth='+ str(max_depth)+',min_child_weight='+str(min_child_weight)+',gamma='+str(gamma)+',colsample_bytree='+str(colsample_bytree)\n",
    "                    model.fit(X_train,y_train)\n",
    "                    y_true, y_pred = y_train, model.predict(X_train)\n",
    "                    report = classification_report(y_true, y_pred, output_dict=True)\n",
    "                    df_xgb= df_xgb.append(pd.DataFrame(report).transpose().reset_index().assign(Model ='xgb',Parameters= parameter,Type ='Tr',Step = i),ignore_index=True)\n",
    "                    y_true, y_pred = y_test, model.predict(X_test)\n",
    "                    report = classification_report(y_true, y_pred, output_dict=True)\n",
    "                    df_xgb= df_xgb.append(pd.DataFrame(report).transpose().reset_index().assign(Model ='xgb',Parameters= parameter,Type ='Ts',Step = i),ignore_index=True)\n",
    "                    i+=1\n",
    "                    "
   ]
  },
  {
   "cell_type": "code",
   "execution_count": 120,
   "metadata": {},
   "outputs": [],
   "source": [
    "df_xgb =df_xgb[['index', 'precision', 'recall', 'f1-score', 'support', 'Model','Parameters', 'Type', 'Step']]"
   ]
  },
  {
   "cell_type": "code",
   "execution_count": 149,
   "metadata": {
    "scrolled": true
   },
   "outputs": [
    {
     "name": "stderr",
     "output_type": "stream",
     "text": [
      "C:\\Users\\HappyPC\\anaconda3\\lib\\site-packages\\ipykernel_launcher.py:1: FutureWarning: Passing a negative integer is deprecated in version 1.0 and will not be supported in future version. Instead, use None to not limit the column width.\n",
      "  \"\"\"Entry point for launching an IPython kernel.\n"
     ]
    },
    {
     "data": {
      "text/html": [
       "<div>\n",
       "<style scoped>\n",
       "    .dataframe tbody tr th:only-of-type {\n",
       "        vertical-align: middle;\n",
       "    }\n",
       "\n",
       "    .dataframe tbody tr th {\n",
       "        vertical-align: top;\n",
       "    }\n",
       "\n",
       "    .dataframe thead th {\n",
       "        text-align: right;\n",
       "    }\n",
       "</style>\n",
       "<table border=\"1\" class=\"dataframe\">\n",
       "  <thead>\n",
       "    <tr style=\"text-align: right;\">\n",
       "      <th></th>\n",
       "      <th>item</th>\n",
       "      <th>precision</th>\n",
       "      <th>recall</th>\n",
       "      <th>f1-score</th>\n",
       "      <th>support</th>\n",
       "      <th>Model</th>\n",
       "      <th>Parameters</th>\n",
       "      <th>Type</th>\n",
       "      <th>Step</th>\n",
       "    </tr>\n",
       "  </thead>\n",
       "  <tbody>\n",
       "    <tr>\n",
       "      <th>2211</th>\n",
       "      <td>1</td>\n",
       "      <td>0.985465</td>\n",
       "      <td>0.387097</td>\n",
       "      <td>0.555852</td>\n",
       "      <td>3503.0</td>\n",
       "      <td>xgb</td>\n",
       "      <td>learning_rate = 0.15,max_depth=5,min_child_weight=1,gamma=0.1,colsample_bytree=0.5</td>\n",
       "      <td>Tr</td>\n",
       "      <td>222</td>\n",
       "    </tr>\n",
       "    <tr>\n",
       "      <th>2216</th>\n",
       "      <td>1</td>\n",
       "      <td>0.945238</td>\n",
       "      <td>0.340773</td>\n",
       "      <td>0.500946</td>\n",
       "      <td>1165.0</td>\n",
       "      <td>xgb</td>\n",
       "      <td>learning_rate = 0.15,max_depth=5,min_child_weight=1,gamma=0.1,colsample_bytree=0.5</td>\n",
       "      <td>Ts</td>\n",
       "      <td>222</td>\n",
       "    </tr>\n",
       "  </tbody>\n",
       "</table>\n",
       "</div>"
      ],
      "text/plain": [
       "     item  precision    recall  f1-score  support Model  \\\n",
       "2211  1    0.985465   0.387097  0.555852  3503.0   xgb    \n",
       "2216  1    0.945238   0.340773  0.500946  1165.0   xgb    \n",
       "\n",
       "                                                                              Parameters  \\\n",
       "2211  learning_rate = 0.15,max_depth=5,min_child_weight=1,gamma=0.1,colsample_bytree=0.5   \n",
       "2216  learning_rate = 0.15,max_depth=5,min_child_weight=1,gamma=0.1,colsample_bytree=0.5   \n",
       "\n",
       "     Type Step  \n",
       "2211  Tr   222  \n",
       "2216  Ts   222  "
      ]
     },
     "execution_count": 149,
     "metadata": {},
     "output_type": "execute_result"
    }
   ],
   "source": [
    "pd.set_option('display.max_colwidth', -1)\n",
    "df_xgb.columns = ['item', 'precision', 'recall', 'f1-score', 'support', 'Model','Parameters', 'Type', 'Step']\n",
    "a=df_xgb[(df_xgb.item == '1') & (df_xgb.Type == 'Ts')]['f1-score'].max()\n",
    "b = df_xgb[df_xgb['f1-score'] == a]['Step'].max()\n",
    "pd.options.display.max_columns = None\n",
    "from xgboost import XGBClassifier\n",
    "from xgboost import plot_importancedf_xgb[(df_xgb['Step'] == b) &(df_xgb['item'] == '1') ]"
   ]
  },
  {
   "cell_type": "markdown",
   "metadata": {},
   "source": [
    "#### <font color='red'><u>With a score F-Score of 50% XGBBoost seems to be the best Model I have"
   ]
  },
  {
   "cell_type": "markdown",
   "metadata": {},
   "source": [
    "## <u>Now we will try to  visualise the feature importatnce graph to find out what impacts the most in deciding if someone gets promoted or not.\n",
    "\n",
    "### We will also check if the same matches to what we noticed in Logistic regression"
   ]
  },
  {
   "cell_type": "code",
   "execution_count": 162,
   "metadata": {
    "scrolled": true
   },
   "outputs": [
    {
     "data": {
      "text/plain": [
       "<matplotlib.axes._subplots.AxesSubplot at 0x23fcfa61c08>"
      ]
     },
     "execution_count": 162,
     "metadata": {},
     "output_type": "execute_result"
    },
    {
     "data": {
      "image/png": "[encoded data removed]",
      "text/plain": [
       "<Figure size 432x288 with 1 Axes>"
      ]
     },
     "metadata": {
      "needs_background": "light"
     },
     "output_type": "display_data"
    }
   ],
   "source": [
    "from xgboost import XGBClassifier\n",
    "from xgboost import plot_importance\n",
    "## build the model with parameter values giving best results.\n",
    "model_XGB = XGBClassifier(learning_rate=0.15, n_estimators=200, max_depth=5, min_child_weight=1, gamma=0.1,nthread=4,seed=29)\n",
    "model_XGB.fit(X_train,y_train)\n",
    "#Plot feature importatnce graph\n",
    "# Chose importance_Type = 'gain', the default of 'weight' wont give right results \n",
    "plot_importance(model_XGB,max_num_features= 10,importance_type='gain')"
   ]
  },
  {
   "cell_type": "markdown",
   "metadata": {},
   "source": [
    "### We can see from these graphs that very much similar to Logistic regression odds are brightest for people who are in Sales & Marketing department and have have met KPI>80 %"
   ]
  },
  {
   "cell_type": "markdown",
   "metadata": {},
   "source": [
    "# <u><b>CONCLUSION</u></b>\n",
    "\n",
    "### <u><b>Best Model</u></b>: \n",
    "XGBoost\n",
    "### <u><b>Best Parameters</u></b>: \n",
    "learning_rate = 0.15,max_depth=5,min_child_wei...\n",
    "### <u><b>Who are most like to get promoted</u></b>: \n",
    "People working in Sales and Marketing department and/or have met KPI>80 are more likely to get promoted"
   ]
  },
  {
   "cell_type": "markdown",
   "metadata": {},
   "source": [
    "# <u><b>Future Work</u></b>\n",
    "\n",
    "With above conclusions I will end my model building process. We always have rooms for improvement \n",
    "and I will always love if someone ( Or me in near future) may be able try few of below and check \n",
    "if we can make this odel perfrm even better\n",
    "\n",
    "1. Try each of below with my features and check if it helps:\n",
    "\n",
    "        a. np.log(X)\n",
    "        b. np.exp()\n",
    "        c. np.sqrt()\n",
    "        d. X1**\n",
    "        e. X1***\n",
    "        f. X1*X2(Mutiply most impacting features)"
   ]
  }
 ],
 "metadata": {
  "kernelspec": {
   "display_name": "Python 3",
   "language": "python",
   "name": "python3"
  },
  "language_info": {
   "codemirror_mode": {
    "name": "ipython",
    "version": 3
   },
   "file_extension": ".py",
   "mimetype": "text/x-python",
   "name": "python",
   "nbconvert_exporter": "python",
   "pygments_lexer": "ipython3",
   "version": "3.7.6"
  }
 },
 "nbformat": 4,
 "nbformat_minor": 2
}
